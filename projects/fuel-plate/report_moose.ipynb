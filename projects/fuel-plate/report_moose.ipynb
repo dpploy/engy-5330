{
 "cells": [
  {
   "cell_type": "markdown",
   "metadata": {},
   "source": [
    "**Engy-5310** Computational Continuum Transport Phenomena, UMass Lowell, Chem. Eng. Nuclear Program Fall 2021; Prof. V. F. de Almeida\n",
    "\n",
    "# Title\n",
    "$  \n",
    "  \\newcommand{\\Amtrx}{\\boldsymbol{\\mathsf{A}}}\n",
    "  \\newcommand{\\Bmtrx}{\\boldsymbol{\\mathsf{B}}}\n",
    "  \\newcommand{\\Mmtrx}{\\boldsymbol{\\mathsf{M}}}\n",
    "  \\newcommand{\\Imtrx}{\\boldsymbol{\\mathsf{I}}}\n",
    "  \\newcommand{\\Pmtrx}{\\boldsymbol{\\mathsf{P}}}\n",
    "  \\newcommand{\\Lmtrx}{\\boldsymbol{\\mathsf{L}}}\n",
    "  \\newcommand{\\Umtrx}{\\boldsymbol{\\mathsf{U}}}\n",
    "  \\newcommand{\\Smtrx}{\\boldsymbol{\\mathsf{S}}}\n",
    "  \\newcommand{\\xvec}{\\boldsymbol{\\mathsf{x}}}\n",
    "  \\newcommand{\\avec}{\\boldsymbol{\\mathsf{a}}}\n",
    "  \\newcommand{\\bvec}{\\boldsymbol{\\mathsf{b}}}\n",
    "  \\newcommand{\\cvec}{\\boldsymbol{\\mathsf{c}}}\n",
    "  \\newcommand{\\rvec}{\\boldsymbol{\\mathsf{r}}}\n",
    "  \\newcommand{\\fvec}{\\boldsymbol{\\mathsf{f}}}\n",
    "  \\newcommand{\\mvec}{\\boldsymbol{\\mathsf{m}}}\n",
    "  \\newcommand{\\gvec}{\\boldsymbol{\\mathsf{g}}}\n",
    "  \\newcommand{\\flux}{\\boldsymbol{q}}\n",
    "  \\newcommand{\\fluxc}{\\boldsymbol{q}_\\text{c}}\n",
    "  \\newcommand{\\fluxf}{\\boldsymbol{q}_\\text{f}}\n",
    "  \\newcommand{\\velocity}{\\boldsymbol{v}}\n",
    "  \\newcommand{\\normal}{\\boldsymbol{n}}\n",
    "  \\newcommand{\\xpoint}{\\boldsymbol{x}}\n",
    "  \\newcommand{\\Tc}{T_\\text{c}}\n",
    "  \\newcommand{\\wc}{w_\\text{c}}\n",
    "  \\newcommand{\\Tf}{T_\\text{f}}\n",
    "  \\newcommand{\\wf}{w_\\text{f}}\n",
    "  \\newcommand{\\wI}{w_\\text{I}}\n",
    "  \\newcommand{\\Ri}{R_\\text{i}}\n",
    "  \\newcommand{\\Ro}{R_\\text{o}}\n",
    "  \\newcommand{\\Omegac}{\\Omega_\\text{c}}\n",
    "  \\newcommand{\\Omegaf}{\\Omega_\\text{f}}\n",
    "  \\newcommand{\\zerovec}{\\boldsymbol{\\mathsf{0}}}\n",
    "  \\newcommand{\\norm}[1]{\\bigl\\lVert{#1}\\bigr\\rVert}\n",
    "  \\newcommand{\\transpose}[1]{{#1}^\\top}\n",
    "  \\DeclareMathOperator{\\rank}{rank}\n",
    "  \\DeclareMathOperator{\\div}{div}\n",
    "  \\DeclareMathOperator{\\gradx}{grad_\\xpoint}\n",
    "  \\DeclareMathOperator{\\divx}{div_\\xpoint}\n",
    "  \\DeclareMathOperator{\\grad}{grad}\n",
    "  \\newcommand{\\Reals}{\\mathbb{R}}\n",
    "  \\newcommand{\\thetavec}{\\boldsymbol{\\theta}}\n",
    "$"
   ]
  },
  {
   "cell_type": "markdown",
   "metadata": {},
   "source": [
    "**Student(s):**  `your name(s)` <br>\n",
    "**Course:** Engy-5310 Computational Continuum Transport Phenomena  <br>\n",
    "**Mentor and Collaborator:** `Prof. name`\n",
    "\n",
    "UMass Lowell, Dept. of Chemical Engineering, Nuclear Energy Program \n",
    "<br>\n",
    "**22Nov2021**"
   ]
  },
  {
   "cell_type": "markdown",
   "metadata": {},
   "source": [
    "---\n",
    "## Table of Contents<a id=\"toc\"></a>\n",
    "* [Introduction](#intro)\n",
    "* [Problem Statement](#problem)\n",
    "* [Objectives](#obj)\n",
    "* [Approach](#app)\n",
    " + [Weak Form of Problem Statement](#weakform)\n",
    " + [MOOSE Kernels](#kernels)\n",
    " + [Tests](#tests)\n",
    " + [Setup](#setup)\n",
    "   - [Test 1](#1dsolofueldirichlet)\n",
    "   - [Test 2](#1dsolofueldirichletrobin)\n",
    "* [2-D Results and Analysis](#ranalysis)\n",
    "* [Conclusions](#conclusions)\n",
    "* [References](#refs)\n",
    "---"
   ]
  },
  {
   "cell_type": "markdown",
   "metadata": {},
   "source": [
    "## [Introduction](#toc)<a id=\"intro\"></a>"
   ]
  },
  {
   "cell_type": "markdown",
   "metadata": {},
   "source": [
    "`text goes here`"
   ]
  },
  {
   "cell_type": "markdown",
   "metadata": {},
   "source": [
    "## [Problem Statement](#toc)<a id=\"problem\"></a>"
   ]
  },
  {
   "cell_type": "markdown",
   "metadata": {},
   "source": [
    "`mathematical statement of problem`\n"
   ]
  },
  {
   "cell_type": "markdown",
   "metadata": {},
   "source": [
    "### Domain\n",
    "`describe domain`"
   ]
  },
  {
   "cell_type": "markdown",
   "metadata": {},
   "source": [
    "## [Objectives](#toc)<a id=\"obj\"></a>"
   ]
  },
  {
   "cell_type": "markdown",
   "metadata": {},
   "source": [
    "`state objectives`"
   ]
  },
  {
   "cell_type": "markdown",
   "metadata": {},
   "source": [
    "## [Approach](#toc)<a id=\"app\"></a>"
   ]
  },
  {
   "cell_type": "markdown",
   "metadata": {},
   "source": [
    "A Galerkin weak formulation follows below and the implementation of the integrands as MOOSE kernels are described next."
   ]
  },
  {
   "cell_type": "markdown",
   "metadata": {},
   "source": [
    "### [Weak Form of Problem Statement](#toc)<a id=\"weakform\"></a> \n"
   ]
  },
  {
   "cell_type": "markdown",
   "metadata": {},
   "source": [
    "### [MOOSE Kernels](#toc)<a id=\"kernels\"></a>\n"
   ]
  },
  {
   "cell_type": "markdown",
   "metadata": {},
   "source": [
    "### [Tests](#toc)<a id=\"tests\"></a>\n"
   ]
  },
  {
   "cell_type": "markdown",
   "metadata": {},
   "source": [
    "### [Setup](#toc)<a id=\"setup\"></a>"
   ]
  },
  {
   "cell_type": "code",
   "execution_count": 6,
   "metadata": {
    "ExecuteTime": {
     "end_time": "2021-12-18T13:16:46.310141Z",
     "start_time": "2021-12-18T13:16:46.295184Z"
    }
   },
   "outputs": [],
   "source": [
    "'''SI units'''\n",
    "from scipy import constants as unit\n",
    "unit.kelvin = 1.0\n",
    "unit.second = 1.0\n",
    "unit.joule = 1.0\n",
    "unit.meter = 1.0\n",
    "unit.watt = unit.joule/unit.second\n",
    "unit.kg = unit.kilo*unit.gram\n",
    "import numpy as np"
   ]
  },
  {
   "cell_type": "code",
   "execution_count": 7,
   "metadata": {
    "ExecuteTime": {
     "end_time": "2021-12-18T13:16:46.632535Z",
     "start_time": "2021-12-18T13:16:46.621713Z"
    },
    "code_folding": [
     1
    ]
   },
   "outputs": [],
   "source": [
    "'''Plot function for FEM Solution'''\n",
    "def plot_solution(df1=None, df2=None, \n",
    "                  x_scale=1,\n",
    "                  y1_scale=1,\n",
    "                  y2_scale=1,\n",
    "                  xlabel=r'$x$ []',\n",
    "                  y1label=r'$u_h(x)$ []',\n",
    "                  y2label=r'$q_h(x)$ []',\n",
    "                  df3=None,\n",
    "                  title='No Title', \n",
    "                  u1_legend='no u1 legend',\n",
    "                  u2_legend='no u2 legend',\n",
    "                  u1_flux_legend='no u1 flux legend',\n",
    "                  u2_flux_legend='no u2 flux legend',\n",
    "                  flux_decimal_digits=5):\n",
    "    '''Plot solution for fuel and coolant\n",
    "    '''\n",
    "    import matplotlib.pyplot as plt\n",
    "    #%matplotlib inline\n",
    "    plt.style.use('dark_background')\n",
    "    import numpy as np\n",
    "\n",
    "    (fig, ax1) = plt.subplots(1, figsize=(15, 6))\n",
    "\n",
    "    if df1 is not None:\n",
    "        ax1.plot(df1['x']*x_scale, df1['uFuel'], 'r*-', label=u1_legend)\n",
    "    if df2 is not None:\n",
    "        ax1.plot(df2['x']*x_scale, df2['uCoolant'], '*--', color='magenta', label=u2_legend)\n",
    "\n",
    "    ax1.set_xlabel(xlabel, fontsize=18)\n",
    "    ax1.set_ylabel(y1label, fontsize=18, color='white')\n",
    "    ax1.tick_params(axis='y', labelcolor='white', labelsize=14)\n",
    "    ax1.tick_params(axis='x', labelsize=14)\n",
    "    ax1.legend(loc='center left', fontsize=12)\n",
    "    #ax1.set_ylim(0,1)\n",
    "    ax1.grid(True)\n",
    "    \n",
    "    ax2 = None\n",
    "\n",
    "    if df1 is not None and 'diffFluxFuel_x' in df1.columns:\n",
    "        ax2 = ax1.twinx()\n",
    "        ax2.plot(df1['x']*x_scale, np.round(df1['diffFluxFuel_x'].round(2)*y2_scale, flux_decimal_digits),'*-', \n",
    "                 color='yellow', label=u1_flux_legend)\n",
    "        \n",
    "    if df2 is not None and 'diffFluxCoolant_x' in df2.columns:\n",
    "        if ax2 is None:\n",
    "            ax2 = ax1.twinx()\n",
    "            \n",
    "        ax2.plot(df2['x']*x_scale, np.round(df2['diffFluxCoolant_x'].round(2)*y2_scale, flux_decimal_digits),'*--', \n",
    "                 color='orange', label=u2_flux_legend)\n",
    "\n",
    "    if ax2 is not None:\n",
    "        ax2.set_ylabel(y2label, fontsize=16, color='white')\n",
    "        ax2.tick_params(axis='y', labelcolor='white', labelsize=14)\n",
    "        ax2.legend(loc='upper right', fontsize=12)\n",
    "        #ax2.set_ylim(0,2)\n",
    "        #ax2.grid(True)\n",
    "\n",
    "    plt.title(title, fontsize=20)\n",
    "    fig.tight_layout()  # otherwise the right y-label is slightly clipped\n",
    "    plt.show()\n",
    "    print('')"
   ]
  },
  {
   "cell_type": "code",
   "execution_count": 107,
   "metadata": {
    "ExecuteTime": {
     "end_time": "2021-12-18T14:42:59.066433Z",
     "start_time": "2021-12-18T14:42:59.063348Z"
    },
    "code_folding": []
   },
   "outputs": [],
   "source": [
    "'''Domain'''\n",
    "x_a = 0\n",
    "x_b = 100\n",
    "plate_thickness = 20\n",
    "delta_extension = 5"
   ]
  },
  {
   "cell_type": "code",
   "execution_count": 108,
   "metadata": {
    "ExecuteTime": {
     "end_time": "2021-12-18T14:43:03.603024Z",
     "start_time": "2021-12-18T14:43:03.600296Z"
    }
   },
   "outputs": [],
   "source": [
    "'''Parameters'''\n",
    "import math\n",
    "diff_coeff_fuel = 1.0\n",
    "diff_coeff_coolant = 1.0\n",
    "buckling = 2.0322e-2\n",
    "diff_length = 94.7"
   ]
  },
  {
   "cell_type": "code",
   "execution_count": 98,
   "metadata": {
    "ExecuteTime": {
     "end_time": "2021-12-18T14:32:21.658355Z",
     "start_time": "2021-12-18T14:32:21.655952Z"
    }
   },
   "outputs": [],
   "source": [
    "'''Data (boundary conditions for testing purposes)'''\n",
    "u_b = 0.01"
   ]
  },
  {
   "cell_type": "code",
   "execution_count": 99,
   "metadata": {
    "ExecuteTime": {
     "end_time": "2021-12-18T14:32:22.360367Z",
     "start_time": "2021-12-18T14:32:22.357310Z"
    }
   },
   "outputs": [],
   "source": [
    "'''FEM Solution'''\n",
    "n_felem_fuel = 8\n",
    "n_felem_coolant = 15\n",
    "\n",
    "order = 'second'\n",
    "flux_order = 'first'\n",
    "\n",
    "fdp_full = True\n",
    "n_plot_pts_fuel = 2*n_felem_fuel + 1\n",
    "n_plot_pts_coolant = 2*n_felem_coolant + 1"
   ]
  },
  {
   "cell_type": "code",
   "execution_count": 116,
   "metadata": {
    "ExecuteTime": {
     "end_time": "2021-12-18T14:44:58.620002Z",
     "start_time": "2021-12-18T14:44:58.590933Z"
    },
    "code_folding": []
   },
   "outputs": [],
   "source": [
    "def write_input_file(pjfnk=False):\n",
    "    import pyhit\n",
    "    import moosetree\n",
    "    root = pyhit.load('')\n",
    "    \n",
    "    prblm = root.insert(-1,'Problem')\n",
    "    prblm['type'] = 'FEProblem'\n",
    "    prblm['coord_type'] = 'XYZ'\n",
    "\n",
    "    mesh = root.insert(-1,'Mesh')\n",
    "    \n",
    "    omega1 = mesh.insert(-1,'omega1')\n",
    "    omega1['type'] = 'GeneratedMeshGenerator'\n",
    "    omega1['dim'] = 1\n",
    "    omega1['xmin'] = x_a\n",
    "    omega1['xmax'] = plate_thickness/2.0\n",
    "    omega1['nx'] = n_felem_fuel\n",
    "    if order == 'second':\n",
    "        omega1['elem_type'] = 'edge3'\n",
    "    \n",
    "    omega2 = mesh.insert(-1,'omega2')\n",
    "    omega2['type'] = 'GeneratedMeshGenerator'\n",
    "    omega2['dim'] = 1\n",
    "    omega2['xmin'] = plate_thickness/2.0\n",
    "    omega2['xmax'] = x_b\n",
    "    omega2['nx'] = n_felem_coolant\n",
    "    if order == 'second':\n",
    "        omega2['elem_type'] = 'edge3'\n",
    "\n",
    "    omega = mesh.insert(-1,'omega')\n",
    "    omega['type'] = 'StitchedMeshGenerator'\n",
    "    omega['inputs'] = \"'omega1 omega2'\"\n",
    "    omega['stitch_boundaries_pairs'] = \"'right left'\"\n",
    "    omega['clear_stitched_boundary_ids'] = 'true'\n",
    "    \n",
    "    mod1 = mesh.insert(-1,'mod1')\n",
    "    mod1['type'] = 'SubdomainBoundingBoxGenerator'\n",
    "    mod1['input'] = 'omega'\n",
    "    mod1['block_id'] = 1\n",
    "    mod1['block_name'] = 'omega_1'\n",
    "    mod1['bottom_left'] = str(x_a)+' 0 0'\n",
    "    mod1['top_right'] = str(plate_thickness/2.0)+' 1 0'\n",
    "    \n",
    "    mod2 = mesh.insert(-1,'mod2')\n",
    "    mod2['type'] = 'SubdomainBoundingBoxGenerator'\n",
    "    mod2['input'] = 'mod1'\n",
    "    mod2['block_id'] = 2\n",
    "    mod2['block_name'] = 'omega_2'\n",
    "    mod2['bottom_left'] = str(plate_thickness/2.0)+' 0 0'\n",
    "    mod2['top_right'] = str(x_b)+' 1 0'\n",
    "    \n",
    "    mod3 = mesh.insert(-1,'mod3')\n",
    "    mod3['type'] = 'SideSetsBetweenSubdomainsGenerator'\n",
    "    mod3['input'] = 'mod2'\n",
    "    mod3['primary_block'] = 'omega_1'\n",
    "    mod3['paired_block'] = 'omega_2' \n",
    "    mod3['new_boundary'] = 'interface_12'\n",
    "    \n",
    "    mod4 = mesh.insert(-1,'mod4')\n",
    "    mod4['type'] = 'SideSetsAroundSubdomainGenerator'\n",
    "    mod4['input'] = 'mod3'\n",
    "    mod4['block'] = 'omega_1'\n",
    "    mod4['normal'] = '-1 0 0'\n",
    "    mod4['new_boundary'] = 'left'\n",
    "    \n",
    "    mod5 = mesh.insert(-1,'mod5')\n",
    "    mod5['type'] = 'SideSetsAroundSubdomainGenerator'\n",
    "    mod5['input'] = 'mod4'\n",
    "    mod5['block'] = 'omega_2'\n",
    "    mod5['normal'] = '1 0 0'\n",
    "    mod5['new_boundary'] = 'right'\n",
    "\n",
    "    vars = root.insert(-1,'Variables')\n",
    "    \n",
    "    fuel = vars.insert(-1,'uFuel')\n",
    "    fuel['block'] = 'omega_1'\n",
    "    fuel['order'] = order\n",
    "    fuel['family'] = 'lagrange'\n",
    "    fuel['initial_condition'] = 10\n",
    "    \n",
    "    coolant = vars.insert(-1,'uCoolant')\n",
    "    coolant['block'] = 'omega_2'\n",
    "    coolant['order'] = order\n",
    "    coolant['family'] = 'lagrange'\n",
    "    coolant['initial_condition'] = 10\n",
    "    \n",
    "    aux_vars = root.insert(-1,'AuxVariables')\n",
    "    \n",
    "    diff_flux_fuel = aux_vars.insert(-1,'diffFluxFuel')\n",
    "    diff_flux_fuel['block'] = 'omega_1'\n",
    "    diff_flux_fuel['order'] = flux_order\n",
    "    diff_flux_fuel['family'] = 'monomial_vec'\n",
    "    \n",
    "    diff_flux_fuel_x = aux_vars.insert(-1,'diffFluxFuel_x')\n",
    "    diff_flux_fuel_x['block'] = 'omega_1'\n",
    "    diff_flux_fuel_x['order'] = flux_order\n",
    "    diff_flux_fuel_x['family'] = 'monomial'\n",
    "    \n",
    "    diff_flux_coolant = aux_vars.insert(-1,'diffFluxCoolant')\n",
    "    diff_flux_coolant['block'] = 'omega_2'\n",
    "    diff_flux_coolant['order'] = flux_order\n",
    "    diff_flux_coolant['family'] = 'monomial_vec'\n",
    "    \n",
    "    diff_flux_coolant_x = aux_vars.insert(-1,'diffFluxCoolant_x')\n",
    "    diff_flux_coolant_x['block'] = 'omega_2'\n",
    "    diff_flux_coolant_x['order'] = flux_order\n",
    "    diff_flux_coolant_x['family'] = 'monomial'\n",
    "\n",
    "    kernels = root.insert(-1,'Kernels')\n",
    "    \n",
    "    diff_fuel = kernels.insert(-1,'diffusion-fuel')\n",
    "    diff_fuel['type'] = 'DiffusionTerm'\n",
    "    diff_fuel['block'] = 'omega_1'\n",
    "    diff_fuel['variable'] = 'uFuel'\n",
    "    diff_fuel['diffCoeff'] = diff_coeff_fuel\n",
    "    \n",
    "    source_fuel = kernels.insert(-1,'source-fuel')\n",
    "    source_fuel['type'] = 'SourceTerm'\n",
    "    source_fuel['block'] = 'omega_1'\n",
    "    source_fuel['variable'] = 'uFuel'\n",
    "    source_fuel['sourceSlope'] = buckling**2\n",
    "    \n",
    "    diff_coolant = kernels.insert(-1,'diffusion-coolant')\n",
    "    diff_coolant['type'] = 'DiffusionTerm'\n",
    "    diff_coolant['block'] = 'omega_2'\n",
    "    diff_coolant['variable'] = 'uCoolant'\n",
    "    diff_coolant['diffCoeff'] = diff_coeff_coolant\n",
    "    \n",
    "    source_coolant = kernels.insert(-1,'source-coolant')\n",
    "    source_coolant['type'] = 'SourceTerm'\n",
    "    source_coolant['block'] = 'omega_2'\n",
    "    source_coolant['variable'] = 'uCoolant'\n",
    "    source_coolant['sourceSlope'] = - 1/diff_length**2    \n",
    "    \n",
    "    interf_kernels = root.insert(-1,'InterfaceKernels')\n",
    "    \n",
    "    n_flux = interf_kernels.insert(-1,'normal-flux-continuity')\n",
    "    n_flux['type'] = 'InterfaceNormalFluxContinuity'\n",
    "    n_flux['variable'] = 'uFuel'\n",
    "    n_flux['neighbor_var'] = 'uCoolant'\n",
    "    n_flux['boundary'] = 'interface_12'\n",
    "    n_flux['diffCoeff'] = diff_coeff_fuel\n",
    "    n_flux['diffCoeffNeighbor'] = diff_coeff_coolant\n",
    "    \n",
    "    t_jump = interf_kernels.insert(-1,'u-jump')\n",
    "    t_jump['type'] = 'InterfaceJump'\n",
    "    t_jump['variable'] = 'uFuel'\n",
    "    t_jump['neighbor_var'] = 'uCoolant'\n",
    "    t_jump['boundary'] = 'interface_12'\n",
    "    t_jump['transferCoeff'] = 1e+10\n",
    "    t_jump['adsorptionCoeff'] = 0.0\n",
    "    t_jump['diffCoeff'] = diff_coeff_fuel\n",
    "\n",
    "    aux_kernels = root.insert(-1,'AuxKernels')\n",
    "    \n",
    "    diff_flux_fuel = aux_kernels.insert(-1,'diffusion-flux-fuel')\n",
    "    diff_flux_fuel['type'] = 'DiffusionFlux'\n",
    "    diff_flux_fuel['block'] = 'omega_1'\n",
    "    diff_flux_fuel['field'] = 'uFuel'\n",
    "    diff_flux_fuel['diffCoeff'] = diff_coeff_fuel\n",
    "    diff_flux_fuel['variable'] = 'diffFluxFuel'\n",
    "    diff_flux_fuel['execute_on'] = 'timestep_end'\n",
    "    \n",
    "    diff_flux_fuel_x = aux_kernels.insert(-1,'diffusion-flux-fuel-x')\n",
    "    diff_flux_fuel_x['type'] = 'VectorVariableComponentAux'\n",
    "    diff_flux_fuel_x['block'] = 'omega_1'\n",
    "    diff_flux_fuel_x['vector_variable'] = 'diffFluxFuel'\n",
    "    diff_flux_fuel_x['component'] = 'x'\n",
    "    diff_flux_fuel_x['variable'] = 'diffFluxFuel_x'\n",
    "    diff_flux_fuel_x['execute_on'] = 'timestep_end'\n",
    "    \n",
    "    diff_flux_coolant = aux_kernels.insert(-1,'diffusion-flux-coolant')\n",
    "    diff_flux_coolant['type'] = 'DiffusionFlux'\n",
    "    diff_flux_coolant['block'] = 'omega_2'\n",
    "    diff_flux_coolant['field'] = 'uCoolant'\n",
    "    diff_flux_coolant['diffCoeff'] = diff_coeff_coolant\n",
    "    diff_flux_coolant['variable'] = 'diffFluxCoolant'\n",
    "    diff_flux_coolant['execute_on'] = 'timestep_end'\n",
    "    \n",
    "    diff_flux_coolant_x = aux_kernels.insert(-1,'diffusion-flux-coolant-x')\n",
    "    diff_flux_coolant_x['type'] = 'VectorVariableComponentAux'\n",
    "    diff_flux_coolant_x['block'] = 'omega_2'\n",
    "    diff_flux_coolant_x['vector_variable'] = 'diffFluxCoolant'\n",
    "    diff_flux_coolant_x['component'] = 'x'\n",
    "    diff_flux_coolant_x['variable'] = 'diffFluxCoolant_x'\n",
    "    diff_flux_coolant_x['execute_on'] = 'timestep_end'\n",
    "    \n",
    "    bcs = root.insert(-1,'BCs')\n",
    "    \n",
    "    cl = bcs.insert(-1,'center-line')\n",
    "    cl['type'] = 'NeumannBC'\n",
    "    cl['variable'] = 'uFuel'\n",
    "    cl['boundary'] = 'left'\n",
    "    cl['value'] = 0 \n",
    "    \n",
    "    xb = bcs.insert(-1,'x-b')\n",
    "    xb['type'] = 'NormalFluxBC'\n",
    "    xb['variable'] = 'uCoolant'\n",
    "    xb['boundary'] = 'right'\n",
    "    xb['transferCoeff'] = -1/delta_extension\n",
    "    \n",
    "    if pjfnk:\n",
    "        exe = root.insert(-1,'Executioner')\n",
    "        exe['type'] = 'Steady'\n",
    "        exe['solve_type']  = 'PJFNK'\n",
    "        exe['petsc_options_iname']  = '-pc_type -pc_hypre_type'\n",
    "        exe['petsc_options_value']  = 'hypre boomeramg'\n",
    "        exe['l_max_its']  = 20\n",
    "        exe['l_tol']  = 1e-5\n",
    "        exe['nl_max_its']  = 15\n",
    "        exe['nl_rel_tol']  = 1e-8\n",
    "        exe['nl_abs_tol']  = 1e-8\n",
    "    elif fdp_full:\n",
    "        pre = root.insert(-1, 'Preconditioning')\n",
    "        pre['active'] = 'fdp-newt-full'\n",
    "        \n",
    "        fdp = pre.insert(-1, 'fdp-newt-full')\n",
    "        fdp['type'] = 'FDP'\n",
    "        fdp['full'] = 'true'\n",
    "        fdp['solve_type'] = 'NEWTON'\n",
    "        fdp['petsc_options_iname'] = \"\"'-pc_type -mat_fd_coloring_err -mat_fd_type'\"\"\n",
    "        fdp['petsc_options_value'] = \"\"'lu  1e-8          ds'\"\"\n",
    "        \n",
    "        exe = root.insert(-1,'Executioner')\n",
    "        exe['type'] = 'Steady'\n",
    "\n",
    "    vp = root.insert(-1,'VectorPostprocessors')\n",
    "    \n",
    "    omega_1 = vp.insert(-1,'omega_1')\n",
    "    omega_1['type'] = 'LineValueSampler'\n",
    "    omega_1['execute_on'] = 'timestep_end final'\n",
    "    omega_1['variable'] = 'uFuel diffFluxFuel_x'  \n",
    "    omega_1['start_point'] = str(x_a)+' 0 0'\n",
    "    omega_1['end_point'] = str(plate_thickness/2.0*0.995)+' 0 0'\n",
    "    omega_1['num_points'] = n_plot_pts_fuel\n",
    "    omega_1['sort_by'] = 'id'\n",
    "    \n",
    "    omega_2 = vp.insert(-1,'omega_2')\n",
    "    omega_2['type'] = 'LineValueSampler'\n",
    "    omega_2['execute_on'] = 'timestep_end final'\n",
    "    omega_2['variable'] = 'uCoolant diffFluxCoolant_x'  \n",
    "    omega_2['start_point'] = str(plate_thickness/2.0*1.005)+' 0 0'\n",
    "    omega_2['end_point'] = str(x_b)+' 0 0'\n",
    "    omega_2['num_points'] = n_plot_pts_coolant\n",
    "    omega_2['sort_by'] = 'id'  \n",
    "\n",
    "    out = root.insert(-1,'Outputs')\n",
    "    out['console'] = 'true'\n",
    "    csv = out.insert(-1,'csv')\n",
    "    csv['type'] = 'CSV'\n",
    "    csv['file_base'] = 'output'\n",
    "    csv['execute_on'] = 'final'\n",
    "    \n",
    "    debug = root.insert(-1,'Debug')\n",
    "    debug['show_var_residual_norms'] = 'true'\n",
    "\n",
    "    pyhit.write('input.hit', root)"
   ]
  },
  {
   "cell_type": "markdown",
   "metadata": {},
   "source": [
    "#### [Test 1](#toc)<a id=\"1dsolofueldirichlet\"></a>\n"
   ]
  },
  {
   "cell_type": "code",
   "execution_count": 117,
   "metadata": {
    "ExecuteTime": {
     "end_time": "2021-12-18T14:44:59.756022Z",
     "start_time": "2021-12-18T14:44:59.639404Z"
    },
    "code_folding": []
   },
   "outputs": [
    {
     "name": "stdout",
     "output_type": "stream",
     "text": [
      "[Problem]\r\n",
      "  type = FEProblem\r\n",
      "  coord_type = XYZ\r\n",
      "[]\r\n",
      "[Mesh]\r\n",
      "  [omega1]\r\n",
      "    type = GeneratedMeshGenerator\r\n",
      "    dim = 1\r\n",
      "    xmin = 0\r\n",
      "    xmax = 10.0\r\n",
      "    nx = 8\r\n",
      "    elem_type = edge3\r\n",
      "  []\r\n",
      "  [omega2]\r\n",
      "    type = GeneratedMeshGenerator\r\n",
      "    dim = 1\r\n",
      "    xmin = 10.0\r\n",
      "    xmax = 100\r\n",
      "    nx = 15\r\n",
      "    elem_type = edge3\r\n",
      "  []\r\n",
      "  [omega]\r\n",
      "    type = StitchedMeshGenerator\r\n",
      "    inputs = 'omega1 omega2'\r\n",
      "    stitch_boundaries_pairs = 'right left'\r\n",
      "    clear_stitched_boundary_ids = true\r\n",
      "  []\r\n",
      "  [mod1]\r\n",
      "    type = SubdomainBoundingBoxGenerator\r\n",
      "    input = omega\r\n",
      "    block_id = 1\r\n",
      "    block_name = omega_1\r\n",
      "    bottom_left = '0 0 0'\r\n",
      "    top_right = '10.0 1 0'\r\n",
      "  []\r\n",
      "  [mod2]\r\n",
      "    type = SubdomainBoundingBoxGenerator\r\n",
      "    input = mod1\r\n",
      "    block_id = 2\r\n",
      "    block_name = omega_2\r\n",
      "    bottom_left = '10.0 0 0'\r\n",
      "    top_right = '100 1 0'\r\n",
      "  []\r\n",
      "  [mod3]\r\n",
      "    type = SideSetsBetweenSubdomainsGenerator\r\n",
      "    input = mod2\r\n",
      "    primary_block = omega_1\r\n",
      "    paired_block = omega_2\r\n",
      "    new_boundary = interface_12\r\n",
      "  []\r\n",
      "  [mod4]\r\n",
      "    type = SideSetsAroundSubdomainGenerator\r\n",
      "    input = mod3\r\n",
      "    block = omega_1\r\n",
      "    normal = '-1 0 0'\r\n",
      "    new_boundary = left\r\n",
      "  []\r\n",
      "  [mod5]\r\n",
      "    type = SideSetsAroundSubdomainGenerator\r\n",
      "    input = mod4\r\n",
      "    block = omega_2\r\n",
      "    normal = '1 0 0'\r\n",
      "    new_boundary = right\r\n",
      "  []\r\n",
      "[]\r\n",
      "[Variables]\r\n",
      "  [uFuel]\r\n",
      "    block = omega_1\r\n",
      "    order = second\r\n",
      "    family = lagrange\r\n",
      "    initial_condition = 10\r\n",
      "  []\r\n",
      "  [uCoolant]\r\n",
      "    block = omega_2\r\n",
      "    order = second\r\n",
      "    family = lagrange\r\n",
      "    initial_condition = 10\r\n",
      "  []\r\n",
      "[]\r\n",
      "[AuxVariables]\r\n",
      "  [diffFluxFuel]\r\n",
      "    block = omega_1\r\n",
      "    order = first\r\n",
      "    family = monomial_vec\r\n",
      "  []\r\n",
      "  [diffFluxFuel_x]\r\n",
      "    block = omega_1\r\n",
      "    order = first\r\n",
      "    family = monomial\r\n",
      "  []\r\n",
      "  [diffFluxCoolant]\r\n",
      "    block = omega_2\r\n",
      "    order = first\r\n",
      "    family = monomial_vec\r\n",
      "  []\r\n",
      "  [diffFluxCoolant_x]\r\n",
      "    block = omega_2\r\n",
      "    order = first\r\n",
      "    family = monomial\r\n",
      "  []\r\n",
      "[]\r\n",
      "[Kernels]\r\n",
      "  [diffusion-fuel]\r\n",
      "    type = DiffusionTerm\r\n",
      "    block = omega_1\r\n",
      "    variable = uFuel\r\n",
      "    diffCoeff = 1.0\r\n",
      "  []\r\n",
      "  [source-fuel]\r\n",
      "    type = SourceTerm\r\n",
      "    block = omega_1\r\n",
      "    variable = uFuel\r\n",
      "    sourceSlope = 0.000412983684\r\n",
      "  []\r\n",
      "  [diffusion-coolant]\r\n",
      "    type = DiffusionTerm\r\n",
      "    block = omega_2\r\n",
      "    variable = uCoolant\r\n",
      "    diffCoeff = 1.0\r\n",
      "  []\r\n",
      "  [source-coolant]\r\n",
      "    type = SourceTerm\r\n",
      "    block = omega_2\r\n",
      "    variable = uCoolant\r\n",
      "    sourceSlope = -0.00011150646347215516\r\n",
      "  []\r\n",
      "[]\r\n",
      "[InterfaceKernels]\r\n",
      "  [normal-flux-continuity]\r\n",
      "    type = InterfaceNormalFluxContinuity\r\n",
      "    variable = uFuel\r\n",
      "    neighbor_var = uCoolant\r\n",
      "    boundary = interface_12\r\n",
      "    diffCoeff = 1.0\r\n",
      "    diffCoeffNeighbor = 1.0\r\n",
      "  []\r\n",
      "  [u-jump]\r\n",
      "    type = InterfaceJump\r\n",
      "    variable = uFuel\r\n",
      "    neighbor_var = uCoolant\r\n",
      "    boundary = interface_12\r\n",
      "    transferCoeff = 10000000000.0\r\n",
      "    adsorptionCoeff = 0.0\r\n",
      "    diffCoeff = 1.0\r\n",
      "  []\r\n",
      "[]\r\n",
      "[AuxKernels]\r\n",
      "  [diffusion-flux-fuel]\r\n",
      "    type = DiffusionFlux\r\n",
      "    block = omega_1\r\n",
      "    field = uFuel\r\n",
      "    diffCoeff = 1.0\r\n",
      "    variable = diffFluxFuel\r\n",
      "    execute_on = timestep_end\r\n",
      "  []\r\n",
      "  [diffusion-flux-fuel-x]\r\n",
      "    type = VectorVariableComponentAux\r\n",
      "    block = omega_1\r\n",
      "    vector_variable = diffFluxFuel\r\n",
      "    component = x\r\n",
      "    variable = diffFluxFuel_x\r\n",
      "    execute_on = timestep_end\r\n",
      "  []\r\n",
      "  [diffusion-flux-coolant]\r\n",
      "    type = DiffusionFlux\r\n",
      "    block = omega_2\r\n",
      "    field = uCoolant\r\n",
      "    diffCoeff = 1.0\r\n",
      "    variable = diffFluxCoolant\r\n",
      "    execute_on = timestep_end\r\n",
      "  []\r\n",
      "  [diffusion-flux-coolant-x]\r\n",
      "    type = VectorVariableComponentAux\r\n",
      "    block = omega_2\r\n",
      "    vector_variable = diffFluxCoolant\r\n",
      "    component = x\r\n",
      "    variable = diffFluxCoolant_x\r\n",
      "    execute_on = timestep_end\r\n",
      "  []\r\n",
      "[]\r\n",
      "[BCs]\r\n",
      "  [center-line]\r\n",
      "    type = NeumannBC\r\n",
      "    variable = uFuel\r\n",
      "    boundary = left\r\n",
      "    value = 0\r\n",
      "  []\r\n",
      "  [x-b]\r\n",
      "    type = NormalFluxBC\r\n",
      "    variable = uCoolant\r\n",
      "    boundary = right\r\n",
      "    transferCoeff = -0.2\r\n",
      "  []\r\n",
      "[]\r\n",
      "[Preconditioning]\r\n",
      "  active = fdp-newt-full\r\n",
      "  [fdp-newt-full]\r\n",
      "    type = FDP\r\n",
      "    full = true\r\n",
      "    solve_type = NEWTON\r\n",
      "    petsc_options_iname = '-pc_type -mat_fd_coloring_err -mat_fd_type'\r\n",
      "    petsc_options_value = 'lu  1e-8          ds'\r\n",
      "  []\r\n",
      "[]\r\n",
      "[Executioner]\r\n",
      "  type = Steady\r\n",
      "[]\r\n",
      "[VectorPostprocessors]\r\n",
      "  [omega_1]\r\n",
      "    type = LineValueSampler\r\n",
      "    execute_on = 'timestep_end final'\r\n",
      "    variable = 'uFuel diffFluxFuel_x'\r\n",
      "    start_point = '0 0 0'\r\n",
      "    end_point = '9.95 0 0'\r\n",
      "    num_points = 17\r\n",
      "    sort_by = id\r\n",
      "  []\r\n",
      "  [omega_2]\r\n",
      "    type = LineValueSampler\r\n",
      "    execute_on = 'timestep_end final'\r\n",
      "    variable = 'uCoolant diffFluxCoolant_x'\r\n",
      "    start_point = '10.049999999999999 0 0'\r\n",
      "    end_point = '100 0 0'\r\n",
      "    num_points = 31\r\n",
      "    sort_by = id\r\n",
      "  []\r\n",
      "[]\r\n",
      "[Outputs]\r\n",
      "  console = true\r\n",
      "  [csv]\r\n",
      "    type = CSV\r\n",
      "    file_base = output\r\n",
      "    execute_on = final\r\n",
      "  []\r\n",
      "[]\r\n",
      "[Debug]\r\n",
      "  show_var_residual_norms = true\r\n",
      "[]\r\n"
     ]
    }
   ],
   "source": [
    "'''Input file'''\n",
    "write_input_file()\n",
    "!cat input.hit"
   ]
  },
  {
   "cell_type": "code",
   "execution_count": 118,
   "metadata": {
    "ExecuteTime": {
     "end_time": "2021-12-18T14:45:00.367194Z",
     "start_time": "2021-12-18T14:45:00.252872Z"
    }
   },
   "outputs": [],
   "source": [
    "'''Delete any previous *.csv files'''\n",
    "!rm output_omega_*.csv"
   ]
  },
  {
   "cell_type": "code",
   "execution_count": 119,
   "metadata": {
    "ExecuteTime": {
     "end_time": "2021-12-18T14:45:01.194822Z",
     "start_time": "2021-12-18T14:45:00.860848Z"
    },
    "scrolled": true
   },
   "outputs": [
    {
     "name": "stdout",
     "output_type": "stream",
     "text": [
      "\n",
      "In ReplicatedMesh::stitch_meshes:\n",
      "This mesh has 1 nodes on boundary 1.\n",
      "Other mesh has 1 nodes on boundary 0.\n",
      "Minimum edge length on both surfaces is 1.25.\n",
      "In ReplicatedMesh::stitch_meshes:\n",
      "Found 1 matching nodes.\n",
      "\n",
      "Framework Information:\n",
      "MOOSE Version:           git commit 38d37b938c on 2021-10-22\n",
      "LibMesh Version:         aebb5a5c0e1f6d8cf523a720e19f70a6d17c0236\n",
      "PETSc Version:           3.16.0\n",
      "SLEPc Version:           3.16.0\n",
      "Current Time:            Sat Dec 18 09:45:01 2021\n",
      "Executable Timestamp:    Sat Dec 18 09:40:42 2021\n",
      "\n",
      "Parallelism:\n",
      "  Num Processors:          1\n",
      "  Num Threads:             1\n",
      "\n",
      "Mesh: \n",
      "  Parallel Type:           replicated\n",
      "  Mesh Dimension:          1\n",
      "  Spatial Dimension:       1\n",
      "  Nodes:                   47\n",
      "  Elems:                   23\n",
      "  Num Subdomains:          2\n",
      "\n",
      "Nonlinear System:\n",
      "  Num DOFs:                48\n",
      "  Num Local DOFs:          48\n",
      "  Variables:               \"uFuel\" \"uCoolant\" \n",
      "  Finite Element Types:    \"LAGRANGE\" \"LAGRANGE\" \n",
      "  Approximation Orders:    \"SECOND\" \"SECOND\" \n",
      "\n",
      "Auxiliary System:\n",
      "  Num DOFs:                92\n",
      "  Num Local DOFs:          92\n",
      "  Variables:               \"diffFluxFuel\" \"diffFluxFuel_x\" \"diffFluxCoolant\" \"diffFluxCoolant_x\" \n",
      "  Finite Element Types:    \"MONOMIAL_VEC\" \"MONOMIAL\" \"MONOMIAL_VEC\" \"MONOMIAL\" \n",
      "  Approximation Orders:    \"FIRST\" \"FIRST\" \"FIRST\" \"FIRST\" \n",
      "\n",
      "Execution Information:\n",
      "  Executioner:             Steady\n",
      "  Solver Mode:             NEWTON\n",
      "  PETSc Preconditioner:    lu \n",
      "  MOOSE Preconditioner:    FDP\n",
      "\n",
      " 0 Nonlinear |R| = \u001b[32m1.999007e+00\u001b[39m\n",
      "    |residual|_2 of individual variables:\n",
      "                   uFuel:    0.0108148\n",
      "                   uCoolant: 1.99898\n",
      "      0 Linear |R| = \u001b[32m1.999007e+00\u001b[39m\n",
      "      1 Linear |R| = \u001b[32m2.756605e-14\u001b[39m\n",
      " 1 Nonlinear |R| = \u001b[32m2.984891e-06\u001b[39m\n",
      "    |residual|_2 of individual variables:\n",
      "                   uFuel:    2.3915e-06\n",
      "                   uCoolant: 1.78615e-06\n",
      "      0 Linear |R| = \u001b[32m2.984891e-06\u001b[39m\n",
      "      1 Linear |R| = \u001b[32m2.878077e-19\u001b[39m\n",
      " 2 Nonlinear |R| = \u001b[32m2.253719e-11\u001b[39m\n",
      "    |residual|_2 of individual variables:\n",
      "                   uFuel:    2.20857e-11\n",
      "                   uCoolant: 4.48871e-12\n",
      "\u001b[32m Solve Converged!\u001b[39m\n"
     ]
    }
   ],
   "source": [
    "'''Run MOOSE App'''\n",
    "!./fuel_plate-opt -i input.hit"
   ]
  },
  {
   "cell_type": "code",
   "execution_count": 123,
   "metadata": {
    "ExecuteTime": {
     "end_time": "2021-12-18T19:55:39.818789Z",
     "start_time": "2021-12-18T19:55:39.536490Z"
    },
    "code_folding": []
   },
   "outputs": [
    {
     "data": {
      "image/png": "[encoded data removed]",
      "text/plain": [
       "<Figure size 1080x432 with 2 Axes>"
      ]
     },
     "metadata": {},
     "output_type": "display_data"
    },
    {
     "name": "stdout",
     "output_type": "stream",
     "text": [
      "\n"
     ]
    }
   ],
   "source": [
    "'''Show FEM Solution'''\n",
    "\n",
    "import pandas as pd\n",
    "df1 = pd.read_csv('output_omega_1_0002.csv')\n",
    "df2 = pd.read_csv('output_omega_2_0002.csv')\n",
    "    \n",
    "plot_solution(df1=df1, df2=df2, title='Neutron Diffusive Flux',\n",
    "              u1_legend=r'$u_f$ Lagrange Quadratic',\n",
    "              u1_flux_legend=r'$q_{f,x}$ Monomial Linear',\n",
    "              u2_legend=r'$u_c$ Lagrange Quadratic',\n",
    "              u2_flux_legend=r'$q_{c,x}$ Monomial Linear',\n",
    "              x_scale=1,\n",
    "              xlabel='x [?]', y1label=r'$u$ [?]', \n",
    "              y2_scale=1, y2label=r'$q_h$ [?/m^2]')"
   ]
  },
  {
   "cell_type": "code",
   "execution_count": 121,
   "metadata": {
    "ExecuteTime": {
     "end_time": "2021-12-18T14:45:18.953113Z",
     "start_time": "2021-12-18T14:45:18.939743Z"
    }
   },
   "outputs": [
    {
     "data": {
      "text/html": [
       "<div>\n",
       "<style scoped>\n",
       "    .dataframe tbody tr th:only-of-type {\n",
       "        vertical-align: middle;\n",
       "    }\n",
       "\n",
       "    .dataframe tbody tr th {\n",
       "        vertical-align: top;\n",
       "    }\n",
       "\n",
       "    .dataframe thead th {\n",
       "        text-align: right;\n",
       "    }\n",
       "</style>\n",
       "<table border=\"1\" class=\"dataframe\">\n",
       "  <thead>\n",
       "    <tr style=\"text-align: right;\">\n",
       "      <th></th>\n",
       "      <th>diffFluxFuel_x</th>\n",
       "      <th>id</th>\n",
       "      <th>uFuel</th>\n",
       "      <th>x</th>\n",
       "      <th>y</th>\n",
       "      <th>z</th>\n",
       "    </tr>\n",
       "  </thead>\n",
       "  <tbody>\n",
       "    <tr>\n",
       "      <th>0</th>\n",
       "      <td>-3.809211e-12</td>\n",
       "      <td>0.000000</td>\n",
       "      <td>1.652550e-10</td>\n",
       "      <td>0.000000</td>\n",
       "      <td>0</td>\n",
       "      <td>0</td>\n",
       "    </tr>\n",
       "    <tr>\n",
       "      <th>1</th>\n",
       "      <td>-8.015238e-15</td>\n",
       "      <td>0.621875</td>\n",
       "      <td>1.664419e-10</td>\n",
       "      <td>0.621875</td>\n",
       "      <td>0</td>\n",
       "      <td>0</td>\n",
       "    </tr>\n",
       "    <tr>\n",
       "      <th>2</th>\n",
       "      <td>3.793181e-12</td>\n",
       "      <td>1.243750</td>\n",
       "      <td>1.652649e-10</td>\n",
       "      <td>1.243750</td>\n",
       "      <td>0</td>\n",
       "      <td>0</td>\n",
       "    </tr>\n",
       "    <tr>\n",
       "      <th>3</th>\n",
       "      <td>1.082667e-12</td>\n",
       "      <td>1.865625</td>\n",
       "      <td>1.651662e-10</td>\n",
       "      <td>1.865625</td>\n",
       "      <td>0</td>\n",
       "      <td>0</td>\n",
       "    </tr>\n",
       "    <tr>\n",
       "      <th>4</th>\n",
       "      <td>3.024181e-12</td>\n",
       "      <td>2.487500</td>\n",
       "      <td>1.638892e-10</td>\n",
       "      <td>2.487500</td>\n",
       "      <td>0</td>\n",
       "      <td>0</td>\n",
       "    </tr>\n",
       "    <tr>\n",
       "      <th>5</th>\n",
       "      <td>-2.094209e-12</td>\n",
       "      <td>3.109375</td>\n",
       "      <td>1.635511e-10</td>\n",
       "      <td>3.109375</td>\n",
       "      <td>0</td>\n",
       "      <td>0</td>\n",
       "    </tr>\n",
       "    <tr>\n",
       "      <th>6</th>\n",
       "      <td>-7.373771e-12</td>\n",
       "      <td>3.731250</td>\n",
       "      <td>1.664950e-10</td>\n",
       "      <td>3.731250</td>\n",
       "      <td>0</td>\n",
       "      <td>0</td>\n",
       "    </tr>\n",
       "    <tr>\n",
       "      <th>7</th>\n",
       "      <td>-1.733635e-12</td>\n",
       "      <td>4.353125</td>\n",
       "      <td>1.695751e-10</td>\n",
       "      <td>4.353125</td>\n",
       "      <td>0</td>\n",
       "      <td>0</td>\n",
       "    </tr>\n",
       "    <tr>\n",
       "      <th>8</th>\n",
       "      <td>4.744805e-12</td>\n",
       "      <td>4.975000</td>\n",
       "      <td>1.686388e-10</td>\n",
       "      <td>4.975000</td>\n",
       "      <td>0</td>\n",
       "      <td>0</td>\n",
       "    </tr>\n",
       "    <tr>\n",
       "      <th>9</th>\n",
       "      <td>5.839998e-13</td>\n",
       "      <td>5.596875</td>\n",
       "      <td>1.668548e-10</td>\n",
       "      <td>5.596875</td>\n",
       "      <td>0</td>\n",
       "      <td>0</td>\n",
       "    </tr>\n",
       "    <tr>\n",
       "      <th>10</th>\n",
       "      <td>-4.001999e-12</td>\n",
       "      <td>6.218750</td>\n",
       "      <td>1.679175e-10</td>\n",
       "      <td>6.218750</td>\n",
       "      <td>0</td>\n",
       "      <td>0</td>\n",
       "    </tr>\n",
       "    <tr>\n",
       "      <th>11</th>\n",
       "      <td>7.481159e-13</td>\n",
       "      <td>6.840625</td>\n",
       "      <td>1.665653e-10</td>\n",
       "      <td>6.840625</td>\n",
       "      <td>0</td>\n",
       "      <td>0</td>\n",
       "    </tr>\n",
       "    <tr>\n",
       "      <th>12</th>\n",
       "      <td>-2.956693e-12</td>\n",
       "      <td>7.462500</td>\n",
       "      <td>1.672520e-10</td>\n",
       "      <td>7.462500</td>\n",
       "      <td>0</td>\n",
       "      <td>0</td>\n",
       "    </tr>\n",
       "    <tr>\n",
       "      <th>13</th>\n",
       "      <td>7.299544e-13</td>\n",
       "      <td>8.084375</td>\n",
       "      <td>1.649306e-10</td>\n",
       "      <td>8.084375</td>\n",
       "      <td>0</td>\n",
       "      <td>0</td>\n",
       "    </tr>\n",
       "    <tr>\n",
       "      <th>14</th>\n",
       "      <td>-6.590300e-12</td>\n",
       "      <td>8.706250</td>\n",
       "      <td>1.667528e-10</td>\n",
       "      <td>8.706250</td>\n",
       "      <td>0</td>\n",
       "      <td>0</td>\n",
       "    </tr>\n",
       "    <tr>\n",
       "      <th>15</th>\n",
       "      <td>2.986203e-12</td>\n",
       "      <td>9.328125</td>\n",
       "      <td>1.650143e-10</td>\n",
       "      <td>9.328125</td>\n",
       "      <td>0</td>\n",
       "      <td>0</td>\n",
       "    </tr>\n",
       "    <tr>\n",
       "      <th>16</th>\n",
       "      <td>1.826553e-12</td>\n",
       "      <td>9.950000</td>\n",
       "      <td>1.635179e-10</td>\n",
       "      <td>9.950000</td>\n",
       "      <td>0</td>\n",
       "      <td>0</td>\n",
       "    </tr>\n",
       "  </tbody>\n",
       "</table>\n",
       "</div>"
      ],
      "text/plain": [
       "    diffFluxFuel_x        id         uFuel         x  y  z\n",
       "0    -3.809211e-12  0.000000  1.652550e-10  0.000000  0  0\n",
       "1    -8.015238e-15  0.621875  1.664419e-10  0.621875  0  0\n",
       "2     3.793181e-12  1.243750  1.652649e-10  1.243750  0  0\n",
       "3     1.082667e-12  1.865625  1.651662e-10  1.865625  0  0\n",
       "4     3.024181e-12  2.487500  1.638892e-10  2.487500  0  0\n",
       "5    -2.094209e-12  3.109375  1.635511e-10  3.109375  0  0\n",
       "6    -7.373771e-12  3.731250  1.664950e-10  3.731250  0  0\n",
       "7    -1.733635e-12  4.353125  1.695751e-10  4.353125  0  0\n",
       "8     4.744805e-12  4.975000  1.686388e-10  4.975000  0  0\n",
       "9     5.839998e-13  5.596875  1.668548e-10  5.596875  0  0\n",
       "10   -4.001999e-12  6.218750  1.679175e-10  6.218750  0  0\n",
       "11    7.481159e-13  6.840625  1.665653e-10  6.840625  0  0\n",
       "12   -2.956693e-12  7.462500  1.672520e-10  7.462500  0  0\n",
       "13    7.299544e-13  8.084375  1.649306e-10  8.084375  0  0\n",
       "14   -6.590300e-12  8.706250  1.667528e-10  8.706250  0  0\n",
       "15    2.986203e-12  9.328125  1.650143e-10  9.328125  0  0\n",
       "16    1.826553e-12  9.950000  1.635179e-10  9.950000  0  0"
      ]
     },
     "execution_count": 121,
     "metadata": {},
     "output_type": "execute_result"
    }
   ],
   "source": [
    "df1"
   ]
  },
  {
   "cell_type": "code",
   "execution_count": 122,
   "metadata": {
    "ExecuteTime": {
     "end_time": "2021-12-18T14:45:19.339247Z",
     "start_time": "2021-12-18T14:45:19.315241Z"
    }
   },
   "outputs": [
    {
     "data": {
      "text/html": [
       "<div>\n",
       "<style scoped>\n",
       "    .dataframe tbody tr th:only-of-type {\n",
       "        vertical-align: middle;\n",
       "    }\n",
       "\n",
       "    .dataframe tbody tr th {\n",
       "        vertical-align: top;\n",
       "    }\n",
       "\n",
       "    .dataframe thead th {\n",
       "        text-align: right;\n",
       "    }\n",
       "</style>\n",
       "<table border=\"1\" class=\"dataframe\">\n",
       "  <thead>\n",
       "    <tr style=\"text-align: right;\">\n",
       "      <th></th>\n",
       "      <th>diffFluxCoolant_x</th>\n",
       "      <th>id</th>\n",
       "      <th>uCoolant</th>\n",
       "      <th>x</th>\n",
       "      <th>y</th>\n",
       "      <th>z</th>\n",
       "    </tr>\n",
       "  </thead>\n",
       "  <tbody>\n",
       "    <tr>\n",
       "      <th>0</th>\n",
       "      <td>3.070447e-12</td>\n",
       "      <td>0.000000</td>\n",
       "      <td>1.643326e-10</td>\n",
       "      <td>10.050000</td>\n",
       "      <td>0</td>\n",
       "      <td>0</td>\n",
       "    </tr>\n",
       "    <tr>\n",
       "      <th>1</th>\n",
       "      <td>1.829319e-12</td>\n",
       "      <td>2.998333</td>\n",
       "      <td>1.569870e-10</td>\n",
       "      <td>13.048333</td>\n",
       "      <td>0</td>\n",
       "      <td>0</td>\n",
       "    </tr>\n",
       "    <tr>\n",
       "      <th>2</th>\n",
       "      <td>1.112582e-12</td>\n",
       "      <td>5.996667</td>\n",
       "      <td>1.533391e-10</td>\n",
       "      <td>16.046667</td>\n",
       "      <td>0</td>\n",
       "      <td>0</td>\n",
       "    </tr>\n",
       "    <tr>\n",
       "      <th>3</th>\n",
       "      <td>1.907492e-12</td>\n",
       "      <td>8.995000</td>\n",
       "      <td>1.488115e-10</td>\n",
       "      <td>19.045000</td>\n",
       "      <td>0</td>\n",
       "      <td>0</td>\n",
       "    </tr>\n",
       "    <tr>\n",
       "      <th>4</th>\n",
       "      <td>9.633328e-13</td>\n",
       "      <td>11.993333</td>\n",
       "      <td>1.419760e-10</td>\n",
       "      <td>22.043333</td>\n",
       "      <td>0</td>\n",
       "      <td>0</td>\n",
       "    </tr>\n",
       "    <tr>\n",
       "      <th>5</th>\n",
       "      <td>2.252899e-12</td>\n",
       "      <td>14.991667</td>\n",
       "      <td>1.371543e-10</td>\n",
       "      <td>25.041667</td>\n",
       "      <td>0</td>\n",
       "      <td>0</td>\n",
       "    </tr>\n",
       "    <tr>\n",
       "      <th>6</th>\n",
       "      <td>1.116224e-12</td>\n",
       "      <td>17.990000</td>\n",
       "      <td>1.285630e-10</td>\n",
       "      <td>28.040000</td>\n",
       "      <td>0</td>\n",
       "      <td>0</td>\n",
       "    </tr>\n",
       "    <tr>\n",
       "      <th>7</th>\n",
       "      <td>1.842158e-12</td>\n",
       "      <td>20.988333</td>\n",
       "      <td>1.241279e-10</td>\n",
       "      <td>31.038333</td>\n",
       "      <td>0</td>\n",
       "      <td>0</td>\n",
       "    </tr>\n",
       "    <tr>\n",
       "      <th>8</th>\n",
       "      <td>2.684876e-12</td>\n",
       "      <td>23.986667</td>\n",
       "      <td>1.175116e-10</td>\n",
       "      <td>34.036667</td>\n",
       "      <td>0</td>\n",
       "      <td>0</td>\n",
       "    </tr>\n",
       "    <tr>\n",
       "      <th>9</th>\n",
       "      <td>1.907306e-12</td>\n",
       "      <td>26.985000</td>\n",
       "      <td>1.106271e-10</td>\n",
       "      <td>37.035000</td>\n",
       "      <td>0</td>\n",
       "      <td>0</td>\n",
       "    </tr>\n",
       "    <tr>\n",
       "      <th>10</th>\n",
       "      <td>2.808820e-12</td>\n",
       "      <td>29.983333</td>\n",
       "      <td>1.060181e-10</td>\n",
       "      <td>40.033333</td>\n",
       "      <td>0</td>\n",
       "      <td>0</td>\n",
       "    </tr>\n",
       "    <tr>\n",
       "      <th>11</th>\n",
       "      <td>2.130458e-12</td>\n",
       "      <td>32.981667</td>\n",
       "      <td>9.861333e-11</td>\n",
       "      <td>43.031667</td>\n",
       "      <td>0</td>\n",
       "      <td>0</td>\n",
       "    </tr>\n",
       "    <tr>\n",
       "      <th>12</th>\n",
       "      <td>1.662661e-12</td>\n",
       "      <td>35.980000</td>\n",
       "      <td>9.323632e-11</td>\n",
       "      <td>46.030000</td>\n",
       "      <td>0</td>\n",
       "      <td>0</td>\n",
       "    </tr>\n",
       "    <tr>\n",
       "      <th>13</th>\n",
       "      <td>2.003299e-12</td>\n",
       "      <td>38.978333</td>\n",
       "      <td>8.774043e-11</td>\n",
       "      <td>49.028333</td>\n",
       "      <td>0</td>\n",
       "      <td>0</td>\n",
       "    </tr>\n",
       "    <tr>\n",
       "      <th>14</th>\n",
       "      <td>1.819779e-12</td>\n",
       "      <td>41.976667</td>\n",
       "      <td>8.123716e-11</td>\n",
       "      <td>52.026667</td>\n",
       "      <td>0</td>\n",
       "      <td>0</td>\n",
       "    </tr>\n",
       "    <tr>\n",
       "      <th>15</th>\n",
       "      <td>2.032311e-12</td>\n",
       "      <td>44.975000</td>\n",
       "      <td>7.546224e-11</td>\n",
       "      <td>55.025000</td>\n",
       "      <td>0</td>\n",
       "      <td>0</td>\n",
       "    </tr>\n",
       "    <tr>\n",
       "      <th>16</th>\n",
       "      <td>1.870818e-12</td>\n",
       "      <td>47.973333</td>\n",
       "      <td>6.905878e-11</td>\n",
       "      <td>58.023333</td>\n",
       "      <td>0</td>\n",
       "      <td>0</td>\n",
       "    </tr>\n",
       "    <tr>\n",
       "      <th>17</th>\n",
       "      <td>1.831364e-12</td>\n",
       "      <td>50.971667</td>\n",
       "      <td>6.350859e-11</td>\n",
       "      <td>61.021667</td>\n",
       "      <td>0</td>\n",
       "      <td>0</td>\n",
       "    </tr>\n",
       "    <tr>\n",
       "      <th>18</th>\n",
       "      <td>1.724149e-12</td>\n",
       "      <td>53.970000</td>\n",
       "      <td>5.807807e-11</td>\n",
       "      <td>64.020000</td>\n",
       "      <td>0</td>\n",
       "      <td>0</td>\n",
       "    </tr>\n",
       "    <tr>\n",
       "      <th>19</th>\n",
       "      <td>1.860811e-12</td>\n",
       "      <td>56.968333</td>\n",
       "      <td>5.270361e-11</td>\n",
       "      <td>67.018333</td>\n",
       "      <td>0</td>\n",
       "      <td>0</td>\n",
       "    </tr>\n",
       "    <tr>\n",
       "      <th>20</th>\n",
       "      <td>1.833311e-12</td>\n",
       "      <td>59.966667</td>\n",
       "      <td>4.692214e-11</td>\n",
       "      <td>70.016667</td>\n",
       "      <td>0</td>\n",
       "      <td>0</td>\n",
       "    </tr>\n",
       "    <tr>\n",
       "      <th>21</th>\n",
       "      <td>1.962660e-12</td>\n",
       "      <td>62.965000</td>\n",
       "      <td>4.123135e-11</td>\n",
       "      <td>73.015000</td>\n",
       "      <td>0</td>\n",
       "      <td>0</td>\n",
       "    </tr>\n",
       "    <tr>\n",
       "      <th>22</th>\n",
       "      <td>1.827205e-12</td>\n",
       "      <td>65.963333</td>\n",
       "      <td>3.515625e-11</td>\n",
       "      <td>76.013333</td>\n",
       "      <td>0</td>\n",
       "      <td>0</td>\n",
       "    </tr>\n",
       "    <tr>\n",
       "      <th>23</th>\n",
       "      <td>1.891900e-12</td>\n",
       "      <td>68.961667</td>\n",
       "      <td>2.958069e-11</td>\n",
       "      <td>79.011667</td>\n",
       "      <td>0</td>\n",
       "      <td>0</td>\n",
       "    </tr>\n",
       "    <tr>\n",
       "      <th>24</th>\n",
       "      <td>1.810681e-12</td>\n",
       "      <td>71.960000</td>\n",
       "      <td>2.381262e-11</td>\n",
       "      <td>82.010000</td>\n",
       "      <td>0</td>\n",
       "      <td>0</td>\n",
       "    </tr>\n",
       "    <tr>\n",
       "      <th>25</th>\n",
       "      <td>1.846874e-12</td>\n",
       "      <td>74.958333</td>\n",
       "      <td>1.832933e-11</td>\n",
       "      <td>85.008333</td>\n",
       "      <td>0</td>\n",
       "      <td>0</td>\n",
       "    </tr>\n",
       "    <tr>\n",
       "      <th>26</th>\n",
       "      <td>1.739393e-12</td>\n",
       "      <td>77.956667</td>\n",
       "      <td>1.273849e-11</td>\n",
       "      <td>88.006667</td>\n",
       "      <td>0</td>\n",
       "      <td>0</td>\n",
       "    </tr>\n",
       "    <tr>\n",
       "      <th>27</th>\n",
       "      <td>1.777975e-12</td>\n",
       "      <td>80.955000</td>\n",
       "      <td>7.465367e-12</td>\n",
       "      <td>91.005000</td>\n",
       "      <td>0</td>\n",
       "      <td>0</td>\n",
       "    </tr>\n",
       "    <tr>\n",
       "      <th>28</th>\n",
       "      <td>1.848709e-12</td>\n",
       "      <td>83.953333</td>\n",
       "      <td>2.076458e-12</td>\n",
       "      <td>94.003333</td>\n",
       "      <td>0</td>\n",
       "      <td>0</td>\n",
       "    </tr>\n",
       "    <tr>\n",
       "      <th>29</th>\n",
       "      <td>1.808287e-12</td>\n",
       "      <td>86.951667</td>\n",
       "      <td>-3.405989e-12</td>\n",
       "      <td>97.001667</td>\n",
       "      <td>0</td>\n",
       "      <td>0</td>\n",
       "    </tr>\n",
       "    <tr>\n",
       "      <th>30</th>\n",
       "      <td>1.767866e-12</td>\n",
       "      <td>89.950000</td>\n",
       "      <td>-8.767238e-12</td>\n",
       "      <td>100.000000</td>\n",
       "      <td>0</td>\n",
       "      <td>0</td>\n",
       "    </tr>\n",
       "  </tbody>\n",
       "</table>\n",
       "</div>"
      ],
      "text/plain": [
       "    diffFluxCoolant_x         id      uCoolant           x  y  z\n",
       "0        3.070447e-12   0.000000  1.643326e-10   10.050000  0  0\n",
       "1        1.829319e-12   2.998333  1.569870e-10   13.048333  0  0\n",
       "2        1.112582e-12   5.996667  1.533391e-10   16.046667  0  0\n",
       "3        1.907492e-12   8.995000  1.488115e-10   19.045000  0  0\n",
       "4        9.633328e-13  11.993333  1.419760e-10   22.043333  0  0\n",
       "5        2.252899e-12  14.991667  1.371543e-10   25.041667  0  0\n",
       "6        1.116224e-12  17.990000  1.285630e-10   28.040000  0  0\n",
       "7        1.842158e-12  20.988333  1.241279e-10   31.038333  0  0\n",
       "8        2.684876e-12  23.986667  1.175116e-10   34.036667  0  0\n",
       "9        1.907306e-12  26.985000  1.106271e-10   37.035000  0  0\n",
       "10       2.808820e-12  29.983333  1.060181e-10   40.033333  0  0\n",
       "11       2.130458e-12  32.981667  9.861333e-11   43.031667  0  0\n",
       "12       1.662661e-12  35.980000  9.323632e-11   46.030000  0  0\n",
       "13       2.003299e-12  38.978333  8.774043e-11   49.028333  0  0\n",
       "14       1.819779e-12  41.976667  8.123716e-11   52.026667  0  0\n",
       "15       2.032311e-12  44.975000  7.546224e-11   55.025000  0  0\n",
       "16       1.870818e-12  47.973333  6.905878e-11   58.023333  0  0\n",
       "17       1.831364e-12  50.971667  6.350859e-11   61.021667  0  0\n",
       "18       1.724149e-12  53.970000  5.807807e-11   64.020000  0  0\n",
       "19       1.860811e-12  56.968333  5.270361e-11   67.018333  0  0\n",
       "20       1.833311e-12  59.966667  4.692214e-11   70.016667  0  0\n",
       "21       1.962660e-12  62.965000  4.123135e-11   73.015000  0  0\n",
       "22       1.827205e-12  65.963333  3.515625e-11   76.013333  0  0\n",
       "23       1.891900e-12  68.961667  2.958069e-11   79.011667  0  0\n",
       "24       1.810681e-12  71.960000  2.381262e-11   82.010000  0  0\n",
       "25       1.846874e-12  74.958333  1.832933e-11   85.008333  0  0\n",
       "26       1.739393e-12  77.956667  1.273849e-11   88.006667  0  0\n",
       "27       1.777975e-12  80.955000  7.465367e-12   91.005000  0  0\n",
       "28       1.848709e-12  83.953333  2.076458e-12   94.003333  0  0\n",
       "29       1.808287e-12  86.951667 -3.405989e-12   97.001667  0  0\n",
       "30       1.767866e-12  89.950000 -8.767238e-12  100.000000  0  0"
      ]
     },
     "execution_count": 122,
     "metadata": {},
     "output_type": "execute_result"
    }
   ],
   "source": [
    "df2"
   ]
  },
  {
   "cell_type": "markdown",
   "metadata": {},
   "source": [
    "#### [Test 2](#toc)<a id=\"1dsolofueldirichletrobin\"></a>"
   ]
  },
  {
   "cell_type": "code",
   "execution_count": 14,
   "metadata": {
    "ExecuteTime": {
     "end_time": "2021-12-18T12:36:07.702965Z",
     "start_time": "2021-12-18T12:36:07.699410Z"
    }
   },
   "outputs": [
    {
     "data": {
      "text/plain": [
       "'Parameters'"
      ]
     },
     "execution_count": 14,
     "metadata": {},
     "output_type": "execute_result"
    }
   ],
   "source": [
    "'''Parameters'''"
   ]
  },
  {
   "cell_type": "code",
   "execution_count": 15,
   "metadata": {
    "ExecuteTime": {
     "end_time": "2021-12-18T12:36:07.709172Z",
     "start_time": "2021-12-18T12:36:07.704668Z"
    },
    "scrolled": true
   },
   "outputs": [
    {
     "data": {
      "text/plain": [
       "'Input file mod'"
      ]
     },
     "execution_count": 15,
     "metadata": {},
     "output_type": "execute_result"
    }
   ],
   "source": [
    "'''Input file mod'''"
   ]
  },
  {
   "cell_type": "code",
   "execution_count": 16,
   "metadata": {
    "ExecuteTime": {
     "end_time": "2021-12-18T12:36:07.716671Z",
     "start_time": "2021-12-18T12:36:07.711060Z"
    },
    "scrolled": true
   },
   "outputs": [
    {
     "data": {
      "text/plain": [
       "'Run MOOSE App'"
      ]
     },
     "execution_count": 16,
     "metadata": {},
     "output_type": "execute_result"
    }
   ],
   "source": [
    "'''Run MOOSE App'''"
   ]
  },
  {
   "cell_type": "code",
   "execution_count": 17,
   "metadata": {
    "ExecuteTime": {
     "end_time": "2021-12-18T12:36:07.723837Z",
     "start_time": "2021-12-18T12:36:07.718648Z"
    },
    "code_folding": []
   },
   "outputs": [
    {
     "data": {
      "text/plain": [
       "'Solution'"
      ]
     },
     "execution_count": 17,
     "metadata": {},
     "output_type": "execute_result"
    }
   ],
   "source": [
    "'''Solution'''"
   ]
  },
  {
   "cell_type": "markdown",
   "metadata": {},
   "source": [
    "## [2-D Results and Analysis](#toc)<a id=\"ranalysis\"></a>"
   ]
  },
  {
   "cell_type": "code",
   "execution_count": 18,
   "metadata": {
    "ExecuteTime": {
     "end_time": "2021-12-18T12:36:07.730244Z",
     "start_time": "2021-12-18T12:36:07.725317Z"
    }
   },
   "outputs": [
    {
     "data": {
      "text/plain": [
       "'Parameters'"
      ]
     },
     "execution_count": 18,
     "metadata": {},
     "output_type": "execute_result"
    }
   ],
   "source": [
    "'''Parameters'''"
   ]
  },
  {
   "cell_type": "code",
   "execution_count": 19,
   "metadata": {
    "ExecuteTime": {
     "end_time": "2021-12-18T12:36:07.736723Z",
     "start_time": "2021-12-18T12:36:07.732031Z"
    }
   },
   "outputs": [
    {
     "data": {
      "text/plain": [
       "'FEM Parameters'"
      ]
     },
     "execution_count": 19,
     "metadata": {},
     "output_type": "execute_result"
    }
   ],
   "source": [
    "'''FEM Parameters'''"
   ]
  },
  {
   "cell_type": "code",
   "execution_count": 20,
   "metadata": {
    "ExecuteTime": {
     "end_time": "2021-12-18T12:36:07.744128Z",
     "start_time": "2021-12-18T12:36:07.739235Z"
    }
   },
   "outputs": [
    {
     "data": {
      "text/plain": [
       "'Input file mod'"
      ]
     },
     "execution_count": 20,
     "metadata": {},
     "output_type": "execute_result"
    }
   ],
   "source": [
    "'''Input file mod'''"
   ]
  },
  {
   "cell_type": "code",
   "execution_count": 21,
   "metadata": {
    "ExecuteTime": {
     "end_time": "2021-12-18T12:36:07.750841Z",
     "start_time": "2021-12-18T12:36:07.746085Z"
    },
    "scrolled": true
   },
   "outputs": [
    {
     "data": {
      "text/plain": [
       "'Run MOOSE App'"
      ]
     },
     "execution_count": 21,
     "metadata": {},
     "output_type": "execute_result"
    }
   ],
   "source": [
    "'''Run MOOSE App'''"
   ]
  },
  {
   "cell_type": "code",
   "execution_count": 22,
   "metadata": {
    "ExecuteTime": {
     "end_time": "2021-12-18T12:36:07.757437Z",
     "start_time": "2021-12-18T12:36:07.752671Z"
    }
   },
   "outputs": [
    {
     "data": {
      "text/plain": [
       "'Show 2D solution'"
      ]
     },
     "execution_count": 22,
     "metadata": {},
     "output_type": "execute_result"
    }
   ],
   "source": [
    "'''Show 2D solution'''"
   ]
  },
  {
   "cell_type": "markdown",
   "metadata": {},
   "source": [
    "## [Conclusions](#toc)<a id=\"conclusions\"></a>"
   ]
  },
  {
   "cell_type": "markdown",
   "metadata": {},
   "source": [
    "## [References](#toc)<a id=\"refs\"></a>\n",
    "\n",
    "- [1] V. F. de Almeida, [*Engy-5310: Computational Continuum Transport Phenomena*](https://github.com/dpploy/engy-5310), University of Massachusetts Lowell, Dept. of Chemical Engineering (Nuclear Energy Program).\n",
    "- [2] Multiphysics Object-Oriented Simulation Environment [(MOOSE)](https://mooseframework.org)\n",
    "- [4] author, [reference]()"
   ]
  },
  {
   "cell_type": "code",
   "execution_count": null,
   "metadata": {},
   "outputs": [],
   "source": []
  }
 ],
 "metadata": {
  "kernelspec": {
   "display_name": "Python 3 (ipykernel)",
   "language": "python",
   "name": "python3"
  },
  "language_info": {
   "codemirror_mode": {
    "name": "ipython",
    "version": 3
   },
   "file_extension": ".py",
   "mimetype": "text/x-python",
   "name": "python",
   "nbconvert_exporter": "python",
   "pygments_lexer": "ipython3",
   "version": "3.9.9"
  },
  "latex_envs": {
   "LaTeX_envs_menu_present": true,
   "autoclose": false,
   "autocomplete": true,
   "bibliofile": "biblio.bib",
   "cite_by": "apalike",
   "current_citInitial": 1,
   "eqLabelWithNumbers": true,
   "eqNumInitial": 1,
   "hotkeys": {
    "equation": "Ctrl-E",
    "itemize": "Ctrl-I"
   },
   "labels_anchors": false,
   "latex_user_defs": false,
   "report_style_numbering": false,
   "user_envs_cfg": false
  }
 },
 "nbformat": 4,
 "nbformat_minor": 2
}
