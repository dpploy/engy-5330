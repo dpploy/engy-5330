{
 "cells": [
  {
   "cell_type": "markdown",
   "metadata": {},
   "source": [
    "**Engy-5310** Computational Continuum Transport Phenomena, UMass Lowell, Chem. Eng. Nuclear Program Fall 2021; Prof. V. F. de Almeida\n",
    "\n",
    "# Title\n",
    "$  \n",
    "  \\newcommand{\\Amtrx}{\\boldsymbol{\\mathsf{A}}}\n",
    "  \\newcommand{\\Bmtrx}{\\boldsymbol{\\mathsf{B}}}\n",
    "  \\newcommand{\\Mmtrx}{\\boldsymbol{\\mathsf{M}}}\n",
    "  \\newcommand{\\Imtrx}{\\boldsymbol{\\mathsf{I}}}\n",
    "  \\newcommand{\\Pmtrx}{\\boldsymbol{\\mathsf{P}}}\n",
    "  \\newcommand{\\Lmtrx}{\\boldsymbol{\\mathsf{L}}}\n",
    "  \\newcommand{\\Umtrx}{\\boldsymbol{\\mathsf{U}}}\n",
    "  \\newcommand{\\Smtrx}{\\boldsymbol{\\mathsf{S}}}\n",
    "  \\newcommand{\\xvec}{\\boldsymbol{\\mathsf{x}}}\n",
    "  \\newcommand{\\avec}{\\boldsymbol{\\mathsf{a}}}\n",
    "  \\newcommand{\\bvec}{\\boldsymbol{\\mathsf{b}}}\n",
    "  \\newcommand{\\cvec}{\\boldsymbol{\\mathsf{c}}}\n",
    "  \\newcommand{\\rvec}{\\boldsymbol{\\mathsf{r}}}\n",
    "  \\newcommand{\\fvec}{\\boldsymbol{\\mathsf{f}}}\n",
    "  \\newcommand{\\mvec}{\\boldsymbol{\\mathsf{m}}}\n",
    "  \\newcommand{\\gvec}{\\boldsymbol{\\mathsf{g}}}\n",
    "  \\newcommand{\\flux}{\\boldsymbol{q}}\n",
    "  \\newcommand{\\fluxc}{\\boldsymbol{q}_\\text{c}}\n",
    "  \\newcommand{\\fluxf}{\\boldsymbol{q}_\\text{f}}\n",
    "  \\newcommand{\\velocity}{\\boldsymbol{v}}\n",
    "  \\newcommand{\\normal}{\\boldsymbol{n}}\n",
    "  \\newcommand{\\xpoint}{\\boldsymbol{x}}\n",
    "  \\newcommand{\\Tc}{T_\\text{c}}\n",
    "  \\newcommand{\\wc}{w_\\text{c}}\n",
    "  \\newcommand{\\Tf}{T_\\text{f}}\n",
    "  \\newcommand{\\wf}{w_\\text{f}}\n",
    "  \\newcommand{\\wI}{w_\\text{I}}\n",
    "  \\newcommand{\\Ri}{R_\\text{i}}\n",
    "  \\newcommand{\\Ro}{R_\\text{o}}\n",
    "  \\newcommand{\\Omegac}{\\Omega_\\text{c}}\n",
    "  \\newcommand{\\Omegaf}{\\Omega_\\text{f}}\n",
    "  \\newcommand{\\zerovec}{\\boldsymbol{\\mathsf{0}}}\n",
    "  \\newcommand{\\norm}[1]{\\bigl\\lVert{#1}\\bigr\\rVert}\n",
    "  \\newcommand{\\transpose}[1]{{#1}^\\top}\n",
    "  \\DeclareMathOperator{\\rank}{rank}\n",
    "  \\DeclareMathOperator{\\div}{div}\n",
    "  \\DeclareMathOperator{\\gradx}{grad_\\xpoint}\n",
    "  \\DeclareMathOperator{\\divx}{div_\\xpoint}\n",
    "  \\DeclareMathOperator{\\grad}{grad}\n",
    "  \\newcommand{\\Reals}{\\mathbb{R}}\n",
    "  \\newcommand{\\thetavec}{\\boldsymbol{\\theta}}\n",
    "$"
   ]
  },
  {
   "cell_type": "markdown",
   "metadata": {},
   "source": [
    "**Student(s):**  `your name(s)` <br>\n",
    "**Course:** Engy-5310 Computational Continuum Transport Phenomena  <br>\n",
    "**Mentor and Collaborator:** `Prof. name`\n",
    "\n",
    "UMass Lowell, Dept. of Chemical Engineering, Nuclear Energy Program \n",
    "<br>\n",
    "**22Nov2021**"
   ]
  },
  {
   "cell_type": "markdown",
   "metadata": {},
   "source": [
    "---\n",
    "## Table of Contents<a id=\"toc\"></a>\n",
    "* [Introduction](#intro)\n",
    "* [Problem Statement](#problem)\n",
    "* [Objectives](#obj)\n",
    "* [Approach](#app)\n",
    " + [Weak Form of Problem Statement](#weakform)\n",
    " + [MOOSE Kernels](#kernels)\n",
    " + [Tests](#tests)\n",
    " + [Setup](#setup)\n",
    "   - [Test 1](#1dsolofueldirichlet)\n",
    "   - [Test 2](#1dsolofueldirichletrobin)\n",
    "* [2-D Results and Analysis](#ranalysis)\n",
    "* [Conclusions](#conclusions)\n",
    "* [References](#refs)\n",
    "---"
   ]
  },
  {
   "cell_type": "markdown",
   "metadata": {},
   "source": [
    "## [Introduction](#toc)<a id=\"intro\"></a>"
   ]
  },
  {
   "cell_type": "markdown",
   "metadata": {},
   "source": [
    "`text goes here`"
   ]
  },
  {
   "cell_type": "markdown",
   "metadata": {},
   "source": [
    "## [Problem Statement](#toc)<a id=\"problem\"></a>"
   ]
  },
  {
   "cell_type": "markdown",
   "metadata": {},
   "source": [
    "`mathematical statement of problem`\n"
   ]
  },
  {
   "cell_type": "markdown",
   "metadata": {},
   "source": [
    "### Domain\n",
    "`describe domain`"
   ]
  },
  {
   "cell_type": "markdown",
   "metadata": {},
   "source": [
    "## [Objectives](#toc)<a id=\"obj\"></a>"
   ]
  },
  {
   "cell_type": "markdown",
   "metadata": {},
   "source": [
    "`state objectives`"
   ]
  },
  {
   "cell_type": "markdown",
   "metadata": {},
   "source": [
    "## [Approach](#toc)<a id=\"app\"></a>"
   ]
  },
  {
   "cell_type": "markdown",
   "metadata": {},
   "source": [
    "A Galerkin weak formulation follows below and the implementation of the integrands as MOOSE kernels are described next."
   ]
  },
  {
   "cell_type": "markdown",
   "metadata": {},
   "source": [
    "### [Weak Form of Problem Statement](#toc)<a id=\"weakform\"></a> \n"
   ]
  },
  {
   "cell_type": "markdown",
   "metadata": {},
   "source": [
    "### [MOOSE Kernels](#toc)<a id=\"kernels\"></a>\n"
   ]
  },
  {
   "cell_type": "markdown",
   "metadata": {},
   "source": [
    "### [Tests](#toc)<a id=\"tests\"></a>\n"
   ]
  },
  {
   "cell_type": "markdown",
   "metadata": {},
   "source": [
    "### [Setup](#toc)<a id=\"setup\"></a>"
   ]
  },
  {
   "cell_type": "code",
   "execution_count": 1,
   "metadata": {
    "ExecuteTime": {
     "end_time": "2021-12-18T12:36:05.586794Z",
     "start_time": "2021-12-18T12:36:05.499111Z"
    }
   },
   "outputs": [],
   "source": [
    "'''SI units'''\n",
    "from scipy import constants as unit\n",
    "unit.kelvin = 1.0\n",
    "unit.second = 1.0\n",
    "unit.joule = 1.0\n",
    "unit.meter = 1.0\n",
    "unit.watt = unit.joule/unit.second\n",
    "unit.kg = unit.kilo*unit.gram\n",
    "import numpy as np"
   ]
  },
  {
   "cell_type": "code",
   "execution_count": 23,
   "metadata": {
    "ExecuteTime": {
     "end_time": "2021-12-18T12:37:11.253498Z",
     "start_time": "2021-12-18T12:37:11.243264Z"
    },
    "code_folding": []
   },
   "outputs": [],
   "source": [
    "'''Plot function for FEM Solution'''\n",
    "def plot_solution(df1=None, df2=None, \n",
    "                  x_scale=1,\n",
    "                  y1_scale=1,\n",
    "                  y2_scale=1,\n",
    "                  xlabel=r'$x$ []',\n",
    "                  y1label=r'$u_h(x)$ []',\n",
    "                  y2label=r'$q_h(x)$ []',\n",
    "                  df3=None,\n",
    "                  title='No Title', \n",
    "                  u1_legend='no u1 legend',\n",
    "                  u2_legend='no u2 legend',\n",
    "                  u1_flux_legend='no u1 flux legend',\n",
    "                  u2_flux_legend='no u2 flux legend',\n",
    "                  flux_decimal_digits=5):\n",
    "    '''Plot solution for fuel and coolant\n",
    "    '''\n",
    "    import matplotlib.pyplot as plt\n",
    "    #%matplotlib inline\n",
    "    plt.style.use('dark_background')\n",
    "    import numpy as np\n",
    "\n",
    "    (fig, ax1) = plt.subplots(1, figsize=(15, 6))\n",
    "\n",
    "    if df1 is not None:\n",
    "        ax1.plot(df1['x']*x_scale, df1['uFuel'], 'r*-', label=u1_legend)\n",
    "    if df2 is not None:\n",
    "        ax1.plot(df2['x']*x_scale, df2['uCoolant'], '*--', color='magenta', label=u2_legend)\n",
    "\n",
    "    ax1.set_xlabel(xlabel, fontsize=18)\n",
    "    ax1.set_ylabel(y1label, fontsize=18, color='white')\n",
    "    ax1.tick_params(axis='y', labelcolor='white', labelsize=14)\n",
    "    ax1.tick_params(axis='x', labelsize=14)\n",
    "    ax1.legend(loc='center left', fontsize=12)\n",
    "    #ax1.set_ylim(0,1)\n",
    "    ax1.grid(True)\n",
    "    \n",
    "    ax2 = None\n",
    "\n",
    "    if df1 is not None and 'diffFluxFuel_x' in df1.columns:\n",
    "        ax2 = ax1.twinx()\n",
    "        ax2.plot(df1['x']*x_scale, np.round(df1['diffFluxFuel_x'].round(2)*y2_scale, flux_decimal_digits),'*-', \n",
    "                 color='yellow', label=u1_flux_legend)\n",
    "        \n",
    "    if df2 is not None and 'diffFluxCoolant_x' in df2.columns:\n",
    "        if ax2 is None:\n",
    "            ax2 = ax1.twinx()\n",
    "            \n",
    "        ax2.plot(df2['x']*x_scale, np.round(df2['diffFluxCoolant_x'].round(2)*y2_scale, flux_decimal_digits),'*--', \n",
    "                 color='orange', label=u2_flux_legend)\n",
    "\n",
    "    if ax2 is not None:\n",
    "        ax2.set_ylabel(y2label, fontsize=16, color='white')\n",
    "        ax2.tick_params(axis='y', labelcolor='white', labelsize=14)\n",
    "        ax2.legend(loc='upper right', fontsize=12)\n",
    "        #ax2.set_ylim(0,2)\n",
    "        #ax2.grid(True)\n",
    "\n",
    "    plt.title(title, fontsize=20)\n",
    "    fig.tight_layout()  # otherwise the right y-label is slightly clipped\n",
    "    plt.show()\n",
    "    print('')"
   ]
  },
  {
   "cell_type": "code",
   "execution_count": 3,
   "metadata": {
    "ExecuteTime": {
     "end_time": "2021-12-18T12:36:05.604759Z",
     "start_time": "2021-12-18T12:36:05.601101Z"
    },
    "code_folding": []
   },
   "outputs": [],
   "source": [
    "'''Domain'''\n",
    "x_a = 0\n",
    "x_b = 100\n",
    "plate_thickness = 20"
   ]
  },
  {
   "cell_type": "code",
   "execution_count": 4,
   "metadata": {
    "ExecuteTime": {
     "end_time": "2021-12-18T12:36:05.609392Z",
     "start_time": "2021-12-18T12:36:05.606779Z"
    }
   },
   "outputs": [],
   "source": [
    "'''Parameters'''\n",
    "diff_coeff_fuel = 1.0\n",
    "diff_coeff_coolant = 1.0\n",
    "buckling = 2.0322e-2\n",
    "diff_length = 94.7"
   ]
  },
  {
   "cell_type": "code",
   "execution_count": 5,
   "metadata": {
    "ExecuteTime": {
     "end_time": "2021-12-18T12:36:05.613252Z",
     "start_time": "2021-12-18T12:36:05.610598Z"
    }
   },
   "outputs": [],
   "source": [
    "'''Data (boundary conditions for testing purposes)'''\n",
    "u_b = 0.0"
   ]
  },
  {
   "cell_type": "code",
   "execution_count": 6,
   "metadata": {
    "ExecuteTime": {
     "end_time": "2021-12-18T12:36:05.621136Z",
     "start_time": "2021-12-18T12:36:05.614808Z"
    }
   },
   "outputs": [],
   "source": [
    "'''FEM Solution'''\n",
    "n_felem_fuel = 3\n",
    "n_felem_coolant = 10\n",
    "\n",
    "order = 'second'\n",
    "flux_order = 'first'\n",
    "\n",
    "fdp_full = True\n",
    "n_plot_pts_fuel = 2*n_felem_fuel + 1\n",
    "n_plot_pts_coolant = 2*n_felem_coolant + 1"
   ]
  },
  {
   "cell_type": "code",
   "execution_count": 7,
   "metadata": {
    "ExecuteTime": {
     "end_time": "2021-12-18T12:36:05.655076Z",
     "start_time": "2021-12-18T12:36:05.622334Z"
    },
    "code_folding": []
   },
   "outputs": [],
   "source": [
    "def write_input_file(pjfnk=False):\n",
    "    import pyhit\n",
    "    import moosetree\n",
    "    root = pyhit.load('')\n",
    "    \n",
    "    prblm = root.insert(-1,'Problem')\n",
    "    prblm['type'] = 'FEProblem'\n",
    "    prblm['coord_type'] = 'XYZ'\n",
    "\n",
    "    mesh = root.insert(-1,'Mesh')\n",
    "    \n",
    "    omega1 = mesh.insert(-1,'omega1')\n",
    "    omega1['type'] = 'GeneratedMeshGenerator'\n",
    "    omega1['dim'] = 1\n",
    "    omega1['xmin'] = x_a\n",
    "    omega1['xmax'] = plate_thickness/2.0\n",
    "    omega1['nx'] = n_felem_fuel\n",
    "    if order == 'second':\n",
    "        omega1['elem_type'] = 'edge3'\n",
    "    \n",
    "    omega2 = mesh.insert(-1,'omega2')\n",
    "    omega2['type'] = 'GeneratedMeshGenerator'\n",
    "    omega2['dim'] = 1\n",
    "    omega2['xmin'] = plate_thickness/2.0\n",
    "    omega2['xmax'] = x_b\n",
    "    omega2['nx'] = n_felem_coolant\n",
    "    if order == 'second':\n",
    "        omega2['elem_type'] = 'edge3'\n",
    "\n",
    "    omega = mesh.insert(-1,'omega')\n",
    "    omega['type'] = 'StitchedMeshGenerator'\n",
    "    omega['inputs'] = \"'omega1 omega2'\"\n",
    "    omega['stitch_boundaries_pairs'] = \"'right left'\"\n",
    "    omega['clear_stitched_boundary_ids'] = 'true'\n",
    "    \n",
    "    mod1 = mesh.insert(-1,'mod1')\n",
    "    mod1['type'] = 'SubdomainBoundingBoxGenerator'\n",
    "    mod1['input'] = 'omega'\n",
    "    mod1['block_id'] = 1\n",
    "    mod1['block_name'] = 'omega_1'\n",
    "    mod1['bottom_left'] = str(x_a)+' 0 0'\n",
    "    mod1['top_right'] = str(plate_thickness/2.0)+' 1 0'\n",
    "    \n",
    "    mod2 = mesh.insert(-1,'mod2')\n",
    "    mod2['type'] = 'SubdomainBoundingBoxGenerator'\n",
    "    mod2['input'] = 'mod1'\n",
    "    mod2['block_id'] = 2\n",
    "    mod2['block_name'] = 'omega_2'\n",
    "    mod2['bottom_left'] = str(plate_thickness/2.0)+' 0 0'\n",
    "    mod2['top_right'] = str(x_b)+' 1 0'\n",
    "    \n",
    "    mod3 = mesh.insert(-1,'mod3')\n",
    "    mod3['type'] = 'SideSetsBetweenSubdomainsGenerator'\n",
    "    mod3['input'] = 'mod2'\n",
    "    mod3['primary_block'] = 'omega_1'\n",
    "    mod3['paired_block'] = 'omega_2' \n",
    "    mod3['new_boundary'] = 'interface_12'\n",
    "    \n",
    "    mod4 = mesh.insert(-1,'mod4')\n",
    "    mod4['type'] = 'SideSetsAroundSubdomainGenerator'\n",
    "    mod4['input'] = 'mod3'\n",
    "    mod4['block'] = 'omega_1'\n",
    "    mod4['normal'] = '-1 0 0'\n",
    "    mod4['new_boundary'] = 'left'\n",
    "    \n",
    "    mod5 = mesh.insert(-1,'mod5')\n",
    "    mod5['type'] = 'SideSetsAroundSubdomainGenerator'\n",
    "    mod5['input'] = 'mod4'\n",
    "    mod5['block'] = 'omega_2'\n",
    "    mod5['normal'] = '1 0 0'\n",
    "    mod5['new_boundary'] = 'right'\n",
    "\n",
    "    vars = root.insert(-1,'Variables')\n",
    "    \n",
    "    fuel = vars.insert(-1,'uFuel')\n",
    "    fuel['block'] = 'omega_1'\n",
    "    fuel['order'] = order\n",
    "    fuel['family'] = 'lagrange'\n",
    "    fuel['initial_condition'] = 1\n",
    "    \n",
    "    coolant = vars.insert(-1,'uCoolant')\n",
    "    coolant['block'] = 'omega_2'\n",
    "    coolant['order'] = order\n",
    "    coolant['family'] = 'lagrange'\n",
    "    coolant['initial_condition'] = 1\n",
    "    \n",
    "    aux_vars = root.insert(-1,'AuxVariables')\n",
    "    \n",
    "    diff_flux_fuel = aux_vars.insert(-1,'diffFluxFuel')\n",
    "    diff_flux_fuel['block'] = 'omega_1'\n",
    "    diff_flux_fuel['order'] = flux_order\n",
    "    diff_flux_fuel['family'] = 'monomial_vec'\n",
    "    \n",
    "    diff_flux_fuel_x = aux_vars.insert(-1,'diffFluxFuel_x')\n",
    "    diff_flux_fuel_x['block'] = 'omega_1'\n",
    "    diff_flux_fuel_x['order'] = flux_order\n",
    "    diff_flux_fuel_x['family'] = 'monomial'\n",
    "    \n",
    "    diff_flux_coolant = aux_vars.insert(-1,'diffFluxCoolant')\n",
    "    diff_flux_coolant['block'] = 'omega_2'\n",
    "    diff_flux_coolant['order'] = flux_order\n",
    "    diff_flux_coolant['family'] = 'monomial_vec'\n",
    "    \n",
    "    diff_flux_coolant_x = aux_vars.insert(-1,'diffFluxCoolant_x')\n",
    "    diff_flux_coolant_x['block'] = 'omega_2'\n",
    "    diff_flux_coolant_x['order'] = flux_order\n",
    "    diff_flux_coolant_x['family'] = 'monomial'\n",
    "\n",
    "    kernels = root.insert(-1,'Kernels')\n",
    "    \n",
    "    diff_fuel = kernels.insert(-1,'diffusion-fuel')\n",
    "    diff_fuel['type'] = 'DiffusionTerm'\n",
    "    diff_fuel['block'] = 'omega_1'\n",
    "    diff_fuel['variable'] = 'uFuel'\n",
    "    diff_fuel['diffCoeff'] = diff_coeff_fuel\n",
    "    \n",
    "    source_fuel = kernels.insert(-1,'source-fuel')\n",
    "    source_fuel['type'] = 'SourceTerm'\n",
    "    source_fuel['block'] = 'omega_1'\n",
    "    source_fuel['variable'] = 'uFuel'\n",
    "    source_fuel['sourceSlope'] = buckling**2\n",
    "    \n",
    "    diff_coolant = kernels.insert(-1,'diffusion-coolant')\n",
    "    diff_coolant['type'] = 'DiffusionTerm'\n",
    "    diff_coolant['block'] = 'omega_2'\n",
    "    diff_coolant['variable'] = 'uCoolant'\n",
    "    diff_coolant['diffCoeff'] = diff_coeff_coolant\n",
    "    \n",
    "    source_coolant = kernels.insert(-1,'source-coolant')\n",
    "    source_coolant['type'] = 'SourceTerm'\n",
    "    source_coolant['block'] = 'omega_2'\n",
    "    source_coolant['variable'] = 'uCoolant'\n",
    "    source_coolant['sourceSlope'] = - 1/diff_length**2    \n",
    "    \n",
    "    interf_kernels = root.insert(-1,'InterfaceKernels')\n",
    "    \n",
    "    n_flux = interf_kernels.insert(-1,'normal-flux-continuity')\n",
    "    n_flux['type'] = 'InterfaceNormalFluxContinuity'\n",
    "    n_flux['variable'] = 'uFuel'\n",
    "    n_flux['neighbor_var'] = 'uCoolant'\n",
    "    n_flux['boundary'] = 'interface_12'\n",
    "    n_flux['diffCoeff'] = diff_coeff_fuel\n",
    "    n_flux['diffCoeffNeighbor'] = diff_coeff_coolant\n",
    "    \n",
    "    t_jump = interf_kernels.insert(-1,'u-jump')\n",
    "    t_jump['type'] = 'InterfaceJump'\n",
    "    t_jump['variable'] = 'uFuel'\n",
    "    t_jump['neighbor_var'] = 'uCoolant'\n",
    "    t_jump['boundary'] = 'interface_12'\n",
    "    t_jump['transferCoeff'] = 1e+10\n",
    "    t_jump['adsorptionCoeff'] = 0.0\n",
    "    t_jump['diffCoeff'] = diff_coeff_fuel\n",
    "\n",
    "    aux_kernels = root.insert(-1,'AuxKernels')\n",
    "    \n",
    "    diff_flux_fuel = aux_kernels.insert(-1,'diffusion-flux-fuel')\n",
    "    diff_flux_fuel['type'] = 'DiffusionFlux'\n",
    "    diff_flux_fuel['block'] = 'omega_1'\n",
    "    diff_flux_fuel['field'] = 'uFuel'\n",
    "    diff_flux_fuel['diffCoeff'] = diff_coeff_fuel\n",
    "    diff_flux_fuel['variable'] = 'diffFluxFuel'\n",
    "    diff_flux_fuel['execute_on'] = 'timestep_end'\n",
    "    \n",
    "    diff_flux_fuel_x = aux_kernels.insert(-1,'diffusion-flux-fuel-x')\n",
    "    diff_flux_fuel_x['type'] = 'VectorVariableComponentAux'\n",
    "    diff_flux_fuel_x['block'] = 'omega_1'\n",
    "    diff_flux_fuel_x['vector_variable'] = 'diffFluxFuel'\n",
    "    diff_flux_fuel_x['component'] = 'x'\n",
    "    diff_flux_fuel_x['variable'] = 'diffFluxFuel_x'\n",
    "    diff_flux_fuel_x['execute_on'] = 'timestep_end'\n",
    "    \n",
    "    diff_flux_coolant = aux_kernels.insert(-1,'diffusion-flux-coolant')\n",
    "    diff_flux_coolant['type'] = 'DiffusionFlux'\n",
    "    diff_flux_coolant['block'] = 'omega_2'\n",
    "    diff_flux_coolant['field'] = 'uCoolant'\n",
    "    diff_flux_coolant['diffCoeff'] = diff_coeff_coolant\n",
    "    diff_flux_coolant['variable'] = 'diffFluxCoolant'\n",
    "    diff_flux_coolant['execute_on'] = 'timestep_end'\n",
    "    \n",
    "    diff_flux_coolant_x = aux_kernels.insert(-1,'diffusion-flux-coolant-x')\n",
    "    diff_flux_coolant_x['type'] = 'VectorVariableComponentAux'\n",
    "    diff_flux_coolant_x['block'] = 'omega_2'\n",
    "    diff_flux_coolant_x['vector_variable'] = 'diffFluxCoolant'\n",
    "    diff_flux_coolant_x['component'] = 'x'\n",
    "    diff_flux_coolant_x['variable'] = 'diffFluxCoolant_x'\n",
    "    diff_flux_coolant_x['execute_on'] = 'timestep_end'\n",
    "    \n",
    "    bcs = root.insert(-1,'BCs')\n",
    "    \n",
    "    cl = bcs.insert(-1,'center-line')\n",
    "    cl['type'] = 'NeumannBC'\n",
    "    cl['variable'] = 'uFuel'\n",
    "    cl['boundary'] = 'left'\n",
    "    cl['value'] = 0 \n",
    "    \n",
    "    xb = bcs.insert(-1,'x-b')\n",
    "    xb['type'] = 'DirichletBC'\n",
    "    xb['variable'] = 'uCoolant'\n",
    "    xb['boundary'] = 'right'\n",
    "    xb['value'] = 0\n",
    "    \n",
    "    if pjfnk:\n",
    "        exe = root.insert(-1,'Executioner')\n",
    "        exe['type'] = 'Steady'\n",
    "        exe['solve_type']  = 'PJFNK'\n",
    "        exe['petsc_options_iname']  = '-pc_type -pc_hypre_type'\n",
    "        exe['petsc_options_value']  = 'hypre boomeramg'\n",
    "        exe['l_max_its']  = 20\n",
    "        exe['l_tol']  = 1e-5\n",
    "        exe['nl_max_its']  = 15\n",
    "        exe['nl_rel_tol']  = 1e-8\n",
    "        exe['nl_abs_tol']  = 1e-8\n",
    "    elif fdp_full:\n",
    "        pre = root.insert(-1, 'Preconditioning')\n",
    "        pre['active'] = 'fdp-newt-full'\n",
    "        \n",
    "        fdp = pre.insert(-1, 'fdp-newt-full')\n",
    "        fdp['type'] = 'FDP'\n",
    "        fdp['full'] = 'true'\n",
    "        fdp['solve_type'] = 'NEWTON'\n",
    "        fdp['petsc_options_iname'] = \"\"'-pc_type -mat_fd_coloring_err -mat_fd_type'\"\"\n",
    "        fdp['petsc_options_value'] = \"\"'lu  1e-8          ds'\"\"\n",
    "        \n",
    "        exe = root.insert(-1,'Executioner')\n",
    "        exe['type'] = 'Steady'\n",
    "\n",
    "    vp = root.insert(-1,'VectorPostprocessors')\n",
    "    \n",
    "    omega_1 = vp.insert(-1,'omega_1')\n",
    "    omega_1['type'] = 'LineValueSampler'\n",
    "    omega_1['execute_on'] = 'timestep_end final'\n",
    "    omega_1['variable'] = 'uFuel diffFluxFuel_x'  \n",
    "    omega_1['start_point'] = str(x_a)+' 0 0'\n",
    "    omega_1['end_point'] = str(plate_thickness/2.0*0.995)+' 0 0'\n",
    "    omega_1['num_points'] = n_plot_pts_fuel\n",
    "    omega_1['sort_by'] = 'id'\n",
    "    \n",
    "    omega_2 = vp.insert(-1,'omega_2')\n",
    "    omega_2['type'] = 'LineValueSampler'\n",
    "    omega_2['execute_on'] = 'timestep_end final'\n",
    "    omega_2['variable'] = 'uCoolant diffFluxCoolant_x'  \n",
    "    omega_2['start_point'] = str(plate_thickness/2.0*1.005)+' 0 0'\n",
    "    omega_2['end_point'] = str(x_b)+' 0 0'\n",
    "    omega_2['num_points'] = n_plot_pts_coolant\n",
    "    omega_2['sort_by'] = 'id'  \n",
    "\n",
    "    out = root.insert(-1,'Outputs')\n",
    "    out['console'] = 'true'\n",
    "    csv = out.insert(-1,'csv')\n",
    "    csv['type'] = 'CSV'\n",
    "    csv['file_base'] = 'output'\n",
    "    csv['execute_on'] = 'final'\n",
    "    \n",
    "    debug = root.insert(-1,'Debug')\n",
    "    debug['show_var_residual_norms'] = 'true'\n",
    "\n",
    "    pyhit.write('input.hit', root)"
   ]
  },
  {
   "cell_type": "markdown",
   "metadata": {},
   "source": [
    "#### [Test 1](#toc)<a id=\"1dsolofueldirichlet\"></a>\n"
   ]
  },
  {
   "cell_type": "code",
   "execution_count": 8,
   "metadata": {
    "ExecuteTime": {
     "end_time": "2021-12-18T12:36:06.075384Z",
     "start_time": "2021-12-18T12:36:05.656524Z"
    },
    "code_folding": []
   },
   "outputs": [
    {
     "name": "stdout",
     "output_type": "stream",
     "text": [
      "[Problem]\r\n",
      "  type = FEProblem\r\n",
      "  coord_type = XYZ\r\n",
      "[]\r\n",
      "[Mesh]\r\n",
      "  [omega1]\r\n",
      "    type = GeneratedMeshGenerator\r\n",
      "    dim = 1\r\n",
      "    xmin = 0\r\n",
      "    xmax = 10.0\r\n",
      "    nx = 3\r\n",
      "    elem_type = edge3\r\n",
      "  []\r\n",
      "  [omega2]\r\n",
      "    type = GeneratedMeshGenerator\r\n",
      "    dim = 1\r\n",
      "    xmin = 10.0\r\n",
      "    xmax = 100\r\n",
      "    nx = 10\r\n",
      "    elem_type = edge3\r\n",
      "  []\r\n",
      "  [omega]\r\n",
      "    type = StitchedMeshGenerator\r\n",
      "    inputs = 'omega1 omega2'\r\n",
      "    stitch_boundaries_pairs = 'right left'\r\n",
      "    clear_stitched_boundary_ids = true\r\n",
      "  []\r\n",
      "  [mod1]\r\n",
      "    type = SubdomainBoundingBoxGenerator\r\n",
      "    input = omega\r\n",
      "    block_id = 1\r\n",
      "    block_name = omega_1\r\n",
      "    bottom_left = '0 0 0'\r\n",
      "    top_right = '10.0 1 0'\r\n",
      "  []\r\n",
      "  [mod2]\r\n",
      "    type = SubdomainBoundingBoxGenerator\r\n",
      "    input = mod1\r\n",
      "    block_id = 2\r\n",
      "    block_name = omega_2\r\n",
      "    bottom_left = '10.0 0 0'\r\n",
      "    top_right = '100 1 0'\r\n",
      "  []\r\n",
      "  [mod3]\r\n",
      "    type = SideSetsBetweenSubdomainsGenerator\r\n",
      "    input = mod2\r\n",
      "    primary_block = omega_1\r\n",
      "    paired_block = omega_2\r\n",
      "    new_boundary = interface_12\r\n",
      "  []\r\n",
      "  [mod4]\r\n",
      "    type = SideSetsAroundSubdomainGenerator\r\n",
      "    input = mod3\r\n",
      "    block = omega_1\r\n",
      "    normal = '-1 0 0'\r\n",
      "    new_boundary = left\r\n",
      "  []\r\n",
      "  [mod5]\r\n",
      "    type = SideSetsAroundSubdomainGenerator\r\n",
      "    input = mod4\r\n",
      "    block = omega_2\r\n",
      "    normal = '1 0 0'\r\n",
      "    new_boundary = right\r\n",
      "  []\r\n",
      "[]\r\n",
      "[Variables]\r\n",
      "  [uFuel]\r\n",
      "    block = omega_1\r\n",
      "    order = second\r\n",
      "    family = lagrange\r\n",
      "    initial_condition = 1\r\n",
      "  []\r\n",
      "  [uCoolant]\r\n",
      "    block = omega_2\r\n",
      "    order = second\r\n",
      "    family = lagrange\r\n",
      "    initial_condition = 1\r\n",
      "  []\r\n",
      "[]\r\n",
      "[AuxVariables]\r\n",
      "  [diffFluxFuel]\r\n",
      "    block = omega_1\r\n",
      "    order = first\r\n",
      "    family = monomial_vec\r\n",
      "  []\r\n",
      "  [diffFluxFuel_x]\r\n",
      "    block = omega_1\r\n",
      "    order = first\r\n",
      "    family = monomial\r\n",
      "  []\r\n",
      "  [diffFluxCoolant]\r\n",
      "    block = omega_2\r\n",
      "    order = first\r\n",
      "    family = monomial_vec\r\n",
      "  []\r\n",
      "  [diffFluxCoolant_x]\r\n",
      "    block = omega_2\r\n",
      "    order = first\r\n",
      "    family = monomial\r\n",
      "  []\r\n",
      "[]\r\n",
      "[Kernels]\r\n",
      "  [diffusion-fuel]\r\n",
      "    type = DiffusionTerm\r\n",
      "    block = omega_1\r\n",
      "    variable = uFuel\r\n",
      "    diffCoeff = 1.0\r\n",
      "  []\r\n",
      "  [source-fuel]\r\n",
      "    type = SourceTerm\r\n",
      "    block = omega_1\r\n",
      "    variable = uFuel\r\n",
      "    sourceSlope = 0.000412983684\r\n",
      "  []\r\n",
      "  [diffusion-coolant]\r\n",
      "    type = DiffusionTerm\r\n",
      "    block = omega_2\r\n",
      "    variable = uCoolant\r\n",
      "    diffCoeff = 1.0\r\n",
      "  []\r\n",
      "  [source-coolant]\r\n",
      "    type = SourceTerm\r\n",
      "    block = omega_2\r\n",
      "    variable = uCoolant\r\n",
      "    sourceSlope = -0.00011150646347215516\r\n",
      "  []\r\n",
      "[]\r\n",
      "[InterfaceKernels]\r\n",
      "  [normal-flux-continuity]\r\n",
      "    type = InterfaceNormalFluxContinuity\r\n",
      "    variable = uFuel\r\n",
      "    neighbor_var = uCoolant\r\n",
      "    boundary = interface_12\r\n",
      "    diffCoeff = 1.0\r\n",
      "    diffCoeffNeighbor = 1.0\r\n",
      "  []\r\n",
      "  [u-jump]\r\n",
      "    type = InterfaceJump\r\n",
      "    variable = uFuel\r\n",
      "    neighbor_var = uCoolant\r\n",
      "    boundary = interface_12\r\n",
      "    transferCoeff = 10000000000.0\r\n",
      "    adsorptionCoeff = 0.0\r\n",
      "    diffCoeff = 1.0\r\n",
      "  []\r\n",
      "[]\r\n",
      "[AuxKernels]\r\n",
      "  [diffusion-flux-fuel]\r\n",
      "    type = DiffusionFlux\r\n",
      "    block = omega_1\r\n",
      "    field = uFuel\r\n",
      "    diffCoeff = 1.0\r\n",
      "    variable = diffFluxFuel\r\n",
      "    execute_on = timestep_end\r\n",
      "  []\r\n",
      "  [diffusion-flux-fuel-x]\r\n",
      "    type = VectorVariableComponentAux\r\n",
      "    block = omega_1\r\n",
      "    vector_variable = diffFluxFuel\r\n",
      "    component = x\r\n",
      "    variable = diffFluxFuel_x\r\n",
      "    execute_on = timestep_end\r\n",
      "  []\r\n",
      "  [diffusion-flux-coolant]\r\n",
      "    type = DiffusionFlux\r\n",
      "    block = omega_2\r\n",
      "    field = uCoolant\r\n",
      "    diffCoeff = 1.0\r\n",
      "    variable = diffFluxCoolant\r\n",
      "    execute_on = timestep_end\r\n",
      "  []\r\n",
      "  [diffusion-flux-coolant-x]\r\n",
      "    type = VectorVariableComponentAux\r\n",
      "    block = omega_2\r\n",
      "    vector_variable = diffFluxCoolant\r\n",
      "    component = x\r\n",
      "    variable = diffFluxCoolant_x\r\n",
      "    execute_on = timestep_end\r\n",
      "  []\r\n",
      "[]\r\n",
      "[BCs]\r\n",
      "  [center-line]\r\n",
      "    type = NeumannBC\r\n",
      "    variable = uFuel\r\n",
      "    boundary = left\r\n",
      "    value = 0\r\n",
      "  []\r\n",
      "  [x-b]\r\n",
      "    type = DirichletBC\r\n",
      "    variable = uCoolant\r\n",
      "    boundary = right\r\n",
      "    value = 0\r\n",
      "  []\r\n",
      "[]\r\n",
      "[Preconditioning]\r\n",
      "  active = fdp-newt-full\r\n",
      "  [fdp-newt-full]\r\n",
      "    type = FDP\r\n",
      "    full = true\r\n",
      "    solve_type = NEWTON\r\n",
      "    petsc_options_iname = '-pc_type -mat_fd_coloring_err -mat_fd_type'\r\n",
      "    petsc_options_value = 'lu  1e-8          ds'\r\n",
      "  []\r\n",
      "[]\r\n",
      "[Executioner]\r\n",
      "  type = Steady\r\n",
      "[]\r\n",
      "[VectorPostprocessors]\r\n",
      "  [omega_1]\r\n",
      "    type = LineValueSampler\r\n",
      "    execute_on = 'timestep_end final'\r\n",
      "    variable = 'uFuel diffFluxFuel_x'\r\n",
      "    start_point = '0 0 0'\r\n",
      "    end_point = '9.95 0 0'\r\n",
      "    num_points = 7\r\n",
      "    sort_by = id\r\n",
      "  []\r\n",
      "  [omega_2]\r\n",
      "    type = LineValueSampler\r\n",
      "    execute_on = 'timestep_end final'\r\n",
      "    variable = 'uCoolant diffFluxCoolant_x'\r\n",
      "    start_point = '10.049999999999999 0 0'\r\n",
      "    end_point = '100 0 0'\r\n",
      "    num_points = 21\r\n",
      "    sort_by = id\r\n",
      "  []\r\n",
      "[]\r\n",
      "[Outputs]\r\n",
      "  console = true\r\n",
      "  [csv]\r\n",
      "    type = CSV\r\n",
      "    file_base = output\r\n",
      "    execute_on = final\r\n",
      "  []\r\n",
      "[]\r\n",
      "[Debug]\r\n",
      "  show_var_residual_norms = true\r\n",
      "[]\r\n"
     ]
    }
   ],
   "source": [
    "'''Input file'''\n",
    "write_input_file()\n",
    "!cat input.hit"
   ]
  },
  {
   "cell_type": "code",
   "execution_count": 9,
   "metadata": {
    "ExecuteTime": {
     "end_time": "2021-12-18T12:36:06.192999Z",
     "start_time": "2021-12-18T12:36:06.078176Z"
    }
   },
   "outputs": [],
   "source": [
    "'''Delete any previous *.csv files'''\n",
    "!rm output_omega_*.csv"
   ]
  },
  {
   "cell_type": "code",
   "execution_count": 10,
   "metadata": {
    "ExecuteTime": {
     "end_time": "2021-12-18T12:36:06.536791Z",
     "start_time": "2021-12-18T12:36:06.195863Z"
    },
    "scrolled": true
   },
   "outputs": [
    {
     "name": "stdout",
     "output_type": "stream",
     "text": [
      "\n",
      "In ReplicatedMesh::stitch_meshes:\n",
      "This mesh has 1 nodes on boundary 1.\n",
      "Other mesh has 1 nodes on boundary 0.\n",
      "Minimum edge length on both surfaces is 3.33333.\n",
      "In ReplicatedMesh::stitch_meshes:\n",
      "Found 1 matching nodes.\n",
      "\n",
      "Framework Information:\n",
      "MOOSE Version:           git commit 38d37b938c on 2021-10-22\n",
      "LibMesh Version:         aebb5a5c0e1f6d8cf523a720e19f70a6d17c0236\n",
      "PETSc Version:           3.16.0\n",
      "SLEPc Version:           3.16.0\n",
      "Current Time:            Sat Dec 18 07:36:06 2021\n",
      "Executable Timestamp:    Sat Dec 18 07:20:30 2021\n",
      "\n",
      "Parallelism:\n",
      "  Num Processors:          1\n",
      "  Num Threads:             1\n",
      "\n",
      "Mesh: \n",
      "  Parallel Type:           replicated\n",
      "  Mesh Dimension:          1\n",
      "  Spatial Dimension:       1\n",
      "  Nodes:                   27\n",
      "  Elems:                   13\n",
      "  Num Subdomains:          2\n",
      "\n",
      "Nonlinear System:\n",
      "  Num DOFs:                28\n",
      "  Num Local DOFs:          28\n",
      "  Variables:               \"uFuel\" \"uCoolant\" \n",
      "  Finite Element Types:    \"LAGRANGE\" \"LAGRANGE\" \n",
      "  Approximation Orders:    \"SECOND\" \"SECOND\" \n",
      "\n",
      "Auxiliary System:\n",
      "  Num DOFs:                52\n",
      "  Num Local DOFs:          52\n",
      "  Variables:               \"diffFluxFuel\" \"diffFluxFuel_x\" \"diffFluxCoolant\" \"diffFluxCoolant_x\" \n",
      "  Finite Element Types:    \"MONOMIAL_VEC\" \"MONOMIAL\" \"MONOMIAL_VEC\" \"MONOMIAL\" \n",
      "  Approximation Orders:    \"FIRST\" \"FIRST\" \"FIRST\" \"FIRST\" \n",
      "\n",
      "Execution Information:\n",
      "  Executioner:             Steady\n",
      "  Solver Mode:             NEWTON\n",
      "  PETSc Preconditioner:    lu \n",
      "  MOOSE Preconditioner:    FDP\n",
      "\n",
      " 0 Nonlinear |R| = \u001b[32m2.991677e-01\u001b[39m\n",
      "    |residual|_2 of individual variables:\n",
      "                   uFuel:    0.00174733\n",
      "                   uCoolant: 0.299163\n",
      "      0 Linear |R| = \u001b[32m2.991677e-01\u001b[39m\n",
      "      1 Linear |R| = \u001b[32m5.643942e-16\u001b[39m\n",
      " 1 Nonlinear |R| = \u001b[32m3.767104e-08\u001b[39m\n",
      "    |residual|_2 of individual variables:\n",
      "                   uFuel:    3.57284e-08\n",
      "                   uCoolant: 1.1941e-08\n",
      "      0 Linear |R| = \u001b[32m3.767104e-08\u001b[39m\n",
      "      1 Linear |R| = \u001b[32m1.043832e-23\u001b[39m\n",
      " 2 Nonlinear |R| = \u001b[32m1.400330e-17\u001b[39m\n",
      "    |residual|_2 of individual variables:\n",
      "                   uFuel:    1.36199e-17\n",
      "                   uCoolant: 3.25434e-18\n",
      "\u001b[32m Solve Converged!\u001b[39m\n"
     ]
    }
   ],
   "source": [
    "'''Run MOOSE App'''\n",
    "!./fuel_plate-opt -i input.hit"
   ]
  },
  {
   "cell_type": "code",
   "execution_count": 24,
   "metadata": {
    "ExecuteTime": {
     "end_time": "2021-12-18T12:37:15.978273Z",
     "start_time": "2021-12-18T12:37:15.648676Z"
    },
    "code_folding": []
   },
   "outputs": [
    {
     "data": {
      "image/png": "[encoded data removed]",
      "text/plain": [
       "<Figure size 1080x432 with 2 Axes>"
      ]
     },
     "metadata": {},
     "output_type": "display_data"
    },
    {
     "name": "stdout",
     "output_type": "stream",
     "text": [
      "\n"
     ]
    }
   ],
   "source": [
    "'''Show FEM Solution'''\n",
    "\n",
    "import pandas as pd\n",
    "df1 = pd.read_csv('output_omega_1_0002.csv')\n",
    "df2 = pd.read_csv('output_omega_2_0002.csv')\n",
    "    \n",
    "plot_solution(df1=df1, df2=df2, title='Coupled Temperature Profile',\n",
    "              u1_legend=r'$u_f$ Lagrange Quadratic',\n",
    "              u1_flux_legend=r'$q_{f,x}$ Monomial Linear',\n",
    "              u2_legend=r'$u_c$ Lagrange Quadratic',\n",
    "              u2_flux_legend=r'$q_{c,x}$ Monomial Linear',\n",
    "              x_scale=1,\n",
    "              xlabel='x [?]', y1label=r'$u$ [?]', \n",
    "              y2_scale=1, y2label=r'$q_h$ [?/m^2]')"
   ]
  },
  {
   "cell_type": "code",
   "execution_count": 12,
   "metadata": {
    "ExecuteTime": {
     "end_time": "2021-12-18T12:36:07.680135Z",
     "start_time": "2021-12-18T12:36:07.664924Z"
    }
   },
   "outputs": [
    {
     "data": {
      "text/html": [
       "<div>\n",
       "<style scoped>\n",
       "    .dataframe tbody tr th:only-of-type {\n",
       "        vertical-align: middle;\n",
       "    }\n",
       "\n",
       "    .dataframe tbody tr th {\n",
       "        vertical-align: top;\n",
       "    }\n",
       "\n",
       "    .dataframe thead th {\n",
       "        text-align: right;\n",
       "    }\n",
       "</style>\n",
       "<table border=\"1\" class=\"dataframe\">\n",
       "  <thead>\n",
       "    <tr style=\"text-align: right;\">\n",
       "      <th></th>\n",
       "      <th>diffFluxFuel_x</th>\n",
       "      <th>id</th>\n",
       "      <th>uFuel</th>\n",
       "      <th>x</th>\n",
       "      <th>y</th>\n",
       "      <th>z</th>\n",
       "    </tr>\n",
       "  </thead>\n",
       "  <tbody>\n",
       "    <tr>\n",
       "      <th>0</th>\n",
       "      <td>3.446699e-18</td>\n",
       "      <td>0.000000</td>\n",
       "      <td>-1.226482e-15</td>\n",
       "      <td>0.000000</td>\n",
       "      <td>0</td>\n",
       "      <td>0</td>\n",
       "    </tr>\n",
       "    <tr>\n",
       "      <th>1</th>\n",
       "      <td>-3.400384e-18</td>\n",
       "      <td>1.658333</td>\n",
       "      <td>-1.226521e-15</td>\n",
       "      <td>1.658333</td>\n",
       "      <td>0</td>\n",
       "      <td>0</td>\n",
       "    </tr>\n",
       "    <tr>\n",
       "      <th>2</th>\n",
       "      <td>-1.024747e-17</td>\n",
       "      <td>3.316667</td>\n",
       "      <td>-1.215204e-15</td>\n",
       "      <td>3.316667</td>\n",
       "      <td>0</td>\n",
       "      <td>0</td>\n",
       "    </tr>\n",
       "    <tr>\n",
       "      <th>3</th>\n",
       "      <td>-4.814464e-18</td>\n",
       "      <td>4.975000</td>\n",
       "      <td>-1.209235e-15</td>\n",
       "      <td>4.975000</td>\n",
       "      <td>0</td>\n",
       "      <td>0</td>\n",
       "    </tr>\n",
       "    <tr>\n",
       "      <th>4</th>\n",
       "      <td>-7.405709e-18</td>\n",
       "      <td>6.633333</td>\n",
       "      <td>-1.199102e-15</td>\n",
       "      <td>6.633333</td>\n",
       "      <td>0</td>\n",
       "      <td>0</td>\n",
       "    </tr>\n",
       "    <tr>\n",
       "      <th>5</th>\n",
       "      <td>-1.511092e-17</td>\n",
       "      <td>8.291667</td>\n",
       "      <td>-1.173512e-15</td>\n",
       "      <td>8.291667</td>\n",
       "      <td>0</td>\n",
       "      <td>0</td>\n",
       "    </tr>\n",
       "    <tr>\n",
       "      <th>6</th>\n",
       "      <td>-1.412275e-17</td>\n",
       "      <td>9.950000</td>\n",
       "      <td>-1.149273e-15</td>\n",
       "      <td>9.950000</td>\n",
       "      <td>0</td>\n",
       "      <td>0</td>\n",
       "    </tr>\n",
       "  </tbody>\n",
       "</table>\n",
       "</div>"
      ],
      "text/plain": [
       "   diffFluxFuel_x        id         uFuel         x  y  z\n",
       "0    3.446699e-18  0.000000 -1.226482e-15  0.000000  0  0\n",
       "1   -3.400384e-18  1.658333 -1.226521e-15  1.658333  0  0\n",
       "2   -1.024747e-17  3.316667 -1.215204e-15  3.316667  0  0\n",
       "3   -4.814464e-18  4.975000 -1.209235e-15  4.975000  0  0\n",
       "4   -7.405709e-18  6.633333 -1.199102e-15  6.633333  0  0\n",
       "5   -1.511092e-17  8.291667 -1.173512e-15  8.291667  0  0\n",
       "6   -1.412275e-17  9.950000 -1.149273e-15  9.950000  0  0"
      ]
     },
     "execution_count": 12,
     "metadata": {},
     "output_type": "execute_result"
    }
   ],
   "source": [
    "df1"
   ]
  },
  {
   "cell_type": "code",
   "execution_count": 13,
   "metadata": {
    "ExecuteTime": {
     "end_time": "2021-12-18T12:36:07.697810Z",
     "start_time": "2021-12-18T12:36:07.681394Z"
    }
   },
   "outputs": [
    {
     "data": {
      "text/html": [
       "<div>\n",
       "<style scoped>\n",
       "    .dataframe tbody tr th:only-of-type {\n",
       "        vertical-align: middle;\n",
       "    }\n",
       "\n",
       "    .dataframe tbody tr th {\n",
       "        vertical-align: top;\n",
       "    }\n",
       "\n",
       "    .dataframe thead th {\n",
       "        text-align: right;\n",
       "    }\n",
       "</style>\n",
       "<table border=\"1\" class=\"dataframe\">\n",
       "  <thead>\n",
       "    <tr style=\"text-align: right;\">\n",
       "      <th></th>\n",
       "      <th>diffFluxCoolant_x</th>\n",
       "      <th>id</th>\n",
       "      <th>uCoolant</th>\n",
       "      <th>x</th>\n",
       "      <th>y</th>\n",
       "      <th>z</th>\n",
       "    </tr>\n",
       "  </thead>\n",
       "  <tbody>\n",
       "    <tr>\n",
       "      <th>0</th>\n",
       "      <td>-1.486109e-17</td>\n",
       "      <td>0.0000</td>\n",
       "      <td>-1.146170e-15</td>\n",
       "      <td>10.0500</td>\n",
       "      <td>0</td>\n",
       "      <td>0</td>\n",
       "    </tr>\n",
       "    <tr>\n",
       "      <th>1</th>\n",
       "      <td>-1.514815e-17</td>\n",
       "      <td>4.4975</td>\n",
       "      <td>-1.078687e-15</td>\n",
       "      <td>14.5475</td>\n",
       "      <td>0</td>\n",
       "      <td>0</td>\n",
       "    </tr>\n",
       "    <tr>\n",
       "      <th>2</th>\n",
       "      <td>-1.431235e-17</td>\n",
       "      <td>8.9950</td>\n",
       "      <td>-1.009963e-15</td>\n",
       "      <td>19.0450</td>\n",
       "      <td>0</td>\n",
       "      <td>0</td>\n",
       "    </tr>\n",
       "    <tr>\n",
       "      <th>3</th>\n",
       "      <td>-1.396459e-17</td>\n",
       "      <td>13.4925</td>\n",
       "      <td>-9.463751e-16</td>\n",
       "      <td>23.5425</td>\n",
       "      <td>0</td>\n",
       "      <td>0</td>\n",
       "    </tr>\n",
       "    <tr>\n",
       "      <th>4</th>\n",
       "      <td>-1.361481e-17</td>\n",
       "      <td>17.9900</td>\n",
       "      <td>-8.843515e-16</td>\n",
       "      <td>28.0400</td>\n",
       "      <td>0</td>\n",
       "      <td>0</td>\n",
       "    </tr>\n",
       "    <tr>\n",
       "      <th>5</th>\n",
       "      <td>-1.339514e-17</td>\n",
       "      <td>22.4875</td>\n",
       "      <td>-8.236129e-16</td>\n",
       "      <td>32.5375</td>\n",
       "      <td>0</td>\n",
       "      <td>0</td>\n",
       "    </tr>\n",
       "    <tr>\n",
       "      <th>6</th>\n",
       "      <td>-1.293519e-17</td>\n",
       "      <td>26.9850</td>\n",
       "      <td>-7.638706e-16</td>\n",
       "      <td>37.0350</td>\n",
       "      <td>0</td>\n",
       "      <td>0</td>\n",
       "    </tr>\n",
       "    <tr>\n",
       "      <th>7</th>\n",
       "      <td>-1.259388e-17</td>\n",
       "      <td>31.4825</td>\n",
       "      <td>-7.064621e-16</td>\n",
       "      <td>41.5325</td>\n",
       "      <td>0</td>\n",
       "      <td>0</td>\n",
       "    </tr>\n",
       "    <tr>\n",
       "      <th>8</th>\n",
       "      <td>-1.212830e-17</td>\n",
       "      <td>35.9800</td>\n",
       "      <td>-6.505924e-16</td>\n",
       "      <td>46.0300</td>\n",
       "      <td>0</td>\n",
       "      <td>0</td>\n",
       "    </tr>\n",
       "    <tr>\n",
       "      <th>9</th>\n",
       "      <td>-1.183327e-17</td>\n",
       "      <td>40.4775</td>\n",
       "      <td>-5.967088e-16</td>\n",
       "      <td>50.5275</td>\n",
       "      <td>0</td>\n",
       "      <td>0</td>\n",
       "    </tr>\n",
       "    <tr>\n",
       "      <th>10</th>\n",
       "      <td>-1.087469e-17</td>\n",
       "      <td>44.9750</td>\n",
       "      <td>-5.441688e-16</td>\n",
       "      <td>55.0250</td>\n",
       "      <td>0</td>\n",
       "      <td>0</td>\n",
       "    </tr>\n",
       "    <tr>\n",
       "      <th>11</th>\n",
       "      <td>-1.064505e-17</td>\n",
       "      <td>49.4725</td>\n",
       "      <td>-4.957763e-16</td>\n",
       "      <td>59.5225</td>\n",
       "      <td>0</td>\n",
       "      <td>0</td>\n",
       "    </tr>\n",
       "    <tr>\n",
       "      <th>12</th>\n",
       "      <td>-1.304743e-17</td>\n",
       "      <td>53.9700</td>\n",
       "      <td>-4.483639e-16</td>\n",
       "      <td>64.0200</td>\n",
       "      <td>0</td>\n",
       "      <td>0</td>\n",
       "    </tr>\n",
       "    <tr>\n",
       "      <th>13</th>\n",
       "      <td>-1.286338e-17</td>\n",
       "      <td>58.4675</td>\n",
       "      <td>-3.900970e-16</td>\n",
       "      <td>68.5175</td>\n",
       "      <td>0</td>\n",
       "      <td>0</td>\n",
       "    </tr>\n",
       "    <tr>\n",
       "      <th>14</th>\n",
       "      <td>-1.265260e-17</td>\n",
       "      <td>62.9650</td>\n",
       "      <td>-3.326582e-16</td>\n",
       "      <td>73.0150</td>\n",
       "      <td>0</td>\n",
       "      <td>0</td>\n",
       "    </tr>\n",
       "    <tr>\n",
       "      <th>15</th>\n",
       "      <td>-1.251907e-17</td>\n",
       "      <td>67.4625</td>\n",
       "      <td>-2.760534e-16</td>\n",
       "      <td>77.5125</td>\n",
       "      <td>0</td>\n",
       "      <td>0</td>\n",
       "    </tr>\n",
       "    <tr>\n",
       "      <th>16</th>\n",
       "      <td>-1.243329e-17</td>\n",
       "      <td>71.9600</td>\n",
       "      <td>-2.200487e-16</td>\n",
       "      <td>82.0100</td>\n",
       "      <td>0</td>\n",
       "      <td>0</td>\n",
       "    </tr>\n",
       "    <tr>\n",
       "      <th>17</th>\n",
       "      <td>-1.232570e-17</td>\n",
       "      <td>76.4575</td>\n",
       "      <td>-1.643719e-16</td>\n",
       "      <td>86.5075</td>\n",
       "      <td>0</td>\n",
       "      <td>0</td>\n",
       "    </tr>\n",
       "    <tr>\n",
       "      <th>18</th>\n",
       "      <td>-1.277899e-17</td>\n",
       "      <td>80.9550</td>\n",
       "      <td>-1.091762e-16</td>\n",
       "      <td>91.0050</td>\n",
       "      <td>0</td>\n",
       "      <td>0</td>\n",
       "    </tr>\n",
       "    <tr>\n",
       "      <th>19</th>\n",
       "      <td>-1.213744e-17</td>\n",
       "      <td>85.4525</td>\n",
       "      <td>-5.314542e-17</td>\n",
       "      <td>95.5025</td>\n",
       "      <td>0</td>\n",
       "      <td>0</td>\n",
       "    </tr>\n",
       "    <tr>\n",
       "      <th>20</th>\n",
       "      <td>-1.149588e-17</td>\n",
       "      <td>89.9500</td>\n",
       "      <td>0.000000e+00</td>\n",
       "      <td>100.0000</td>\n",
       "      <td>0</td>\n",
       "      <td>0</td>\n",
       "    </tr>\n",
       "  </tbody>\n",
       "</table>\n",
       "</div>"
      ],
      "text/plain": [
       "    diffFluxCoolant_x       id      uCoolant         x  y  z\n",
       "0       -1.486109e-17   0.0000 -1.146170e-15   10.0500  0  0\n",
       "1       -1.514815e-17   4.4975 -1.078687e-15   14.5475  0  0\n",
       "2       -1.431235e-17   8.9950 -1.009963e-15   19.0450  0  0\n",
       "3       -1.396459e-17  13.4925 -9.463751e-16   23.5425  0  0\n",
       "4       -1.361481e-17  17.9900 -8.843515e-16   28.0400  0  0\n",
       "5       -1.339514e-17  22.4875 -8.236129e-16   32.5375  0  0\n",
       "6       -1.293519e-17  26.9850 -7.638706e-16   37.0350  0  0\n",
       "7       -1.259388e-17  31.4825 -7.064621e-16   41.5325  0  0\n",
       "8       -1.212830e-17  35.9800 -6.505924e-16   46.0300  0  0\n",
       "9       -1.183327e-17  40.4775 -5.967088e-16   50.5275  0  0\n",
       "10      -1.087469e-17  44.9750 -5.441688e-16   55.0250  0  0\n",
       "11      -1.064505e-17  49.4725 -4.957763e-16   59.5225  0  0\n",
       "12      -1.304743e-17  53.9700 -4.483639e-16   64.0200  0  0\n",
       "13      -1.286338e-17  58.4675 -3.900970e-16   68.5175  0  0\n",
       "14      -1.265260e-17  62.9650 -3.326582e-16   73.0150  0  0\n",
       "15      -1.251907e-17  67.4625 -2.760534e-16   77.5125  0  0\n",
       "16      -1.243329e-17  71.9600 -2.200487e-16   82.0100  0  0\n",
       "17      -1.232570e-17  76.4575 -1.643719e-16   86.5075  0  0\n",
       "18      -1.277899e-17  80.9550 -1.091762e-16   91.0050  0  0\n",
       "19      -1.213744e-17  85.4525 -5.314542e-17   95.5025  0  0\n",
       "20      -1.149588e-17  89.9500  0.000000e+00  100.0000  0  0"
      ]
     },
     "execution_count": 13,
     "metadata": {},
     "output_type": "execute_result"
    }
   ],
   "source": [
    "df2"
   ]
  },
  {
   "cell_type": "markdown",
   "metadata": {},
   "source": [
    "#### [Test 2](#toc)<a id=\"1dsolofueldirichletrobin\"></a>"
   ]
  },
  {
   "cell_type": "code",
   "execution_count": 14,
   "metadata": {
    "ExecuteTime": {
     "end_time": "2021-12-18T12:36:07.702965Z",
     "start_time": "2021-12-18T12:36:07.699410Z"
    }
   },
   "outputs": [
    {
     "data": {
      "text/plain": [
       "'Parameters'"
      ]
     },
     "execution_count": 14,
     "metadata": {},
     "output_type": "execute_result"
    }
   ],
   "source": [
    "'''Parameters'''"
   ]
  },
  {
   "cell_type": "code",
   "execution_count": 15,
   "metadata": {
    "ExecuteTime": {
     "end_time": "2021-12-18T12:36:07.709172Z",
     "start_time": "2021-12-18T12:36:07.704668Z"
    },
    "scrolled": true
   },
   "outputs": [
    {
     "data": {
      "text/plain": [
       "'Input file mod'"
      ]
     },
     "execution_count": 15,
     "metadata": {},
     "output_type": "execute_result"
    }
   ],
   "source": [
    "'''Input file mod'''"
   ]
  },
  {
   "cell_type": "code",
   "execution_count": 16,
   "metadata": {
    "ExecuteTime": {
     "end_time": "2021-12-18T12:36:07.716671Z",
     "start_time": "2021-12-18T12:36:07.711060Z"
    },
    "scrolled": true
   },
   "outputs": [
    {
     "data": {
      "text/plain": [
       "'Run MOOSE App'"
      ]
     },
     "execution_count": 16,
     "metadata": {},
     "output_type": "execute_result"
    }
   ],
   "source": [
    "'''Run MOOSE App'''"
   ]
  },
  {
   "cell_type": "code",
   "execution_count": 17,
   "metadata": {
    "ExecuteTime": {
     "end_time": "2021-12-18T12:36:07.723837Z",
     "start_time": "2021-12-18T12:36:07.718648Z"
    },
    "code_folding": []
   },
   "outputs": [
    {
     "data": {
      "text/plain": [
       "'Solution'"
      ]
     },
     "execution_count": 17,
     "metadata": {},
     "output_type": "execute_result"
    }
   ],
   "source": [
    "'''Solution'''"
   ]
  },
  {
   "cell_type": "markdown",
   "metadata": {},
   "source": [
    "## [2-D Results and Analysis](#toc)<a id=\"ranalysis\"></a>"
   ]
  },
  {
   "cell_type": "code",
   "execution_count": 18,
   "metadata": {
    "ExecuteTime": {
     "end_time": "2021-12-18T12:36:07.730244Z",
     "start_time": "2021-12-18T12:36:07.725317Z"
    }
   },
   "outputs": [
    {
     "data": {
      "text/plain": [
       "'Parameters'"
      ]
     },
     "execution_count": 18,
     "metadata": {},
     "output_type": "execute_result"
    }
   ],
   "source": [
    "'''Parameters'''"
   ]
  },
  {
   "cell_type": "code",
   "execution_count": 19,
   "metadata": {
    "ExecuteTime": {
     "end_time": "2021-12-18T12:36:07.736723Z",
     "start_time": "2021-12-18T12:36:07.732031Z"
    }
   },
   "outputs": [
    {
     "data": {
      "text/plain": [
       "'FEM Parameters'"
      ]
     },
     "execution_count": 19,
     "metadata": {},
     "output_type": "execute_result"
    }
   ],
   "source": [
    "'''FEM Parameters'''"
   ]
  },
  {
   "cell_type": "code",
   "execution_count": 20,
   "metadata": {
    "ExecuteTime": {
     "end_time": "2021-12-18T12:36:07.744128Z",
     "start_time": "2021-12-18T12:36:07.739235Z"
    }
   },
   "outputs": [
    {
     "data": {
      "text/plain": [
       "'Input file mod'"
      ]
     },
     "execution_count": 20,
     "metadata": {},
     "output_type": "execute_result"
    }
   ],
   "source": [
    "'''Input file mod'''"
   ]
  },
  {
   "cell_type": "code",
   "execution_count": 21,
   "metadata": {
    "ExecuteTime": {
     "end_time": "2021-12-18T12:36:07.750841Z",
     "start_time": "2021-12-18T12:36:07.746085Z"
    },
    "scrolled": true
   },
   "outputs": [
    {
     "data": {
      "text/plain": [
       "'Run MOOSE App'"
      ]
     },
     "execution_count": 21,
     "metadata": {},
     "output_type": "execute_result"
    }
   ],
   "source": [
    "'''Run MOOSE App'''"
   ]
  },
  {
   "cell_type": "code",
   "execution_count": 22,
   "metadata": {
    "ExecuteTime": {
     "end_time": "2021-12-18T12:36:07.757437Z",
     "start_time": "2021-12-18T12:36:07.752671Z"
    }
   },
   "outputs": [
    {
     "data": {
      "text/plain": [
       "'Show 2D solution'"
      ]
     },
     "execution_count": 22,
     "metadata": {},
     "output_type": "execute_result"
    }
   ],
   "source": [
    "'''Show 2D solution'''"
   ]
  },
  {
   "cell_type": "markdown",
   "metadata": {},
   "source": [
    "## [Conclusions](#toc)<a id=\"conclusions\"></a>"
   ]
  },
  {
   "cell_type": "markdown",
   "metadata": {},
   "source": [
    "## [References](#toc)<a id=\"refs\"></a>\n",
    "\n",
    "- [1] V. F. de Almeida, [*Engy-5310: Computational Continuum Transport Phenomena*](https://github.com/dpploy/engy-5310), University of Massachusetts Lowell, Dept. of Chemical Engineering (Nuclear Energy Program).\n",
    "- [2] Multiphysics Object-Oriented Simulation Environment [(MOOSE)](https://mooseframework.org)\n",
    "- [4] author, [reference]()"
   ]
  },
  {
   "cell_type": "code",
   "execution_count": null,
   "metadata": {},
   "outputs": [],
   "source": []
  }
 ],
 "metadata": {
  "kernelspec": {
   "display_name": "Python 3 (ipykernel)",
   "language": "python",
   "name": "python3"
  },
  "language_info": {
   "codemirror_mode": {
    "name": "ipython",
    "version": 3
   },
   "file_extension": ".py",
   "mimetype": "text/x-python",
   "name": "python",
   "nbconvert_exporter": "python",
   "pygments_lexer": "ipython3",
   "version": "3.9.9"
  },
  "latex_envs": {
   "LaTeX_envs_menu_present": true,
   "autoclose": false,
   "autocomplete": true,
   "bibliofile": "biblio.bib",
   "cite_by": "apalike",
   "current_citInitial": 1,
   "eqLabelWithNumbers": true,
   "eqNumInitial": 1,
   "hotkeys": {
    "equation": "Ctrl-E",
    "itemize": "Ctrl-I"
   },
   "labels_anchors": false,
   "latex_user_defs": false,
   "report_style_numbering": false,
   "user_envs_cfg": false
  }
 },
 "nbformat": 4,
 "nbformat_minor": 2
}
