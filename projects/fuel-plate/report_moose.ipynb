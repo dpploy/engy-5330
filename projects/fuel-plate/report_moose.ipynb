{
 "cells": [
  {
   "cell_type": "markdown",
   "metadata": {},
   "source": [
    "**Engy-5310** Computational Continuum Transport Phenomena, UMass Lowell, Chem. Eng. Nuclear Program Fall 2021; Prof. V. F. de Almeida\n",
    "\n",
    "# Title\n",
    "$  \n",
    "  \\newcommand{\\Amtrx}{\\boldsymbol{\\mathsf{A}}}\n",
    "  \\newcommand{\\Bmtrx}{\\boldsymbol{\\mathsf{B}}}\n",
    "  \\newcommand{\\Mmtrx}{\\boldsymbol{\\mathsf{M}}}\n",
    "  \\newcommand{\\Imtrx}{\\boldsymbol{\\mathsf{I}}}\n",
    "  \\newcommand{\\Pmtrx}{\\boldsymbol{\\mathsf{P}}}\n",
    "  \\newcommand{\\Lmtrx}{\\boldsymbol{\\mathsf{L}}}\n",
    "  \\newcommand{\\Umtrx}{\\boldsymbol{\\mathsf{U}}}\n",
    "  \\newcommand{\\Smtrx}{\\boldsymbol{\\mathsf{S}}}\n",
    "  \\newcommand{\\xvec}{\\boldsymbol{\\mathsf{x}}}\n",
    "  \\newcommand{\\avec}{\\boldsymbol{\\mathsf{a}}}\n",
    "  \\newcommand{\\bvec}{\\boldsymbol{\\mathsf{b}}}\n",
    "  \\newcommand{\\cvec}{\\boldsymbol{\\mathsf{c}}}\n",
    "  \\newcommand{\\rvec}{\\boldsymbol{\\mathsf{r}}}\n",
    "  \\newcommand{\\fvec}{\\boldsymbol{\\mathsf{f}}}\n",
    "  \\newcommand{\\mvec}{\\boldsymbol{\\mathsf{m}}}\n",
    "  \\newcommand{\\gvec}{\\boldsymbol{\\mathsf{g}}}\n",
    "  \\newcommand{\\flux}{\\boldsymbol{q}}\n",
    "  \\newcommand{\\fluxc}{\\boldsymbol{q}_\\text{c}}\n",
    "  \\newcommand{\\fluxf}{\\boldsymbol{q}_\\text{f}}\n",
    "  \\newcommand{\\velocity}{\\boldsymbol{v}}\n",
    "  \\newcommand{\\normal}{\\boldsymbol{n}}\n",
    "  \\newcommand{\\xpoint}{\\boldsymbol{x}}\n",
    "  \\newcommand{\\Tc}{T_\\text{c}}\n",
    "  \\newcommand{\\wc}{w_\\text{c}}\n",
    "  \\newcommand{\\Tf}{T_\\text{f}}\n",
    "  \\newcommand{\\wf}{w_\\text{f}}\n",
    "  \\newcommand{\\wI}{w_\\text{I}}\n",
    "  \\newcommand{\\Ri}{R_\\text{i}}\n",
    "  \\newcommand{\\Ro}{R_\\text{o}}\n",
    "  \\newcommand{\\Omegac}{\\Omega_\\text{c}}\n",
    "  \\newcommand{\\Omegaf}{\\Omega_\\text{f}}\n",
    "  \\newcommand{\\zerovec}{\\boldsymbol{\\mathsf{0}}}\n",
    "  \\newcommand{\\norm}[1]{\\bigl\\lVert{#1}\\bigr\\rVert}\n",
    "  \\newcommand{\\transpose}[1]{{#1}^\\top}\n",
    "  \\DeclareMathOperator{\\rank}{rank}\n",
    "  \\DeclareMathOperator{\\div}{div}\n",
    "  \\DeclareMathOperator{\\gradx}{grad_\\xpoint}\n",
    "  \\DeclareMathOperator{\\divx}{div_\\xpoint}\n",
    "  \\DeclareMathOperator{\\grad}{grad}\n",
    "  \\newcommand{\\Reals}{\\mathbb{R}}\n",
    "  \\newcommand{\\thetavec}{\\boldsymbol{\\theta}}\n",
    "$"
   ]
  },
  {
   "cell_type": "markdown",
   "metadata": {},
   "source": [
    "**Student(s):**  `your name(s)` <br>\n",
    "**Course:** Engy-5310 Computational Continuum Transport Phenomena  <br>\n",
    "**Mentor and Collaborator:** `Prof. name`\n",
    "\n",
    "UMass Lowell, Dept. of Chemical Engineering, Nuclear Energy Program \n",
    "<br>\n",
    "**22Nov2021**"
   ]
  },
  {
   "cell_type": "markdown",
   "metadata": {},
   "source": [
    "---\n",
    "## Table of Contents<a id=\"toc\"></a>\n",
    "* [Introduction](#intro)\n",
    "* [Problem Statement](#problem)\n",
    "* [Objectives](#obj)\n",
    "* [Approach](#app)\n",
    " + [Weak Form of Problem Statement](#weakform)\n",
    " + [MOOSE Kernels](#kernels)\n",
    " + [Tests](#tests)\n",
    " + [Setup](#setup)\n",
    "   - [Test 1: Bare fuel plate (fundamental mode)](#fuel-0-mode)\n",
    "   - [Test 2: Bare fuel plate (kth mode)](#fuel-k-mode)\n",
    "   - [Test 3: Fuel plate w/ reflector](#fuel-reflector)\n",
    "* [2-D Results and Analysis](#ranalysis)\n",
    "* [Conclusions](#conclusions)\n",
    "* [References](#refs)\n",
    "---"
   ]
  },
  {
   "cell_type": "markdown",
   "metadata": {},
   "source": [
    "## [Introduction](#toc)<a id=\"intro\"></a>"
   ]
  },
  {
   "cell_type": "markdown",
   "metadata": {},
   "source": [
    "`text goes here`"
   ]
  },
  {
   "cell_type": "markdown",
   "metadata": {},
   "source": [
    "## [Problem Statement](#toc)<a id=\"problem\"></a>"
   ]
  },
  {
   "cell_type": "markdown",
   "metadata": {},
   "source": [
    "`mathematical statement of problem`\n"
   ]
  },
  {
   "cell_type": "markdown",
   "metadata": {},
   "source": [
    "### Domain\n",
    "`describe domain`"
   ]
  },
  {
   "cell_type": "code",
   "execution_count": 1,
   "metadata": {
    "ExecuteTime": {
     "end_time": "2021-12-20T02:21:37.445374Z",
     "start_time": "2021-12-20T02:21:37.442129Z"
    },
    "code_folding": []
   },
   "outputs": [],
   "source": [
    "'''Domain'''\n",
    "plate_thickness = 25\n",
    "reflector_length = plate_thickness * 20"
   ]
  },
  {
   "cell_type": "code",
   "execution_count": 2,
   "metadata": {
    "ExecuteTime": {
     "end_time": "2021-12-20T02:21:37.452701Z",
     "start_time": "2021-12-20T02:21:37.446867Z"
    },
    "code_folding": [
     2
    ]
   },
   "outputs": [],
   "source": [
    "'''Domain'''\n",
    "\n",
    "def show_domain(screenshot=False):\n",
    "    import pyvista as pv\n",
    "    pv.set_plot_theme('paraview')\n",
    "    a = plate_thickness\n",
    "    b = reflector_length\n",
    "    plate = pv.Box((-a,a,-3*a,3*a,-5*a,5*a))\n",
    "    reflector1 = pv.Box((a,a+b,-3*a,3*a,-5*a,5*a))\n",
    "    reflector2 = pv.Box((-a,-a-b,-3*a,3*a,-5*a,5*a))\n",
    "    #plo = pv.Plotter(notebook=True, shape=(1,2))\n",
    "    plo = pv.Plotter(shape=(1,1)) \n",
    "    plo.subplot(0,0)\n",
    "    plo.add_mesh(plate, color='red', opacity=1.0,)\n",
    "    plo.add_mesh(reflector1, color='tan', opacity=0.5)\n",
    "    plo.add_mesh(reflector2, color='tan', opacity=0.5)\n",
    "    plo.add_axes(xlabel='X', ylabel='Y', zlabel='Z')\n",
    "    plo.camera.zoom(1.3)\n",
    "    cpos = plo.show(window_size=[800, 600])\n",
    "    if screenshot:\n",
    "        plo.screenshot('domain.png')"
   ]
  },
  {
   "cell_type": "code",
   "execution_count": 4,
   "metadata": {
    "ExecuteTime": {
     "end_time": "2021-12-20T02:21:42.295300Z",
     "start_time": "2021-12-20T02:21:42.133450Z"
    }
   },
   "outputs": [
    {
     "data": {
      "image/png": "[encoded data removed]",
      "text/plain": [
       "<PIL.Image.Image image mode=RGB size=800x600 at 0x7F0FEF9A33D0>"
      ]
     },
     "metadata": {},
     "output_type": "display_data"
    }
   ],
   "source": [
    "show_domain()"
   ]
  },
  {
   "cell_type": "markdown",
   "metadata": {},
   "source": [
    "## [Objectives](#toc)<a id=\"obj\"></a>"
   ]
  },
  {
   "cell_type": "markdown",
   "metadata": {},
   "source": [
    "`state objectives`"
   ]
  },
  {
   "cell_type": "markdown",
   "metadata": {},
   "source": [
    "## [Approach](#toc)<a id=\"app\"></a>"
   ]
  },
  {
   "cell_type": "markdown",
   "metadata": {},
   "source": [
    "A Galerkin weak formulation follows below and the implementation of the integrands as MOOSE kernels are described next."
   ]
  },
  {
   "cell_type": "markdown",
   "metadata": {},
   "source": [
    "### [Weak Form of Problem Statement](#toc)<a id=\"weakform\"></a> \n"
   ]
  },
  {
   "cell_type": "markdown",
   "metadata": {},
   "source": [
    "### [MOOSE Kernels](#toc)<a id=\"kernels\"></a>\n"
   ]
  },
  {
   "cell_type": "markdown",
   "metadata": {},
   "source": [
    "### [Tests](#toc)<a id=\"tests\"></a>\n"
   ]
  },
  {
   "cell_type": "markdown",
   "metadata": {},
   "source": [
    "### [Setup](#toc)<a id=\"setup\"></a>"
   ]
  },
  {
   "cell_type": "code",
   "execution_count": 5,
   "metadata": {
    "ExecuteTime": {
     "end_time": "2021-12-20T02:21:47.037523Z",
     "start_time": "2021-12-20T02:21:47.020623Z"
    }
   },
   "outputs": [],
   "source": [
    "'''SI units'''\n",
    "from scipy import constants as unit\n",
    "unit.second = 1.0\n",
    "unit.meter = 1.0\n",
    "unit.cm = unit.centi*unit.meter"
   ]
  },
  {
   "cell_type": "code",
   "execution_count": 6,
   "metadata": {
    "ExecuteTime": {
     "end_time": "2021-12-20T02:21:47.053447Z",
     "start_time": "2021-12-20T02:21:47.039316Z"
    },
    "code_folding": [
     1
    ]
   },
   "outputs": [],
   "source": [
    "'''Plot function for FEM Solution'''\n",
    "def plot_solution(df1=None, df2=None, \n",
    "                  x_scale=1,\n",
    "                  y1_scale=1,\n",
    "                  normalize_y1=False,\n",
    "                  y2_scale=1,\n",
    "                  normalize_y2=False,\n",
    "                  xlabel=r'$x$ []',\n",
    "                  y1label=r'$u_h(x)$ []',\n",
    "                  y2label=r'$q_h(x)$ []',\n",
    "                  df3=None,\n",
    "                  title='No Title', \n",
    "                  u1_legend='no u1 legend',\n",
    "                  u2_legend='no u2 legend',\n",
    "                  u1_flux_legend='no u1 flux legend',\n",
    "                  u2_flux_legend='no u2 flux legend'):\n",
    "    '''Plot solution for fuel and reflector\n",
    "    '''\n",
    "    import matplotlib.pyplot as plt\n",
    "    #%matplotlib inline\n",
    "    plt.style.use('dark_background')\n",
    "    import numpy as np\n",
    "\n",
    "    (fig, ax1) = plt.subplots(1, figsize=(15, 6))\n",
    "\n",
    "    if df1 is not None:\n",
    "        if normalize_y1:\n",
    "            if df2 is not None:\n",
    "                uFuel_scaled = df1['uFuel']-df2['uReflector'].iloc[-1]\n",
    "            else:\n",
    "                uFuel_scaled = df1['uFuel']-df1['uFuel'].iloc[-1]\n",
    "            y1_scale = 1/uFuel_scaled[0]\n",
    "            ax1.plot(df1['x']*x_scale, uFuel_scaled*y1_scale, 'r*-', label=u1_legend)\n",
    "        else:\n",
    "            ax1.plot(df1['x']*x_scale, df1['uFuel']*y1_scale, 'r*-', label=u1_legend)\n",
    "    if df2 is not None:\n",
    "        if normalize_y1: # assumes df1 not none\n",
    "            uReflector_scaled = df2['uReflector']-df2['uReflector'].iloc[-1]\n",
    "            ax1.plot(df2['x']*x_scale, uReflector_scaled*y1_scale, '*--', color='magenta', label=u2_legend)\n",
    "        else:\n",
    "            ax1.plot(df2['x']*x_scale, df2['uReflector']*y1_scale, '*--', color='magenta', label=u2_legend)\n",
    "\n",
    "    ax1.set_xlabel(xlabel, fontsize=18)\n",
    "    ax1.set_ylabel(y1label, fontsize=18, color='white')\n",
    "    ax1.tick_params(axis='y', labelcolor='white', labelsize=14)\n",
    "    ax1.tick_params(axis='x', labelsize=14)\n",
    "    ax1.legend(loc='center left', fontsize=12)\n",
    "    #ax1.set_ylim(0,1)\n",
    "    #ax1.set_xscale('log')\n",
    "    #ax1.set_yscale('log')\n",
    "    ax1.grid(True)\n",
    "    \n",
    "    ax2 = None\n",
    "\n",
    "    if df1 is not None and 'diffFluxFuel_x' in df1.columns:\n",
    "        ax2 = ax1.twinx()\n",
    "        if normalize_y2:\n",
    "            if df2 is None:\n",
    "                diff_flux_fuel_x_scaled = df1['diffFluxFuel_x']/max(abs(df1['diffFluxFuel_x']))\n",
    "            else:\n",
    "                max_val = max(max(abs(df1['diffFluxFuel_x'])), max(abs(df2['diffFluxReflector_x'])))\n",
    "                diff_flux_fuel_x_scaled = df1['diffFluxFuel_x']/max_val\n",
    "            ax2.plot(df1['x']*x_scale, diff_flux_fuel_x_scaled,'*-', \n",
    "                     color='yellow', label=u1_flux_legend)\n",
    "        else:\n",
    "            ax2.plot(df1['x']*x_scale, df1['diffFluxFuel_xf']*y2_scale,'*-', \n",
    "                     color='yellow', label=u1_flux_legend) \n",
    "            \n",
    "    if df2 is not None and 'diffFluxReflector_x' in df2.columns:\n",
    "        if ax2 is None:\n",
    "            ax2 = ax1.twinx()\n",
    "        if normalize_y2: # assumes df1 not none\n",
    "            diff_flux_fuel_x_scaled = df2['diffFluxReflector_x']/max_val\n",
    "            ax2.plot(df2['x']*x_scale, diff_flux_fuel_x_scaled,'*--', \n",
    "                     color='orange', label=u2_flux_legend)\n",
    "        else:\n",
    "            ax2.plot(df2['x']*x_scale, df2['diffFluxReflector_x']*y2_scale,'*--', \n",
    "                     color='orange', label=u2_flux_legend)\n",
    "\n",
    "    if ax2 is not None:\n",
    "        ax2.set_ylabel(y2label, fontsize=16, color='white')\n",
    "        ax2.tick_params(axis='y', labelcolor='white', labelsize=14)\n",
    "        ax2.legend(loc='upper right', fontsize=12)\n",
    "        #ax2.set_yscale('log')\n",
    "        #ax2.set_ylim(0,2)\n",
    "        #ax2.grid(True)\n",
    "\n",
    "    plt.title(title, fontsize=20)\n",
    "    fig.tight_layout()  # otherwise the right y-label is slightly clipped\n",
    "    plt.show()\n",
    "    print('')"
   ]
  },
  {
   "cell_type": "code",
   "execution_count": 7,
   "metadata": {
    "ExecuteTime": {
     "end_time": "2021-12-20T02:21:47.058320Z",
     "start_time": "2021-12-20T02:21:47.054814Z"
    },
    "code_folding": []
   },
   "outputs": [],
   "source": [
    "'''Domain'''\n",
    "x_a = 0*unit.cm\n",
    "plate_thickness = 25*unit.cm"
   ]
  },
  {
   "cell_type": "code",
   "execution_count": 8,
   "metadata": {
    "ExecuteTime": {
     "end_time": "2021-12-20T02:21:47.062468Z",
     "start_time": "2021-12-20T02:21:47.059846Z"
    }
   },
   "outputs": [],
   "source": [
    "'''Parameters'''\n",
    "import math\n",
    "diff_coeff_fuel = 1.0\n",
    "\n",
    "x_b = plate_thickness\n",
    "extrapolation_delta = 2.13*1*unit.cm"
   ]
  },
  {
   "cell_type": "code",
   "execution_count": 9,
   "metadata": {
    "ExecuteTime": {
     "end_time": "2021-12-20T02:21:47.066038Z",
     "start_time": "2021-12-20T02:21:47.063511Z"
    }
   },
   "outputs": [],
   "source": [
    "'''Data to select a solution of the eigenvalue problem'''\n",
    "dirichlet_bc = False\n",
    "dirichlet_value = 1e-12/unit.cm**2/unit.second # a small value"
   ]
  },
  {
   "cell_type": "code",
   "execution_count": 10,
   "metadata": {
    "ExecuteTime": {
     "end_time": "2021-12-20T02:21:47.070497Z",
     "start_time": "2021-12-20T02:21:47.067409Z"
    }
   },
   "outputs": [],
   "source": [
    "'''FEM Solution'''\n",
    "n_felem_fuel = 6\n",
    "\n",
    "order = 'second'\n",
    "flux_order = 'first'\n",
    "\n",
    "fdp_full = True\n",
    "n_plot_pts_fuel = 2*n_felem_fuel + 1"
   ]
  },
  {
   "cell_type": "code",
   "execution_count": 11,
   "metadata": {
    "ExecuteTime": {
     "end_time": "2021-12-20T02:21:47.157010Z",
     "start_time": "2021-12-20T02:21:47.072341Z"
    },
    "code_folding": [
     0
    ]
   },
   "outputs": [],
   "source": [
    "def write_input_file(with_reflector=False, dirichlet_bc=True, pjfnk=False):\n",
    "    import pyhit\n",
    "    import moosetree\n",
    "    root = pyhit.load('')\n",
    "    \n",
    "    prblm = root.insert(-1,'Problem')\n",
    "    prblm['type'] = 'FEProblem'\n",
    "    prblm['coord_type'] = 'XYZ'\n",
    "\n",
    "    mesh = root.insert(-1,'Mesh')\n",
    "    \n",
    "    omega1 = mesh.insert(-1,'omega1')\n",
    "    omega1['type'] = 'GeneratedMeshGenerator'\n",
    "    omega1['dim'] = 1\n",
    "    omega1['xmin'] = x_a\n",
    "    omega1['xmax'] = plate_thickness/2.0\n",
    "    omega1['nx'] = n_felem_fuel\n",
    "    if order == 'second':\n",
    "        omega1['elem_type'] = 'edge3'\n",
    "\n",
    "    if not with_reflector:\n",
    "        mod1 = mesh.insert(-1,'mod1')\n",
    "        mod1['type'] = 'SubdomainBoundingBoxGenerator'\n",
    "        mod1['input'] = 'omega1'\n",
    "        mod1['block_id'] = 1\n",
    "        mod1['block_name'] = 'omega_1'\n",
    "        mod1['bottom_left'] = str(x_a)+' 0 0'\n",
    "        mod1['top_right'] = str(plate_thickness/2.0)+' 1 0'\n",
    "    \n",
    "    if with_reflector:\n",
    "        omega2 = mesh.insert(-1,'omega2')\n",
    "        omega2['type'] = 'GeneratedMeshGenerator'\n",
    "        omega2['dim'] = 1\n",
    "        omega2['xmin'] = plate_thickness/2.0\n",
    "        omega2['xmax'] = x_b\n",
    "        omega2['nx'] = n_felem_reflector\n",
    "        if order == 'second':\n",
    "            omega2['elem_type'] = 'edge3'\n",
    "\n",
    "        omega = mesh.insert(-1,'omega')\n",
    "        omega['type'] = 'StitchedMeshGenerator'\n",
    "        omega['inputs'] = \"'omega1 omega2'\"\n",
    "        omega['stitch_boundaries_pairs'] = \"'right left'\"\n",
    "        omega['clear_stitched_boundary_ids'] = 'true'\n",
    "    \n",
    "        mod1 = mesh.insert(-1,'mod1')\n",
    "        mod1['type'] = 'SubdomainBoundingBoxGenerator'\n",
    "        mod1['input'] = 'omega'\n",
    "        mod1['block_id'] = 1\n",
    "        mod1['block_name'] = 'omega_1'\n",
    "        mod1['bottom_left'] = str(x_a)+' 0 0'\n",
    "        mod1['top_right'] = str(plate_thickness/2.0)+' 1 0'\n",
    "    \n",
    "        mod2 = mesh.insert(-1,'mod2')\n",
    "        mod2['type'] = 'SubdomainBoundingBoxGenerator'\n",
    "        mod2['input'] = 'mod1'\n",
    "        mod2['block_id'] = 2\n",
    "        mod2['block_name'] = 'omega_2'\n",
    "        mod2['bottom_left'] = str(plate_thickness/2.0)+' 0 0'\n",
    "        mod2['top_right'] = str(x_b)+' 1 0'\n",
    "    \n",
    "        mod3 = mesh.insert(-1,'mod3')\n",
    "        mod3['type'] = 'SideSetsBetweenSubdomainsGenerator'\n",
    "        mod3['input'] = 'mod2'\n",
    "        mod3['primary_block'] = 'omega_1'\n",
    "        mod3['paired_block'] = 'omega_2' \n",
    "        mod3['new_boundary'] = 'interface_12'\n",
    "    \n",
    "        mod4 = mesh.insert(-1,'mod4')\n",
    "        mod4['type'] = 'SideSetsAroundSubdomainGenerator'\n",
    "        mod4['input'] = 'mod3'\n",
    "        mod4['block'] = 'omega_1'\n",
    "        mod4['normal'] = '-1 0 0'\n",
    "        mod4['new_boundary'] = 'left'\n",
    "    \n",
    "        mod5 = mesh.insert(-1,'mod5')\n",
    "        mod5['type'] = 'SideSetsAroundSubdomainGenerator'\n",
    "        mod5['input'] = 'mod4'\n",
    "        mod5['block'] = 'omega_2'\n",
    "        mod5['normal'] = '1 0 0'\n",
    "        mod5['new_boundary'] = 'right'\n",
    "\n",
    "    vars = root.insert(-1,'Variables')\n",
    "    \n",
    "    fuel = vars.insert(-1,'uFuel')\n",
    "    fuel['block'] = 'omega_1'\n",
    "    fuel['order'] = order\n",
    "    fuel['family'] = 'lagrange'\n",
    "    fuel['initial_condition'] = 10\n",
    "    \n",
    "    if with_reflector:\n",
    "        reflector = vars.insert(-1,'uReflector')\n",
    "        reflector['block'] = 'omega_2'\n",
    "        reflector['order'] = order\n",
    "        reflector['family'] = 'lagrange'\n",
    "        reflector['initial_condition'] = 10\n",
    "    \n",
    "    aux_vars = root.insert(-1,'AuxVariables')\n",
    "    \n",
    "    diff_flux_fuel = aux_vars.insert(-1,'diffFluxFuel')\n",
    "    diff_flux_fuel['block'] = 'omega_1'\n",
    "    diff_flux_fuel['order'] = flux_order\n",
    "    diff_flux_fuel['family'] = 'monomial_vec'\n",
    "    \n",
    "    diff_flux_fuel_x = aux_vars.insert(-1,'diffFluxFuel_x')\n",
    "    diff_flux_fuel_x['block'] = 'omega_1'\n",
    "    diff_flux_fuel_x['order'] = flux_order\n",
    "    diff_flux_fuel_x['family'] = 'monomial'\n",
    "    \n",
    "    if with_reflector:\n",
    "        diff_flux_reflector = aux_vars.insert(-1,'diffFluxReflector')\n",
    "        diff_flux_reflector['block'] = 'omega_2'\n",
    "        diff_flux_reflector['order'] = flux_order\n",
    "        diff_flux_reflector['family'] = 'monomial_vec'\n",
    "    \n",
    "        diff_flux_reflector_x = aux_vars.insert(-1,'diffFluxReflector_x')\n",
    "        diff_flux_reflector_x['block'] = 'omega_2'\n",
    "        diff_flux_reflector_x['order'] = flux_order\n",
    "        diff_flux_reflector_x['family'] = 'monomial'\n",
    "\n",
    "    kernels = root.insert(-1,'Kernels')\n",
    "    \n",
    "    diff_fuel = kernels.insert(-1,'diffusion-fuel')\n",
    "    diff_fuel['type'] = 'DiffusionTerm'\n",
    "    diff_fuel['block'] = 'omega_1'\n",
    "    diff_fuel['variable'] = 'uFuel'\n",
    "    diff_fuel['diffCoeff'] = diff_coeff_fuel\n",
    "    \n",
    "    source_fuel = kernels.insert(-1,'source-fuel')\n",
    "    source_fuel['type'] = 'SourceTerm'\n",
    "    source_fuel['block'] = 'omega_1'\n",
    "    source_fuel['variable'] = 'uFuel'\n",
    "    source_fuel['sourceSlope'] = buckling**2\n",
    "    \n",
    "    if with_reflector:\n",
    "        diff_reflector = kernels.insert(-1,'diffusion-reflector')\n",
    "        diff_reflector['type'] = 'DiffusionTerm'\n",
    "        diff_reflector['block'] = 'omega_2'\n",
    "        diff_reflector['variable'] = 'uReflector'\n",
    "        diff_reflector['diffCoeff'] = diff_coeff_reflector\n",
    "    \n",
    "        source_reflector = kernels.insert(-1,'source-reflector')\n",
    "        source_reflector['type'] = 'SourceTerm'\n",
    "        source_reflector['block'] = 'omega_2'\n",
    "        source_reflector['variable'] = 'uReflector'\n",
    "        source_reflector['sourceSlope'] = - 1/diff_length**2\n",
    "    \n",
    "    if with_reflector:\n",
    "        interf_kernels = root.insert(-1,'InterfaceKernels')\n",
    "    \n",
    "        n_flux = interf_kernels.insert(-1,'normal-flux-continuity')\n",
    "        n_flux['type'] = 'InterfaceNormalFluxContinuity'\n",
    "        n_flux['variable'] = 'uFuel'\n",
    "        n_flux['neighbor_var'] = 'uReflector'\n",
    "        n_flux['boundary'] = 'interface_12'\n",
    "        n_flux['diffCoeff'] = diff_coeff_fuel\n",
    "        n_flux['diffCoeffNeighbor'] = diff_coeff_reflector\n",
    "    \n",
    "        t_jump = interf_kernels.insert(-1,'u-jump')\n",
    "        t_jump['type'] = 'InterfaceJump'\n",
    "        t_jump['variable'] = 'uFuel'\n",
    "        t_jump['neighbor_var'] = 'uReflector'\n",
    "        t_jump['boundary'] = 'interface_12'\n",
    "        t_jump['transferCoeff'] = 1e+10\n",
    "        t_jump['adsorptionCoeff'] = 0.0\n",
    "        t_jump['diffCoeff'] = diff_coeff_fuel\n",
    "\n",
    "    aux_kernels = root.insert(-1,'AuxKernels')\n",
    "    \n",
    "    diff_flux_fuel = aux_kernels.insert(-1,'diffusion-flux-fuel')\n",
    "    diff_flux_fuel['type'] = 'DiffusionFlux'\n",
    "    diff_flux_fuel['block'] = 'omega_1'\n",
    "    diff_flux_fuel['field'] = 'uFuel'\n",
    "    diff_flux_fuel['diffCoeff'] = diff_coeff_fuel\n",
    "    diff_flux_fuel['variable'] = 'diffFluxFuel'\n",
    "    diff_flux_fuel['execute_on'] = 'timestep_end'\n",
    "    \n",
    "    diff_flux_fuel_x = aux_kernels.insert(-1,'diffusion-flux-fuel-x')\n",
    "    diff_flux_fuel_x['type'] = 'VectorVariableComponentAux'\n",
    "    diff_flux_fuel_x['block'] = 'omega_1'\n",
    "    diff_flux_fuel_x['vector_variable'] = 'diffFluxFuel'\n",
    "    diff_flux_fuel_x['component'] = 'x'\n",
    "    diff_flux_fuel_x['variable'] = 'diffFluxFuel_x'\n",
    "    diff_flux_fuel_x['execute_on'] = 'timestep_end'\n",
    "    \n",
    "    if with_reflector:\n",
    "        diff_flux_reflector = aux_kernels.insert(-1,'diffusion-flux-reflector')\n",
    "        diff_flux_reflector['type'] = 'DiffusionFlux'\n",
    "        diff_flux_reflector['block'] = 'omega_2'\n",
    "        diff_flux_reflector['field'] = 'uReflector'\n",
    "        diff_flux_reflector['diffCoeff'] = diff_coeff_reflector\n",
    "        diff_flux_reflector['variable'] = 'diffFluxReflector'\n",
    "        diff_flux_reflector['execute_on'] = 'timestep_end'\n",
    "    \n",
    "        diff_flux_reflector_x = aux_kernels.insert(-1,'diffusion-flux-reflector-x')\n",
    "        diff_flux_reflector_x['type'] = 'VectorVariableComponentAux'\n",
    "        diff_flux_reflector_x['block'] = 'omega_2'\n",
    "        diff_flux_reflector_x['vector_variable'] = 'diffFluxReflector'\n",
    "        diff_flux_reflector_x['component'] = 'x'\n",
    "        diff_flux_reflector_x['variable'] = 'diffFluxReflector_x'\n",
    "        diff_flux_reflector_x['execute_on'] = 'timestep_end'\n",
    "    \n",
    "    bcs = root.insert(-1,'BCs')\n",
    "    \n",
    "    cl = bcs.insert(-1,'center-line')\n",
    "    cl['type'] = 'NeumannBC'\n",
    "    cl['variable'] = 'uFuel'\n",
    "    cl['boundary'] = 'left'\n",
    "    cl['value'] = 0 \n",
    "    \n",
    "    xb = bcs.insert(-1,'x-b')\n",
    "\n",
    "    if dirichlet_bc:\n",
    "        xb['type'] = 'DirichletBC'\n",
    "        xb['boundary'] = 'right'\n",
    "        xb['value'] = dirichlet_value\n",
    "        if with_reflector:\n",
    "            xb['variable'] = 'uReflector'\n",
    "        else:\n",
    "            xb['variable'] = 'uFuel'\n",
    "    else:\n",
    "        xb['type'] = 'NormalFluxBC'\n",
    "        xb['boundary'] = 'right'\n",
    "        if with_reflector:\n",
    "            xb['variable'] = 'uReflector'\n",
    "            xb['transferCoeff'] = diff_coeff_reflector/extrapolation_delta\n",
    "        else:\n",
    "            xb['variable'] = 'uFuel'\n",
    "            xb['transferCoeff'] = diff_coeff_fuel/extrapolation_delta\n",
    "\n",
    "    if pjfnk:\n",
    "        exe = root.insert(-1,'Executioner')\n",
    "        exe['type'] = 'Steady'\n",
    "        exe['solve_type']  = 'PJFNK'\n",
    "        exe['petsc_options_iname']  = '-pc_type -pc_hypre_type'\n",
    "        exe['petsc_options_value']  = 'hypre boomeramg'\n",
    "        exe['l_max_its']  = 20\n",
    "        exe['l_tol']  = 1e-5\n",
    "        exe['nl_max_its']  = 15\n",
    "        exe['nl_rel_tol']  = 1e-8\n",
    "        exe['nl_abs_tol']  = 1e-8\n",
    "    elif fdp_full:\n",
    "        pre = root.insert(-1, 'Preconditioning')\n",
    "        pre['active'] = 'fdp-newt-full'\n",
    "        \n",
    "        fdp = pre.insert(-1, 'fdp-newt-full')\n",
    "        fdp['type'] = 'FDP'\n",
    "        fdp['full'] = 'true'\n",
    "        fdp['solve_type'] = 'NEWTON'\n",
    "        fdp['petsc_options_iname'] = \"\"'-pc_type -mat_fd_coloring_err -mat_fd_type'\"\"\n",
    "        fdp['petsc_options_value'] = \"\"'lu  1e-8          ds'\"\"\n",
    "        \n",
    "        exe = root.insert(-1,'Executioner')\n",
    "        exe['type'] = 'Steady'\n",
    "\n",
    "    vp = root.insert(-1,'VectorPostprocessors')\n",
    "    \n",
    "    omega_1 = vp.insert(-1,'omega_1')\n",
    "    omega_1['type'] = 'LineValueSampler'\n",
    "    omega_1['execute_on'] = 'timestep_end final'\n",
    "    omega_1['variable'] = 'uFuel diffFluxFuel_x'  \n",
    "    omega_1['start_point'] = str(x_a)+' 0 0'\n",
    "    omega_1['end_point'] = str(plate_thickness/2.0*0.995)+' 0 0'\n",
    "    omega_1['num_points'] = n_plot_pts_fuel\n",
    "    omega_1['sort_by'] = 'id'\n",
    "    \n",
    "    if with_reflector:\n",
    "        omega_2 = vp.insert(-1,'omega_2')\n",
    "        omega_2['type'] = 'LineValueSampler'\n",
    "        omega_2['execute_on'] = 'timestep_end final'\n",
    "        omega_2['variable'] = 'uReflector diffFluxReflector_x'  \n",
    "        omega_2['start_point'] = str(plate_thickness/2.0*1.005)+' 0 0'\n",
    "        omega_2['end_point'] = str(x_b)+' 0 0'\n",
    "        omega_2['num_points'] = n_plot_pts_reflector\n",
    "        omega_2['sort_by'] = 'id'  \n",
    "\n",
    "    out = root.insert(-1,'Outputs')\n",
    "    out['console'] = 'true'\n",
    "    csv = out.insert(-1,'csv')\n",
    "    csv['type'] = 'CSV'\n",
    "    csv['file_base'] = 'output'\n",
    "    csv['execute_on'] = 'final'\n",
    "    \n",
    "    debug = root.insert(-1,'Debug')\n",
    "    debug['show_var_residual_norms'] = 'true'\n",
    "\n",
    "    pyhit.write('input.hit', root)"
   ]
  },
  {
   "cell_type": "markdown",
   "metadata": {},
   "source": [
    "#### [Test 1: Bare fuel plate (fundamental mode)](#toc)<a id=\"fuel-0-mode\"></a>\n"
   ]
  },
  {
   "cell_type": "code",
   "execution_count": 12,
   "metadata": {
    "ExecuteTime": {
     "end_time": "2021-12-20T02:21:47.164054Z",
     "start_time": "2021-12-20T02:21:47.158824Z"
    }
   },
   "outputs": [
    {
     "name": "stdout",
     "output_type": "stream",
     "text": [
      "B = 1.074e-01 [1/cm]\n"
     ]
    }
   ],
   "source": [
    "'''Parameters'''\n",
    "import math\n",
    "modes = range(1,20,2)\n",
    "k = 0\n",
    "buckling = modes[k]*math.pi/(plate_thickness+2*extrapolation_delta)\n",
    "print('B = %2.3e [1/cm]'%(buckling*unit.cm))"
   ]
  },
  {
   "cell_type": "code",
   "execution_count": 13,
   "metadata": {
    "ExecuteTime": {
     "end_time": "2021-12-20T02:21:47.520759Z",
     "start_time": "2021-12-20T02:21:47.165593Z"
    },
    "code_folding": [],
    "scrolled": true
   },
   "outputs": [
    {
     "name": "stdout",
     "output_type": "stream",
     "text": [
      "[Problem]\r\n",
      "  type = FEProblem\r\n",
      "  coord_type = XYZ\r\n",
      "[]\r\n",
      "[Mesh]\r\n",
      "  [omega1]\r\n",
      "    type = GeneratedMeshGenerator\r\n",
      "    dim = 1\r\n",
      "    xmin = 0.0\r\n",
      "    xmax = 0.125\r\n",
      "    nx = 6\r\n",
      "    elem_type = edge3\r\n",
      "  []\r\n",
      "  [mod1]\r\n",
      "    type = SubdomainBoundingBoxGenerator\r\n",
      "    input = omega1\r\n",
      "    block_id = 1\r\n",
      "    block_name = omega_1\r\n",
      "    bottom_left = '0.0 0 0'\r\n",
      "    top_right = '0.125 1 0'\r\n",
      "  []\r\n",
      "[]\r\n",
      "[Variables]\r\n",
      "  [uFuel]\r\n",
      "    block = omega_1\r\n",
      "    order = second\r\n",
      "    family = lagrange\r\n",
      "    initial_condition = 10\r\n",
      "  []\r\n",
      "[]\r\n",
      "[AuxVariables]\r\n",
      "  [diffFluxFuel]\r\n",
      "    block = omega_1\r\n",
      "    order = first\r\n",
      "    family = monomial_vec\r\n",
      "  []\r\n",
      "  [diffFluxFuel_x]\r\n",
      "    block = omega_1\r\n",
      "    order = first\r\n",
      "    family = monomial\r\n",
      "  []\r\n",
      "[]\r\n",
      "[Kernels]\r\n",
      "  [diffusion-fuel]\r\n",
      "    type = DiffusionTerm\r\n",
      "    block = omega_1\r\n",
      "    variable = uFuel\r\n",
      "    diffCoeff = 1.0\r\n",
      "  []\r\n",
      "  [source-fuel]\r\n",
      "    type = SourceTerm\r\n",
      "    block = omega_1\r\n",
      "    variable = uFuel\r\n",
      "    sourceSlope = 115.27923924670651\r\n",
      "  []\r\n",
      "[]\r\n",
      "[AuxKernels]\r\n",
      "  [diffusion-flux-fuel]\r\n",
      "    type = DiffusionFlux\r\n",
      "    block = omega_1\r\n",
      "    field = uFuel\r\n",
      "    diffCoeff = 1.0\r\n",
      "    variable = diffFluxFuel\r\n",
      "    execute_on = timestep_end\r\n",
      "  []\r\n",
      "  [diffusion-flux-fuel-x]\r\n",
      "    type = VectorVariableComponentAux\r\n",
      "    block = omega_1\r\n",
      "    vector_variable = diffFluxFuel\r\n",
      "    component = x\r\n",
      "    variable = diffFluxFuel_x\r\n",
      "    execute_on = timestep_end\r\n",
      "  []\r\n",
      "[]\r\n",
      "[BCs]\r\n",
      "  [center-line]\r\n",
      "    type = NeumannBC\r\n",
      "    variable = uFuel\r\n",
      "    boundary = left\r\n",
      "    value = 0\r\n",
      "  []\r\n",
      "  [x-b]\r\n",
      "    type = DirichletBC\r\n",
      "    boundary = right\r\n",
      "    value = 9.999999999999999e-09\r\n",
      "    variable = uFuel\r\n",
      "  []\r\n",
      "[]\r\n",
      "[Preconditioning]\r\n",
      "  active = fdp-newt-full\r\n",
      "  [fdp-newt-full]\r\n",
      "    type = FDP\r\n",
      "    full = true\r\n",
      "    solve_type = NEWTON\r\n",
      "    petsc_options_iname = '-pc_type -mat_fd_coloring_err -mat_fd_type'\r\n",
      "    petsc_options_value = 'lu  1e-8          ds'\r\n",
      "  []\r\n",
      "[]\r\n",
      "[Executioner]\r\n",
      "  type = Steady\r\n",
      "[]\r\n",
      "[VectorPostprocessors]\r\n",
      "  [omega_1]\r\n",
      "    type = LineValueSampler\r\n",
      "    execute_on = 'timestep_end final'\r\n",
      "    variable = 'uFuel diffFluxFuel_x'\r\n",
      "    start_point = '0.0 0 0'\r\n",
      "    end_point = '0.124375 0 0'\r\n",
      "    num_points = 13\r\n",
      "    sort_by = id\r\n",
      "  []\r\n",
      "[]\r\n",
      "[Outputs]\r\n",
      "  console = true\r\n",
      "  [csv]\r\n",
      "    type = CSV\r\n",
      "    file_base = output\r\n",
      "    execute_on = final\r\n",
      "  []\r\n",
      "[]\r\n",
      "[Debug]\r\n",
      "  show_var_residual_norms = true\r\n",
      "[]\r\n"
     ]
    }
   ],
   "source": [
    "'''Input file'''\n",
    "write_input_file(with_reflector=False, dirichlet_bc=True)\n",
    "!cat input.hit"
   ]
  },
  {
   "cell_type": "code",
   "execution_count": 14,
   "metadata": {
    "ExecuteTime": {
     "end_time": "2021-12-20T02:21:47.977656Z",
     "start_time": "2021-12-20T02:21:47.526353Z"
    },
    "scrolled": true
   },
   "outputs": [
    {
     "name": "stdout",
     "output_type": "stream",
     "text": [
      "\n",
      "Framework Information:\n",
      "MOOSE Version:           git commit 38d37b938c on 2021-10-22\n",
      "LibMesh Version:         aebb5a5c0e1f6d8cf523a720e19f70a6d17c0236\n",
      "PETSc Version:           3.16.0\n",
      "SLEPc Version:           3.16.0\n",
      "Current Time:            Sun Dec 19 21:21:47 2021\n",
      "Executable Timestamp:    Sat Dec 18 20:05:04 2021\n",
      "\n",
      "Parallelism:\n",
      "  Num Processors:          1\n",
      "  Num Threads:             1\n",
      "\n",
      "Mesh: \n",
      "  Parallel Type:           replicated\n",
      "  Mesh Dimension:          1\n",
      "  Spatial Dimension:       1\n",
      "  Nodes:                   13\n",
      "  Elems:                   6\n",
      "  Num Subdomains:          1\n",
      "\n",
      "Nonlinear System:\n",
      "  Num DOFs:                13\n",
      "  Num Local DOFs:          13\n",
      "  Variables:               \"uFuel\" \n",
      "  Finite Element Types:    \"LAGRANGE\" \n",
      "  Approximation Orders:    \"SECOND\" \n",
      "\n",
      "Auxiliary System:\n",
      "  Num DOFs:                24\n",
      "  Num Local DOFs:          24\n",
      "  Variables:               \"diffFluxFuel\" \"diffFluxFuel_x\" \n",
      "  Finite Element Types:    \"MONOMIAL_VEC\" \"MONOMIAL\" \n",
      "  Approximation Orders:    \"FIRST\" \"FIRST\" \n",
      "\n",
      "Execution Information:\n",
      "  Executioner:             Steady\n",
      "  Solver Mode:             NEWTON\n",
      "  PETSc Preconditioner:    lu \n",
      "  MOOSE Preconditioner:    FDP\n",
      "\n",
      " 0 Nonlinear |R| = \u001b[32m1.277407e+03\u001b[39m\n",
      "    |residual|_2 of individual variables:\n",
      "                      uFuel: 1277.41\n",
      "      0 Linear |R| = \u001b[32m1.277407e+03\u001b[39m\n",
      "      1 Linear |R| = \u001b[32m1.206755e-12\u001b[39m\n",
      " 1 Nonlinear |R| = \u001b[32m8.631996e-05\u001b[39m\n",
      "    |residual|_2 of individual variables:\n",
      "                      uFuel: 8.632e-05\n",
      "      0 Linear |R| = \u001b[32m8.631996e-05\u001b[39m\n",
      "      1 Linear |R| = \u001b[32m1.347505e-20\u001b[39m\n",
      " 2 Nonlinear |R| = \u001b[32m3.650090e-13\u001b[39m\n",
      "    |residual|_2 of individual variables:\n",
      "                      uFuel: 3.65009e-13\n",
      "\u001b[32m Solve Converged!\u001b[39m\n"
     ]
    }
   ],
   "source": [
    "'''Run MOOSE App'''\n",
    "!rm output_omega_*.csv\n",
    "!./fuel_plate-opt -i input.hit"
   ]
  },
  {
   "cell_type": "code",
   "execution_count": 15,
   "metadata": {
    "ExecuteTime": {
     "end_time": "2021-12-20T02:21:48.981350Z",
     "start_time": "2021-12-20T02:21:47.979752Z"
    },
    "code_folding": []
   },
   "outputs": [
    {
     "data": {
      "image/png": "[encoded data removed]",
      "text/plain": [
       "<Figure size 1080x432 with 2 Axes>"
      ]
     },
     "metadata": {},
     "output_type": "display_data"
    },
    {
     "name": "stdout",
     "output_type": "stream",
     "text": [
      "\n"
     ]
    }
   ],
   "source": [
    "'''Show FEM Solution'''\n",
    "\n",
    "import pandas as pd\n",
    "df1 = pd.read_csv('output_omega_1_0002.csv')\n",
    "    \n",
    "plot_solution(df1=df1, title='Bare Fuel Plate Neutron Diffusion; Buckling Mode: %i'%k,\n",
    "              u1_legend=r'$u$ Lagrange Quadratic',\n",
    "              u1_flux_legend=r\"$-u'$ Monomial Linear\",\n",
    "              x_scale=1/unit.cm,\n",
    "              xlabel='x [cm]', normalize_y1=True, y1label=r'$u$ []', \n",
    "              normalize_y2=True, y2label=r\"$-u'$ []\")"
   ]
  },
  {
   "cell_type": "markdown",
   "metadata": {},
   "source": [
    "#### [Test 2: Bare fuel plate (kth mode)](#toc)<a id=\"fuel-k-mode\"></a>\n"
   ]
  },
  {
   "cell_type": "code",
   "execution_count": 16,
   "metadata": {
    "ExecuteTime": {
     "end_time": "2021-12-20T02:21:48.986880Z",
     "start_time": "2021-12-20T02:21:48.983256Z"
    }
   },
   "outputs": [
    {
     "name": "stdout",
     "output_type": "stream",
     "text": [
      "B = 1.611e+00 [1/cm]\n"
     ]
    }
   ],
   "source": [
    "'''Parameters'''\n",
    "import math\n",
    "k = 7\n",
    "buckling = modes[k]*math.pi/(plate_thickness+2*extrapolation_delta)\n",
    "print('B = %2.3e [1/cm]'%(buckling*unit.cm))"
   ]
  },
  {
   "cell_type": "code",
   "execution_count": 17,
   "metadata": {
    "ExecuteTime": {
     "end_time": "2021-12-20T02:21:48.991198Z",
     "start_time": "2021-12-20T02:21:48.988196Z"
    }
   },
   "outputs": [],
   "source": [
    "'''FEM Solution'''\n",
    "n_felem_fuel *= k\n",
    "n_plot_pts_fuel = 2*n_felem_fuel + 1"
   ]
  },
  {
   "cell_type": "code",
   "execution_count": 18,
   "metadata": {
    "ExecuteTime": {
     "end_time": "2021-12-20T02:21:49.124060Z",
     "start_time": "2021-12-20T02:21:48.992902Z"
    },
    "code_folding": [],
    "scrolled": true
   },
   "outputs": [
    {
     "name": "stdout",
     "output_type": "stream",
     "text": [
      "[Problem]\r\n",
      "  type = FEProblem\r\n",
      "  coord_type = XYZ\r\n",
      "[]\r\n",
      "[Mesh]\r\n",
      "  [omega1]\r\n",
      "    type = GeneratedMeshGenerator\r\n",
      "    dim = 1\r\n",
      "    xmin = 0.0\r\n",
      "    xmax = 0.125\r\n",
      "    nx = 42\r\n",
      "    elem_type = edge3\r\n",
      "  []\r\n",
      "  [mod1]\r\n",
      "    type = SubdomainBoundingBoxGenerator\r\n",
      "    input = omega1\r\n",
      "    block_id = 1\r\n",
      "    block_name = omega_1\r\n",
      "    bottom_left = '0.0 0 0'\r\n",
      "    top_right = '0.125 1 0'\r\n",
      "  []\r\n",
      "[]\r\n",
      "[Variables]\r\n",
      "  [uFuel]\r\n",
      "    block = omega_1\r\n",
      "    order = second\r\n",
      "    family = lagrange\r\n",
      "    initial_condition = 10\r\n",
      "  []\r\n",
      "[]\r\n",
      "[AuxVariables]\r\n",
      "  [diffFluxFuel]\r\n",
      "    block = omega_1\r\n",
      "    order = first\r\n",
      "    family = monomial_vec\r\n",
      "  []\r\n",
      "  [diffFluxFuel_x]\r\n",
      "    block = omega_1\r\n",
      "    order = first\r\n",
      "    family = monomial\r\n",
      "  []\r\n",
      "[]\r\n",
      "[Kernels]\r\n",
      "  [diffusion-fuel]\r\n",
      "    type = DiffusionTerm\r\n",
      "    block = omega_1\r\n",
      "    variable = uFuel\r\n",
      "    diffCoeff = 1.0\r\n",
      "  []\r\n",
      "  [source-fuel]\r\n",
      "    type = SourceTerm\r\n",
      "    block = omega_1\r\n",
      "    variable = uFuel\r\n",
      "    sourceSlope = 25937.828830508966\r\n",
      "  []\r\n",
      "[]\r\n",
      "[AuxKernels]\r\n",
      "  [diffusion-flux-fuel]\r\n",
      "    type = DiffusionFlux\r\n",
      "    block = omega_1\r\n",
      "    field = uFuel\r\n",
      "    diffCoeff = 1.0\r\n",
      "    variable = diffFluxFuel\r\n",
      "    execute_on = timestep_end\r\n",
      "  []\r\n",
      "  [diffusion-flux-fuel-x]\r\n",
      "    type = VectorVariableComponentAux\r\n",
      "    block = omega_1\r\n",
      "    vector_variable = diffFluxFuel\r\n",
      "    component = x\r\n",
      "    variable = diffFluxFuel_x\r\n",
      "    execute_on = timestep_end\r\n",
      "  []\r\n",
      "[]\r\n",
      "[BCs]\r\n",
      "  [center-line]\r\n",
      "    type = NeumannBC\r\n",
      "    variable = uFuel\r\n",
      "    boundary = left\r\n",
      "    value = 0\r\n",
      "  []\r\n",
      "  [x-b]\r\n",
      "    type = DirichletBC\r\n",
      "    boundary = right\r\n",
      "    value = 9.999999999999999e-09\r\n",
      "    variable = uFuel\r\n",
      "  []\r\n",
      "[]\r\n",
      "[Preconditioning]\r\n",
      "  active = fdp-newt-full\r\n",
      "  [fdp-newt-full]\r\n",
      "    type = FDP\r\n",
      "    full = true\r\n",
      "    solve_type = NEWTON\r\n",
      "    petsc_options_iname = '-pc_type -mat_fd_coloring_err -mat_fd_type'\r\n",
      "    petsc_options_value = 'lu  1e-8          ds'\r\n",
      "  []\r\n",
      "[]\r\n",
      "[Executioner]\r\n",
      "  type = Steady\r\n",
      "[]\r\n",
      "[VectorPostprocessors]\r\n",
      "  [omega_1]\r\n",
      "    type = LineValueSampler\r\n",
      "    execute_on = 'timestep_end final'\r\n",
      "    variable = 'uFuel diffFluxFuel_x'\r\n",
      "    start_point = '0.0 0 0'\r\n",
      "    end_point = '0.124375 0 0'\r\n",
      "    num_points = 85\r\n",
      "    sort_by = id\r\n",
      "  []\r\n",
      "[]\r\n",
      "[Outputs]\r\n",
      "  console = true\r\n",
      "  [csv]\r\n",
      "    type = CSV\r\n",
      "    file_base = output\r\n",
      "    execute_on = final\r\n",
      "  []\r\n",
      "[]\r\n",
      "[Debug]\r\n",
      "  show_var_residual_norms = true\r\n",
      "[]\r\n"
     ]
    }
   ],
   "source": [
    "'''Input file'''\n",
    "write_input_file(with_reflector=False, dirichlet_bc=True)\n",
    "!cat input.hit"
   ]
  },
  {
   "cell_type": "code",
   "execution_count": 19,
   "metadata": {
    "ExecuteTime": {
     "end_time": "2021-12-20T02:21:49.574975Z",
     "start_time": "2021-12-20T02:21:49.126112Z"
    },
    "scrolled": true
   },
   "outputs": [
    {
     "name": "stdout",
     "output_type": "stream",
     "text": [
      "\n",
      "Framework Information:\n",
      "MOOSE Version:           git commit 38d37b938c on 2021-10-22\n",
      "LibMesh Version:         aebb5a5c0e1f6d8cf523a720e19f70a6d17c0236\n",
      "PETSc Version:           3.16.0\n",
      "SLEPc Version:           3.16.0\n",
      "Current Time:            Sun Dec 19 21:21:49 2021\n",
      "Executable Timestamp:    Sat Dec 18 20:05:04 2021\n",
      "\n",
      "Parallelism:\n",
      "  Num Processors:          1\n",
      "  Num Threads:             1\n",
      "\n",
      "Mesh: \n",
      "  Parallel Type:           replicated\n",
      "  Mesh Dimension:          1\n",
      "  Spatial Dimension:       1\n",
      "  Nodes:                   85\n",
      "  Elems:                   42\n",
      "  Num Subdomains:          1\n",
      "\n",
      "Nonlinear System:\n",
      "  Num DOFs:                85\n",
      "  Num Local DOFs:          85\n",
      "  Variables:               \"uFuel\" \n",
      "  Finite Element Types:    \"LAGRANGE\" \n",
      "  Approximation Orders:    \"SECOND\" \n",
      "\n",
      "Auxiliary System:\n",
      "  Num DOFs:                168\n",
      "  Num Local DOFs:          168\n",
      "  Variables:               \"diffFluxFuel\" \"diffFluxFuel_x\" \n",
      "  Finite Element Types:    \"MONOMIAL_VEC\" \"MONOMIAL\" \n",
      "  Approximation Orders:    \"FIRST\" \"FIRST\" \n",
      "\n",
      "Execution Information:\n",
      "  Executioner:             Steady\n",
      "  Solver Mode:             NEWTON\n",
      "  PETSc Preconditioner:    lu \n",
      "  MOOSE Preconditioner:    FDP\n",
      "\n",
      " 0 Nonlinear |R| = \u001b[32m9.364223e+03\u001b[39m\n",
      "    |residual|_2 of individual variables:\n",
      "                      uFuel: 9364.22\n",
      "      0 Linear |R| = \u001b[32m9.364223e+03\u001b[39m\n",
      "      1 Linear |R| = \u001b[32m1.964332e-11\u001b[39m\n",
      " 1 Nonlinear |R| = \u001b[32m2.209194e-03\u001b[39m\n",
      "    |residual|_2 of individual variables:\n",
      "                      uFuel: 0.00220919\n",
      "      0 Linear |R| = \u001b[32m2.209194e-03\u001b[39m\n",
      "      1 Linear |R| = \u001b[32m1.281789e-18\u001b[39m\n",
      " 2 Nonlinear |R| = \u001b[32m9.085168e-11\u001b[39m\n",
      "    |residual|_2 of individual variables:\n",
      "                      uFuel: 9.08517e-11\n",
      "\u001b[32m Solve Converged!\u001b[39m\n"
     ]
    }
   ],
   "source": [
    "'''Run MOOSE App'''\n",
    "!rm output_omega_*.csv\n",
    "!./fuel_plate-opt -i input.hit"
   ]
  },
  {
   "cell_type": "code",
   "execution_count": 20,
   "metadata": {
    "ExecuteTime": {
     "end_time": "2021-12-20T02:21:49.905433Z",
     "start_time": "2021-12-20T02:21:49.577181Z"
    },
    "code_folding": []
   },
   "outputs": [
    {
     "data": {
      "image/png": "[encoded data removed]",
      "text/plain": [
       "<Figure size 1080x432 with 2 Axes>"
      ]
     },
     "metadata": {},
     "output_type": "display_data"
    },
    {
     "name": "stdout",
     "output_type": "stream",
     "text": [
      "\n"
     ]
    }
   ],
   "source": [
    "'''Show FEM Solution'''\n",
    "\n",
    "import pandas as pd\n",
    "df1 = pd.read_csv('output_omega_1_0002.csv')\n",
    "    \n",
    "plot_solution(df1=df1, title='Bare Fuel Plate Neutron Diffusion; Buckling Mode: %i'%k,\n",
    "              u1_legend=r'$u$ Lagrange Quadratic',\n",
    "              u1_flux_legend=r\"$-u'$ Monomial Linear\",\n",
    "              x_scale=1/unit.cm,\n",
    "              xlabel='x [cm]', normalize_y1=True, y1label=r'$u$ []', \n",
    "              normalize_y2=True, y2label=r\"$-u'$ []\")"
   ]
  },
  {
   "cell_type": "markdown",
   "metadata": {},
   "source": [
    "#### [Test 3: Fuel plate with reflector](#toc)<a id=\"fuel-reflector\"></a>"
   ]
  },
  {
   "cell_type": "code",
   "execution_count": 21,
   "metadata": {
    "ExecuteTime": {
     "end_time": "2021-12-20T02:21:49.911276Z",
     "start_time": "2021-12-20T02:21:49.907013Z"
    }
   },
   "outputs": [
    {
     "name": "stdout",
     "output_type": "stream",
     "text": [
      "B = 1.074e-01 [1/cm]\n"
     ]
    }
   ],
   "source": [
    "'''Parameters'''\n",
    "k = 0\n",
    "buckling = modes[k]*math.pi/(plate_thickness+2*extrapolation_delta)\n",
    "print('B = %2.3e [1/cm]'%(buckling*unit.cm))"
   ]
  },
  {
   "cell_type": "code",
   "execution_count": 22,
   "metadata": {
    "ExecuteTime": {
     "end_time": "2021-12-20T02:21:49.920541Z",
     "start_time": "2021-12-20T02:21:49.913010Z"
    }
   },
   "outputs": [],
   "source": [
    "'''Parameters'''\n",
    "diff_coeff_reflector = 1.0\n",
    "diff_length = 94.7*unit.cm\n",
    "\n",
    "x_b = plate_thickness + 3*diff_length"
   ]
  },
  {
   "cell_type": "code",
   "execution_count": 23,
   "metadata": {
    "ExecuteTime": {
     "end_time": "2021-12-20T02:21:49.927506Z",
     "start_time": "2021-12-20T02:21:49.922627Z"
    }
   },
   "outputs": [],
   "source": [
    "'''FEM Solution'''\n",
    "n_felem_fuel = 3\n",
    "n_felem_reflector = 12\n",
    "\n",
    "order = 'second'\n",
    "flux_order = 'first'\n",
    "\n",
    "fdp_full = True\n",
    "n_plot_pts_fuel = 2*n_felem_fuel + 1\n",
    "n_plot_pts_reflector = 2*n_felem_reflector + 1"
   ]
  },
  {
   "cell_type": "code",
   "execution_count": 24,
   "metadata": {
    "ExecuteTime": {
     "end_time": "2021-12-20T02:21:50.056740Z",
     "start_time": "2021-12-20T02:21:49.929886Z"
    },
    "code_folding": [],
    "scrolled": true
   },
   "outputs": [
    {
     "name": "stdout",
     "output_type": "stream",
     "text": [
      "[Problem]\r\n",
      "  type = FEProblem\r\n",
      "  coord_type = XYZ\r\n",
      "[]\r\n",
      "[Mesh]\r\n",
      "  [omega1]\r\n",
      "    type = GeneratedMeshGenerator\r\n",
      "    dim = 1\r\n",
      "    xmin = 0.0\r\n",
      "    xmax = 0.125\r\n",
      "    nx = 3\r\n",
      "    elem_type = edge3\r\n",
      "  []\r\n",
      "  [omega2]\r\n",
      "    type = GeneratedMeshGenerator\r\n",
      "    dim = 1\r\n",
      "    xmin = 0.125\r\n",
      "    xmax = 3.091\r\n",
      "    nx = 12\r\n",
      "    elem_type = edge3\r\n",
      "  []\r\n",
      "  [omega]\r\n",
      "    type = StitchedMeshGenerator\r\n",
      "    inputs = 'omega1 omega2'\r\n",
      "    stitch_boundaries_pairs = 'right left'\r\n",
      "    clear_stitched_boundary_ids = true\r\n",
      "  []\r\n",
      "  [mod1]\r\n",
      "    type = SubdomainBoundingBoxGenerator\r\n",
      "    input = omega\r\n",
      "    block_id = 1\r\n",
      "    block_name = omega_1\r\n",
      "    bottom_left = '0.0 0 0'\r\n",
      "    top_right = '0.125 1 0'\r\n",
      "  []\r\n",
      "  [mod2]\r\n",
      "    type = SubdomainBoundingBoxGenerator\r\n",
      "    input = mod1\r\n",
      "    block_id = 2\r\n",
      "    block_name = omega_2\r\n",
      "    bottom_left = '0.125 0 0'\r\n",
      "    top_right = '3.091 1 0'\r\n",
      "  []\r\n",
      "  [mod3]\r\n",
      "    type = SideSetsBetweenSubdomainsGenerator\r\n",
      "    input = mod2\r\n",
      "    primary_block = omega_1\r\n",
      "    paired_block = omega_2\r\n",
      "    new_boundary = interface_12\r\n",
      "  []\r\n",
      "  [mod4]\r\n",
      "    type = SideSetsAroundSubdomainGenerator\r\n",
      "    input = mod3\r\n",
      "    block = omega_1\r\n",
      "    normal = '-1 0 0'\r\n",
      "    new_boundary = left\r\n",
      "  []\r\n",
      "  [mod5]\r\n",
      "    type = SideSetsAroundSubdomainGenerator\r\n",
      "    input = mod4\r\n",
      "    block = omega_2\r\n",
      "    normal = '1 0 0'\r\n",
      "    new_boundary = right\r\n",
      "  []\r\n",
      "[]\r\n",
      "[Variables]\r\n",
      "  [uFuel]\r\n",
      "    block = omega_1\r\n",
      "    order = second\r\n",
      "    family = lagrange\r\n",
      "    initial_condition = 10\r\n",
      "  []\r\n",
      "  [uReflector]\r\n",
      "    block = omega_2\r\n",
      "    order = second\r\n",
      "    family = lagrange\r\n",
      "    initial_condition = 10\r\n",
      "  []\r\n",
      "[]\r\n",
      "[AuxVariables]\r\n",
      "  [diffFluxFuel]\r\n",
      "    block = omega_1\r\n",
      "    order = first\r\n",
      "    family = monomial_vec\r\n",
      "  []\r\n",
      "  [diffFluxFuel_x]\r\n",
      "    block = omega_1\r\n",
      "    order = first\r\n",
      "    family = monomial\r\n",
      "  []\r\n",
      "  [diffFluxReflector]\r\n",
      "    block = omega_2\r\n",
      "    order = first\r\n",
      "    family = monomial_vec\r\n",
      "  []\r\n",
      "  [diffFluxReflector_x]\r\n",
      "    block = omega_2\r\n",
      "    order = first\r\n",
      "    family = monomial\r\n",
      "  []\r\n",
      "[]\r\n",
      "[Kernels]\r\n",
      "  [diffusion-fuel]\r\n",
      "    type = DiffusionTerm\r\n",
      "    block = omega_1\r\n",
      "    variable = uFuel\r\n",
      "    diffCoeff = 1.0\r\n",
      "  []\r\n",
      "  [source-fuel]\r\n",
      "    type = SourceTerm\r\n",
      "    block = omega_1\r\n",
      "    variable = uFuel\r\n",
      "    sourceSlope = 115.27923924670651\r\n",
      "  []\r\n",
      "  [diffusion-reflector]\r\n",
      "    type = DiffusionTerm\r\n",
      "    block = omega_2\r\n",
      "    variable = uReflector\r\n",
      "    diffCoeff = 1.0\r\n",
      "  []\r\n",
      "  [source-reflector]\r\n",
      "    type = SourceTerm\r\n",
      "    block = omega_2\r\n",
      "    variable = uReflector\r\n",
      "    sourceSlope = -1.1150646347215516\r\n",
      "  []\r\n",
      "[]\r\n",
      "[InterfaceKernels]\r\n",
      "  [normal-flux-continuity]\r\n",
      "    type = InterfaceNormalFluxContinuity\r\n",
      "    variable = uFuel\r\n",
      "    neighbor_var = uReflector\r\n",
      "    boundary = interface_12\r\n",
      "    diffCoeff = 1.0\r\n",
      "    diffCoeffNeighbor = 1.0\r\n",
      "  []\r\n",
      "  [u-jump]\r\n",
      "    type = InterfaceJump\r\n",
      "    variable = uFuel\r\n",
      "    neighbor_var = uReflector\r\n",
      "    boundary = interface_12\r\n",
      "    transferCoeff = 10000000000.0\r\n",
      "    adsorptionCoeff = 0.0\r\n",
      "    diffCoeff = 1.0\r\n",
      "  []\r\n",
      "[]\r\n",
      "[AuxKernels]\r\n",
      "  [diffusion-flux-fuel]\r\n",
      "    type = DiffusionFlux\r\n",
      "    block = omega_1\r\n",
      "    field = uFuel\r\n",
      "    diffCoeff = 1.0\r\n",
      "    variable = diffFluxFuel\r\n",
      "    execute_on = timestep_end\r\n",
      "  []\r\n",
      "  [diffusion-flux-fuel-x]\r\n",
      "    type = VectorVariableComponentAux\r\n",
      "    block = omega_1\r\n",
      "    vector_variable = diffFluxFuel\r\n",
      "    component = x\r\n",
      "    variable = diffFluxFuel_x\r\n",
      "    execute_on = timestep_end\r\n",
      "  []\r\n",
      "  [diffusion-flux-reflector]\r\n",
      "    type = DiffusionFlux\r\n",
      "    block = omega_2\r\n",
      "    field = uReflector\r\n",
      "    diffCoeff = 1.0\r\n",
      "    variable = diffFluxReflector\r\n",
      "    execute_on = timestep_end\r\n",
      "  []\r\n",
      "  [diffusion-flux-reflector-x]\r\n",
      "    type = VectorVariableComponentAux\r\n",
      "    block = omega_2\r\n",
      "    vector_variable = diffFluxReflector\r\n",
      "    component = x\r\n",
      "    variable = diffFluxReflector_x\r\n",
      "    execute_on = timestep_end\r\n",
      "  []\r\n",
      "[]\r\n",
      "[BCs]\r\n",
      "  [center-line]\r\n",
      "    type = NeumannBC\r\n",
      "    variable = uFuel\r\n",
      "    boundary = left\r\n",
      "    value = 0\r\n",
      "  []\r\n",
      "  [x-b]\r\n",
      "    type = DirichletBC\r\n",
      "    boundary = right\r\n",
      "    value = 9.999999999999999e-09\r\n",
      "    variable = uReflector\r\n",
      "  []\r\n",
      "[]\r\n",
      "[Preconditioning]\r\n",
      "  active = fdp-newt-full\r\n",
      "  [fdp-newt-full]\r\n",
      "    type = FDP\r\n",
      "    full = true\r\n",
      "    solve_type = NEWTON\r\n",
      "    petsc_options_iname = '-pc_type -mat_fd_coloring_err -mat_fd_type'\r\n",
      "    petsc_options_value = 'lu  1e-8          ds'\r\n",
      "  []\r\n",
      "[]\r\n",
      "[Executioner]\r\n",
      "  type = Steady\r\n",
      "[]\r\n",
      "[VectorPostprocessors]\r\n",
      "  [omega_1]\r\n",
      "    type = LineValueSampler\r\n",
      "    execute_on = 'timestep_end final'\r\n",
      "    variable = 'uFuel diffFluxFuel_x'\r\n",
      "    start_point = '0.0 0 0'\r\n",
      "    end_point = '0.124375 0 0'\r\n",
      "    num_points = 7\r\n",
      "    sort_by = id\r\n",
      "  []\r\n",
      "  [omega_2]\r\n",
      "    type = LineValueSampler\r\n",
      "    execute_on = 'timestep_end final'\r\n",
      "    variable = 'uReflector diffFluxReflector_x'\r\n",
      "    start_point = '0.125625 0 0'\r\n",
      "    end_point = '3.091 0 0'\r\n",
      "    num_points = 25\r\n",
      "    sort_by = id\r\n",
      "  []\r\n",
      "[]\r\n",
      "[Outputs]\r\n",
      "  console = true\r\n",
      "  [csv]\r\n",
      "    type = CSV\r\n",
      "    file_base = output\r\n",
      "    execute_on = final\r\n",
      "  []\r\n",
      "[]\r\n",
      "[Debug]\r\n",
      "  show_var_residual_norms = true\r\n",
      "[]\r\n"
     ]
    }
   ],
   "source": [
    "'''Input file'''\n",
    "write_input_file(with_reflector=True, dirichlet_bc=True)\n",
    "!cat input.hit"
   ]
  },
  {
   "cell_type": "code",
   "execution_count": 25,
   "metadata": {
    "ExecuteTime": {
     "end_time": "2021-12-20T02:21:50.400361Z",
     "start_time": "2021-12-20T02:21:50.058639Z"
    },
    "scrolled": true
   },
   "outputs": [
    {
     "name": "stdout",
     "output_type": "stream",
     "text": [
      "\n",
      "In ReplicatedMesh::stitch_meshes:\n",
      "This mesh has 1 nodes on boundary 1.\n",
      "Other mesh has 1 nodes on boundary 0.\n",
      "Minimum edge length on both surfaces is 0.0416667.\n",
      "In ReplicatedMesh::stitch_meshes:\n",
      "Found 1 matching nodes.\n",
      "\n",
      "Framework Information:\n",
      "MOOSE Version:           git commit 38d37b938c on 2021-10-22\n",
      "LibMesh Version:         aebb5a5c0e1f6d8cf523a720e19f70a6d17c0236\n",
      "PETSc Version:           3.16.0\n",
      "SLEPc Version:           3.16.0\n",
      "Current Time:            Sun Dec 19 21:21:50 2021\n",
      "Executable Timestamp:    Sat Dec 18 20:05:04 2021\n",
      "\n",
      "Parallelism:\n",
      "  Num Processors:          1\n",
      "  Num Threads:             1\n",
      "\n",
      "Mesh: \n",
      "  Parallel Type:           replicated\n",
      "  Mesh Dimension:          1\n",
      "  Spatial Dimension:       1\n",
      "  Nodes:                   31\n",
      "  Elems:                   15\n",
      "  Num Subdomains:          2\n",
      "\n",
      "Nonlinear System:\n",
      "  Num DOFs:                32\n",
      "  Num Local DOFs:          32\n",
      "  Variables:               \"uFuel\" \"uReflector\" \n",
      "  Finite Element Types:    \"LAGRANGE\" \"LAGRANGE\" \n",
      "  Approximation Orders:    \"SECOND\" \"SECOND\" \n",
      "\n",
      "Auxiliary System:\n",
      "  Num DOFs:                60\n",
      "  Num Local DOFs:          60\n",
      "  Variables:               \"diffFluxFuel\" \"diffFluxFuel_x\" \"diffFluxReflector\" \"diffFluxReflector_x\" \n",
      "                             \n",
      "  Finite Element Types:    \"MONOMIAL_VEC\" \"MONOMIAL\" \"MONOMIAL_VEC\" \"MONOMIAL\" \n",
      "  Approximation Orders:    \"FIRST\" \"FIRST\" \"FIRST\" \"FIRST\" \n",
      "\n",
      "Execution Information:\n",
      "  Executioner:             Steady\n",
      "  Solver Mode:             NEWTON\n",
      "  PETSc Preconditioner:    lu \n",
      "  MOOSE Preconditioner:    FDP\n",
      "\n",
      " 0 Nonlinear |R| = \u001b[32m1.261674e+02\u001b[39m\n",
      "    |residual|_2 of individual variables:\n",
      "                 uFuel:      60.9681\n",
      "                 uReflector: 110.459\n",
      "      0 Linear |R| = \u001b[32m1.261674e+02\u001b[39m\n",
      "      1 Linear |R| = \u001b[32m4.540249e-13\u001b[39m\n",
      " 1 Nonlinear |R| = \u001b[32m4.779124e-05\u001b[39m\n",
      "    |residual|_2 of individual variables:\n",
      "                 uFuel:      4.6176e-05\n",
      "                 uReflector: 1.232e-05\n",
      "      0 Linear |R| = \u001b[32m4.779124e-05\u001b[39m\n",
      "      1 Linear |R| = \u001b[32m1.338029e-20\u001b[39m\n",
      " 2 Nonlinear |R| = \u001b[32m1.605343e-12\u001b[39m\n",
      "    |residual|_2 of individual variables:\n",
      "                 uFuel:      1.98631e-13\n",
      "                 uReflector: 1.59301e-12\n",
      "\u001b[32m Solve Converged!\u001b[39m\n"
     ]
    }
   ],
   "source": [
    "'''Run MOOSE App'''\n",
    "!./fuel_plate-opt -i input.hit"
   ]
  },
  {
   "cell_type": "code",
   "execution_count": 26,
   "metadata": {
    "ExecuteTime": {
     "end_time": "2021-12-20T02:21:50.700685Z",
     "start_time": "2021-12-20T02:21:50.402223Z"
    },
    "code_folding": [
     6
    ]
   },
   "outputs": [
    {
     "data": {
      "image/png": "[encoded data removed]",
      "text/plain": [
       "<Figure size 1080x432 with 2 Axes>"
      ]
     },
     "metadata": {},
     "output_type": "display_data"
    },
    {
     "name": "stdout",
     "output_type": "stream",
     "text": [
      "\n"
     ]
    }
   ],
   "source": [
    "'''Show FEM Solution'''\n",
    "\n",
    "import pandas as pd\n",
    "df1 = pd.read_csv('output_omega_1_0002.csv')\n",
    "df2 = pd.read_csv('output_omega_2_0002.csv')\n",
    "    \n",
    "plot_solution(df1=df1, df2=df2, title='Fuel Plate w/Reflector Neutron Diffusion',\n",
    "              u1_legend=r'$u_f$ Lagrange Quadratic',\n",
    "              u1_flux_legend=r\"$-u'_f$ Monomial Linear\",\n",
    "              u2_legend=r'$u_r$ Lagrange Quadratic',\n",
    "              u2_flux_legend=r\"$-u'_r$ Monomial Linear\",\n",
    "              x_scale=1/unit.cm,\n",
    "              xlabel='x [cm]', normalize_y1=True, y1label=r'$u$ []', \n",
    "              normalize_y2=True, y2label=r\"$-u'$ []\")"
   ]
  },
  {
   "cell_type": "markdown",
   "metadata": {},
   "source": [
    "## [2-D Results and Analysis](#toc)<a id=\"ranalysis\"></a>"
   ]
  },
  {
   "cell_type": "code",
   "execution_count": 27,
   "metadata": {
    "ExecuteTime": {
     "end_time": "2021-12-20T02:21:50.707253Z",
     "start_time": "2021-12-20T02:21:50.703231Z"
    }
   },
   "outputs": [
    {
     "data": {
      "text/plain": [
       "'Parameters'"
      ]
     },
     "execution_count": 27,
     "metadata": {},
     "output_type": "execute_result"
    }
   ],
   "source": [
    "'''Parameters'''"
   ]
  },
  {
   "cell_type": "code",
   "execution_count": 28,
   "metadata": {
    "ExecuteTime": {
     "end_time": "2021-12-20T02:21:50.715040Z",
     "start_time": "2021-12-20T02:21:50.709766Z"
    }
   },
   "outputs": [
    {
     "data": {
      "text/plain": [
       "'FEM Parameters'"
      ]
     },
     "execution_count": 28,
     "metadata": {},
     "output_type": "execute_result"
    }
   ],
   "source": [
    "'''FEM Parameters'''"
   ]
  },
  {
   "cell_type": "code",
   "execution_count": 29,
   "metadata": {
    "ExecuteTime": {
     "end_time": "2021-12-20T02:21:50.723375Z",
     "start_time": "2021-12-20T02:21:50.716545Z"
    }
   },
   "outputs": [
    {
     "data": {
      "text/plain": [
       "'Input file mod'"
      ]
     },
     "execution_count": 29,
     "metadata": {},
     "output_type": "execute_result"
    }
   ],
   "source": [
    "'''Input file mod'''"
   ]
  },
  {
   "cell_type": "code",
   "execution_count": 30,
   "metadata": {
    "ExecuteTime": {
     "end_time": "2021-12-20T02:21:50.729977Z",
     "start_time": "2021-12-20T02:21:50.725462Z"
    },
    "scrolled": true
   },
   "outputs": [
    {
     "data": {
      "text/plain": [
       "'Run MOOSE App'"
      ]
     },
     "execution_count": 30,
     "metadata": {},
     "output_type": "execute_result"
    }
   ],
   "source": [
    "'''Run MOOSE App'''"
   ]
  },
  {
   "cell_type": "code",
   "execution_count": 31,
   "metadata": {
    "ExecuteTime": {
     "end_time": "2021-12-20T02:21:50.737071Z",
     "start_time": "2021-12-20T02:21:50.732308Z"
    }
   },
   "outputs": [
    {
     "data": {
      "text/plain": [
       "'Show 2D solution'"
      ]
     },
     "execution_count": 31,
     "metadata": {},
     "output_type": "execute_result"
    }
   ],
   "source": [
    "'''Show 2D solution'''"
   ]
  },
  {
   "cell_type": "markdown",
   "metadata": {},
   "source": [
    "## [Conclusions](#toc)<a id=\"conclusions\"></a>"
   ]
  },
  {
   "cell_type": "markdown",
   "metadata": {},
   "source": [
    "## [References](#toc)<a id=\"refs\"></a>\n",
    "\n",
    "- [1] V. F. de Almeida, [*Engy-5310: Computational Continuum Transport Phenomena*](https://github.com/dpploy/engy-5310), University of Massachusetts Lowell, Dept. of Chemical Engineering (Nuclear Energy Program).\n",
    "- [2] Multiphysics Object-Oriented Simulation Environment [(MOOSE)](https://mooseframework.org)\n",
    "- [4] author, [reference]()"
   ]
  },
  {
   "cell_type": "code",
   "execution_count": null,
   "metadata": {},
   "outputs": [],
   "source": []
  }
 ],
 "metadata": {
  "kernelspec": {
   "display_name": "Python 3 (ipykernel)",
   "language": "python",
   "name": "python3"
  },
  "language_info": {
   "codemirror_mode": {
    "name": "ipython",
    "version": 3
   },
   "file_extension": ".py",
   "mimetype": "text/x-python",
   "name": "python",
   "nbconvert_exporter": "python",
   "pygments_lexer": "ipython3",
   "version": "3.9.9"
  },
  "latex_envs": {
   "LaTeX_envs_menu_present": true,
   "autoclose": false,
   "autocomplete": true,
   "bibliofile": "biblio.bib",
   "cite_by": "apalike",
   "current_citInitial": 1,
   "eqLabelWithNumbers": true,
   "eqNumInitial": 1,
   "hotkeys": {
    "equation": "Ctrl-E",
    "itemize": "Ctrl-I"
   },
   "labels_anchors": false,
   "latex_user_defs": false,
   "report_style_numbering": false,
   "user_envs_cfg": false
  }
 },
 "nbformat": 4,
 "nbformat_minor": 2
}
