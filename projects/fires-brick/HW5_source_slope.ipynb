{
 "cells": [
  {
   "cell_type": "markdown",
   "metadata": {},
   "source": [
    "Engy-5310: Computational Continuum Transport Phenomena Fall 2021 UMass Lowell; Prof. V. F. de Almeida **05Oct21**\n",
    "\n",
    "# Homework 05 (02Nov21)\n",
    "\n",
    "$  \n",
    "  \\newcommand{\\Amtrx}{\\boldsymbol{\\mathsf{A}}}\n",
    "  \\newcommand{\\Bmtrx}{\\boldsymbol{\\mathsf{B}}}\n",
    "  \\newcommand{\\Mmtrx}{\\boldsymbol{\\mathsf{M}}}\n",
    "  \\newcommand{\\Imtrx}{\\boldsymbol{\\mathsf{I}}}\n",
    "  \\newcommand{\\Pmtrx}{\\boldsymbol{\\mathsf{P}}}\n",
    "  \\newcommand{\\Lmtrx}{\\boldsymbol{\\mathsf{L}}}\n",
    "  \\newcommand{\\Umtrx}{\\boldsymbol{\\mathsf{U}}}\n",
    "  \\newcommand{\\Smtrx}{\\boldsymbol{\\mathsf{S}}}\n",
    "  \\newcommand{\\xvec}{\\boldsymbol{\\mathsf{x}}}\n",
    "  \\newcommand{\\avec}{\\boldsymbol{\\mathsf{a}}}\n",
    "  \\newcommand{\\bvec}{\\boldsymbol{\\mathsf{b}}}\n",
    "  \\newcommand{\\cvec}{\\boldsymbol{\\mathsf{c}}}\n",
    "  \\newcommand{\\rvec}{\\boldsymbol{\\mathsf{r}}}\n",
    "  \\newcommand{\\fvec}{\\boldsymbol{\\mathsf{f}}}\n",
    "  \\newcommand{\\mvec}{\\boldsymbol{\\mathsf{m}}}\n",
    "  \\newcommand{\\gvec}{\\boldsymbol{\\mathsf{g}}}\n",
    "  \\newcommand{\\zerovec}{\\boldsymbol{\\mathsf{0}}}\n",
    "  \\newcommand{\\norm}[1]{\\bigl\\lVert{#1}\\bigr\\rVert}\n",
    "  \\newcommand{\\transpose}[1]{{#1}^\\top}\n",
    "  \\DeclareMathOperator{\\rank}{rank}\n",
    "  \\newcommand{\\Reals}{\\mathbb{R}}\n",
    "  \\newcommand{\\thetavec}{\\boldsymbol{\\theta}}\n",
    "$"
   ]
  },
  {
   "cell_type": "markdown",
   "metadata": {},
   "source": [
    "### Name: `Shubojit Banerjee & Julián Barra`"
   ]
  },
  {
   "cell_type": "markdown",
   "metadata": {},
   "source": [
    "### Rubric for each assignment: \n",
    "\n",
    "|       Context               |  Points |\n",
    "| -----------------------     | ------- |\n",
    "| Precision of the answer     |   80%   |\n",
    "| Answer Markdown readability |   10%   |\n",
    "| Code readability            |   10%   |"
   ]
  },
  {
   "cell_type": "markdown",
   "metadata": {},
   "source": [
    "### <span style=\"color:red\">Guidance:</span>\n",
    "\n",
    "+  <span style=\"color:red\"> \n",
    "    Save your work frequently to a file locally to your computer.\n",
    "   </span>\n",
    "+  <span style=\"color:red\">\n",
    "    During your work and before submitting the final version do:</span> Kernel -> Restart & Run All<span style=\"color:red\">, to verify your notebook runs correctly.\n",
    "   </span>\n",
    "+  <span style=\"color:red\">\n",
    "    Save your file again.\n",
    "   </span>\n",
    "+  <span style=\"color:red\">\n",
    "    Upload the notebook file in the Blackboard submission portal as: \n",
    "   </span> \n",
    "   \n",
    "   **lastname-firstname-labwork-xx.ipynb**"
   ]
  },
  {
   "cell_type": "markdown",
   "metadata": {},
   "source": [
    "---\n",
    "## Table of Assignments<a id=\"toa\"></a>\n",
    "* [Assignment 1 (95 pts)](#a1) Function approximation with Lagrange finite element basis functions.\n",
    " - [1.1)](#a11)(10 pts) Problem statement.\n",
    " - [1.2)](#a12)(15 pts) Manufacture a solution.\n",
    " - [1.3)](#a13)(20 pts) Solution of manufactured problem with less than 1% exact error.\n",
    " - [1.4)](#a14)(20 pts) Solve original problem with the same method.\n",
    " - [1.5)](#a14)(20 pts) Demonstrate solution is mesh converged.\n",
    " - [1.6)](#a14)(10 pts) Provide total balance relative error.\n",
    "* [Assignment 2 (5 pts)](#a2) .\n",
    "---"
   ]
  },
  {
   "cell_type": "markdown",
   "metadata": {},
   "source": [
    "## <span style=\"color:blue\">[Assignment 1 (95 pts)](#toa)</span><a id=\"a2\"></a>"
   ]
  },
  {
   "cell_type": "markdown",
   "metadata": {},
   "source": [
    "### <span style=\"color:blue\">[1.1)](#toa)(10 pts) State your Poisson mathematical problem.\n",
    "</span><a id=\"a11\"></a>"
   ]
  },
  {
   "cell_type": "markdown",
   "metadata": {},
   "source": [
    "The problem we want to tackle as a project is the thermal modeling of the bricks of the FIRES project, used for thermal energy storage. The problem we want to tackle is both the modeling of the system in general and to see if it will present thermal runway. The problem can be set generically as this:\n",
    "\n",
    "\\begin{align*}\n",
    " -\\bigl(-k(x)\\, u'\\bigr)'(x) + f(x) &= 0 \\quad\\quad \\forall \\quad\\quad x\\in [a,b], \\\\\n",
    " u(a) &= u_a, \\\\\n",
    " u(b) &= u_b.\n",
    "\\end{align*}\n",
    "\n",
    "In our heat conduction problem, the diffusion term will be the same as this original statement, and given by Fourier's law:\n",
    "\n",
    "\\begin{align*}\n",
    "-\\frac{\\partial }{\\partial x}\\left (-k \\frac{\\partial T}{\\partial x} \\right )\n",
    "\\end{align*}\n",
    "\n",
    "Our version of the problem has a constant heat generation term and no source slope. The generation of heat corresponds to the heating of the resistor material via the Joule effect. The equation for the heat density will be given as follows:\n",
    "\n",
    "\\begin{align*}\n",
    "f\\left (x \\right )=\\dot{e}_{gen}=\\frac{AV^{2}}{  L_{char} \\rho }\n",
    "\\end{align*}\n",
    "\n",
    "For the values of the several variables to be input into the equation, we will use some of them found as the values for Aluminum oxide, which is the material the bricks are going to be made of. Note thathaving the exact value of every element in the equation isn't really important. Hence why we exaggerate the value of the voltage to obtain a solution with higher values of temperature. In the case of the electrical resistivity, we use the value found at ambient temperature.\n",
    "\n",
    "\\begin{align*}\n",
    "\\rho =4085,7 \\; \\left [ \\frac{W}{mK} \\right ]\n",
    "\\end{align*}\n",
    "\n",
    "\\begin{align*}\n",
    "A =0,05 \\; \\left [ m^{2} \\right ]\n",
    "\\end{align*}\n",
    "\n",
    "\\begin{align*}\n",
    "L_{char} =0,05 \\; \\left [ m \\right ]\n",
    "\\end{align*}\n",
    "\n",
    "\\begin{align*}\n",
    "V =300 \\; \\left [ kV \\right ]\n",
    "\\end{align*}\n",
    "\n",
    "With regards to the value of heat conduction, we will try to make an approximation of it as dependent on the value of temperature. We can't know the temperature profile a priori (that is what we're trying to solve for in the first place), so we will build a linear heat conductivity equation, with the values at the extremes of the heat conductivity curve being the values for aluminum oxide at the temperatures at the boundaries of the domain, which is something we will explain next. These will be the values of the heat conductivity:\n",
    "\n",
    "\\begin{align*}\n",
    "k(20)=31,93 \\; \\left [ \\frac{W}{mK} \\right ]\n",
    "\\end{align*}\n",
    "\n",
    "\\begin{align*}\n",
    "k(40)=29,94 \\; \\left [ \\frac{W}{mK} \\right ]\n",
    "\\end{align*}\n",
    "\n",
    "\n",
    "Boundary conditions will be given by the fact that the air will cool the bricks at both extremes of the domain, (assuming the brick is an uniform geometry), and one side will have a small temperature difference with the other to introduce a perturbation in the system to see if the system ends up in disiquilibrium or not. A reasonable first approximation is to assume the temperature at the borders of the domain (As we will explain later, we're modeling the heat along one of the walls of the brick) equals the temperature of the inlet air. We want to introduce a little disturbance so the system isn't perfectly symmetrical, however, because we want to know if the change of thermal conductivity with temperature might cause some level of thermal runway. We will fix one of the temperatures of the domain to 20°C higher than the temperature of the inlet air, then.\n",
    "\n",
    "\\begin{align*}\n",
    "T_{a}=20\\; [°C]\n",
    "\\end{align*}\n",
    "\n",
    "\\begin{align*}\n",
    "T_{a}=40\\; [°C]\n",
    "\\end{align*}\n",
    "\n",
    "The domain itself is hard to define. Since there is not so much as boundaries in which fixed temperatures are defined but rather the air cools by entering in the channels of the bricks. The temperature, then, will be calculated in the thick walls between each air channel. The thichkness of these channels is 5 cm, so we will define a domain such that a is 0 and b is 0.05 m.\n",
    "\n",
    "\\begin{align*}\n",
    "x\\in [0,0.05]\n",
    "\\end{align*}"
   ]
  },
  {
   "cell_type": "markdown",
   "metadata": {},
   "source": [
    "### <span style=\"color:blue\">[1.2)](#toa)(15 pts) Manufacture a solution. Explain.\n",
    "</span><a id=\"a12\"></a>"
   ]
  },
  {
   "cell_type": "markdown",
   "metadata": {},
   "source": [
    "We first import all libraries necessary for our work."
   ]
  },
  {
   "cell_type": "code",
   "execution_count": 1,
   "metadata": {},
   "outputs": [],
   "source": [
    "'''Generate the target function f'''\n",
    "import matplotlib.pyplot as plt\n",
    "import math as m\n",
    "import numpy as np\n",
    "from scipy.interpolate import interp1d\n",
    "from scipy.integrate import quad"
   ]
  },
  {
   "cell_type": "markdown",
   "metadata": {},
   "source": [
    "We then procceed to manufacture a solution and to use the code on that to find out if we can obtain it back from the problem. That way we can test our algorithm, to see if it works."
   ]
  },
  {
   "cell_type": "code",
   "execution_count": 2,
   "metadata": {},
   "outputs": [
    {
     "data": {
      "image/png": "[encoded data removed]",
      "text/plain": [
       "<Figure size 432x288 with 2 Axes>"
      ]
     },
     "metadata": {
      "needs_background": "light"
     },
     "output_type": "display_data"
    }
   ],
   "source": [
    "'''Rayleigh Ritz Method with Lagrange FE Basis Functions'''\n",
    "x_min=0\n",
    "x_max=0.05\n",
    "\n",
    "degree = 2  #Degree of the lagrange polinomials used\n",
    "n_elem = 20 #Number of elements used\n",
    "\n",
    "lamda=x_max-x_min\n",
    "def trigonometric_sol(x,n,func='sin'):\n",
    "    if func=='sin':\n",
    "        u_n=np.sqrt(2/lamda)*np.sin(np.pi*x*n/lamda)\n",
    "        u_n_deriv=-np.sqrt(2/lamda)*((np.pi*n/lamda)**2)*np.sin(np.pi*x*n/lamda)\n",
    "    return u_n,u_n_deriv\n",
    "\n",
    "x_pts=np.linspace(x_min,x_max,100)\n",
    "u_n,u_n_dderiv=trigonometric_sol(x_pts,2)\n",
    "fig, ax1 = plt.subplots()\n",
    "plt.grid()\n",
    "ax2 = ax1.twinx()\n",
    "ax1.plot(x_pts,u_n,label=r'$\\sqrt{\\frac{2}{\\lambda}}sin(\\frac{\\pi n}{\\lambda})$')\n",
    "ax2.plot(x_pts,u_n_dderiv,label=r'$-\\sqrt{\\frac{2}{\\lambda}}(\\frac{2\\pi}{\\lambda})^2sin(\\frac{2\\pi x }{\\lambda})$',color='Red')\n",
    "ax1.set_xlabel('x')\n",
    "ax1.set_ylabel('U_N')\n",
    "ax2.set_ylabel(r'$D^2(sin)$',color='red')\n",
    "#fig.set_size_inches(15,10)\n",
    "fig.legend()\n",
    "\n",
    "#plt.savefig('viscosity_acf_700k.png',dpi=300)\n",
    "plt.show()"
   ]
  },
  {
   "cell_type": "markdown",
   "metadata": {},
   "source": [
    "### <span style=\"color:blue\">[1.3)](#toa)(20 pts) Solve your problem with the corresponding manufactured source using the Rayleigh-Ritz method with FEM Lagrange basis functions. Provide an approximate solution with relative $L^2$ norm exact error of 1% or less. Plot the solution and its flux. Provide the values of the solution at the boundaries and the corresponding values of the normal fluxes. Explain.\n",
    "</span><a id=\"a13\"></a>"
   ]
  },
  {
   "cell_type": "code",
   "execution_count": 3,
   "metadata": {},
   "outputs": [],
   "source": [
    "Cond_shape_pts = [(0,1),(10,1)]\n",
    "Cond=np.array(Cond_shape_pts)\n",
    "\n",
    "f_cond=1"
   ]
  },
  {
   "cell_type": "code",
   "execution_count": 4,
   "metadata": {},
   "outputs": [
    {
     "data": {
      "image/png": "[encoded data removed]",
      "text/plain": [
       "<Figure size 432x288 with 1 Axes>"
      ]
     },
     "metadata": {
      "needs_background": "light"
     },
     "output_type": "display_data"
    }
   ],
   "source": [
    "'''Source bias'''\n",
    "\n",
    "def f_sb(x):\n",
    "    u_n_deriv=np.sqrt(2/lamda)*((np.pi*2/lamda)**2)*np.sin(np.pi*x*2/lamda)\n",
    "    return u_n_deriv\n",
    "\n",
    "u_n_deriv=f_sb(x_pts)\n",
    "plt.plot(x_pts,u_n_deriv,label=r'$\\bf{f}(x)=\\sqrt{\\frac{2}{\\lambda}}(\\frac{2\\pi}{\\lambda})^2sin(\\frac{2\\pi x }{\\lambda})$')\n",
    "plt.grid()\n",
    "plt.xlabel('x')\n",
    "plt.ylabel('f(x)')\n",
    "plt.legend()\n",
    "plt.show()"
   ]
  },
  {
   "cell_type": "markdown",
   "metadata": {},
   "source": [
    "Having this, we proceed to define the functions to partition the domain and also obtain the required basis functions."
   ]
  },
  {
   "cell_type": "code",
   "execution_count": 5,
   "metadata": {},
   "outputs": [],
   "source": [
    "'''Domain partition'''\n",
    "def get_domain_partition(degree, n_elem, x_min, x_max, bc_x_min='essential', bc_x_max='essential'):\n",
    "    #assert degree == 1\n",
    "    # Local node numbering on parent domain\n",
    "    # --0--------------1---->\n",
    "    #  -1      0      +1    zetta\n",
    "    gnodes_x = np.linspace(x_min, x_max, n_elem*degree+1, dtype=np.float64)\n",
    "    patches = list()\n",
    "    local_to_global_node_id_map = list()\n",
    "    for e in range(n_elem):\n",
    "        gnode_id_1 = degree*e   #left\n",
    "        gnode_id_2 = degree*e+1 #center\n",
    "        gnode_id_3 = degree*e+2 #right\n",
    "        x1 = gnodes_x[gnode_id_1]\n",
    "        x2 = gnodes_x[gnode_id_2]\n",
    "        x3 = gnodes_x[gnode_id_3]\n",
    "        # Local node id:  0   1\n",
    "        patches.append((x1, x2, x3))\n",
    "        # Local node id:                        0           2             1\n",
    "        local_to_global_node_id_map.append([gnode_id_1, gnode_id_2,  gnode_id_3])\n",
    "    if bc_x_min == 'essential':\n",
    "        local_to_global_node_id_map[0][0] = -1\n",
    "    if bc_x_max == 'essential':\n",
    "        local_to_global_node_id_map[-1][-1] = -1\n",
    "    return (patches, gnodes_x, local_to_global_node_id_map)"
   ]
  },
  {
   "cell_type": "code",
   "execution_count": 6,
   "metadata": {},
   "outputs": [],
   "source": [
    "'''Parent mapping'''\n",
    "def get_parent_mapping():\n",
    "    # zetta in [-1,1]\n",
    "    parent_mapping = lambda zetta, x_e_bar, h_e: x_e_bar + h_e/2*zetta # compute x\n",
    "    parent_mapping_prime = lambda h_e: h_e/2                           # compute mapping derivative wrt zetta\n",
    "    # x in Omega_e\n",
    "    inverse_parent_mapping = lambda x, x_e_bar, h_e: (x - x_e_bar)*2/h_e # compute zetta\n",
    "    return (parent_mapping, parent_mapping_prime, inverse_parent_mapping)"
   ]
  },
  {
   "cell_type": "code",
   "execution_count": 7,
   "metadata": {},
   "outputs": [],
   "source": [
    "'''The basis functions'''\n",
    "def get_parent_basis_functions():\n",
    "    parent_basis_func_list = list()\n",
    "    parent_basis_func_prime_list = list()\n",
    "    parent_basis_func_list.append(lambda zetta: (zetta**2-zetta)/2)  # left\n",
    "    parent_basis_func_list.append(lambda zetta: -(zetta**2-1))  # middle\n",
    "    parent_basis_func_list.append(lambda zetta:  (zetta**2+zetta)/2)  # right\n",
    "    parent_basis_func_prime_list.append(lambda zetta: (2*zetta-1)/2) # left\n",
    "    parent_basis_func_prime_list.append(lambda zetta: -2*zetta) # middle\n",
    "    parent_basis_func_prime_list.append(lambda zetta:  (2*zetta+1)/2) # right\n",
    "    return (parent_basis_func_list, parent_basis_func_prime_list)"
   ]
  },
  {
   "cell_type": "code",
   "execution_count": 8,
   "metadata": {},
   "outputs": [],
   "source": [
    "'''Again the function for the obtaining of the basis functions'''\n",
    "def global_basis_function(i, x, domain_partition, parent_mapping, parent_basis_functions):\n",
    "  \n",
    "    try:\n",
    "        len(x)\n",
    "    except TypeError:\n",
    "        x = np.array([x])\n",
    "  \n",
    "    if not isinstance(x, np.ndarray):\n",
    "       assert isinstance(x, list) or isinstance(x, tuple)\n",
    "       x = np.array(x)\n",
    "  \n",
    "    phi_i_x = np.copy(x) * 0.0 # initialization\n",
    "    phi_prime_i_x = np.copy(x) * 0.0 # initialization\n",
    "        \n",
    "    patches = domain_partition[0]\n",
    "    local_to_global_node_id_map = domain_partition[2]\n",
    "    inverse_parent_mapping = parent_mapping[2]\n",
    "    \n",
    "    parent_basis_func_list = parent_basis_functions[0]\n",
    "    parent_basis_func_prime_list = parent_basis_functions[1]\n",
    "  \n",
    "    # expensive reverse lookup\n",
    "    for j, x_j in enumerate(x):\n",
    "        for e, nodes_x in enumerate(patches):\n",
    "            if nodes_x[0] <= x_j <= nodes_x[-1]:\n",
    "                n_lnodes = len(nodes_x)\n",
    "                for I in range(n_lnodes):\n",
    "                    if local_to_global_node_id_map[e][I] == i:\n",
    "                        x_e_bar = (nodes_x[0] + nodes_x[-1])/2\n",
    "                        h_e = nodes_x[-1] - nodes_x[0]\n",
    "                        zetta = inverse_parent_mapping(x_j, x_e_bar, h_e)\n",
    "                        phi_i_x[j] = parent_basis_func_list[I](zetta)\n",
    "                        phi_prime_i_x[j] = parent_basis_func_prime_list[I](zetta)\n",
    "                break\n",
    "    return [phi_i_x, phi_prime_i_x]"
   ]
  },
  {
   "cell_type": "code",
   "execution_count": 9,
   "metadata": {},
   "outputs": [],
   "source": [
    "'''All global basis functions'''\n",
    "def get_global_basis_functions(domain_partition, parent_mapping, parent_basis_functions, global_basis_function):\n",
    "    \n",
    "    basis_func_list = list()\n",
    "    basis_func_prime_list = list()\n",
    "    n_gnodes = domain_partition[1].size\n",
    "    local_to_global_node_id_map = domain_partition[2]\n",
    "    phi_i = lambda i, x: global_basis_function(i,x, domain_partition,parent_mapping,parent_basis_functions)[0]\n",
    "    phi_prime_i = lambda i, x: global_basis_function(i,x, domain_partition,parent_mapping,parent_basis_functions)[1]\n",
    "\n",
    "    visited = [False]*n_gnodes\n",
    "    for e in range(n_elem):\n",
    "        for I in range(len(local_to_global_node_id_map[e])):\n",
    "            gnode_id = local_to_global_node_id_map[e][I]\n",
    "            if gnode_id >= 0 and not visited[gnode_id]:\n",
    "                      basis_func_list.append(lambda x, i=gnode_id: phi_i(i,x))\n",
    "                      basis_func_prime_list.append(lambda x, i=gnode_id: phi_prime_i(i,x))\n",
    "                        \n",
    "                      visited[gnode_id] = True\n",
    "  \n",
    "    assert len(basis_func_list) >= 1, 'There are no basis functions to build.'\n",
    "    return [basis_func_list, basis_func_prime_list]\n",
    "\n",
    "# It is implied here the boundary conditions are of type: flux\n",
    "domain_partition = get_domain_partition(degree, n_elem, x_min, x_max)\n",
    "parent_mapping = get_parent_mapping()\n",
    "parent_basis_functions = get_parent_basis_functions()\n",
    "\n",
    "phi_list = get_global_basis_functions(domain_partition, parent_mapping, parent_basis_functions, global_basis_function)[0]\n",
    "phi_prime_list = get_global_basis_functions(domain_partition, parent_mapping, parent_basis_functions, global_basis_function)[1]"
   ]
  },
  {
   "cell_type": "code",
   "execution_count": 10,
   "metadata": {},
   "outputs": [],
   "source": [
    "'''Pedagogical inner product'''\n",
    "def inner_product(u, v, patches):\n",
    "    integrand = lambda x: u(x) * v(x)          \n",
    "    inner_product = 0.0\n",
    "    for nodes_x in patches:\n",
    "        (inner_product_e, _) = quad(integrand, nodes_x[0], nodes_x[-1])\n",
    "        inner_product += inner_product_e\n",
    "        \n",
    "    return inner_product"
   ]
  },
  {
   "cell_type": "code",
   "execution_count": 11,
   "metadata": {},
   "outputs": [],
   "source": [
    "#Building of the dead matrix\n",
    "A_mtrx = np.zeros((len(phi_list), len(phi_list)), dtype=np.float64)\n",
    "patches = domain_partition[0]\n",
    "for i in range(len(phi_list)):\n",
    "    for j in range(len(phi_list)):\n",
    "        \n",
    "        phi_i=phi_list[i]\n",
    "        phi_j=phi_list[j]\n",
    "        \n",
    "        phi_prime_i=phi_prime_list[i]\n",
    "        phi_prime_j=phi_prime_list[j]\n",
    "        \n",
    "        h_e=(x_max-x_min)/n_elem\n",
    "        \n",
    "        d_x_phi_prime_j = lambda x: f_cond * ((2/h_e)*phi_prime_j(x))\n",
    "        prima = lambda x: phi_prime_i(x)*(2/h_e)\n",
    "\n",
    "        A_mtrx[i,j] = inner_product(prima, d_x_phi_prime_j, patches)"
   ]
  },
  {
   "cell_type": "code",
   "execution_count": 12,
   "metadata": {},
   "outputs": [],
   "source": [
    "'''Build load vector'''\n",
    "#The load vector\n",
    "b_vec = np.zeros(len(phi_list), dtype=np.float64)\n",
    "patches = domain_partition[0]\n",
    "for i, phi_i in enumerate(phi_list):\n",
    "    b_vec[i] = inner_product(f_sb, phi_i, patches)#+u_a*phi_i(x_min)+u_b*phi_i(x_max)\n",
    "    #print(patches)\n",
    "\n",
    "'''Compute optimal coefficient vector'''\n",
    "c_star_vec_trial = np.linalg.solve(A_mtrx, b_vec)"
   ]
  },
  {
   "cell_type": "code",
   "execution_count": 13,
   "metadata": {},
   "outputs": [
    {
     "data": {
      "image/png": "[encoded data removed]",
      "text/plain": [
       "<Figure size 432x288 with 1 Axes>"
      ]
     },
     "metadata": {
      "needs_background": "light"
     },
     "output_type": "display_data"
    },
    {
     "name": "stdout",
     "output_type": "stream",
     "text": [
      "The value of the function at the leftmost end of the domain is: 0.00 [°C].\n",
      "The value of the function at the rightmost end of the domain is: 0.00 [°C].\n",
      "q_na computed =  [-1.00154929]\n",
      "q_nb computed =  [-1.00154929]\n"
     ]
    }
   ],
   "source": [
    "'''Plot comparison of f and g_best_vec'''\n",
    "def u_star(x):\n",
    "    g_x=0\n",
    "    for (j,phi_i) in enumerate(phi_list):\n",
    "        g_x=g_x+(c_star_vec_trial[j])*phi_i(x)\n",
    "    return g_x\n",
    "g_x=u_star(x_pts)\n",
    "\n",
    "\n",
    "def u_star_prime(x):\n",
    "    g_x=0\n",
    "    for (j,phi_prime_i) in enumerate(phi_prime_list):\n",
    "        g_x=g_x+(c_star_vec_trial[j])*phi_prime_i(x)\n",
    "    return g_x\n",
    "\n",
    "plt.figure()\n",
    "plt.plot(x_pts,g_x,label='Obtained_U_N',color='red')\n",
    "#plt.plot(x_pts,sol(x_pts))\n",
    "plt.plot(x_pts,u_n,label='Dream_U_N',linestyle='--',color='white')\n",
    "plt.legend()\n",
    "plt.xlabel(\"x\")\n",
    "plt.ylabel(\"U_N\")\n",
    "plt.grid()\n",
    "plt.show()\n",
    "\n",
    "print('The value of the function at the leftmost end of the domain is: %4.2f [°C].'%u_star(x_min))\n",
    "print('The value of the function at the rightmost end of the domain is: %4.2f [°C].'%u_star(x_max))\n",
    "\n",
    "\n",
    "'''Flux at boundary'''\n",
    "print('q_na computed = ', -f_cond*u_star_prime(x_min))\n",
    "print('q_nb computed = ', -f_cond*u_star_prime(x_max))\n",
    "#print('q_nb given    = ', q_nb)\n",
    "#print('flux error [%]= ',(-f_cond(x_max)*g_prime(x_max) - q_nb)/q_nb*100)"
   ]
  },
  {
   "cell_type": "code",
   "execution_count": 14,
   "metadata": {},
   "outputs": [
    {
     "name": "stdout",
     "output_type": "stream",
     "text": [
      "||f||_L2 =  1.000000\n",
      "quadrature error =2.709214e-05\n",
      "||f-g||_L2 = 0.00017811849901605616\n",
      "quadrature error = 1.3309966294060635e-08\n",
      "\n",
      "Relative error =   0.017812 %\n"
     ]
    }
   ],
   "source": [
    "'''L2 norm error'''\n",
    "def f_integrand(x):\n",
    "    f_x,_ = trigonometric_sol(np.array([x]),2)\n",
    "    return f_x**2\n",
    "f_integral = quad(f_integrand, x_min, x_max, limit=1000)\n",
    "f_l2=np.sqrt(f_integral)\n",
    "\n",
    "print('||f||_L2 =%10.6f'%f_l2[0])\n",
    "print('quadrature error =%10.6e'%f_l2[1])\n",
    "\n",
    "def g2_integrand(x):\n",
    "    g_vec = u_star(np.array([x]))\n",
    "    return g_vec**2\n",
    "\n",
    "def f_minus_g_2_integrand(x):\n",
    "    f_x,_ = trigonometric_sol(np.array([x]),2)\n",
    "    g_vec = u_star(np.array([x]))\n",
    "    return (f_x-g_vec)**2\n",
    "\n",
    "f_minus_g_2_integral, error = quad(f_minus_g_2_integrand, x_min, x_max, limit=1000)\n",
    "print('||f-g||_L2 =', m.sqrt(f_minus_g_2_integral))\n",
    "print('quadrature error =', error)\n",
    "r_err=(m.sqrt(f_minus_g_2_integral)/np.sqrt(f_integral)*100)\n",
    "print('')\n",
    "print('Relative error = %10.6f'%r_err[0],'%')"
   ]
  },
  {
   "cell_type": "markdown",
   "metadata": {},
   "source": [
    "### <span style=\"color:blue\">[1.4)](#toa)(20 pts) Using the same FEM above, solve your problem as stated originally. Provide the corresponding results as in 1.3). Explain.\n",
    "</span><a id=\"a14\"></a>"
   ]
  },
  {
   "cell_type": "markdown",
   "metadata": {},
   "source": [
    "The libraries are already imported. The next cell will define the minimum and maximum values of x for the domain, the degree of the polynomials used and the number of elements used in the Rayleigh-Ritz method we will use to obtain our solution."
   ]
  },
  {
   "cell_type": "code",
   "execution_count": 15,
   "metadata": {},
   "outputs": [],
   "source": [
    "'''Rayleigh Ritz Method with Lagrange FE Basis Functions'''\n",
    "x_min=0\n",
    "x_max=0.05\n",
    "\n",
    "degree = 2  #Degree of the lagrange polinomials used\n",
    "n_elem = 8 #Number of elements used"
   ]
  },
  {
   "cell_type": "markdown",
   "metadata": {},
   "source": [
    "The next cell will define the thermal conductivity function, which we already mention is not a constant value, but one changing as a linear function aling the domain."
   ]
  },
  {
   "cell_type": "code",
   "execution_count": 16,
   "metadata": {},
   "outputs": [
    {
     "data": {
      "image/png": "[encoded data removed]",
      "text/plain": [
       "<Figure size 432x288 with 1 Axes>"
      ]
     },
     "metadata": {
      "needs_background": "light"
     },
     "output_type": "display_data"
    }
   ],
   "source": [
    "'''Thermal conductivity'''\n",
    "\n",
    "Cond_shape_pts = [(0,31.93),(0.05,29.94)]\n",
    "#Cond_shape_pts = [(0,37),(0.05,37)]\n",
    "Cond=np.array(Cond_shape_pts)\n",
    "\n",
    "f_cond=interp1d(Cond[:,0],Cond[:,1])\n",
    "\n",
    "plt.figure()\n",
    "plt.plot(np.linspace(0,0.05,200),f_cond(np.linspace(0,0.05,200)),label='Target Function')\n",
    "plt.grid()\n",
    "plt.show()"
   ]
  },
  {
   "cell_type": "markdown",
   "metadata": {},
   "source": [
    "The next cell will define the source bias function, using the values we already mentioned in our introduction to the problem and assuming the value of electrical resistivity as a constant."
   ]
  },
  {
   "cell_type": "code",
   "execution_count": 17,
   "metadata": {},
   "outputs": [
    {
     "data": {
      "image/png": "[encoded data removed]",
      "text/plain": [
       "<Figure size 432x288 with 1 Axes>"
      ]
     },
     "metadata": {
      "needs_background": "light"
     },
     "output_type": "display_data"
    }
   ],
   "source": [
    "'''Source bias'''\n",
    "roh=4085.7\n",
    "\n",
    "#V=300000\n",
    "#V=0\n",
    "#L_char=0.05\n",
    "#A=0.05*1\n",
    "\n",
    "#Use of points to build the source bias function\n",
    "\n",
    "#Source= 575117 T(x)+ 1,05E7\n",
    "\n",
    "Source_shape_pts = [(0,1.05E7),(0.05,1.05E7)]\n",
    "source=np.array(Source_shape_pts)\n",
    "\n",
    "f_sourcebias=interp1d(source[:,0],source[:,1])\n",
    "\n",
    "plt.figure()\n",
    "plt.plot(np.linspace(0,0.05,200),f_sourcebias(np.linspace(0,0.05,200)),label='Target Function')\n",
    "plt.grid()\n",
    "plt.show()"
   ]
  },
  {
   "cell_type": "code",
   "execution_count": 18,
   "metadata": {},
   "outputs": [
    {
     "data": {
      "image/png": "[encoded data removed]",
      "text/plain": [
       "<Figure size 432x288 with 1 Axes>"
      ]
     },
     "metadata": {
      "needs_background": "light"
     },
     "output_type": "display_data"
    }
   ],
   "source": [
    "'''Source bias'''\n",
    "S_Slope=100000\n",
    "\n",
    "Slope_shape_pts = [(0,S_Slope),(0.05,S_Slope)]\n",
    "slope=np.array(Slope_shape_pts)\n",
    "\n",
    "f_slope=interp1d(slope[:,0],slope[:,1])\n",
    "\n",
    "plt.figure()\n",
    "plt.plot(np.linspace(0,0.05,200),f_slope(np.linspace(0,0.05,200)),label='Target Function')\n",
    "plt.grid()\n",
    "plt.show()"
   ]
  },
  {
   "cell_type": "markdown",
   "metadata": {},
   "source": [
    "In the next cell, we will build the lift function, since we're trying to solve the problem using the Rayleigh-Ritz method with strongly enforced boundary conditions. The lift function doesn't have a constant value here, so we can't use the shortcut we used in our previous homework, where we assumed the derivative of the lift function to be 0. We will build both functions. The lift function is built as a linear function that interpolates the values of the temperatures at both extremes of the domain."
   ]
  },
  {
   "cell_type": "code",
   "execution_count": 19,
   "metadata": {},
   "outputs": [
    {
     "data": {
      "image/png": "[encoded data removed]",
      "text/plain": [
       "<Figure size 432x288 with 1 Axes>"
      ]
     },
     "metadata": {
      "needs_background": "light"
     },
     "output_type": "display_data"
    },
    {
     "data": {
      "image/png": "[encoded data removed]",
      "text/plain": [
       "<Figure size 432x288 with 1 Axes>"
      ]
     },
     "metadata": {
      "needs_background": "light"
     },
     "output_type": "display_data"
    }
   ],
   "source": [
    "'''Building the lift function'''\n",
    "u_a=20\n",
    "u_b=40\n",
    "\n",
    "Lift_shape_pts = [(0,u_a),(0.05,u_b)]\n",
    "Lift=np.array(Lift_shape_pts)\n",
    "f_lift=interp1d(Lift[:,0],Lift[:,1])\n",
    "\n",
    "f_prime=((u_b-u_a)/(x_max-x_min))\n",
    "Lift_prime_shape_pts = [(0,f_prime),(0.05,f_prime)]\n",
    "Lift_prime=np.array(Lift_prime_shape_pts)\n",
    "f_lift_prime=interp1d(Lift_prime[:,0],Lift_prime[:,1])\n",
    "\n",
    "plt.figure()\n",
    "plt.plot(np.linspace(0,0.05,200),f_lift(np.linspace(0,0.05,200)))\n",
    "plt.grid()\n",
    "plt.show()\n",
    "\n",
    "plt.figure()\n",
    "plt.plot(np.linspace(0,0.05,200),f_lift_prime(np.linspace(0,0.05,200)))\n",
    "plt.grid()\n",
    "plt.show()"
   ]
  },
  {
   "cell_type": "markdown",
   "metadata": {},
   "source": [
    "Everything has already been coded for in the section to find the manufactured solution, so here we will simply call the functions to do their job:"
   ]
  },
  {
   "cell_type": "code",
   "execution_count": 20,
   "metadata": {},
   "outputs": [],
   "source": [
    "# It is implied here the boundary conditions are of type: flux\n",
    "domain_partition = get_domain_partition(degree, n_elem, x_min, x_max)\n",
    "parent_mapping = get_parent_mapping()\n",
    "parent_basis_functions = get_parent_basis_functions()\n",
    "\n",
    "phi_list = get_global_basis_functions(domain_partition, parent_mapping, parent_basis_functions, global_basis_function)[0]\n",
    "phi_prime_list = get_global_basis_functions(domain_partition, parent_mapping, parent_basis_functions, global_basis_function)[1]"
   ]
  },
  {
   "cell_type": "markdown",
   "metadata": {},
   "source": [
    "The next cell builds the A matrix."
   ]
  },
  {
   "cell_type": "code",
   "execution_count": 21,
   "metadata": {},
   "outputs": [],
   "source": [
    "#Building of the A matrix\n",
    "A_mtrx = np.zeros((len(phi_list), len(phi_list)), dtype=np.float64)\n",
    "patches = domain_partition[0]\n",
    "for i in range(len(phi_list)):\n",
    "    for j in range(len(phi_list)):\n",
    "        \n",
    "        phi_i=phi_list[i]\n",
    "        phi_j=phi_list[j]\n",
    "        \n",
    "        phi_prime_i=phi_prime_list[i]\n",
    "        phi_prime_j=phi_prime_list[j]\n",
    "        \n",
    "        h_e=(x_max-x_min)/n_elem\n",
    "        \n",
    "        d_x_phi_prime_j = lambda x: f_cond(x) * ((2/h_e)*phi_prime_j(x))\n",
    "        \n",
    "        prima = lambda x: phi_prime_i(x)*(2/h_e)\n",
    "        \n",
    "        A_mtrx[i,j] = inner_product(prima, d_x_phi_prime_j, patches)\n",
    "        \n",
    "        sloper = lambda x: phi_j(x)*f_slope(x)\n",
    "        \n",
    "        A_mtrx[i,j] -= inner_product(sloper, phi_i, patches)"
   ]
  },
  {
   "cell_type": "markdown",
   "metadata": {},
   "source": [
    "This other cell builds the load vector and also does the necessary linear algebra to obtain the optimal coefficients vector."
   ]
  },
  {
   "cell_type": "code",
   "execution_count": 22,
   "metadata": {},
   "outputs": [],
   "source": [
    "'''Build load vector'''\n",
    "#The load vector\n",
    "b_vec = np.zeros(len(phi_list), dtype=np.float64)\n",
    "patches = domain_partition[0]\n",
    "\n",
    "for i in range(len(phi_list)):\n",
    "    phi_i=phi_list[i]\n",
    "    phi_prime_i=phi_prime_list[i]\n",
    "    \n",
    "    b_vec[i] = inner_product(f_sourcebias, phi_i, patches)\n",
    "    \n",
    "    first_term = lambda x: f_lift_prime(x)*f_cond(x)\n",
    "    phi_prima_i = lambda x: phi_prime_i(x)*(2/h_e)\n",
    "    \n",
    "    b_vec[i] -= inner_product(first_term, phi_prima_i, patches)\n",
    "    \n",
    "    slopelift = lambda x: f_slope(x)*f_lift(x)\n",
    "    \n",
    "    b_vec[i] += inner_product(slopelift, phi_i, patches)\n",
    "\n",
    "'''Compute optimal coefficient vector'''\n",
    "c_star_vec = np.linalg.solve(A_mtrx, b_vec)"
   ]
  },
  {
   "cell_type": "code",
   "execution_count": 23,
   "metadata": {},
   "outputs": [
    {
     "data": {
      "image/png": "[encoded data removed]",
      "text/plain": [
       "<Figure size 432x288 with 1 Axes>"
      ]
     },
     "metadata": {
      "needs_background": "light"
     },
     "output_type": "display_data"
    },
    {
     "name": "stdout",
     "output_type": "stream",
     "text": [
      "The value of the function at the leftmost end of the domain is: 20.00 [°C].\n",
      "The value of the function at the rightmost end of the domain is: 40.00 [°C].\n"
     ]
    },
    {
     "data": {
      "image/png": "[encoded data removed]",
      "text/plain": [
       "<Figure size 432x288 with 1 Axes>"
      ]
     },
     "metadata": {
      "needs_background": "light"
     },
     "output_type": "display_data"
    },
    {
     "name": "stdout",
     "output_type": "stream",
     "text": [
      "q_na computed =  [-1597813.33042015]\n",
      "q_nb computed =  [1589806.50771907]\n"
     ]
    }
   ],
   "source": [
    "'''Plot comparison of f and g_best_vec'''\n",
    "def u_star(x):\n",
    "    g_x=f_lift(x)\n",
    "    for (j,phi_i) in enumerate(phi_list):\n",
    "        g_x=g_x+(c_star_vec[j])*phi_i(x)\n",
    "    return g_x\n",
    "\n",
    "def u_star_prime(x):\n",
    "    g_x=0\n",
    "    \n",
    "    for j in range(len(phi_list)):\n",
    "        g_x=g_x+(c_star_vec[j])*((2/h_e)*phi_prime_list[j](x))\n",
    "    \n",
    "    return g_x\n",
    "\n",
    "'''Plot comparison of f and g_best_vec'''\n",
    "def sol(x):\n",
    "    u=30+(((f_sourcebias(x)/(2*f_cond)))*(x_max*x-x**2))\n",
    "    return u\n",
    "\n",
    "plt.figure()\n",
    "plt.plot(np.linspace(x_min,x_max,2000),u_star(np.linspace(x_min,x_max,2000)),label='Rayleigh-Ritz solution')\n",
    "#plt.plot(np.linspace(x_min,x_max,2000),sol(np.linspace(x_min,x_max,2000)),label='Analytic solution')\n",
    "plt.xlabel(\"Position aling the width of the channel wall [m]\")\n",
    "plt.ylabel(\"Temperature [°C]\")\n",
    "plt.legend()\n",
    "plt.grid()\n",
    "plt.show()\n",
    "\n",
    "print('The value of the function at the leftmost end of the domain is: %4.2f [°C].'%u_star(x_min))\n",
    "print('The value of the function at the rightmost end of the domain is: %4.2f [°C].'%u_star(x_max))\n",
    "\n",
    "#Analytical solution\n",
    "#plt.figure()\n",
    "#plt.plot(np.linspace(x_min,x_max,2000),sol(np.linspace(x_min,x_max,2000)))\n",
    "#plt.xlabel(\"Position along the width of the channel wall [m]\")\n",
    "#plt.ylabel(\"Temperature [°C]\")\n",
    "#plt.grid()\n",
    "#plt.show()\n",
    "\n",
    "\n",
    "#Plotting the flux\n",
    "plt.figure()\n",
    "plt.plot(np.linspace(x_min,x_max,2000),-f_cond(np.linspace(x_min,x_max,2000))*u_star_prime((np.linspace(x_min,x_max,2000))))\n",
    "plt.xlabel(\"Position along the width of the channel wall [m]\")\n",
    "plt.ylabel(\"Heat flux [W/m2]\")\n",
    "plt.grid()\n",
    "plt.show()\n",
    "\n",
    "#print(sol(np.linspace(x_min,x_max,2000)))\n",
    "\n",
    "'''Flux at boundary'''\n",
    "print('q_na computed = ', -f_cond(x_min)*u_star_prime(x_min))\n",
    "print('q_nb computed = ', -f_cond(x_max)*u_star_prime(x_max))\n",
    "#print('q_nb given    = ', q_nb)\n",
    "#print('flux error [%]= ',(-f_cond(x_max)*g_prime(x_max) - q_nb)/q_nb*100)\n",
    "\n",
    "#We store these variables for future use\n",
    "flux_left=-f_cond(x_min)*u_star_prime(x_min)\n",
    "flux_right=-f_cond(x_max)*u_star_prime(x_max)\n",
    "\n",
    "sourcer = lambda x: (f_slope(x))*u_star(x)+f_sourcebias(x)\n",
    "\n",
    "(Total_power, _)= quad(sourcer, x_min, x_max)"
   ]
  },
  {
   "cell_type": "markdown",
   "metadata": {},
   "source": [
    "### <span style=\"color:blue\">[1.5)](#toa)(20 pts) Demonstrate that your solution is mesh converged. Explain.\n",
    "</span><a id=\"a15\"></a>"
   ]
  },
  {
   "cell_type": "markdown",
   "metadata": {},
   "source": [
    "We first integrate the area of the first solution over the entire domain. This we do as in the following cell:"
   ]
  },
  {
   "cell_type": "code",
   "execution_count": 24,
   "metadata": {},
   "outputs": [],
   "source": [
    "'''Integral of the first solution'''\n",
    "(Int_1,_)=quad(u_star, x_min, x_max) #Integral of the first solution"
   ]
  },
  {
   "cell_type": "markdown",
   "metadata": {},
   "source": [
    "We will use this value later to show mesh convergence in our problem. After doing that, we calculate the solution for the n+5 number of elements, with n being the number of elements used to obtain the previous solution. The previous solution we obtained by using 10 elements to obtain the solution. The next solution we'll obtain by using 15 elements."
   ]
  },
  {
   "cell_type": "code",
   "execution_count": 25,
   "metadata": {},
   "outputs": [],
   "source": [
    "#Computation of a solution with one more element\n",
    "n_elem=n_elem+5\n",
    "\n",
    "h_e=(x_max-x_min)/n_elem"
   ]
  },
  {
   "cell_type": "markdown",
   "metadata": {},
   "source": [
    "Next cell is the meat and potatoes, ending with obtaining the optimal coefficients vector."
   ]
  },
  {
   "cell_type": "code",
   "execution_count": 26,
   "metadata": {},
   "outputs": [
    {
     "name": "stdout",
     "output_type": "stream",
     "text": [
      "The value of the relative difference between the two solutions is: 9.763350E-05.\n",
      "The difference between the two solutions being so small, we can talk of the solution being mesh convergent\n"
     ]
    }
   ],
   "source": [
    "domain_partition = get_domain_partition(degree, n_elem, x_min, x_max)\n",
    "parent_mapping = get_parent_mapping()\n",
    "parent_basis_functions = get_parent_basis_functions()\n",
    "\n",
    "phi_list_2 = get_global_basis_functions(domain_partition, parent_mapping, parent_basis_functions, global_basis_function)[0]\n",
    "phi_prime_list_2 = get_global_basis_functions(domain_partition, parent_mapping, parent_basis_functions, global_basis_function)[1]\n",
    "\n",
    "def u_star_2(x):\n",
    "    g_x=f_lift(x)\n",
    "    for (j,phi_i) in enumerate(phi_list_2):\n",
    "        g_x=g_x+(c_star_vec_2[j])*phi_i(x)\n",
    "    return g_x\n",
    "\n",
    "#Building of the A matrix\n",
    "A_mtrx = np.zeros((len(phi_list_2), len(phi_list_2)), dtype=np.float64)\n",
    "patches = domain_partition[0]\n",
    "\n",
    "for i in range(len(phi_list_2)):\n",
    "    for j in range(len(phi_list_2)):\n",
    "        \n",
    "        phi_i=phi_list_2[i]\n",
    "        phi_j=phi_list_2[j]\n",
    "        \n",
    "        phi_prime_i=phi_prime_list_2[i]\n",
    "        phi_prime_j=phi_prime_list_2[j]\n",
    "        \n",
    "        h_e=(x_max-x_min)/n_elem\n",
    "        \n",
    "        d_x_phi_prime_j = lambda x: f_cond(x) * ((2/h_e)*phi_prime_j(x))\n",
    "        \n",
    "        prima = lambda x: phi_prime_i(x)*(2/h_e)\n",
    "        \n",
    "        A_mtrx[i,j] = inner_product(prima, d_x_phi_prime_j, patches)\n",
    "        \n",
    "        sloper = lambda x: phi_j(x)*f_slope(x)\n",
    "        \n",
    "        A_mtrx[i,j] -= inner_product(sloper, phi_i, patches)\n",
    "        \n",
    "'''Build load vector'''\n",
    "#The load vector\n",
    "b_vec = np.zeros(len(phi_list_2), dtype=np.float64)\n",
    "for i in range(len(phi_list_2)):\n",
    "    phi_i=phi_list_2[i]\n",
    "    phi_prime_i=phi_prime_list_2[i]\n",
    "    \n",
    "    b_vec[i] = inner_product(f_sourcebias, phi_i, patches)\n",
    "    \n",
    "    first_term = lambda x: f_lift_prime(x)*f_cond(x)\n",
    "    phi_prima_i = lambda x: phi_prime_i(x)*(2/h_e)\n",
    "    \n",
    "    b_vec[i] -= inner_product(first_term, phi_prima_i, patches)\n",
    "    \n",
    "    slopelift = lambda x: f_slope(x)*f_lift(x)\n",
    "    \n",
    "    b_vec[i] += inner_product(slopelift, phi_i, patches)\n",
    "    \n",
    "\n",
    "'''Compute optimal coefficient vector'''\n",
    "c_star_vec_2 = np.linalg.solve(A_mtrx, b_vec)\n",
    "\n",
    "(Int_2,_)=quad(u_star_2, x_min, x_max) #Integral of the second solution\n",
    "\n",
    "Rel_diff=((Int_2-Int_1)/Int_1)\n",
    "\n",
    "print('The value of the relative difference between the two solutions is: %4E.'%Rel_diff)\n",
    "print('The difference between the two solutions being so small, we can talk of the solution being mesh convergent')"
   ]
  },
  {
   "cell_type": "markdown",
   "metadata": {},
   "source": [
    "### <span style=\"color:blue\">[1.6)](#toa)(10 pts) Provide the total energy balance relative error. Explain.\n",
    "</span><a id=\"a16\"></a>"
   ]
  },
  {
   "cell_type": "markdown",
   "metadata": {},
   "source": [
    "We proceed to use now several variables we stored previously. The energy balance is just statement of the first law of thermodynamics: the energy that is generated in the system by the Joule efect must equal the amount of energy flux that is going out of the system. As such, we integrate the value of the source along the domain, obtaining then the total amount of energy flux entering the system and to this value we substract the heat fluxes at the ends of the domain, where they would flow to the air outside."
   ]
  },
  {
   "cell_type": "code",
   "execution_count": 27,
   "metadata": {},
   "outputs": [
    {
     "name": "stdout",
     "output_type": "stream",
     "text": [
      "Total energy balance relative error [%] = 0.99 \n"
     ]
    }
   ],
   "source": [
    "'''Total energy balance'''\n",
    "\n",
    "print('Total energy balance relative error [%%] = %2.2f '%(100*(abs(flux_left)+ abs(flux_right) - Total_power)/(Total_power)))"
   ]
  },
  {
   "cell_type": "markdown",
   "metadata": {},
   "source": [
    "The energy balance relative error is very low, which speaks well of the accuracy of our solution."
   ]
  },
  {
   "cell_type": "markdown",
   "metadata": {},
   "source": [
    "## <span style=\"color:blue\">[Assignment 2 (5 pts)](#toa)</span><a id=\"a3\"></a>"
   ]
  },
  {
   "cell_type": "markdown",
   "metadata": {},
   "source": [
    "### <span style=\"color:blue\">Describe the most unclear point in the content presented so far. Then, make an effort to clarify the point on your own.</span>"
   ]
  },
  {
   "cell_type": "markdown",
   "metadata": {},
   "source": [
    "<span style=\"color:blue\">**Answer:**</span>"
   ]
  },
  {
   "cell_type": "markdown",
   "metadata": {},
   "source": [
    "At this point in the semester, most of our doubts regarding the content are with regards to the use of MOOSE. And the fact that we've had only two classes to discuss its use has left us with some doubts. Even the use of it to solve the same problem we solve in this notebook has us worried. What would be the steps to solve the problem qe have here to submit as the final project?\n",
    "\n",
    "Some possible steps:\n",
    "\n",
    "1.- After getting MOOSE to work, we need to feed it the .h5 files with the parameters of our problems as we need to solve it.\n",
    "\n",
    "2.- Each of the different parameters that will be there will be defined as a class, some of the classes can be inputed different commands if one, for example, asks the boundary conditions to be of type flux or essential.\n",
    "\n",
    "3.- The whole glossary of the details of how this works is complex, there is not much more to do aside from copying a lot of the code handed out in the notebooks. We can use that as a guide, recycling the code even if we don't understand it in depth.\n",
    "\n",
    "4.- After the solution is calculated, one can print its values into a CSV file. From then on it isn't so hard, since CSV can be accesed by several Python libraries as Numpy or Pandas.\n",
    "\n",
    "5.- After obtaining it in pandas, one can graph it side by side with the solution obtained here. Or maybe use some kind of norm or relative error calculation to obtain a measure of how different the solutions are.\n",
    "\n",
    "Some of these steps are a bit vague, but at the same time, the problems will actually start to appear once we're there, trying to solve the problem."
   ]
  },
  {
   "cell_type": "code",
   "execution_count": null,
   "metadata": {},
   "outputs": [],
   "source": []
  }
 ],
 "metadata": {
  "kernelspec": {
   "display_name": "Python 3",
   "language": "python",
   "name": "python3"
  },
  "language_info": {
   "codemirror_mode": {
    "name": "ipython",
    "version": 3
   },
   "file_extension": ".py",
   "mimetype": "text/x-python",
   "name": "python",
   "nbconvert_exporter": "python",
   "pygments_lexer": "ipython3",
   "version": "3.8.8"
  },
  "latex_envs": {
   "LaTeX_envs_menu_present": true,
   "autoclose": false,
   "autocomplete": true,
   "bibliofile": "biblio.bib",
   "cite_by": "apalike",
   "current_citInitial": 1,
   "eqLabelWithNumbers": true,
   "eqNumInitial": 1,
   "hotkeys": {
    "equation": "Ctrl-E",
    "itemize": "Ctrl-I"
   },
   "labels_anchors": false,
   "latex_user_defs": false,
   "report_style_numbering": false,
   "user_envs_cfg": false
  }
 },
 "nbformat": 4,
 "nbformat_minor": 2
}
