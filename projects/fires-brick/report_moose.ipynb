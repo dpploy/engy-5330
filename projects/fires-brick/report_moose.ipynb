{
 "cells": [
  {
   "cell_type": "markdown",
   "metadata": {},
   "source": [
    "**Engy-5310** Computational Continuum Transport Phenomena, UMass Lowell, Chem. Eng. Nuclear Program Fall 2021; Prof. V. F. de Almeida\n",
    "\n",
    "# Title\n",
    "$  \n",
    "  \\newcommand{\\Amtrx}{\\boldsymbol{\\mathsf{A}}}\n",
    "  \\newcommand{\\Bmtrx}{\\boldsymbol{\\mathsf{B}}}\n",
    "  \\newcommand{\\Mmtrx}{\\boldsymbol{\\mathsf{M}}}\n",
    "  \\newcommand{\\Imtrx}{\\boldsymbol{\\mathsf{I}}}\n",
    "  \\newcommand{\\Pmtrx}{\\boldsymbol{\\mathsf{P}}}\n",
    "  \\newcommand{\\Lmtrx}{\\boldsymbol{\\mathsf{L}}}\n",
    "  \\newcommand{\\Umtrx}{\\boldsymbol{\\mathsf{U}}}\n",
    "  \\newcommand{\\Smtrx}{\\boldsymbol{\\mathsf{S}}}\n",
    "  \\newcommand{\\xvec}{\\boldsymbol{\\mathsf{x}}}\n",
    "  \\newcommand{\\avec}{\\boldsymbol{\\mathsf{a}}}\n",
    "  \\newcommand{\\bvec}{\\boldsymbol{\\mathsf{b}}}\n",
    "  \\newcommand{\\cvec}{\\boldsymbol{\\mathsf{c}}}\n",
    "  \\newcommand{\\rvec}{\\boldsymbol{\\mathsf{r}}}\n",
    "  \\newcommand{\\fvec}{\\boldsymbol{\\mathsf{f}}}\n",
    "  \\newcommand{\\mvec}{\\boldsymbol{\\mathsf{m}}}\n",
    "  \\newcommand{\\gvec}{\\boldsymbol{\\mathsf{g}}}\n",
    "  \\newcommand{\\flux}{\\boldsymbol{q}}\n",
    "  \\newcommand{\\fluxc}{\\boldsymbol{q}_\\text{c}}\n",
    "  \\newcommand{\\fluxf}{\\boldsymbol{q}_\\text{f}}\n",
    "  \\newcommand{\\velocity}{\\boldsymbol{v}}\n",
    "  \\newcommand{\\normal}{\\boldsymbol{n}}\n",
    "  \\newcommand{\\xpoint}{\\boldsymbol{x}}\n",
    "  \\newcommand{\\Tc}{T_\\text{c}}\n",
    "  \\newcommand{\\wc}{w_\\text{c}}\n",
    "  \\newcommand{\\Tf}{T_\\text{f}}\n",
    "  \\newcommand{\\wf}{w_\\text{f}}\n",
    "  \\newcommand{\\wI}{w_\\text{I}}\n",
    "  \\newcommand{\\Ri}{R_\\text{i}}\n",
    "  \\newcommand{\\Ro}{R_\\text{o}}\n",
    "  \\newcommand{\\Omegac}{\\Omega_\\text{c}}\n",
    "  \\newcommand{\\Omegaf}{\\Omega_\\text{f}}\n",
    "  \\newcommand{\\zerovec}{\\boldsymbol{\\mathsf{0}}}\n",
    "  \\newcommand{\\norm}[1]{\\bigl\\lVert{#1}\\bigr\\rVert}\n",
    "  \\newcommand{\\transpose}[1]{{#1}^\\top}\n",
    "  \\DeclareMathOperator{\\rank}{rank}\n",
    "  \\DeclareMathOperator{\\div}{div}\n",
    "  \\DeclareMathOperator{\\gradx}{grad_\\xpoint}\n",
    "  \\DeclareMathOperator{\\divx}{div_\\xpoint}\n",
    "  \\DeclareMathOperator{\\grad}{grad}\n",
    "  \\newcommand{\\Reals}{\\mathbb{R}}\n",
    "  \\newcommand{\\thetavec}{\\boldsymbol{\\theta}}\n",
    "$"
   ]
  },
  {
   "cell_type": "markdown",
   "metadata": {},
   "source": [
    "**Student(s):**  Shubhojit Banerjee & Julián Barra <br>\n",
    "**Course:** Engy-5310 Computational Continuum Transport Phenomena  <br>\n",
    "**Mentor and Collaborator:** Valmor de Almeida\n",
    "\n",
    "UMass Lowell, Dept. of Chemical Engineering, Nuclear Energy Program \n",
    "<br>\n",
    "**20 Dec 2021**"
   ]
  },
  {
   "cell_type": "markdown",
   "metadata": {},
   "source": [
    "---\n",
    "## Table of Contents<a id=\"toc\"></a>\n",
    "* [Introduction](#intro)\n",
    "* [Problem Statement](#problem)\n",
    "* [Objectives](#obj)\n",
    "* [Approach](#app)\n",
    " + [Weak Form of Problem Statement](#weakform)\n",
    " + [MOOSE Kernels](#kernels)\n",
    " + [Tests](#tests)\n",
    " + [Setup](#setup)\n",
    "   - [Test 1](#1dsolofueldirichlet)\n",
    "   - [Test 2](#1dsolofueldirichletrobin)\n",
    "* [2-D Results and Analysis](#ranalysis)\n",
    "* [Conclusions](#conclusions)\n",
    "* [References](#refs)\n",
    "---"
   ]
  },
  {
   "cell_type": "markdown",
   "metadata": {},
   "source": [
    "## [Introduction](#toc)<a id=\"intro\"></a>"
   ]
  },
  {
   "cell_type": "markdown",
   "metadata": {},
   "source": [
    "The problem we're trying to tackle in this project is that of obtaining a thermal model of the bricks used in the FIRES project, a project which is the focus of the doctoral thesis of Daniel Stack of the MIT, who is working alongside professor Stephen Lam of the University of Massachusetts-Lowell. We're doing this project as part of the research we're doing for professor Stephen Lam.\n",
    "\n",
    "The FIRES project consists of an idea of using specially-doped aluminum oxide bricks to store energy in the form of heat. The bricks would be used both as the storage medium due to their high heat capacity and also as the heat generators themselves: in periods where there is an excess production of energy, the bricks can operate as electrical resistors. The current would be passed to the resistors and they would heat up due to the Joule effect. After that, the energy stored in the bricks can be recovered by cooling the bricks by forced convection and then using the hot air in applications where process heat is required. The heat can also be converted back into electricity by using the heat in one of many available power generation cycles, like the Rankine cycle, the Brayton cycle, etc.\n",
    "\n",
    "It is of special importance, then, to model the thermal behavior of the bricks. Of special importance to us is to examine the possibility of thermal runway in the bricks: the bricks would be doped with certain components to give them the property of having an electrical resistivity which decreases with higher temperatures. The purpose of this is to try to make the whole system thermally self-regulating, but there is uncertainty on whether the bricks would behave as a circuit of in-series or parallel resistors. In the second case, the uneven heating of the bricks might cause a positive feedback loop in the bricks with the generation of hot points. This is also compounded by the fact that thermal conductivity also tends to decrease with higher temperatures, so the heat can't be conducted away as easily.\n",
    "\n",
    "Sadly, to fully model the possibility of thermal runway, we would need to make both thermal conductivity and electrical resistivity dependent on temperature, which is beyond the scope of this course. As such, this project will be about a preliminary thermal model of the bricks of the FIRES project."
   ]
  },
  {
   "cell_type": "markdown",
   "metadata": {},
   "source": [
    "## [Problem Statement](#toc)<a id=\"problem\"></a>"
   ]
  },
  {
   "cell_type": "markdown",
   "metadata": {},
   "source": [
    "`mathematical statement of problem`\n",
    "The problem as we're trying to solve here is a Poisson problem of the following form:\n",
    "\n",
    "\\begin{align*}\n",
    " -\\bigl(-k(x)\\, u'\\bigr)'(x) + f(x) &= 0 \\quad\\quad \\forall \\quad\\quad x\\in [a,b], \\\\\n",
    " q_n(a) &= h\\,\\bigl(u(a)-u_\\text{ref}\\bigr)., \\\\\n",
    " q_n(b) &= h\\,\\bigl(u(b)-u_\\text{ref}\\bigr).\n",
    "\\end{align*}\n",
    "\n",
    "In this problem, k represents the thermal diffusion, or thermal conductivity, coefficient. f(x) refers to the heat source along the bricks.\n",
    "\n",
    "The domain of the problem is admitedly a bit difficult to define, since the bricks have a very uneven form that is difficult to model as a 1D problem. Aside from that, the bricks themselves are not fully modeled with regards to the dimensions they would take in the finished commercial product. In his *Applied Energy* paper, Stack et al. postulate a model in which the bricks have several long holes for air to flow through. The walls between all those holes would be all 5 cm thick. We will model the heat profile of the bricks along one of the walls, then. As such, the domain is defined as this:\n",
    "\n",
    "\\begin{align*}\n",
    "x\\in [0,0.05]\n",
    "\\end{align*}\n",
    "\n",
    "At both ends of the domain, the walls would be in contact with the air, which will be made to flow to cool the bricks by forced convection. The boundary conditions at both ends of the domain, then, would be defined as a pair of Robin boundary condition, in the way we showed for the formulation of the problem above.\n",
    "\n",
    "\\begin{align*}\n",
    " q_n(a) &= h\\,\\bigl(u(a)-u_\\text{ref}\\bigr). \\\\\n",
    " q_n(b) &= h\\,\\bigl(u(b)-u_\\text{ref}\\bigr).\n",
    "\\end{align*}\n",
    "\n",
    "The reference temperature (represented above by $u_\\text{ref}$) would be the ambient temperature of air. For a problem with the same temperature at both ends, we would have a temperature of 20 degrees celsius cooling the wall of the bricks at both ends.\n",
    "\n",
    "\\begin{align*}\n",
    " T_{ref} &= 20\\; [°C] \\\\\n",
    "\\end{align*}\n",
    "\n",
    "We want, however, to introduce some level of asymmetry to the problem since the main reason why there coud be thermal runway in the system is due to the bricks heating up unevenly. While we've already said that the modeling of the thermal runway will not be done here on the project, we can still introduce a very preliminary form of this by using RobinBC, but with the reference temperatures being different at both ends of the domain. We choose to do this with a 20 degrees difference in the temperatures:\n",
    "\n",
    "\\begin{align*}\n",
    " T_{ref,a} &= 20\\; [°C] \\\\\n",
    " T_{ref,b} &= 40\\; [°C] \\\\\n",
    "\\end{align*}\n",
    "\n",
    "The heat transfer coefficient will depend on the speed of the air being channeled through the bricks. However, even when the bricks are used to store energy instead of returning (that is, with the air being stagnant), the heat transfer coefficient will take on a positive value. Stack himself uses the following value for the coefficient with stagnant air in his *Applied Energy* paper:\n",
    "\n",
    "\\begin{align*}\n",
    " h &= 10\\; \\left [ \\frac{W}{m^{2}K} \\right ] \\\\\n",
    "\\end{align*}\n",
    "\n",
    "What we have to define now are the functions for the thermal conductivity and the source. For the thermal conductivity, we used values found in Shackleford's *CRC Materials Science and Engineering Handbook*, plotted them in Excel and found a fitting polynomial function for the values of temperature. We obtained the following function:\n",
    "\n",
    "\\begin{align*}\n",
    " k(T) &= (2,49E-5)\\cdot T^{2}-0,05875 \\cdot T +40,85\\; \\left [ \\frac{W}{mK} \\right ]  \\\\\n",
    "\\end{align*}\n",
    "\n",
    "We might make the conductivity dependant on temperature in the future. As for now, we can't make it dependent on the temperature, so an aproximation of this will necessarilly be imperfect, since the value of the temperature is needed to know the value of the conductivity and that of the conductivity is needed for the temperature. We don't know the values of the temperature at the ends of the domain, even. A first approximation of the value of the conductivity will be of it as a linear function, with the values at the end being those that the thermal conductivity takes at the reference temperatures at the ends of the domain.\n",
    "\n",
    "\\begin{align*}\n",
    " k(T_{ref,a}) &= 25,777\\; \\left [ \\frac{W}{mK} \\right ]  \\\\\n",
    " k(T_{ref,b}) &= 24,903\\; \\left [ \\frac{W}{mK} \\right ]  \\\\\n",
    "\\end{align*}\n",
    "\n",
    "The function for the conductivity dependent on the position will be of this form:\n",
    "\n",
    "\\begin{align*}\n",
    " k(x) &= 25,777-17,469 \\cdot x \\; \\left [ \\frac{W}{mK} \\right ]  \\\\\n",
    "\\end{align*}\n",
    "\n",
    "With regards to the heat source. The value of the generated heat will be given by Joule's Law. The formula is presented in the *Applied Energy* paper as follows:\n",
    "\n",
    "\\begin{align*}\n",
    "F\\left (x \\right )=\\dot{e}_{gen}=\\frac{AV^{2}}{  L_{char} \\rho }\n",
    "\\end{align*}\n",
    "\n",
    "We need, however, a value for the density of the generated heat, which will be obtained by taking the formula presented above and dividing it by a unit of volume, which in this case would be a product of the transversal area and the characteristic length that Stack postulated in his paper. The formula, then, is as follows:\n",
    "\n",
    "\\begin{align*}\n",
    "f\\left (x \\right ) = \\frac{V^{2}}{  L_{char}^{2} \\rho }\n",
    "\\end{align*}\n",
    "\n",
    "The characteristic length being defined in the same paper as with a value of 5 cm:\n",
    "\n",
    "\\begin{align*}\n",
    "L_{char} = 0,05 \\left [ \\frac{W}{mK} \\right ]\n",
    "\\end{align*}\n",
    "\n",
    "The value of rho (electrical resistivity) in the formula is approximated in the same way as we did for that of thermal conductivity. We first oftain the following temperature-dependent formula:\n",
    "\n",
    "\\begin{align*}\n",
    "\\rho (T) &= (4,66E7)\\cdot T^{2}-(9,86E10) \\cdot T +(5,04E13)\\; \\left [ \\Omega m \\right ]  \\\\\n",
    "\\end{align*}\n",
    "\n",
    "And one can evaluate the heat generating function with the . There is still the question of which value we should use for the voltage difference, however, and this is something we have absolutely no info on. Daniel Stack doesn't specify a value for the voltage either in his thesis or in the *Applied Energy* paper, and we have no antecedents of the voltage values to be used in this particular application. The value of the voltage being easily changeable, however, we can just introduce values to get some results for the sake of the project, and to have some interesting results to show. For this project, then, the value of the voltage difference in the resistor bricks will be the following:\n",
    "\n",
    "\\begin{align*}\n",
    "V = 100 \\left [ MV \\right ]\n",
    "\\end{align*}\n",
    "\n",
    "And for this, the value of the source at the ends of the domain is as follows:\n",
    "\n",
    "\\begin{align*}\n",
    " f_{s}(T_{ref,a}) &= 156940\\; \\left [ \\frac{W}{m^{3}} \\right ]  \\\\\n",
    " f_{s}(T_{ref,b}) &= 166117\\; \\left [ \\frac{W}{m^{3}} \\right ]  \\\\\n",
    "\\end{align*}\n",
    "\n",
    "This again we can approximate as a linear position-dependent function, and we obtain:\n",
    "\n",
    "\\begin{align*}\n",
    "f(x) &= 156940+185543 \\cdot x \\; \\left [ \\frac{W}{m^{3}} \\right ]  \\\\\n",
    "\\end{align*}\n",
    "\n",
    "With this, we have everything we need to start programming."
   ]
  },
  {
   "cell_type": "markdown",
   "metadata": {},
   "source": [
    "### Domain\n",
    "`describe domain`"
   ]
  },
  {
   "cell_type": "code",
   "execution_count": 1,
   "metadata": {
    "code_folding": []
   },
   "outputs": [
    {
     "data": {
      "text/plain": [
       "'Domain'"
      ]
     },
     "execution_count": 1,
     "metadata": {},
     "output_type": "execute_result"
    }
   ],
   "source": [
    "'''Domain'''\n"
   ]
  },
  {
   "cell_type": "markdown",
   "metadata": {},
   "source": [
    "## [Objectives](#toc)<a id=\"obj\"></a>"
   ]
  },
  {
   "cell_type": "markdown",
   "metadata": {},
   "source": [
    "`state objectives`"
   ]
  },
  {
   "cell_type": "markdown",
   "metadata": {},
   "source": [
    "## [Approach](#toc)<a id=\"app\"></a>"
   ]
  },
  {
   "cell_type": "markdown",
   "metadata": {},
   "source": [
    "A Galerkin weak formulation follows below and the implementation of the integrands as MOOSE kernels are described next."
   ]
  },
  {
   "cell_type": "markdown",
   "metadata": {},
   "source": [
    "### [Weak Form of Problem Statement](#toc)<a id=\"weakform\"></a> \n",
    "The problem can be stated as a Galerkin problem in the following weak form:\n",
    "\n",
    "\n",
    "\\begin{align*}\n",
    " \\int\\limits_a^b D\\, u'(x)\\,v'(x)\\,dx - \\int\\limits_a^b S\\,v(x)\\,dx -h\\,\\bigl(u(b) - u_{\\infty,b}\\bigr)\\,v(b) -h\\,\\bigl(u(a) - u_{\\infty,a}\\bigr)\\,v(a) &= 0 \\quad\\quad \\forall \\quad\\quad v \\in H^1_0\\!\\bigl([a,b]\\bigr), \n",
    "\\end{align*}\n",
    "\n",
    "which can also be written as follows:\n",
    "\n",
    "\\begin{align*}\n",
    "\\bigl(D\\, u',v'\\bigr) - \\bigl(S,v\\bigr) &= 0 \\quad\\quad \\forall \\quad\\quad v \\in H^1_0\\!\\bigl([a,b]\\bigr), \n",
    "\\end{align*}\n",
    "\n",
    "We only have one domain: that of the position along the thickness of the brick wall. The weak form on this domain will then be to find T , so that.. "
   ]
  },
  {
   "cell_type": "markdown",
   "metadata": {},
   "source": [
    "### [MOOSE Kernels](#toc)<a id=\"kernels\"></a>\n"
   ]
  },
  {
   "cell_type": "markdown",
   "metadata": {},
   "source": [
    "### [Tests](#toc)<a id=\"tests\"></a>\n"
   ]
  },
  {
   "cell_type": "markdown",
   "metadata": {},
   "source": [
    "### [Setup](#toc)<a id=\"setup\"></a>"
   ]
  },
  {
   "cell_type": "code",
   "execution_count": 1,
   "metadata": {
    "ExecuteTime": {
     "end_time": "2021-12-19T22:57:35.042863Z",
     "start_time": "2021-12-19T22:57:34.703225Z"
    }
   },
   "outputs": [],
   "source": [
    "'''Domain'''\n",
    "import numpy as np\n",
    "import pyhit\n",
    "import moosetree\n",
    "x_a = 0\n",
    "x_b = 0.05\n",
    "\n",
    "x_length = x_b - x_a"
   ]
  },
  {
   "cell_type": "code",
   "execution_count": 2,
   "metadata": {
    "ExecuteTime": {
     "end_time": "2021-12-19T22:57:35.640268Z",
     "start_time": "2021-12-19T22:57:35.636784Z"
    }
   },
   "outputs": [],
   "source": [
    "'''Parameters'''\n",
    "diff_coeff = 31\n",
    "#source_s = 22028049\n",
    "source_s = 97902.44\n",
    "\n",
    "u_a = 20\n",
    "u_b = 40"
   ]
  },
  {
   "cell_type": "code",
   "execution_count": 3,
   "metadata": {
    "ExecuteTime": {
     "end_time": "2021-12-19T22:57:37.294528Z",
     "start_time": "2021-12-19T22:57:37.291677Z"
    }
   },
   "outputs": [],
   "source": [
    "'''Data (boundary conditions for testing purposes)'''\n",
    "n_felem = 6\n",
    "\n",
    "order = 'second'\n",
    "flux_order = 'first'\n",
    "n_plot_pts = n_felem + 1\n",
    "n_plot_pts = 2000"
   ]
  },
  {
   "cell_type": "code",
   "execution_count": 31,
   "metadata": {
    "ExecuteTime": {
     "end_time": "2021-12-19T23:53:12.111692Z",
     "start_time": "2021-12-19T23:53:12.092564Z"
    }
   },
   "outputs": [],
   "source": [
    "'''FEM Solution'''\n",
    "\n",
    "def write_input_file():\n",
    "    import pyhit\n",
    "    import moosetree\n",
    "    root = pyhit.load('')\n",
    "\n",
    "    prblm = root.insert(-1,'Problem')\n",
    "    prblm['type'] = 'FEProblem'\n",
    "    prblm['coord_type'] = 'XYZ'\n",
    "\n",
    "    mesh = root.insert(-1,'Mesh')\n",
    "    \n",
    "    omega = mesh.insert(-1,'omega')\n",
    "    omega['type'] = 'GeneratedMeshGenerator'\n",
    "    omega['dim'] = 1\n",
    "    omega['xmin'] = x_a\n",
    "    omega['xmax'] = x_b\n",
    "    omega['nx'] = n_felem\n",
    "    if order == 'second':\n",
    "        omega['elem_type'] = 'edge3'\n",
    "\n",
    "    vars = root.insert(-1,'Variables')\n",
    "    \n",
    "    conc = vars.insert(-1,'u')\n",
    "    conc['order'] = order\n",
    "    conc['family'] = 'lagrange'\n",
    "    conc['initial_condition'] = (u_a+u_b)/2\n",
    "    \n",
    "    kernels = root.insert(-1,'Kernels')\n",
    "    \n",
    "    diff = kernels.insert(-1,'diffusion-term')\n",
    "    diff['type'] = 'DiffusionTerm'\n",
    "    diff['variable'] = 'u'\n",
    "    #diff['alfa'] =174686\n",
    "    #diff['beta'] =25777\n",
    "    diff['diffCoeff']=31\n",
    "    \n",
    "    source = kernels.insert(-1,'source-term')\n",
    "    source['type'] = 'SourceTerm'\n",
    "    source['variable'] = 'u'\n",
    "    source['sourceSFunc'] = 'sourceSFunc'\n",
    "    \n",
    "    functions = root.insert(-1,'Functions')\n",
    "    \n",
    "    source_s_func = functions.insert(-1,'sourceSFunc')\n",
    "    source_s_func['type'] = 'ParsedFunction'\n",
    "    source_s_func['value'] = \"'a*x + b'\"\n",
    "    source_s_func['vars'] = \"'a, b'\"\n",
    "    source_s_func['vals'] = \"'185543, 156940'\"\n",
    "    \n",
    "    \n",
    "    aux_vars = root.insert(-1,'AuxVariables')\n",
    "    \n",
    "    heat_flux_fuel = aux_vars.insert(-1,'diffFluxU')\n",
    "    heat_flux_fuel['order'] = flux_order\n",
    "    heat_flux_fuel['family'] = 'monomial_vec'\n",
    "    \n",
    "    heat_flux_fuel_r = aux_vars.insert(-1,'diffFluxU_r')\n",
    "    heat_flux_fuel_r['order'] = flux_order\n",
    "    heat_flux_fuel_r['family'] = 'monomial'\n",
    "    \n",
    "    aux_kernels = root.insert(-1,'AuxKernels')\n",
    "            \n",
    "    heat_flux = aux_kernels.insert(-1,'heat-flux-fuel')\n",
    "    heat_flux['type'] = 'HeatFlux'\n",
    "    heat_flux['field'] = 'u'\n",
    "    heat_flux['thCondCoeff'] = diff_coeff\n",
    "    heat_flux['variable'] = 'diffFluxU'\n",
    "    heat_flux['execute_on'] = 'timestep_end'\n",
    "    \n",
    "    heat_flux_r = aux_kernels.insert(-1,'heat-flux-fuel-r')\n",
    "    heat_flux_r['type'] = 'VectorVariableComponentAux'\n",
    "    heat_flux_r['vector_variable'] = 'diffFluxU'\n",
    "    heat_flux_r['component'] = 'x'\n",
    "    heat_flux_r['variable'] = 'diffFluxU_r'\n",
    "    heat_flux_r['execute_on'] = 'timestep_end'\n",
    "    \n",
    "    \n",
    "    bcs = root.insert(-1,'BCs')\n",
    "    \n",
    "    \n",
    "    xa = bcs.insert(-1,'entry-u')\n",
    "    xa['type'] = 'NormalHeatFluxBC'\n",
    "    xa['variable'] = 'u'\n",
    "    xa['boundary'] = 'left'\n",
    "    xa['transferCoeff'] = -10\n",
    "    xa['refTemp'] = 20\n",
    "    \n",
    "    xb = bcs.insert(-1,'exit-u')\n",
    "    xb['type'] = 'NormalHeatFluxBC'\n",
    "    xb['variable'] = 'u'\n",
    "    xb['boundary'] = 'right'\n",
    "    xb['transferCoeff'] = -10\n",
    "    xb['refTemp'] = 40\n",
    "    \n",
    "    \"\"\"\n",
    "    xa = bcs.insert(-1,'entry-u')\n",
    "    xa['type'] = 'DirichletBC'\n",
    "    xa['variable'] = 'u'\n",
    "    xa['boundary'] = 'left'\n",
    "    xa['value'] = u_a\n",
    "    #xa['transferCoeff'] = -10\n",
    "    #xa['refTemp'] = 25\n",
    "    \n",
    "    xb = bcs.insert(-1,'exit-u')\n",
    "    xb['type'] = 'DirichletBC'\n",
    "    xb['variable'] = 'u'\n",
    "    xb['boundary'] = 'right'\n",
    "    xb['value'] = u_b\n",
    "    #xb['transferCoeff'] = -10\n",
    "    #xb['refTemp'] = 15\n",
    "    \"\"\"\n",
    "\n",
    "\n",
    "    exe = root.insert(-1,'Executioner')\n",
    "    exe['type'] = 'Steady'\n",
    "    exe['solve_type']  = 'PJFNK'\n",
    "    exe['petsc_options_iname']  = '-pc_type -pc_hypre_type'\n",
    "    exe['petsc_options_value']  = 'hypre boomeramg'\n",
    "    exe['l_max_its']  = 20\n",
    "    exe['l_tol']  = 1e-5\n",
    "    exe['nl_max_its']  = 15\n",
    "    exe['nl_rel_tol']  = 1e-8\n",
    "    exe['nl_abs_tol']  = 1e-8\n",
    "\n",
    "    vp = root.insert(-1,'VectorPostprocessors')\n",
    "    omega = vp.insert(-1,'Both_Robin')\n",
    "    omega['type'] = 'LineValueSampler'\n",
    "    omega['execute_on'] = 'timestep_end final'\n",
    "    omega['variable'] = 'u diffFluxU_r'\n",
    "    #omega['variable'] = 'u'  \n",
    "    omega['start_point'] = str(x_a)+' 0 0'\n",
    "    omega['end_point'] = str(x_b)+' 0 0'\n",
    "    omega['num_points'] = n_plot_pts\n",
    "    omega['sort_by'] = 'id'\n",
    "\n",
    "    out = root.insert(-1,'Outputs')\n",
    "    out['console'] = 'true'\n",
    "    csv = out.insert(-1,'csv')\n",
    "    csv['type'] = 'CSV'\n",
    "    csv['file_base'] = 'output'\n",
    "    csv['execute_on'] = 'final'\n",
    "\n",
    "    pyhit.write('input.hit', root)\n",
    "\n",
    "\n",
    "def plot_solution(df, \n",
    "                  title='No Title', \n",
    "                  basis_functions_type='No basis functions type',\n",
    "                  flux_basis_functions_type='No basis functions type'):\n",
    "    \n",
    "    import matplotlib.pyplot as plt\n",
    "    #%matplotlib inline\n",
    "    plt.style.use('dark_background')\n",
    "\n",
    "    (fig, ax1) = plt.subplots(1, figsize=(14, 5))\n",
    "\n",
    "    ax1.plot(df['x'], df['u'],'r*-',label=basis_functions_type)\n",
    "\n",
    "    ax1.set_xlabel(r'$x$ [m]', fontsize=18)\n",
    "    ax1.set_ylabel(r'$u_h(x)$ [C]', fontsize=18, color='red')\n",
    "    ax1.tick_params(axis='y', labelcolor='red', labelsize=14)\n",
    "    ax1.tick_params(axis='x', labelsize=14)\n",
    "    ax1.legend(loc='center left', fontsize=12)\n",
    "    #ax1.set_ylim(0,1)\n",
    "    ax1.grid(True)\n",
    "\n",
    "    if 'diffFluxU_r' in df.columns:\n",
    "        # create a twin x axis to be shared\n",
    "        ax2 = ax1.twinx()\n",
    "\n",
    "        ax2.plot(df['x'], df['diffFluxU_r'],'*-', color='yellow', label=flux_basis_functions_type)\n",
    "\n",
    "        ax2.set_ylabel(r\"$q_h(x)$ [g/cm$^2$-s]\", fontsize=16, color='yellow')\n",
    "        ax2.tick_params(axis='y', labelcolor='yellow', labelsize=14)\n",
    "        ax2.legend(loc='center right', fontsize=12)\n",
    "        #ax2.set_ylim(0,2)\n",
    "        #ax2.grid(True)\n",
    "\n",
    "    plt.title(title, fontsize=20)\n",
    "    fig.tight_layout()  # otherwise the right y-label is slightly clipped\n",
    "    plt.show()\n",
    "    print('')\n",
    "    \n"
   ]
  },
  {
   "cell_type": "code",
   "execution_count": 32,
   "metadata": {
    "ExecuteTime": {
     "end_time": "2021-12-19T23:53:12.443422Z",
     "start_time": "2021-12-19T23:53:12.439088Z"
    }
   },
   "outputs": [],
   "source": [
    "write_input_file()"
   ]
  },
  {
   "cell_type": "code",
   "execution_count": 33,
   "metadata": {
    "ExecuteTime": {
     "end_time": "2021-12-19T23:53:13.106163Z",
     "start_time": "2021-12-19T23:53:12.992456Z"
    }
   },
   "outputs": [
    {
     "name": "stdout",
     "output_type": "stream",
     "text": [
      "[Problem]\r\n",
      "  type = FEProblem\r\n",
      "  coord_type = XYZ\r\n",
      "[]\r\n",
      "[Mesh]\r\n",
      "  [omega]\r\n",
      "    type = GeneratedMeshGenerator\r\n",
      "    dim = 1\r\n",
      "    xmin = 0\r\n",
      "    xmax = 0.05\r\n",
      "    nx = 6\r\n",
      "    elem_type = edge3\r\n",
      "  []\r\n",
      "[]\r\n",
      "[Variables]\r\n",
      "  [u]\r\n",
      "    order = second\r\n",
      "    family = lagrange\r\n",
      "    initial_condition = 30.0\r\n",
      "  []\r\n",
      "[]\r\n",
      "[Kernels]\r\n",
      "  [diffusion-term]\r\n",
      "    type = DiffusionTerm\r\n",
      "    variable = u\r\n",
      "    diffCoeff = 31\r\n",
      "  []\r\n",
      "  [source-term]\r\n",
      "    type = SourceTerm\r\n",
      "    variable = u\r\n",
      "    sourceSFunc = sourceSFunc\r\n",
      "  []\r\n",
      "[]\r\n",
      "[Functions]\r\n",
      "  [sourceSFunc]\r\n",
      "    type = ParsedFunction\r\n",
      "    value = 'a*x + b'\r\n",
      "    vars = 'a, b'\r\n",
      "    vals = '185543, 156940'\r\n",
      "  []\r\n",
      "[]\r\n",
      "[AuxVariables]\r\n",
      "  [diffFluxU]\r\n",
      "    order = first\r\n",
      "    family = monomial_vec\r\n",
      "  []\r\n",
      "  [diffFluxU_r]\r\n",
      "    order = first\r\n",
      "    family = monomial\r\n",
      "  []\r\n",
      "[]\r\n",
      "[AuxKernels]\r\n",
      "  [heat-flux-fuel]\r\n",
      "    type = HeatFlux\r\n",
      "    field = u\r\n",
      "    thCondCoeff = 31\r\n",
      "    variable = diffFluxU\r\n",
      "    execute_on = timestep_end\r\n",
      "  []\r\n",
      "  [heat-flux-fuel-r]\r\n",
      "    type = VectorVariableComponentAux\r\n",
      "    vector_variable = diffFluxU\r\n",
      "    component = x\r\n",
      "    variable = diffFluxU_r\r\n",
      "    execute_on = timestep_end\r\n",
      "  []\r\n",
      "[]\r\n",
      "[BCs]\r\n",
      "  [entry-u]\r\n",
      "    type = NormalHeatFluxBC\r\n",
      "    variable = u\r\n",
      "    boundary = left\r\n",
      "    transferCoeff = -10\r\n",
      "    refTemp = 20\r\n",
      "  []\r\n",
      "  [exit-u]\r\n",
      "    type = NormalHeatFluxBC\r\n",
      "    variable = u\r\n",
      "    boundary = right\r\n",
      "    transferCoeff = -10\r\n",
      "    refTemp = 40\r\n",
      "  []\r\n",
      "[]\r\n",
      "[Executioner]\r\n",
      "  type = Steady\r\n",
      "  solve_type = PJFNK\r\n",
      "  petsc_options_iname = '-pc_type -pc_hypre_type'\r\n",
      "  petsc_options_value = 'hypre boomeramg'\r\n",
      "  l_max_its = 20\r\n",
      "  l_tol = 1e-05\r\n",
      "  nl_max_its = 15\r\n",
      "  nl_rel_tol = 1e-08\r\n",
      "  nl_abs_tol = 1e-08\r\n",
      "[]\r\n",
      "[VectorPostprocessors]\r\n",
      "  [Both_Robin]\r\n",
      "    type = LineValueSampler\r\n",
      "    execute_on = 'timestep_end final'\r\n",
      "    variable = 'u diffFluxU_r'\r\n",
      "    start_point = '0 0 0'\r\n",
      "    end_point = '0.05 0 0'\r\n",
      "    num_points = 2000\r\n",
      "    sort_by = id\r\n",
      "  []\r\n",
      "[]\r\n",
      "[Outputs]\r\n",
      "  console = true\r\n",
      "  [csv]\r\n",
      "    type = CSV\r\n",
      "    file_base = output\r\n",
      "    execute_on = final\r\n",
      "  []\r\n",
      "[]\r\n"
     ]
    }
   ],
   "source": [
    "!cat input.hit"
   ]
  },
  {
   "cell_type": "code",
   "execution_count": 34,
   "metadata": {
    "ExecuteTime": {
     "end_time": "2021-12-19T23:53:14.060154Z",
     "start_time": "2021-12-19T23:53:13.690465Z"
    }
   },
   "outputs": [
    {
     "name": "stdout",
     "output_type": "stream",
     "text": [
      "/bin/bash: line 1: /Users/joker/softwears/moose/engy5310p1/engy5310p1-opt: No such file or directory\n",
      "\n",
      "Framework Information:\n",
      "MOOSE Version:           git commit 38d37b938c on 2021-10-22\n",
      "LibMesh Version:         aebb5a5c0e1f6d8cf523a720e19f70a6d17c0236\n",
      "PETSc Version:           3.16.0\n",
      "SLEPc Version:           3.16.0\n",
      "Current Time:            Sun Dec 19 18:53:13 2021\n",
      "Executable Timestamp:    Sun Dec 19 18:31:18 2021\n",
      "\n",
      "Parallelism:\n",
      "  Num Processors:          1\n",
      "  Num Threads:             1\n",
      "\n",
      "Mesh: \n",
      "  Parallel Type:           replicated\n",
      "  Mesh Dimension:          1\n",
      "  Spatial Dimension:       1\n",
      "  Nodes:                   13\n",
      "  Elems:                   6\n",
      "  Num Subdomains:          1\n",
      "\n",
      "Nonlinear System:\n",
      "  Num DOFs:                13\n",
      "  Num Local DOFs:          13\n",
      "  Variables:               \"u\" \n",
      "  Finite Element Types:    \"LAGRANGE\" \n",
      "  Approximation Orders:    \"SECOND\" \n",
      "\n",
      "Auxiliary System:\n",
      "  Num DOFs:                24\n",
      "  Num Local DOFs:          24\n",
      "  Variables:               \"diffFluxU\" \"diffFluxU_r\" \n",
      "  Finite Element Types:    \"MONOMIAL_VEC\" \"MONOMIAL\" \n",
      "  Approximation Orders:    \"FIRST\" \"FIRST\" \n",
      "\n",
      "Execution Information:\n",
      "  Executioner:             Steady\n",
      "  Solver Mode:             Preconditioned JFNK\n",
      "  PETSc Preconditioner:    hypre boomeramg \n",
      "\n",
      "\n",
      "\u001b[31m\n",
      "*** ERROR ***\n",
      "'No postprocessor, scalar variable, or function with the name '185543,' found. Unable to convert '185543,' to type double\u001b[39m\n",
      "\n",
      "Stack frames: 12\n",
      "0: libMesh::print_trace(std::ostream&)\n",
      "1: moose::internal::mooseErrorRaw(std::__cxx11::basic_string<char, std::char_traits<char>, std::allocator<char> >, std::__cxx11::basic_string<char, std::char_traits<char>, std::allocator<char> >)\n",
      "2: void mooseError<char const (&) [64], std::__cxx11::basic_string<char, std::char_traits<char>, std::allocator<char> > const&, char const (&) [10], char const*>(char const (&) [64], std::__cxx11::basic_string<char, std::char_traits<char>, std::allocator<char> > const&, char const (&) [10], char const*&&)\n",
      "3: /home/dealmeida/gentoo-home/work/codes/moose/framework/libmoose-opt.so.0(+0x89b4bc) [0x7fa4979f44bc]\n",
      "4: MooseParsedFunctionWrapper::MooseParsedFunctionWrapper(FEProblemBase&, std::__cxx11::basic_string<char, std::char_traits<char>, std::allocator<char> > const&, std::vector<std::__cxx11::basic_string<char, std::char_traits<char>, std::allocator<char> >, std::allocator<std::__cxx11::basic_string<char, std::char_traits<char>, std::allocator<char> > > > const&, std::vector<std::__cxx11::basic_string<char, std::char_traits<char>, std::allocator<char> >, std::allocator<std::__cxx11::basic_string<char, std::char_traits<char>, std::allocator<char> > > > const&, unsigned int)\n",
      "5: MooseParsedFunctionTempl<Function>::initialSetup()\n",
      "6: FEProblemBase::initialSetup()\n",
      "7: MooseApp::executeExecutioner()\n",
      "8: MooseApp::run()\n",
      "9: ./fires_brick-opt(+0xcc95) [0x55e222c4cc95]\n",
      "10: __libc_start_main\n",
      "11: ./fires_brick-opt(+0xcefa) [0x55e222c4cefa]\n",
      "--------------------------------------------------------------------------\n",
      "MPI_ABORT was invoked on rank 0 in communicator MPI_COMM_WORLD\n",
      "with errorcode 1.\n",
      "\n",
      "NOTE: invoking MPI_ABORT causes Open MPI to kill all MPI processes.\n",
      "You may or may not see output from other processes, depending on\n",
      "exactly when Open MPI kills them.\n",
      "--------------------------------------------------------------------------\n"
     ]
    }
   ],
   "source": [
    "!/Users/joker/softwears/moose/engy5310p1/engy5310p1-opt -i input.hit\n",
    "!./fires_brick-opt -i input.hit"
   ]
  },
  {
   "cell_type": "code",
   "execution_count": 26,
   "metadata": {
    "ExecuteTime": {
     "end_time": "2021-12-19T23:51:47.872599Z",
     "start_time": "2021-12-19T23:51:47.615670Z"
    }
   },
   "outputs": [
    {
     "name": "stdout",
     "output_type": "stream",
     "text": [
      "      diffFluxU_r        id           u         x  y  z\n",
      "0    -4139.428881  0.000000  433.835514  0.000000  0  0\n",
      "1    -4135.484081  0.000025  433.838852  0.000025  0  0\n",
      "2    -4131.539281  0.000050  433.842187  0.000050  0  0\n",
      "3    -4127.594481  0.000075  433.845519  0.000075  0  0\n",
      "4    -4123.649682  0.000100  433.848848  0.000100  0  0\n",
      "...           ...       ...         ...       ... .. ..\n",
      "1995  3922.947187  0.049900  434.070049  0.049900  0  0\n",
      "1996  3927.085358  0.049925  434.066882  0.049925  0  0\n",
      "1997  3931.223528  0.049950  434.063712  0.049950  0  0\n",
      "1998  3935.361699  0.049975  434.060538  0.049975  0  0\n",
      "1999  3939.499869  0.050000  434.057361  0.050000  0  0\n",
      "\n",
      "[2000 rows x 6 columns]\n"
     ]
    },
    {
     "data": {
      "image/png": "[encoded data removed]",
      "text/plain": [
       "<Figure size 1008x360 with 2 Axes>"
      ]
     },
     "metadata": {},
     "output_type": "display_data"
    },
    {
     "name": "stdout",
     "output_type": "stream",
     "text": [
      "\n"
     ]
    }
   ],
   "source": [
    "import pandas as pd\n",
    "df = pd.read_csv('output_Both_Robin_0002.csv')\n",
    "print(df)   \n",
    "plot_solution(df, title='Dirichlet BC FEM Solution', basis_functions_type='Quadratic Lagrange', flux_basis_functions_type='Linear Monomial')"
   ]
  },
  {
   "cell_type": "markdown",
   "metadata": {},
   "source": [
    "#### [Test 1](#toc)<a id=\"1dsolofueldirichlet\"></a>\n"
   ]
  },
  {
   "cell_type": "code",
   "execution_count": 10,
   "metadata": {
    "code_folding": []
   },
   "outputs": [
    {
     "data": {
      "text/plain": [
       "'Input file'"
      ]
     },
     "execution_count": 10,
     "metadata": {},
     "output_type": "execute_result"
    }
   ],
   "source": [
    "'''Input file'''"
   ]
  },
  {
   "cell_type": "code",
   "execution_count": 11,
   "metadata": {
    "scrolled": true
   },
   "outputs": [
    {
     "data": {
      "text/plain": [
       "'Run MOOSE App'"
      ]
     },
     "execution_count": 11,
     "metadata": {},
     "output_type": "execute_result"
    }
   ],
   "source": [
    "'''Run MOOSE App'''"
   ]
  },
  {
   "cell_type": "code",
   "execution_count": 12,
   "metadata": {
    "code_folding": []
   },
   "outputs": [
    {
     "data": {
      "text/plain": [
       "'Solution'"
      ]
     },
     "execution_count": 12,
     "metadata": {},
     "output_type": "execute_result"
    }
   ],
   "source": [
    "'''Solution'''"
   ]
  },
  {
   "cell_type": "markdown",
   "metadata": {},
   "source": [
    "#### [Test 2](#toc)<a id=\"1dsolofueldirichletrobin\"></a>"
   ]
  },
  {
   "cell_type": "code",
   "execution_count": 13,
   "metadata": {},
   "outputs": [
    {
     "data": {
      "text/plain": [
       "'Parameters'"
      ]
     },
     "execution_count": 13,
     "metadata": {},
     "output_type": "execute_result"
    }
   ],
   "source": [
    "'''Parameters'''"
   ]
  },
  {
   "cell_type": "code",
   "execution_count": 14,
   "metadata": {
    "scrolled": true
   },
   "outputs": [
    {
     "data": {
      "text/plain": [
       "'Input file mod'"
      ]
     },
     "execution_count": 14,
     "metadata": {},
     "output_type": "execute_result"
    }
   ],
   "source": [
    "'''Input file mod'''"
   ]
  },
  {
   "cell_type": "code",
   "execution_count": 15,
   "metadata": {
    "scrolled": true
   },
   "outputs": [
    {
     "data": {
      "text/plain": [
       "'Run MOOSE App'"
      ]
     },
     "execution_count": 15,
     "metadata": {},
     "output_type": "execute_result"
    }
   ],
   "source": [
    "'''Run MOOSE App'''"
   ]
  },
  {
   "cell_type": "code",
   "execution_count": 16,
   "metadata": {
    "code_folding": []
   },
   "outputs": [
    {
     "data": {
      "text/plain": [
       "'Solution'"
      ]
     },
     "execution_count": 16,
     "metadata": {},
     "output_type": "execute_result"
    }
   ],
   "source": [
    "'''Solution'''"
   ]
  },
  {
   "cell_type": "markdown",
   "metadata": {},
   "source": [
    "## [2-D Results and Analysis](#toc)<a id=\"ranalysis\"></a>"
   ]
  },
  {
   "cell_type": "code",
   "execution_count": 17,
   "metadata": {},
   "outputs": [
    {
     "data": {
      "text/plain": [
       "'Parameters'"
      ]
     },
     "execution_count": 17,
     "metadata": {},
     "output_type": "execute_result"
    }
   ],
   "source": [
    "'''Parameters'''"
   ]
  },
  {
   "cell_type": "code",
   "execution_count": 18,
   "metadata": {},
   "outputs": [
    {
     "data": {
      "text/plain": [
       "'FEM Parameters'"
      ]
     },
     "execution_count": 18,
     "metadata": {},
     "output_type": "execute_result"
    }
   ],
   "source": [
    "'''FEM Parameters'''"
   ]
  },
  {
   "cell_type": "code",
   "execution_count": 19,
   "metadata": {},
   "outputs": [
    {
     "data": {
      "text/plain": [
       "'Input file mod'"
      ]
     },
     "execution_count": 19,
     "metadata": {},
     "output_type": "execute_result"
    }
   ],
   "source": [
    "'''Input file mod'''"
   ]
  },
  {
   "cell_type": "code",
   "execution_count": 20,
   "metadata": {
    "scrolled": true
   },
   "outputs": [
    {
     "data": {
      "text/plain": [
       "'Run MOOSE App'"
      ]
     },
     "execution_count": 20,
     "metadata": {},
     "output_type": "execute_result"
    }
   ],
   "source": [
    "'''Run MOOSE App'''"
   ]
  },
  {
   "cell_type": "code",
   "execution_count": 21,
   "metadata": {},
   "outputs": [
    {
     "data": {
      "text/plain": [
       "'Show 2D solution'"
      ]
     },
     "execution_count": 21,
     "metadata": {},
     "output_type": "execute_result"
    }
   ],
   "source": [
    "'''Show 2D solution'''"
   ]
  },
  {
   "cell_type": "markdown",
   "metadata": {},
   "source": [
    "## [Conclusions](#toc)<a id=\"conclusions\"></a>"
   ]
  },
  {
   "cell_type": "markdown",
   "metadata": {},
   "source": [
    "## [References](#toc)<a id=\"refs\"></a>\n",
    "\n",
    "- [1] V. F. de Almeida, [*Engy-5310: Computational Continuum Transport Phenomena*](https://github.com/dpploy/engy-5310), University of Massachusetts Lowell, Dept. of Chemical Engineering (Nuclear Energy Program).\n",
    "- [2] Multiphysics Object-Oriented Simulation Environment [(MOOSE)](https://mooseframework.org)\n",
    "- [4] author, [reference]()"
   ]
  },
  {
   "cell_type": "code",
   "execution_count": null,
   "metadata": {},
   "outputs": [],
   "source": []
  }
 ],
 "metadata": {
  "kernelspec": {
   "display_name": "Python 3 (ipykernel)",
   "language": "python",
   "name": "python3"
  },
  "language_info": {
   "codemirror_mode": {
    "name": "ipython",
    "version": 3
   },
   "file_extension": ".py",
   "mimetype": "text/x-python",
   "name": "python",
   "nbconvert_exporter": "python",
   "pygments_lexer": "ipython3",
   "version": "3.9.9"
  },
  "latex_envs": {
   "LaTeX_envs_menu_present": true,
   "autoclose": false,
   "autocomplete": true,
   "bibliofile": "biblio.bib",
   "cite_by": "apalike",
   "current_citInitial": 1,
   "eqLabelWithNumbers": true,
   "eqNumInitial": 1,
   "hotkeys": {
    "equation": "Ctrl-E",
    "itemize": "Ctrl-I"
   },
   "labels_anchors": false,
   "latex_user_defs": false,
   "report_style_numbering": false,
   "user_envs_cfg": false
  }
 },
 "nbformat": 4,
 "nbformat_minor": 2
}
