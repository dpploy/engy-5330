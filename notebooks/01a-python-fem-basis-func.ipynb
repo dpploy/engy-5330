{
 "cells": [
  {
   "cell_type": "markdown",
   "metadata": {},
   "source": [
    "ChEn-5310: Computational Continuum Transport Phenomena Fall 2021 UMass Lowell; Prof. V. F. de Almeida **28Oct21**\n",
    "\n",
    "# 01a. Python FEM Basis Functions\n",
    "$  \n",
    "  \\newcommand{\\Amtrx}{\\boldsymbol{\\mathsf{A}}}\n",
    "  \\newcommand{\\Gmtrx}{\\boldsymbol{\\mathsf{G}}}\n",
    "  \\newcommand{\\Bmtrx}{\\boldsymbol{\\mathsf{B}}}\n",
    "  \\newcommand{\\Mmtrx}{\\boldsymbol{\\mathsf{M}}}\n",
    "  \\newcommand{\\Imtrx}{\\boldsymbol{\\mathsf{I}}}\n",
    "  \\newcommand{\\Pmtrx}{\\boldsymbol{\\mathsf{P}}}\n",
    "  \\newcommand{\\Lmtrx}{\\boldsymbol{\\mathsf{L}}}\n",
    "  \\newcommand{\\Umtrx}{\\boldsymbol{\\mathsf{U}}}\n",
    "  \\newcommand{\\Smtrx}{\\boldsymbol{\\mathsf{S}}}\n",
    "  \\newcommand{\\xvec}{\\boldsymbol{\\mathsf{x}}}\n",
    "  \\newcommand{\\avec}{\\boldsymbol{\\mathsf{a}}}\n",
    "  \\newcommand{\\bvec}{\\boldsymbol{\\mathsf{b}}}\n",
    "  \\newcommand{\\cvec}{\\boldsymbol{\\mathsf{c}}}\n",
    "  \\newcommand{\\rvec}{\\boldsymbol{\\mathsf{r}}}\n",
    "  \\newcommand{\\fvec}{\\boldsymbol{\\mathsf{f}}}\n",
    "  \\newcommand{\\mvec}{\\boldsymbol{\\mathsf{m}}}\n",
    "  \\newcommand{\\gvec}{\\boldsymbol{\\mathsf{g}}}\n",
    "  \\newcommand{\\zerovec}{\\boldsymbol{\\mathsf{0}}}\n",
    "  \\newcommand{\\norm}[1]{\\bigl\\lVert{#1}\\bigr\\rVert}\n",
    "  \\newcommand{\\transpose}[1]{{#1}^\\top}\n",
    "  \\DeclareMathOperator{\\rank}{rank}\n",
    "  \\newcommand{\\Reals}{\\mathbb{R}}\n",
    "  \\newcommand{\\thetavec}{\\boldsymbol{\\theta}}\n",
    "$"
   ]
  },
  {
   "cell_type": "markdown",
   "metadata": {},
   "source": [
    "---\n",
    "\n",
    "## Table of Contents<a id=\"toc\"></a>\n",
    "* [Objectives](#obj)\n",
    "* [Finite Element Lagrange Polynomial Basis Functions](#fem-lagrange-basis)\n",
    " 1. [Domain Partition](#dom-part)\n",
    " 2. [Parent Mapping](#parent-map)\n",
    " 3. [Parent Basis Functions (or also called shape functions)](#parent-basis)\n",
    " 4. [Global Basis Functions](#global-basis)\n",
    " 5. [Testing](#test)\n",
    "* [Function Approximation](#func-approx)\n",
    " + [Inner Product](#inner-prod)\n",
    " + [Gram Matrix](#gram-matrix)\n",
    " + [Load Vector](#load-vector)\n",
    " + [Optimal Combination Coefficients](#cont-optimal-coeff)\n",
    " + [Results](#cont-res)\n",
    "---"
   ]
  },
  {
   "cell_type": "markdown",
   "metadata": {},
   "source": [
    "## [Objectives](#toc)<a id=\"obj\"></a>\n",
    "\n",
    " + Present basic `python` code that implements finite element basis functions mathematical structures (notes: OneNote [Engy-5310-fem-basis-func](https://studentuml-my.sharepoint.com/:o:/g/personal/valmor_dealmeida_uml_edu/Evw7drHQs_ZMqvRqjb762w8BtVaiw2QrQKjQwYf6qCN4Sg?e=zYR8qF)).\n",
    " + Review the fundamental mathematical elements of the finite element basis functions theory.\n",
    " + Demonstrate function approximation via Lagrange finite element basis functions of degree 1. It is left as an exercise to extend the `python` functions below to degrees 2 and 3. Note: only minor modification is needed beyond coding the parent basis functions for higher-order degree."
   ]
  },
  {
   "cell_type": "markdown",
   "metadata": {},
   "source": [
    "## [Finite Element Lagrange Basis Functions](#toc)<a id=\"fem-lagrange-basis\"></a>\n",
    "\n",
    "The following subsections follow the ordered presentation of the theory. \n",
    "The `python` code below can be extended to higher degree Lagrange polynomials. It is left as an exercise for the reader.\n",
    "Only minor changes are needed. The point of the implementation below is to present the major components of a program that implements the basic theory of the finite element method. The course notes should be reviewed in addition to the `python` code below."
   ]
  },
  {
   "cell_type": "markdown",
   "metadata": {},
   "source": [
    "### [1) Domain Partition](#toc)<a id=\"dom-part\"></a>\n",
    "\n",
    "The very first structure needed is the domain partition. Build the domain partition artifacts. This can be easily extended to higher order partitions (higher degree) to include interior nodes in the domain patches (or elements). Therefore a partition needs to be aware of the degree of polynomials to be distributed over the domain. Also, here the boundary conditions should be used to flag nodes where no basis functions will be placed."
   ]
  },
  {
   "cell_type": "code",
   "execution_count": 1,
   "metadata": {
    "ExecuteTime": {
     "end_time": "2021-11-08T03:58:22.803447Z",
     "start_time": "2021-11-08T03:58:22.798298Z"
    },
    "code_folding": [
     1
    ]
   },
   "outputs": [],
   "source": [
    "'''Domain partition'''\n",
    "def get_domain_partition(degree, n_elem, x_min, x_max, bc_x_min='flux', bc_x_max='flux'):\n",
    "    assert degree == 1\n",
    "    # Local node numbering on parent domain\n",
    "    # --0--------------1---->\n",
    "    #  -1      0      +1    zeta\n",
    "    gnodes_x = np.linspace(x_min, x_max, n_elem+1, dtype=np.float64)\n",
    "    patches = list()\n",
    "    local_to_global_node_id_map = list()\n",
    "    for e in range(n_elem):\n",
    "        gnode_id_2 = e + 1            # right\n",
    "        gnode_id_1 = gnode_id_2 - 1   # left\n",
    "        x1 = gnodes_x[gnode_id_1]\n",
    "        x2 = gnodes_x[gnode_id_2]\n",
    "        # Local node id:  0   1\n",
    "        patches.append((x1, x2))\n",
    "        # Local node id:                        0           1\n",
    "        local_to_global_node_id_map.append([gnode_id_1, gnode_id_2])\n",
    "    if bc_x_min == 'essential':\n",
    "        local_to_global_node_id_map[0][0] = -1\n",
    "    if bc_x_max == 'essential':\n",
    "        local_to_global_node_id_map[-1][-1] = -1\n",
    "    return (patches, gnodes_x, local_to_global_node_id_map)"
   ]
  },
  {
   "cell_type": "markdown",
   "metadata": {},
   "source": [
    "### [2) Parent Mapping](#toc)<a id=\"parent-map\"></a>\n",
    "\n",
    "The parent mapping is not a function of the degree of the Lagrange polynomials unless the domain is curved and an isoparametric mapping is used (this is not covered in this course yet). The foregoing makes the parent mapping the second structured needed."
   ]
  },
  {
   "cell_type": "code",
   "execution_count": 2,
   "metadata": {
    "ExecuteTime": {
     "end_time": "2021-11-08T03:58:24.455948Z",
     "start_time": "2021-11-08T03:58:24.452673Z"
    },
    "code_folding": [
     1
    ]
   },
   "outputs": [],
   "source": [
    "'''Parent mapping'''\n",
    "def get_parent_mapping():\n",
    "    # zeta in [-1,1]\n",
    "    parent_mapping = lambda zeta, x_e_bar, h_e: x_e_bar + h_e/2*zeta # compute x\n",
    "    parent_mapping_prime = lambda h_e: h_e/2                           # compute mapping derivative wrt zeta\n",
    "    # x in Omega_e\n",
    "    inverse_parent_mapping = lambda x, x_e_bar, h_e: (x - x_e_bar)*2/h_e # compute zeta\n",
    "    return (parent_mapping, parent_mapping_prime, inverse_parent_mapping)"
   ]
  },
  {
   "cell_type": "markdown",
   "metadata": {},
   "source": [
    "### [3) Parent Basis Functions](#toc)<a id=\"parent-basis\"></a>\n",
    "\n",
    "Construct the parent basis functions. Again, the course notes should be followed to extend this to higher degree Lagrange polynomials, and/or h-p adaptivity."
   ]
  },
  {
   "cell_type": "code",
   "execution_count": 3,
   "metadata": {
    "ExecuteTime": {
     "end_time": "2021-11-08T03:58:25.766205Z",
     "start_time": "2021-11-08T03:58:25.762730Z"
    },
    "code_folding": [
     1
    ]
   },
   "outputs": [],
   "source": [
    "'''Parent basis functions'''\n",
    "def get_parent_basis_functions():\n",
    "    parent_basis_func_list = list()\n",
    "    parent_basis_func_prime_list = list()\n",
    "    parent_basis_func_list.append(lambda zeta: -(zeta-1)/2)  # left\n",
    "    parent_basis_func_list.append(lambda zeta:  (zeta+1)/2)  # right\n",
    "    parent_basis_func_prime_list.append(lambda zeta: -1/2) # left\n",
    "    parent_basis_func_prime_list.append(lambda zeta:  1/2) # right\n",
    "    \n",
    "    return (parent_basis_func_list, parent_basis_func_prime_list)"
   ]
  },
  {
   "cell_type": "markdown",
   "metadata": {},
   "source": [
    "### [4) Global Basis Functions](#toc)<a id=\"global-basis\"></a>\n",
    "\n",
    "A global finite element basis function is never constructed but here it is demonstrated how it can be done so the theory is proven numerically. The `python` functions below requires only minor changes when extended for higher degree Lagrange polynomials, and/or rudimentary h-p adaptivity."
   ]
  },
  {
   "cell_type": "code",
   "execution_count": 4,
   "metadata": {
    "ExecuteTime": {
     "end_time": "2021-11-08T03:58:28.065981Z",
     "start_time": "2021-11-08T03:58:28.059637Z"
    },
    "code_folding": [
     1
    ]
   },
   "outputs": [],
   "source": [
    "'''Any global basis function'''\n",
    "def global_basis_function(i, x, domain_partition, parent_mapping, parent_basis_functions):\n",
    "    \"\"\"Evaluate the ith global FE basis function and its derivative on x points.\n",
    "    \n",
    "    This is never needed in practice. It is here for demonstrating the theory.\n",
    "    \"\"\"\n",
    "  \n",
    "    try:\n",
    "        len(x)\n",
    "    except TypeError:\n",
    "        x = np.array([x])\n",
    "  \n",
    "    if not isinstance(x, np.ndarray):\n",
    "       assert isinstance(x, list) or isinstance(x, tuple)\n",
    "       x = np.array(x)\n",
    "  \n",
    "    phi_i_x = np.copy(x) * 0.0 # initialization\n",
    "    phi_prime_i_x = np.copy(x) * 0.0 # initialization\n",
    "        \n",
    "    patches = domain_partition[0]\n",
    "    local_to_global_node_id_map = domain_partition[2]\n",
    "    inverse_parent_mapping = parent_mapping[2]\n",
    "    parent_basis_func_list = parent_basis_functions[0]\n",
    "  \n",
    "    # expensive reverse lookup\n",
    "    for j, x_j in enumerate(x):\n",
    "        for e, nodes_x in enumerate(patches):\n",
    "            if nodes_x[0] <= x_j <= nodes_x[1]:\n",
    "                n_lnodes = len(nodes_x)\n",
    "                for I in range(n_lnodes):\n",
    "                    if local_to_global_node_id_map[e][I] == i:\n",
    "                        x_e_bar = (nodes_x[0] + nodes_x[1])/2\n",
    "                        h_e = nodes_x[1] - nodes_x[0]\n",
    "                        zetta = inverse_parent_mapping(x_j, x_e_bar, h_e)\n",
    "                        phi_i_x[j] = parent_basis_func_list[I](zetta)\n",
    "                break\n",
    "    return phi_i_x"
   ]
  },
  {
   "cell_type": "markdown",
   "metadata": {},
   "source": [
    "Here the entire set of global basis functions is created; again, the `python` function below requires only minor changes for higher degree Lagrange polynomials, and/or when used with rudimentary h-p adaptivity."
   ]
  },
  {
   "cell_type": "code",
   "execution_count": 5,
   "metadata": {
    "ExecuteTime": {
     "end_time": "2021-11-08T03:58:28.397934Z",
     "start_time": "2021-11-08T03:58:28.393641Z"
    },
    "code_folding": [
     1
    ]
   },
   "outputs": [],
   "source": [
    "'''All global basis functions'''\n",
    "def get_global_basis_functions(domain_partition, parent_mapping, parent_basis_functions, global_basis_function):\n",
    "    \n",
    "    basis_func_list = list()\n",
    "    n_gnodes = domain_partition[1].size\n",
    "    local_to_global_node_id_map = domain_partition[2]\n",
    "    phi_i = lambda i, x: global_basis_function(i,x, domain_partition, parent_mapping, parent_basis_functions)\n",
    "  \n",
    "    visited = [False]*n_gnodes\n",
    "    for e in range(n_elem):\n",
    "        for I in range(len(local_to_global_node_id_map[e])):\n",
    "            gnode_id = local_to_global_node_id_map[e][I]\n",
    "            if gnode_id >= 0 and not visited[gnode_id]:\n",
    "                      basis_func_list.append(lambda x, i=gnode_id: phi_i(i,x))\n",
    "                      visited[gnode_id] = True\n",
    "  \n",
    "    assert len(basis_func_list) >= 1, 'There are no basis functions to build.'\n",
    "    \n",
    "    return basis_func_list"
   ]
  },
  {
   "cell_type": "markdown",
   "metadata": {},
   "source": [
    "### [5) Testing](#toc)<a id=\"test\"></a>\n",
    "\n",
    "See below for choices of boundary conditions and global basis functions."
   ]
  },
  {
   "cell_type": "code",
   "execution_count": 6,
   "metadata": {
    "ExecuteTime": {
     "end_time": "2021-11-08T03:58:30.299518Z",
     "start_time": "2021-11-08T03:58:30.294582Z"
    },
    "code_folding": [
     1
    ]
   },
   "outputs": [],
   "source": [
    "'''Plot global basis functions'''\n",
    "def plot(npts=200, title='Lagrange Basis Functions'):\n",
    "    \n",
    "    import matplotlib.pyplot as plt\n",
    "    #%matplotlib inline\n",
    "    plt.style.use('classic')\n",
    "    plt.figure(1, figsize=(14, 5))\n",
    "\n",
    "    x_pts = np.linspace(x_min, x_max, npts)\n",
    "    for (i,phi_i) in enumerate(phi_list):\n",
    "        plt.plot(x_pts, phi_i(x_pts),'-',label=r'$\\phi_%i$'%i)\n",
    "\n",
    "    gnodes_x = domain_partition[1]\n",
    "    plt.scatter(gnodes_x, np.zeros(gnodes_x.size), color='red', marker='x', s=80, label='nodes')\n",
    "\n",
    "    plt.title(title, fontsize=20)\n",
    "    plt.ylabel(r'$\\phi_i(x)$', fontsize=18)\n",
    "    plt.xlabel(r'$x$', fontsize=18)\n",
    "    plt.xticks(fontsize=16)\n",
    "    plt.yticks(fontsize=16)\n",
    "    plt.legend(loc='best',fontsize=12)\n",
    "    plt.grid(True)\n",
    "    plt.show()"
   ]
  },
  {
   "cell_type": "code",
   "execution_count": 36,
   "metadata": {
    "ExecuteTime": {
     "end_time": "2021-11-08T04:23:47.102919Z",
     "start_time": "2021-11-08T04:23:47.098648Z"
    }
   },
   "outputs": [],
   "source": [
    "'''Test'''\n",
    "import numpy as np\n",
    "x_min = -2\n",
    "x_max = 10\n",
    "\n",
    "degree = 1\n",
    "n_elem = 200\n",
    "\n",
    "# It is implied here the boundary conditions are of type: flux\n",
    "domain_partition = get_domain_partition(degree, n_elem, x_min, x_max)\n",
    "parent_mapping = get_parent_mapping()\n",
    "parent_basis_functions = get_parent_basis_functions()\n",
    "\n",
    "phi_list = get_global_basis_functions(domain_partition, parent_mapping, parent_basis_functions, global_basis_function)\n",
    "\n",
    "#plot(npts=800, title=r'Lagrange Basis Functions (w/ Flux Boundary Conditions) (degree = %i; dim =%i'%(degree, len(phi_list))+')')"
   ]
  },
  {
   "cell_type": "code",
   "execution_count": 8,
   "metadata": {
    "ExecuteTime": {
     "end_time": "2021-11-08T03:58:32.692361Z",
     "start_time": "2021-11-08T03:58:32.687396Z"
    }
   },
   "outputs": [
    {
     "name": "stdout",
     "output_type": "stream",
     "text": [
      "Help on function plot in module __main__:\n",
      "\n",
      "plot(npts=200, title='Lagrange Basis Functions')\n",
      "\n"
     ]
    }
   ],
   "source": [
    "help(plot)"
   ]
  },
  {
   "cell_type": "markdown",
   "metadata": {},
   "source": [
    "## [Function Approximation](#toc)<a id=\"func-approx\"></a>\n",
    "\n",
    "This section covers implementation `python` code for function approximation using Lagrange finite element basis functions and the continuous least-squares residual covered in previous notebooks in this course."
   ]
  },
  {
   "cell_type": "markdown",
   "metadata": {},
   "source": [
    "### [Target Function](#toc)<a id=\"f\"></a>\n",
    "\n",
    "Given a *well-behaved* target function $f:[a,b]\\rightarrow\\Reals$, compute an approximant $g:[a,b]\\rightarrow\\Reals$."
   ]
  },
  {
   "cell_type": "code",
   "execution_count": 9,
   "metadata": {
    "ExecuteTime": {
     "end_time": "2021-11-08T03:58:36.165064Z",
     "start_time": "2021-11-08T03:58:35.082992Z"
    }
   },
   "outputs": [
    {
     "name": "stdout",
     "output_type": "stream",
     "text": [
      "# shape pts =  12\n"
     ]
    },
    {
     "data": {
      "image/png": "[encoded data removed]",
      "text/plain": [
       "<Figure size 1120x400 with 1 Axes>"
      ]
     },
     "metadata": {},
     "output_type": "display_data"
    }
   ],
   "source": [
    "'''Generate the target function'''\n",
    "\n",
    "try:    \n",
    "    from engy_5310.toolkit import TargetFunction   \n",
    "except ModuleNotFoundError:\n",
    "    assert False, 'You need to provide your own code here. Bailing out.'\n",
    "\n",
    "shape_pts = [(-2,-10), (-1,10), (0,-18), (1,14), (2,0), (3,28), (5,-23), (6, -1), (6.5, -15), (7,12), (9,1), (10,-10)]\n",
    "print('# shape pts = ', len(shape_pts))\n",
    "\n",
    "f = TargetFunction(shape_pts, type='linear')\n",
    "  \n",
    "f.plot(n_plot_pts=200, show_shape_pts=True, title='Target Function')"
   ]
  },
  {
   "cell_type": "markdown",
   "metadata": {},
   "source": [
    "### [Inner Product](#toc)<a id=\"inner-prod\"></a>\n",
    "\n",
    "The inner products $(\\phi_i,\\phi_j)$ and $(f,\\phi_i)$ are used repetitively when approximating a function via the continuous least-squares method. It pays off to implement a general `python` function for this operation. It can be readily computed using the global basis functions. This is rarely done this way since it is expensive. A much more effective element-by-element integration method will be described next in the course. For now the code below is a pedagogical way of demonstrating the implementation. In addition, the code below is independent of the degree of the Lagrange polynomial basis functions; no change in this code is needed when using higher-order degree polynomials."
   ]
  },
  {
   "cell_type": "code",
   "execution_count": 10,
   "metadata": {
    "ExecuteTime": {
     "end_time": "2021-11-08T03:58:39.120888Z",
     "start_time": "2021-11-08T03:58:39.117362Z"
    },
    "code_folding": [
     2
    ]
   },
   "outputs": [],
   "source": [
    "'''Pedagogical inner product'''\n",
    "from scipy.integrate import quad\n",
    "def inner_product(u, v, patches):\n",
    "    integrand = lambda x: u(x) * v(x)          \n",
    "    inner_product = 0.0\n",
    "    for nodes_x in patches:\n",
    "        (inner_product_e, _) = quad(integrand, nodes_x[0], nodes_x[1])\n",
    "        inner_product += inner_product_e           \n",
    "    return inner_product"
   ]
  },
  {
   "cell_type": "markdown",
   "metadata": {},
   "source": [
    "### [Gram Matrix](#toc)<a id=\"gram-matrix\"></a>\n",
    "\n",
    "Build the matrix of inner products of the basis functions, the *Gram matrix* or also called the *mass matrix*: ${(\\Gmtrx)}_{i,j} = (\\phi_i, \\phi_j)$. The implementation below is expensive and provide here for pedagogical purposes. A much faster way will covered later, however it will be less direct."
   ]
  },
  {
   "cell_type": "code",
   "execution_count": 11,
   "metadata": {
    "ExecuteTime": {
     "end_time": "2021-11-08T03:58:46.699739Z",
     "start_time": "2021-11-08T03:58:46.696522Z"
    },
    "code_folding": [
     1
    ]
   },
   "outputs": [],
   "source": [
    "'''Pedagogical Gram matrix'''\n",
    "def get_gram_matrix(basis_func_list, domain_partition, inner_product):\n",
    "    N = len(basis_func_list)\n",
    "    patches = domain_partition[0]\n",
    "    a_mtrx = np.zeros((N, N), dtype=np.float64)\n",
    "    for i,phi_i in enumerate(basis_func_list):\n",
    "        for j,phi_j in enumerate(basis_func_list):\n",
    "            a_mtrx[i,j] = inner_product(phi_i, phi_j, patches)    \n",
    "    return a_mtrx"
   ]
  },
  {
   "cell_type": "code",
   "execution_count": 12,
   "metadata": {
    "ExecuteTime": {
     "end_time": "2021-11-08T04:00:00.749860Z",
     "start_time": "2021-11-08T03:58:48.681145Z"
    }
   },
   "outputs": [],
   "source": [
    "'''Compute the Pedagogical Gram matrix'''\n",
    "gram_mtrx = get_gram_matrix(phi_list, domain_partition, inner_product)"
   ]
  },
  {
   "cell_type": "code",
   "execution_count": 13,
   "metadata": {
    "ExecuteTime": {
     "end_time": "2021-11-08T04:00:00.757757Z",
     "start_time": "2021-11-08T04:00:00.751600Z"
    }
   },
   "outputs": [
    {
     "data": {
      "text/plain": [
       "array([[0.08, 0.04, 0.  , 0.  , 0.  , 0.  , ..., 0.  , 0.  , 0.  , 0.  , 0.  , 0.  ],\n",
       "       [0.04, 0.16, 0.04, 0.  , 0.  , 0.  , ..., 0.  , 0.  , 0.  , 0.  , 0.  , 0.  ],\n",
       "       [0.  , 0.04, 0.16, 0.04, 0.  , 0.  , ..., 0.  , 0.  , 0.  , 0.  , 0.  , 0.  ],\n",
       "       [0.  , 0.  , 0.04, 0.16, 0.04, 0.  , ..., 0.  , 0.  , 0.  , 0.  , 0.  , 0.  ],\n",
       "       [0.  , 0.  , 0.  , 0.04, 0.16, 0.04, ..., 0.  , 0.  , 0.  , 0.  , 0.  , 0.  ],\n",
       "       [0.  , 0.  , 0.  , 0.  , 0.04, 0.16, ..., 0.  , 0.  , 0.  , 0.  , 0.  , 0.  ],\n",
       "       ...,\n",
       "       [0.  , 0.  , 0.  , 0.  , 0.  , 0.  , ..., 0.16, 0.04, 0.  , 0.  , 0.  , 0.  ],\n",
       "       [0.  , 0.  , 0.  , 0.  , 0.  , 0.  , ..., 0.04, 0.16, 0.04, 0.  , 0.  , 0.  ],\n",
       "       [0.  , 0.  , 0.  , 0.  , 0.  , 0.  , ..., 0.  , 0.04, 0.16, 0.04, 0.  , 0.  ],\n",
       "       [0.  , 0.  , 0.  , 0.  , 0.  , 0.  , ..., 0.  , 0.  , 0.04, 0.16, 0.04, 0.  ],\n",
       "       [0.  , 0.  , 0.  , 0.  , 0.  , 0.  , ..., 0.  , 0.  , 0.  , 0.04, 0.16, 0.04],\n",
       "       [0.  , 0.  , 0.  , 0.  , 0.  , 0.  , ..., 0.  , 0.  , 0.  , 0.  , 0.04, 0.08]])"
      ]
     },
     "execution_count": 13,
     "metadata": {},
     "output_type": "execute_result"
    }
   ],
   "source": [
    "np.set_printoptions(precision=2, edgeitems=6, threshold=200, linewidth=150)\n",
    "gram_mtrx"
   ]
  },
  {
   "cell_type": "code",
   "execution_count": 21,
   "metadata": {
    "ExecuteTime": {
     "end_time": "2021-11-08T04:16:52.254879Z",
     "start_time": "2021-11-08T04:16:52.249539Z"
    },
    "code_folding": [
     1
    ]
   },
   "outputs": [],
   "source": [
    "'''Element-by-element assembly of the Gram matrix'''\n",
    "def assemble_gram_matrix(a_mtrx, domain_partition, parent_mapping, parent_basis_func_list):\n",
    "    \n",
    "    n = len(parent_basis_func_list)\n",
    "    \n",
    "    local_to_global_node_id_map = domain_partition[2]\n",
    "    \n",
    "    local_a_mtrx = np.zeros((n, n), dtype=np.float64)\n",
    "    \n",
    "    for I in range(n):\n",
    "        parent_basis_func_I = parent_basis_func_list[0][I]\n",
    "        for J in range(n):\n",
    "            integrand = lambda zeta: parent_basis_func_I(zeta) * parent_basis_func_list[0][J](zeta)\n",
    "            (local_a_mtrx[I,J], _) = quad(integrand, -1, 1)\n",
    "            \n",
    "    for (e, gnode_ids) in enumerate(local_to_global_node_id_map):\n",
    "        (x_0, x_1) = domain_partition[0][e]\n",
    "        h_e = x_1 - x_0\n",
    "        parent_mapping_jacobian = parent_mapping[1](h_e)\n",
    "        for (I, i) in enumerate(gnode_ids):\n",
    "            for (J, j) in enumerate(gnode_ids):\n",
    "                a_mtrx[i,j] += local_a_mtrx[I,J] * parent_mapping_jacobian"
   ]
  },
  {
   "cell_type": "code",
   "execution_count": 37,
   "metadata": {
    "ExecuteTime": {
     "end_time": "2021-11-08T04:24:21.661732Z",
     "start_time": "2021-11-08T04:24:21.657882Z"
    }
   },
   "outputs": [],
   "source": [
    "'''Compute the Gram matrix'''\n",
    "\n",
    "N = len(phi_list) # this needs to be changed to the number of degrees of freedom or effective global basis functions\n",
    "\n",
    "g_mtrx = np.zeros((N,N), dtype=np.float64)\n",
    "\n",
    "assemble_gram_matrix(g_mtrx, domain_partition, parent_mapping, parent_basis_functions)"
   ]
  },
  {
   "cell_type": "code",
   "execution_count": 24,
   "metadata": {
    "ExecuteTime": {
     "end_time": "2021-11-08T04:18:45.145700Z",
     "start_time": "2021-11-08T04:18:45.140812Z"
    }
   },
   "outputs": [
    {
     "data": {
      "text/plain": [
       "array([[0.08, 0.04, 0.  , 0.  , 0.  , 0.  , ..., 0.  , 0.  , 0.  , 0.  , 0.  , 0.  ],\n",
       "       [0.04, 0.16, 0.04, 0.  , 0.  , 0.  , ..., 0.  , 0.  , 0.  , 0.  , 0.  , 0.  ],\n",
       "       [0.  , 0.04, 0.16, 0.04, 0.  , 0.  , ..., 0.  , 0.  , 0.  , 0.  , 0.  , 0.  ],\n",
       "       [0.  , 0.  , 0.04, 0.16, 0.04, 0.  , ..., 0.  , 0.  , 0.  , 0.  , 0.  , 0.  ],\n",
       "       [0.  , 0.  , 0.  , 0.04, 0.16, 0.04, ..., 0.  , 0.  , 0.  , 0.  , 0.  , 0.  ],\n",
       "       [0.  , 0.  , 0.  , 0.  , 0.04, 0.16, ..., 0.  , 0.  , 0.  , 0.  , 0.  , 0.  ],\n",
       "       ...,\n",
       "       [0.  , 0.  , 0.  , 0.  , 0.  , 0.  , ..., 0.16, 0.04, 0.  , 0.  , 0.  , 0.  ],\n",
       "       [0.  , 0.  , 0.  , 0.  , 0.  , 0.  , ..., 0.04, 0.16, 0.04, 0.  , 0.  , 0.  ],\n",
       "       [0.  , 0.  , 0.  , 0.  , 0.  , 0.  , ..., 0.  , 0.04, 0.16, 0.04, 0.  , 0.  ],\n",
       "       [0.  , 0.  , 0.  , 0.  , 0.  , 0.  , ..., 0.  , 0.  , 0.04, 0.16, 0.04, 0.  ],\n",
       "       [0.  , 0.  , 0.  , 0.  , 0.  , 0.  , ..., 0.  , 0.  , 0.  , 0.04, 0.16, 0.04],\n",
       "       [0.  , 0.  , 0.  , 0.  , 0.  , 0.  , ..., 0.  , 0.  , 0.  , 0.  , 0.04, 0.08]])"
      ]
     },
     "execution_count": 24,
     "metadata": {},
     "output_type": "execute_result"
    }
   ],
   "source": [
    "g_mtrx"
   ]
  },
  {
   "cell_type": "code",
   "execution_count": 25,
   "metadata": {
    "ExecuteTime": {
     "end_time": "2021-11-08T04:18:52.299201Z",
     "start_time": "2021-11-08T04:18:52.295666Z"
    }
   },
   "outputs": [
    {
     "name": "stdout",
     "output_type": "stream",
     "text": [
      "||gram_mtrx - g_mtrx|| =  6.0332475458014115e-16\n"
     ]
    }
   ],
   "source": [
    "print('||gram_mtrx - g_mtrx|| = ', np.linalg.norm(gram_mtrx-g_mtrx))"
   ]
  },
  {
   "cell_type": "markdown",
   "metadata": {},
   "source": [
    "### [Load Vector](#toc)<a id=\"load-vector\"></a>\n",
    "\n",
    "Build the load vector ${(\\bvec)}_{i} = (f, \\phi_i)$ by computing the inner product of $f$ with each basis function member."
   ]
  },
  {
   "cell_type": "code",
   "execution_count": 26,
   "metadata": {
    "ExecuteTime": {
     "end_time": "2021-11-08T04:19:04.668232Z",
     "start_time": "2021-11-08T04:19:00.289543Z"
    }
   },
   "outputs": [],
   "source": [
    "'''Build the pedagogical load vector'''\n",
    "\n",
    "b_vec = np.zeros(len(phi_list), dtype=np.float64)\n",
    "patches = domain_partition[0]\n",
    "for i, phi_i in enumerate(phi_list):\n",
    "    b_vec[i] = inner_product(f, phi_i, patches)      "
   ]
  },
  {
   "cell_type": "code",
   "execution_count": 27,
   "metadata": {
    "ExecuteTime": {
     "end_time": "2021-11-08T04:19:04.674873Z",
     "start_time": "2021-11-08T04:19:04.669657Z"
    }
   },
   "outputs": [
    {
     "data": {
      "text/plain": [
       "array([-1.01, -1.25, -0.1 ,  1.06,  1.94,  1.05, -0.56, -2.17, -3.61, -3.07, -1.25,  0.6 ,  2.38,  2.9 ,  2.15,  1.34,  0.55,  0.66,  2.15,  3.76,\n",
       "        5.37,  6.18,  5.01,  3.54,  2.07,  0.6 , -0.87, -2.34, -3.81, -5.01, -4.46, -3.2 , -1.93, -0.8 , -1.33, -2.77, -1.73,  1.25,  2.65,  2.4 ,\n",
       "        2.09,  1.77,  1.45,  1.14,  0.82,  0.5 ,  0.1 , -0.5 , -1.13, -1.77, -1.09])"
      ]
     },
     "execution_count": 27,
     "metadata": {},
     "output_type": "execute_result"
    }
   ],
   "source": [
    "b_vec"
   ]
  },
  {
   "cell_type": "code",
   "execution_count": 29,
   "metadata": {
    "ExecuteTime": {
     "end_time": "2021-11-08T04:20:41.368032Z",
     "start_time": "2021-11-08T04:20:41.362626Z"
    },
    "code_folding": [
     2
    ]
   },
   "outputs": [],
   "source": [
    "'''Element-by-element assembly of the load vector'''\n",
    "\n",
    "def assemble_load_vector(b_vec, domain_partition, parent_mapping, parent_basis_func_list):\n",
    "    \n",
    "    n = len(parent_basis_func_list)\n",
    "    local_to_global_node_id_map = domain_partition[2]\n",
    "    \n",
    "    local_b_vec = np.zeros(n, dtype=np.float64)\n",
    "            \n",
    "    for (e, gnode_ids) in enumerate(local_to_global_node_id_map):\n",
    "        (x_0, x_1) = domain_partition[0][e]\n",
    "        h_e = x_1 - x_0\n",
    "        parent_mapping_jacobian = parent_mapping[1](h_e)\n",
    "        x_e_bar = (x_0 + x_1)/2.0\n",
    "        \n",
    "        for I in range(n):\n",
    "            parent_basis_func_I = parent_basis_func_list[0][I]\n",
    "            f_parent = lambda zeta, x_e_bar=x_e_bar, h_e=h_e: f(parent_mapping[0](zeta, x_e_bar, h_e))\n",
    "            integrand = lambda zeta: f_parent(zeta) * parent_basis_func_I(zeta)\n",
    "            (local_b_vec[I], _) = quad(integrand, -1, 1)\n",
    "        \n",
    "        for (I, i) in enumerate(gnode_ids):\n",
    "                b_vec[i] += local_b_vec[I] * parent_mapping_jacobian"
   ]
  },
  {
   "cell_type": "code",
   "execution_count": 38,
   "metadata": {
    "ExecuteTime": {
     "end_time": "2021-11-08T04:24:35.506050Z",
     "start_time": "2021-11-08T04:24:34.757222Z"
    }
   },
   "outputs": [],
   "source": [
    "'''Assemble load vector'''\n",
    "\n",
    "load_vec = np.zeros(len(phi_list))\n",
    "assemble_load_vector(load_vec, domain_partition, parent_mapping, parent_basis_functions)"
   ]
  },
  {
   "cell_type": "code",
   "execution_count": 32,
   "metadata": {
    "ExecuteTime": {
     "end_time": "2021-11-08T04:22:03.726648Z",
     "start_time": "2021-11-08T04:22:03.721518Z"
    }
   },
   "outputs": [
    {
     "data": {
      "text/plain": [
       "array([-1.01, -1.25, -0.1 ,  1.06,  1.94,  1.05, -0.56, -2.17, -3.61, -3.07, -1.25,  0.6 ,  2.38,  2.9 ,  2.15,  1.34,  0.55,  0.66,  2.15,  3.76,\n",
       "        5.37,  6.18,  5.01,  3.54,  2.07,  0.6 , -0.87, -2.34, -3.81, -5.01, -4.46, -3.2 , -1.93, -0.8 , -1.33, -2.77, -1.73,  1.25,  2.65,  2.4 ,\n",
       "        2.09,  1.77,  1.45,  1.14,  0.82,  0.5 ,  0.1 , -0.5 , -1.13, -1.77, -1.09])"
      ]
     },
     "execution_count": 32,
     "metadata": {},
     "output_type": "execute_result"
    }
   ],
   "source": [
    "load_vec"
   ]
  },
  {
   "cell_type": "code",
   "execution_count": 33,
   "metadata": {
    "ExecuteTime": {
     "end_time": "2021-11-08T04:22:39.998173Z",
     "start_time": "2021-11-08T04:22:39.995000Z"
    }
   },
   "outputs": [
    {
     "name": "stdout",
     "output_type": "stream",
     "text": [
      "||b_vec - load_vec|| =  1.5236066710304134e-14\n"
     ]
    }
   ],
   "source": [
    "print('||b_vec - load_vec|| = ', np.linalg.norm(b_vec-load_vec))"
   ]
  },
  {
   "cell_type": "markdown",
   "metadata": {},
   "source": [
    "### [Optimal Combination Coefficients](#toc)<a id=\"cont-optimal-coeff\"></a>\n",
    "\n",
    "Compute the optimal coefficient vector by solving\n",
    "\n",
    "\\begin{equation*}\n",
    " \\overset{(n\\times n)}{\\Gmtrx}\\,\\cvec^* = \\bvec ,\n",
    "\\end{equation*}\n",
    "\n",
    "which has a unique solution since the Gram matrix, $\\Gmtrx$, is always full rank (linear independent basis functions)."
   ]
  },
  {
   "cell_type": "code",
   "execution_count": 39,
   "metadata": {
    "ExecuteTime": {
     "end_time": "2021-11-08T04:24:39.599238Z",
     "start_time": "2021-11-08T04:24:39.595013Z"
    }
   },
   "outputs": [],
   "source": [
    "'''Compute optimal coefficient vector'''\n",
    "\n",
    "#c_star_vec = np.linalg.solve(gram_mtrx, b_vec)\n",
    "c_star_vec = np.linalg.solve(g_mtrx, load_vec)"
   ]
  },
  {
   "cell_type": "markdown",
   "metadata": {},
   "source": [
    "### [Results](#toc)<a id=\"cont-res\"></a>"
   ]
  },
  {
   "cell_type": "code",
   "execution_count": 40,
   "metadata": {
    "ExecuteTime": {
     "end_time": "2021-11-08T04:24:43.441512Z",
     "start_time": "2021-11-08T04:24:42.620180Z"
    }
   },
   "outputs": [
    {
     "data": {
      "image/png": "[encoded data removed]",
      "text/plain": [
       "<Figure size 1120x400 with 1 Axes>"
      ]
     },
     "metadata": {},
     "output_type": "display_data"
    }
   ],
   "source": [
    "'''Plot comparison of f and g_best_vec'''\n",
    "\n",
    "n_pts = 300\n",
    "x_pts = np.linspace(x_min, x_max, n_pts)\n",
    "\n",
    "eval_mtrx = np.zeros((n_pts,len(phi_list)), dtype=np.float64)\n",
    "for (j,phi_j) in enumerate(phi_list):\n",
    "    eval_mtrx[:,j] = phi_j(x_pts)\n",
    "    \n",
    "g_best = eval_mtrx@c_star_vec\n",
    "\n",
    "f.plot(g=(x_pts,g_best), n_plot_pts=n_pts, g_line_style='plain', f_line_style='dashed', title=r'Compare $f$ and $g$ Functions ($m\\rightarrow\\infty$, N='+str(len(phi_list))+')')"
   ]
  },
  {
   "cell_type": "code",
   "execution_count": null,
   "metadata": {},
   "outputs": [],
   "source": []
  },
  {
   "cell_type": "code",
   "execution_count": null,
   "metadata": {},
   "outputs": [],
   "source": []
  }
 ],
 "metadata": {
  "kernelspec": {
   "display_name": "Python 3 (ipykernel)",
   "language": "python",
   "name": "python3"
  },
  "language_info": {
   "codemirror_mode": {
    "name": "ipython",
    "version": 3
   },
   "file_extension": ".py",
   "mimetype": "text/x-python",
   "name": "python",
   "nbconvert_exporter": "python",
   "pygments_lexer": "ipython3",
   "version": "3.9.9"
  },
  "latex_envs": {
   "LaTeX_envs_menu_present": true,
   "autoclose": false,
   "autocomplete": true,
   "bibliofile": "biblio.bib",
   "cite_by": "apalike",
   "current_citInitial": 1,
   "eqLabelWithNumbers": true,
   "eqNumInitial": 1,
   "hotkeys": {
    "equation": "Ctrl-E",
    "itemize": "Ctrl-I"
   },
   "labels_anchors": false,
   "latex_user_defs": false,
   "report_style_numbering": false,
   "user_envs_cfg": false
  },
  "toc": {
   "base_numbering": 1,
   "nav_menu": {},
   "number_sections": true,
   "sideBar": true,
   "skip_h1_title": false,
   "title_cell": "Table of Contents",
   "title_sidebar": "Contents",
   "toc_cell": false,
   "toc_position": {
    "height": "calc(100% - 180px)",
    "left": "10px",
    "top": "150px",
    "width": "220.75px"
   },
   "toc_section_display": true,
   "toc_window_display": false
  }
 },
 "nbformat": 4,
 "nbformat_minor": 2
}
