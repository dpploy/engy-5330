{
 "cells": [
  {
   "cell_type": "markdown",
   "metadata": {},
   "source": [
    "Engy-5310 Spring 2021 UMass Lowell; Prof. V. F. de Almeida **27Jan2021**\n",
    "\n",
    "# Engy-5310: Computational Continuum Transport Phenomena"
   ]
  },
  {
   "cell_type": "markdown",
   "metadata": {},
   "source": [
    "### Instructor: Prof. Valmor F. de Almeida                 \n",
    "**Office:**    Online via BB Collaborate. <br> \n",
    "**Email:**     valmor_dealmeida@uml.edu. <br>\n",
    "**Web:**       https://www.uml.edu/Engineering/Chemical/faculty/de-Almeida-Valmor.aspx <br>   \n",
    "**Lectures:** \n",
    " + **Virtual, Blackboard Collaborate**, Thu 5:00 – 6:00 pm, Fri 4:00 - 5:00 pm. <br> \n",
    " + **Virtual, UML Linux Club Zoom**, Fri 5:00 - 6:00 pm.  \n",
    " \n",
    "**Days meetings total :** 38. <br>\n",
    "**Week meetings total:** 14. <br>\n",
    "<span style=\"color:red\"><b>Website:</b></span> On-line course [repository](https://github.com/dpploy/engy-5310) and UMass Lowell Blackboard System. <br>\n",
    "**Office hours and location:** by email appointment at Blackboard Collaborate. <br>\n",
    "**Other means of contact:**  email. <br>\n",
    "     \n",
    "**Catalog description (proposed):** <br>\n",
    "The goal of this course is to present an unified treatment of continuum transport phenomena using computational finite element methods. Therefore serving as a foundation for simulation of coupled fluid flow (multiphase), thermo-mechanics, heat transfer, radiation, reactive mass transfer and electromagnetics. The computational framework used is open source and based on MOOSE: Multiphysics Object-Oriented Simulation Environment. Time-dependent, three-dimensional models will be the end-target of this course, therefore necessary topics in parallel computing will be covered. Basic knowledge of transport phenomena is required in addition to computer programming skills of one or more object oriented languages (*e.g.* C++ or/and Python).<br>\n",
    "\n",
    "<span style=\"color:red\"><b>Nevertheless, this is a mathematical problem-solving oriented course aimed at helping graduate students or senior undergraduate students to acquire skills to work in externally funded academic research.</b></span>\n",
    "\n",
    "**Ideal pre-requisites:** Transport phenomena, computational methods in engineering, partial differential equations.<br>\n",
    "**Course designation:** elective. <br>\n",
    "    \n",
    "**References:**<br>\n",
    "There is no required textbook. Course notes are provided in addition to suggested references.\n",
    " 1. *Engy-5310 course notes and repository (updated weekly)*\n",
    " 1. [MOOSE website](https://www.mooseframework.org/).    \n",
    "<br>\n",
    "\n",
    " 1. [*Numerical Solution of Partial Differential Equations by the Finite Element Method*](https://www.amazon.com/Numerical-Solution-Differential-Equations-Mathematics/dp/048646900X/ref=pd_sim_1?pd_rd_w=3kypr&pf_rd_p=495b84a8-4624-4096-8e20-27b4882c0d09&pf_rd_r=8YQAC8SQFR639HM6PMTM&pd_rd_r=221275aa-e940-4f7f-99a3-485edb0ea732&pd_rd_wg=DKcnp&pd_rd_i=048646900X&psc=1), Claes Johnson, Dover, Inc., 2000, 288 pp.\n",
    " 1. [*Finite Element Method: Linear Static And Dynamic Finite Element Analysis*](https://www.amazon.com/Finite-Element-Method-Mechanical-Engineering/dp/0486411818), Thomas J. R. Hughes, Dover, 2000, 704 pp.\n",
    " 1. [*The Mathematical Theory of Finite Element Methods*](https://www.amazon.com/Mathematical-Element-Methods-Applied-Mathematics/dp/1441926119/ref=sr_1_1?dchild=1&keywords=brenner+finite+element&qid=1611645032&s=books&sr=1-1), S.C. Brenner and L.R. Scott, Springer, 2008, 418 pp.\n",
    " 1. [*The Finite Element Method for Elliptic Problems*](https://www.amazon.com/Finite-Element-Method-Elliptic-Problems/dp/0444557172/ref=sr_1_1?dchild=1&keywords=ciarlet+finite+element&qid=1611645174&s=books&sr=1-1),  Philippe G. Ciarlet, North Holland, Inc., 2012, 550 pp.\n",
    " 1. [*An Introduction to the Mathematical Theory of Finite Elements*](https://www.amazon.com/Introduction-Mathematical-Theory-Elements-Engineering/dp/0486462994/ref=sr_1_8?dchild=1&keywords=finite+element&qid=1611645394&s=books&sr=1-8),  J. T. Oden,  and J. N. Reddy, Dover, 2011, 446 pp.   \n",
    " \n",
    "<span style=\"color:red\"><b>Software needed for course and labwork:</b></span> Jupyter notebook access options for this course<br>\n",
    "\n",
    " 1. <span style=\"color:red\"><b>Preferred way:</b></span> [Anaconda](https://docs.anaconda.com/anaconda/install/#) free download (use the Python 3 version) for Mac OS X or Windows (Linux too in case you are a rare die-hard programmer; if this is your case come talk to me). After install, use [Anaconda-Navigator](https://docs.anaconda.com/anaconda/navigator/) to start a Jupyter Notebook server.\n",
    " \n",
    " 1. Use Binder at the course [repository](https://github.com/dpploy/engy-5310)\n",
    " \n",
    " 1. Use the [UMass Lowell vLabs](https://www.uml.edu/IT/Services/vLabs/) Learning Commons machine. Download the VMWare Horizon Client and install on your computer. Login with your academic credentials. Anaconda is pre-installed, use the Anaconda-Navigator to start the Jupyter Notebook application.\n",
    " \n",
    "<span style=\"color:red\"><b>Instructive background</b></span> **on programming environment and review of undergraduate computational methods:** [ChEn-3170](https://github.com/dpploy/chen-3170)<br>\n",
    "\n",
    "**Suplement materials:** On-line course [repository](https://github.com/dpploy/engy-5310)."
   ]
  },
  {
   "cell_type": "markdown",
   "metadata": {},
   "source": [
    "**Course topics:**\n",
    " - Review of transport phenomena partial differential equation (PDE) types; hyperbolic, elliptic, parabolic\n",
    " - Review of continuum transport phenomena theory\n",
    " - Weak formulation of PDEs\n",
    " - Finite element methods and meshing\n",
    " - Parallel computing algorithms\n",
    " - 1-D, time-dependent problems\n",
    " - 2-D, time-dependent problems\n",
    " - 3-D, time-dependent problems\n",
    " - Problems of particular interest to chemical, nuclear engineering, physics and others depending on attendance\n",
    " \n",
    "**Grading notes:** for grading purposes the requirements for this course include:\n",
    " + *Mathematical problem-solving-oriented* project using [MOOSE](https://www.mooseframework.org/); <span style=\"color:red\"><b> choice of problem by the student (in consultation with advisor/instructor).</b></span>\n",
    " + Oral presentation of problem solution to be scheduled in the finals week; <span style=\"color:red\"><b> ideally using a Jupyter notebook</b></span> and hosted on public domain.\n",
    "\n",
    "|**Course Grading Procedure** |**Value**|\n",
    "|:----------------------------|:-------:|\n",
    "| Problem solution demonstration  | 100/100 |\n",
    "    \n",
    "|**Letter Grade Scale** |**Value**|\n",
    "|:----------------------|:-------:|\n",
    "| A                     | 92+     |\n",
    "| A-                    | 87–91.9 |\n",
    "| B+                    | 82–86.9 |\n",
    "| B                     | 77–81.9 |\n",
    "| B-                    | 72–76.9 |\n",
    "| C+                    | 67–71.9 |\n",
    "| C                     | 62–66.9 |\n",
    "| C-                    | 58–61.9 |\n",
    "| D+                    | 54–57.9 |\n",
    "| D                     | 50–53.9 |\n",
    "| F                     | <50     |"
   ]
  },
  {
   "cell_type": "markdown",
   "metadata": {},
   "source": [
    "**Learning outcomes:** Upon completion of this course, a student should be able to\n",
    "1. Understand behaviors of different PDE types.\n",
    "1. Know the physico-chemical meaning of PDE models.\n",
    "1. Couple multiphysical models.\n",
    "1. Use finite element methods for PDEs.\n",
    "1. Use parallel computing tools for solving the resulting algebraic equations.\n",
    "1. Perform simulations in 1-D, 2-D, and 3-D for basic transport phenomena of interest to chemical and nuclear engineering and other fields."
   ]
  },
  {
   "cell_type": "markdown",
   "metadata": {},
   "source": [
    "**Schedule:**\n",
    "\n",
    "|**Week**|Day| **Date**  |**Notebook**|**Assessment**|**Note**|\n",
    "|:-------|:-:|:---------:|:-----------|:-------------|:------:|\n",
    "|-       |-  | <span style=\"color:blue\"><b>January</b>|-           |-             |-       |\n",
    "| **1**  | **Th** |**28Jan21**| [01](https://nbviewer.jupyter.org/github/dpploy/chen-5310/blob/master/notebooks/01-introduction.ipynb)   |  -  |  Introduction/Basis Functions |\n",
    "| 1      | Fr |  28Jan21  |     [01](https://nbviewer.jupyter.org/github/dpploy/chen-3170/blob/master/notebooks/01-introduction.ipynb)    |    -  | Function approximation   |\n",
    "| 1      | Fr |  29Jan21  |     -     | -  | MOOSE Linux Club |"
   ]
  },
  {
   "cell_type": "markdown",
   "metadata": {},
   "source": [
    "|**Week**|Day| **Date**  |**Notebook**|**Assessment**|**Note**|\n",
    "|:-------|:-:|:---------:|:-----------|:-------------|:------:|\n",
    "|-       |-  | <span style=\"color:blue\"><b>February</b>|-           |-             |-       |\n",
    "| **2**  | **Th** |  **04Feb21**  | [01](https://nbviewer.jupyter.org/github/dpploy/chen-3170/blob/master/notebooks/01-introduction.ipynb) |  -  | Function Approximation |\n",
    "|  2     | Fr |  05Feb21 |[01](https://nbviewer.jupyter.org/github/dpploy/chen-3170/blob/master/notebooks/01-introduction.ipynb)   |      -       | Function Approximation |\n",
    "|  2     | Fr |05Feb21|  -  | -  | MOOSE Linux Club  |\n",
    "| **3**  | **Th** |  **11Feb21**  |[02](https://nbviewer.jupyter.org/github/dpploy/chen-3170/blob/master/notebooks/02-fourier-lsq-residual.ipynb)  |  - | Fourier approximation |\n",
    "| 3      | Fr |  12Feb21  |  [03](https://nbviewer.jupyter.org/github/dpploy/chen-3170/blob/master/notebooks/03-wavelets-lsq-residual.ipynb)  |     -        |  Wavelets approximation |\n",
    "| 3      | Fr |  12Feb21  |     -    |    -     | MOOSE Linux Club |\n",
    "| **4**  | **Th** |18Feb21| [04](https://nbviewer.jupyter.org/github/dpploy/chen-3170/blob/master/notebooks/04-legendre-lsq-residual.ipynb)   | -   |  Legendre approximation  |\n",
    "| 4      | Fr |  19Feb21  |  -  |   -   | Least-Squares Galerkin method |\n",
    "| 4      | Fr |  19Feb21  |  -  |   -   | MOOSE Linux Club |\n",
    "| **5**      | **Th** |  **25Feb21**  | -  | - | Least-Squares Galerkin method |\n",
    "| 5      | Fr |  26Feb21  | -  |  -  | FEM Galerkin method |\n",
    "| 5      | Fr |  26Feb21  | - |   -     | MOOSE Linux Club |"
   ]
  },
  {
   "cell_type": "markdown",
   "metadata": {},
   "source": [
    "|**Week**|Day| **Date**  |**Notebook**|**Assessment**|**Note**|\n",
    "|:-------|:-:|:---------:|:-----------|:-------------|:------:|\n",
    "|-       |-  | <span style=\"color:blue\"><b>March</b>|-           |-             |-       |   \n",
    "| **6**  | **Th** |  **04Mar21**  | - |  -  | Poisson/Dirichlet 1D MOOSE |\n",
    "|  6     | Fr | 05Mar21 |-  |     -     | FEM Galerkin method |\n",
    "|  6     | Fr |05Mar21|  -  | -  | MOOSE Linux Club |\n",
    "| **7**  | **Th** |  **11Mar21**  | [06](https://nbviewer.jupyter.org/github/dpploy/chen-3170/blob/master/notebooks/06-poisson-1d-dirichlet.ipynb)  |  - | GFEM / Notes |\n",
    "| 7      | Fr |  12Mar21  |  [06](https://nbviewer.jupyter.org/github/dpploy/chen-3170/blob/master/notebooks/06-poisson-1d-dirichlet.ipynb)  |     -        |  GFEM / Notes |\n",
    "| 7      | Fr |  12Mar21  |     -    |    -     | MOOSE Linux Club |\n",
    "| **8**  | **Th** |18Feb21| [06](https://nbviewer.jupyter.org/github/dpploy/chen-3170/blob/master/notebooks/06-poisson-1d-dirichlet.ipynb) | -   |  GFEM / Notes |\n",
    "| ~8~ | ~Fr~ | ~19Mar21~ | No class | No class | <span style=\"color:red\"><b>UML Holiday</b>|\n",
    "| ~8~  | ~Fr~ |  ~19Mar21~  |  No meeting |   No meeting  | <span style=\"color:red\"><b>No MOOSE Linux Club meeting</b> |\n",
    "| **9**      | **Th** |  **25Mar21**  | [09](https://nbviewer.jupyter.org/github/dpploy/chen-3170/blob/master/notebooks/notebooks/09-peclet-1d-dirichlet.ipynb)  | - | Peclet Problem / Notes  |\n",
    "| 9      | Fr |  26Mar21  | -  |  -  | GFEM / Notes  |\n",
    "| 9      | Fr |  26Mar21  | - |   -     | MOOSE Linux Club |"
   ]
  },
  {
   "cell_type": "markdown",
   "metadata": {},
   "source": [
    "|**Week**|Day| **Date**  |**Notebook**|**Assessment**|**Note**|\n",
    "|:-------|:-:|:---------:|:-----------|:-------------|:------:|\n",
    "|-       |-  | <span style=\"color:blue\"><b>April</b>|-           |-             |-       |\n",
    "| In construction | - | - | - | -| -|\n",
    "| **10**  | **Th** |  **01Apr21**  | -  | - | GFEM Quadratic Lagrange/Post-Processing / Notes  |\n",
    "| 10      | Fr |  02Apr21  | -  |  -  | Boundary Conditions/ Notes  |\n",
    "| 10      | Fr |  02Apr21  | - |   -     | MOOSE Linux Club |\n",
    "| **11**  | **Th** |  **08Apr21**  | [12](https://nbviewer.jupyter.org/github/dpploy/chen-3170/blob/master/notebooks/12-peclet-bulk-coupled-1d-dirichlet.ipynb)   | - | Bulk Coupling / Notes  |\n",
    "| 11      | Fr |  09Apr21  | - |  -  | Bulk Coupling / Notes  |\n",
    "| 11      | Fr |  09Apr21  | - |  -  | MOOSE Linux Club |\n",
    "    | **12**  | **Th** |  **15Apr21**  | -  | - | Bulk Coupling / Notes  |\n",
    "| 12      | Fr |  16Apr21  | - |  -  | Bulk Coupling / Notes  |\n",
    "| 12      | Fr |  16Apr21  | - |  -  | MOOSE Linux Club |\n",
    "    | **13**  | **Th** |  **22Apr21**  | [15](https://nbviewer.jupyter.org/github/dpploy/chen-3170/blob/master/notebooks/15-peclet-interf-coupled-1d-dirichlet.ipynb)  | - | Interfacial Coupling / Notes  |\n",
    "| 13      | Fr |  23Apr21  | - |  -  | Interfacial Coupling / Notes  |\n",
    "| 13      | Fr |  23Apr21  | - |  -  | MOOSE Linux Club |\n",
    "    | **14**  | **Th** |  **29Apr21**  | -  | - | Interfacial Coupling / Notes  |\n",
    "| 14      | Fr |  30Apr21  | - |  -  | Interfacial Coupling / Notes  |\n",
    "| 14      | Fr |  30Apr21  | - |  -  | MOOSE Linux Club |"
   ]
  },
  {
   "cell_type": "markdown",
   "metadata": {},
   "source": [
    "|**Week**|Day| **Date**  |**Notebook**|**Assessment**|**Note**|\n",
    "|:-------|:-:|:---------:|:-----------|:-------------|:------:|\n",
    "| **Finals Week** | - |  04May21  | Project Presentations | 10 am to 3 pm | On-line  |\n",
    "|   | - |    |  |  FHR 10am | On-line  |\n",
    "|   | - |    |  |  Xenon Removal 11am | On-line  |\n",
    "|   | - |    |  |  Steamer 12pm | On-line  |\n",
    "|   | - |    |  |  Neutron Ball 1pm | On-line  |\n",
    "|   | - |    |  |  Tritium 2pm | On-line  |"
   ]
  },
  {
   "cell_type": "markdown",
   "metadata": {},
   "source": [
    "### General Information    \n",
    "\n",
    "**Attendance:** Students are expected to attend all classes.\n",
    "\n",
    "**Mobile device policy:** Mobile devices are **needed** for programming and following the material presented online (in this Virtual version of the course); see classroom/online conduct below.\n",
    "\n",
    "**Credit hour policy:** A credit hour requires a minimum of 2 hours of out-of-class student **deep work** per 1 hour of instructor-led course activity.\n",
    "\n",
    "**Classroom/Online Conduct:** <span style=\"color:red\">Students are expected to exhibit professional and respectful behavior that is conducive to a mutually beneficial learning environment in the classroom/online. Examples of inappropriate behavior include: text messaging, listening to music, cell phone use (other than the campus alert system), late arrivals, early departures, use of laptops for other than class purposes, disrespectful comments or behavior, intentional disruptions, failure to follow faculty directives, etc. Students in violation of these standards may be asked to leave class (or virtual class) and/or be referred to the Dean of Students for disciplinary action.</span>\n",
    "\n",
    "**Academic Integrity:** <span style=\"color:red\">Cheating and plagiarism will not be tolerated. A first offense will result in a failing grade for the assignment/exam in question and a formal filing with the Office of Provost according to the Academic Integrity Policy. A second offense could lead to a failing grade in the course, suspension or expulsion, as detailed in the policy, defined [here](https://www.uml.edu/Catalog/Undergraduate/Policies/Academic-Policies/Academic-Integrity.aspx).</span>\n",
    "\n",
    "**Instructional Resources:**  The Centers for Learning and Academic Support Services provide many tutoring resources; more details are available [here](https://www.uml.edu/class/)\n",
    "Technology Resources: For a listing of available computing and software resources available to students, [visit here]( https://www.uml.edu/IT/Services/DLC/).\n",
    "\n",
    "**Accommodations:** In accordance with University policy and the ADA, accommodations are provided for students with documented disabilities. If you have a disability, please contact the Office of Disability Services as soon as possible. Their office is in UC 220 (978-934-4574, Disability@uml.edu). Documentation of disability is confidential. Requests for accommodation for religious reasons should be directed to Equal Opportunity and Outreach at 978-934-3565, Wannalancit Mills, Suite 301. \n",
    "\n",
    "**Counseling Services:** As part of the Wellness Center, Counseling Services at UMass Lowell provide mental health counseling, consultation and referrals to help students achieve personal and academic success. They also assist students in better understanding and coping with their feelings, relationships, and choices surrounding their academic success. [Visit](https://www.uml.edu/student-services/Counseling/)\n",
    "Veterans’ Services: UMass Lowell is committed to helping our military students take full advantage of all the educational benefits available through the federal and state governments. For complete information on the services and resources available please visit our [website](https://www.uml.edu/student-services/Veterans/).\n",
    "University Cancellation Information: If campus is closed (most likely for weather), visit the website for announcements relevant to the class."
   ]
  }
 ],
 "metadata": {
  "kernelspec": {
   "display_name": "Python 3",
   "language": "python",
   "name": "python3"
  },
  "language_info": {
   "codemirror_mode": {
    "name": "ipython",
    "version": 3
   },
   "file_extension": ".py",
   "mimetype": "text/x-python",
   "name": "python",
   "nbconvert_exporter": "python",
   "pygments_lexer": "ipython3",
   "version": "3.8.8"
  },
  "latex_envs": {
   "LaTeX_envs_menu_present": true,
   "autoclose": false,
   "autocomplete": true,
   "bibliofile": "biblio.bib",
   "cite_by": "apalike",
   "current_citInitial": 1,
   "eqLabelWithNumbers": true,
   "eqNumInitial": 1,
   "hotkeys": {
    "equation": "Ctrl-E",
    "itemize": "Ctrl-I"
   },
   "labels_anchors": false,
   "latex_user_defs": false,
   "report_style_numbering": false,
   "user_envs_cfg": false
  },
  "toc": {
   "base_numbering": 1,
   "nav_menu": {},
   "number_sections": true,
   "sideBar": true,
   "skip_h1_title": false,
   "title_cell": "Table of Contents",
   "title_sidebar": "Contents",
   "toc_cell": false,
   "toc_position": {},
   "toc_section_display": true,
   "toc_window_display": false
  }
 },
 "nbformat": 4,
 "nbformat_minor": 2
}
