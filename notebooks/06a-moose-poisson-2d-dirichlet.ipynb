{
 "cells": [
  {
   "cell_type": "markdown",
   "metadata": {},
   "source": [
    "ChEn-5310: Computational Continuum Transport Phenomena Spring 2021 UMass Lowell; Prof. V. F. de Almeida **02Apr21**\n",
    "\n",
    "# 06a. Poisson 2D with Dirichlet Boundary Conditions\n",
    "$  \n",
    "  \\newcommand{\\Amtrx}{\\boldsymbol{\\mathsf{A}}}\n",
    "  \\newcommand{\\Bmtrx}{\\boldsymbol{\\mathsf{B}}}\n",
    "  \\newcommand{\\Mmtrx}{\\boldsymbol{\\mathsf{M}}}\n",
    "  \\newcommand{\\Imtrx}{\\boldsymbol{\\mathsf{I}}}\n",
    "  \\newcommand{\\Pmtrx}{\\boldsymbol{\\mathsf{P}}}\n",
    "  \\newcommand{\\Lmtrx}{\\boldsymbol{\\mathsf{L}}}\n",
    "  \\newcommand{\\Umtrx}{\\boldsymbol{\\mathsf{U}}}\n",
    "  \\newcommand{\\Smtrx}{\\boldsymbol{\\mathsf{S}}}\n",
    "  \\newcommand{\\xvec}{\\boldsymbol{\\mathsf{x}}}\n",
    "  \\newcommand{\\avec}{\\boldsymbol{\\mathsf{a}}}\n",
    "  \\newcommand{\\bvec}{\\boldsymbol{\\mathsf{b}}}\n",
    "  \\newcommand{\\cvec}{\\boldsymbol{\\mathsf{c}}}\n",
    "  \\newcommand{\\rvec}{\\boldsymbol{\\mathsf{r}}}\n",
    "  \\newcommand{\\fvec}{\\boldsymbol{\\mathsf{f}}}\n",
    "  \\newcommand{\\mvec}{\\boldsymbol{\\mathsf{m}}}\n",
    "  \\newcommand{\\gvec}{\\boldsymbol{\\mathsf{g}}}\n",
    "  \\newcommand{\\flux}{\\boldsymbol{q}}\n",
    "  \\newcommand{\\normal}{\\boldsymbol{n}}\n",
    "  \\newcommand{\\xpoint}{\\boldsymbol{x}}\n",
    "  \\newcommand{\\zerovec}{\\boldsymbol{\\mathsf{0}}}\n",
    "  \\newcommand{\\norm}[1]{\\bigl\\lVert{#1}\\bigr\\rVert}\n",
    "  \\newcommand{\\transpose}[1]{{#1}^\\top}\n",
    "  \\DeclareMathOperator{\\rank}{rank}\n",
    "  \\DeclareMathOperator{\\div}{div}\n",
    "  \\DeclareMathOperator{\\grad}{grad}\n",
    "  \\newcommand{\\Reals}{\\mathbb{R}}\n",
    "  \\newcommand{\\thetavec}{\\boldsymbol{\\theta}}\n",
    "$"
   ]
  },
  {
   "cell_type": "markdown",
   "metadata": {},
   "source": [
    "---\n",
    "\n",
    "## Table of Contents<a id=\"toc\"></a>\n",
    "* [Objectives](#obj)\n",
    "1. [Plotting Functions](#plotting)\n",
    "<br><br>\n",
    "1. [Problem Statement](#problem)\n",
    " + [Strong Form](#dbcstrong)\n",
    " + [Variational Form](#dbcweak)\n",
    " + [Poisson-Dirichlet Energy](#energy)\n",
    "<br><br>\n",
    "1. [Problem Solution](#solution)\n",
    " + [MOOSE Application Development](#dbcapp)\n",
    " + [Code a Diffusion Term Kernel](#dbcdiff)\n",
    " + [Code a Source Term Kernel](#dbcsource)\n",
    " + [Compile and Link Application](#compile1)\n",
    " + [Input File](#dbcinput)\n",
    " + [Run Application](#dbcrun)\n",
    "<br><br>   \n",
    "1. [Linear Lagrange FEM Results](#dbclinearfemresults)\n",
    " + [Compute Error](#linearerror)\n",
    "<br><br>    \n",
    "1. [Quadratic Lagrange FEM Results](#dbcquadfemresults)\n",
    " + [Compute Error](#quaderror)\n",
    "<br><br>    \n",
    "1. [Diffusion Flux Postprocessing](#diffusionfluxpostpro)\n",
    " + [Auxiliary Variable](#auxvar)\n",
    " + [Use MOOSE Diffusion Flux Auxiliary Kernel](#auxdiffflux)\n",
    "    - [Compute Error](#difffluxerror1)\n",
    " + [Code a Diffusion Flux Auxiliary Kernel](#auxdiffflux2)\n",
    " + [Compile and Link Application](#compile2)\n",
    "    - [Compute Error](#difffluxerror2)\n",
    "<br><br>   \n",
    "1. [Energy Postprocessing](#energypostpro)\n",
    " + [Code the Energy Postprocessor](#postpro)\n",
    " + [Compile and Link Application](#compilelink2)\n",
    " + [Input File](#energyinput)\n",
    " + [Run Application](#runenergy)\n",
    " + [Energy Results](#energyresults)\n",
    "    - [Compute Error](#energyerror)\n",
    "<br><br>   \n",
    "1. [Application Tree](#tree)\n",
    "---"
   ]
  },
  {
   "cell_type": "markdown",
   "metadata": {},
   "source": [
    "## [Objectives](#toc)<a id=\"obj\"></a>\n",
    "\n",
    " + Extend the Poisson 1D problem covered in [Notebook 06](https://nbviewer.jupyter.org/github/dpploy/engy-5310/blob/main/notebooks/06-poisson-1d-dirichlet.ipynb) to 2D such that their solutions match. Notes for the 1D problem must be thoroughly reviewed.\n",
    " + Introduce the Galerkin variational (weak) form of the Poisson 2D problem below.\n",
    " + <span style=\"color:red\">Some initial code is provided in the course repository but no full source code is given out. A significant effort in programing is often necessary to learn the subject well. However the material in this course is helpful with this task. Hands-on work during lectures will try to fill in existing gap. The steps in this notebook are necessary for a basic understanding of the subject.</span>\n",
    " + You are supposed to consult the [`MOOSE source documentation`](https://mooseframework.inl.gov/source/index.html) to fill in gaps in reproducing the steps below.</span>"
   ]
  },
  {
   "cell_type": "markdown",
   "metadata": {},
   "source": [
    "## [Plotting Functions](#toc)<a id=\"plotting\"></a>\n",
    "\n",
    "This is an auxiliary section for holding plotting functions used later."
   ]
  },
  {
   "cell_type": "code",
   "execution_count": 1,
   "metadata": {
    "code_folding": [
     2
    ]
   },
   "outputs": [],
   "source": [
    "'''Plot function for FEM Solution'''\n",
    "\n",
    "def plot_solution(df, \n",
    "                  title='No Title', \n",
    "                  basis_functions_type='No basis functions type',\n",
    "                  flux_basis_functions_type='No basis functions type'):\n",
    "    \n",
    "    import matplotlib.pyplot as plt\n",
    "    #%matplotlib inline\n",
    "    plt.style.use('dark_background')\n",
    "\n",
    "    (fig, ax1) = plt.subplots(1, figsize=(14, 5))\n",
    "\n",
    "    ax1.plot(df['x'], df['u'],'r*-',label=basis_functions_type)\n",
    "\n",
    "    ax1.set_xlabel(r'$x$ [cm]', fontsize=18)\n",
    "    ax1.set_ylabel(r'$u_h(x)$ [g/cc]', fontsize=18, color='red')\n",
    "    ax1.tick_params(axis='y', labelcolor='red', labelsize=14)\n",
    "    ax1.tick_params(axis='x', labelsize=14)\n",
    "    ax1.legend(loc='center left', fontsize=12)\n",
    "    #ax1.set_ylim(0,1)\n",
    "    ax1.grid(True)\n",
    "\n",
    "    if 'diffFluxU_x' in df.columns:\n",
    "        # create a twin x axis to be shared\n",
    "        ax2 = ax1.twinx()\n",
    "\n",
    "        ax2.plot(df['x'], df['diffFluxU_x'],'*-', color='yellow', label=flux_basis_functions_type)\n",
    "\n",
    "        ax2.set_ylabel(r\"$q_h(x)$ [g/cm$^2$-s]\", fontsize=16, color='yellow')\n",
    "        ax2.tick_params(axis='y', labelcolor='yellow', labelsize=14)\n",
    "        ax2.legend(loc='center right', fontsize=12)\n",
    "        #ax2.set_ylim(0,2)\n",
    "        #ax2.grid(True)\n",
    "\n",
    "    plt.title(title, fontsize=20)\n",
    "    fig.tight_layout()  # otherwise the right y-label is slightly clipped\n",
    "    plt.show()\n",
    "    print('')"
   ]
  },
  {
   "cell_type": "code",
   "execution_count": 2,
   "metadata": {
    "code_folding": [
     2
    ]
   },
   "outputs": [],
   "source": [
    "'''Plot Function for Error Compared to Exact Dimensionless Solution'''\n",
    "\n",
    "def plot_solution_error(df, title='Dimensionless FEM Solution and Error', fem_type='No FEM type'):\n",
    "    \n",
    "    from engy_5310.toolkit import engy5310_p1_exact_solution\n",
    "\n",
    "    import matplotlib.pyplot as plt\n",
    "    #%matplotlib inline\n",
    "    plt.style.use('dark_background')\n",
    "    \n",
    "    (u_hat, _, _) = engy5310_p1_exact_solution(x_left, x_right, u_left, u_right, diff_coeff, source_s)\n",
    "\n",
    "    L = df['x'].max() - df['x'].min()\n",
    "    x_mean = (df['x'].max() + df['x'].min())/2.0\n",
    "    x_hat = (df['x'] - x_mean)/L\n",
    "    a_hat = u_left/source_s*diff_coeff/L**2\n",
    "    b_hat = u_right/source_s*diff_coeff/L**2\n",
    "\n",
    "    uh_hat = df['u']/source_s*diff_coeff/L**2\n",
    "\n",
    "    plt.figure(1, figsize=(14, 5))\n",
    "    \n",
    "    plt.plot(x_hat, uh_hat,'r-*',label=fem_type)\n",
    "    \n",
    "    plt.plot(x_hat, u_hat(x_hat, a_hat, b_hat), 'x', color='yellow', label='Exact Solution')\n",
    "\n",
    "    plt.plot(x_hat, uh_hat-u_hat(x_hat, a_hat, b_hat), 'x', color='magenta', label=r'$\\hat{u}_h-\\hat{u}$')\n",
    "    \n",
    "    plt.title(label=title, fontsize=20)\n",
    "    plt.ylabel(r'$\\hat{u}_h, \\hat{u}$', fontsize=18)\n",
    "    plt.xlabel(r'$\\hat{x}$', fontsize=18)\n",
    "    plt.xticks(fontsize=16)\n",
    "    plt.yticks(fontsize=16)\n",
    "    plt.legend(loc='best',fontsize=12)\n",
    "    plt.grid(True)\n",
    "    plt.show()"
   ]
  },
  {
   "cell_type": "code",
   "execution_count": 3,
   "metadata": {
    "code_folding": [
     2
    ]
   },
   "outputs": [],
   "source": [
    "'''Plot Function for Error Compared to Exact Dimensionless Solution'''\n",
    "\n",
    "def plot_flux_error(df, title='Dimensionless FEM Solution and Error', fem_type='No FEM type'):\n",
    "    \n",
    "    from engy_5310.toolkit import engy5310_p1_exact_solution\n",
    "        \n",
    "    import matplotlib.pyplot as plt\n",
    "    #%matplotlib inline\n",
    "    plt.style.use('dark_background')\n",
    "    \n",
    "    (_, flux_hat, _) = engy5310_p1_exact_solution(x_left, x_right, u_left, u_right, diff_coeff, source_s)\n",
    "\n",
    "    L = df['x'].max() - df['x'].min()\n",
    "    x_mean = (df['x'].max() + df['x'].min())/2.0\n",
    "    x_hat = (df['x'] - x_mean)/L\n",
    "    \n",
    "    a_hat = u_left/source_s*diff_coeff/L**2\n",
    "    b_hat = u_right/source_s*diff_coeff/L**2\n",
    "\n",
    "    flux_h_hat = df['diffFluxU_x']/source_s/L\n",
    "\n",
    "    plt.figure(1, figsize=(14, 5))\n",
    "    \n",
    "    plt.plot(x_hat, flux_h_hat, 'r-*', label=fem_type)\n",
    "    \n",
    "    plt.plot(x_hat, flux_hat(x_hat, a_hat, b_hat), 'x', color='yellow', label='Exact Solution')\n",
    "\n",
    "    plt.plot(x_hat, flux_h_hat-flux_hat(x_hat, a_hat, b_hat),'x',color='magenta',label=r'$\\hat{q}_h-\\hat{q}$')\n",
    "    \n",
    "    plt.title(label=title, fontsize=20)\n",
    "    plt.ylabel(r'$\\hat{q}_h, \\hat{q}$', fontsize=18)\n",
    "    plt.xlabel(r'$\\hat{x}$', fontsize=18)\n",
    "    plt.xticks(fontsize=16)\n",
    "    plt.yticks(fontsize=16)\n",
    "    plt.legend(loc='best',fontsize=12)\n",
    "    plt.grid(True)\n",
    "    plt.show()"
   ]
  },
  {
   "cell_type": "markdown",
   "metadata": {},
   "source": [
    "## [Problem Statement](#toc)<a id=\"problem\"></a>\n",
    "\n",
    "The following sections describe what is referred in the literature as the two-dimensional Poisson problem with Dirichlet boundary condition."
   ]
  },
  {
   "cell_type": "markdown",
   "metadata": {},
   "source": [
    "### [Strong Form of Problem Statement](#toc)<a id=\"dbcstrong\"></a>\n",
    "\n",
    "Solve the Poisson model problem. Find $u:\\Omega\\subset\\Reals^2\\rightarrow\\Reals$ such that:\n",
    "\n",
    "\\begin{align*}\n",
    " -\\div_\\xpoint(-D\\, \\grad_\\xpoint u) + S &= 0 \\quad &\\forall \\quad \\xpoint\\in \\Omega, \\\\\n",
    " u(\\xpoint) &= u_\\text{b}(\\xpoint)            \\quad &\\forall \\quad \\xpoint\\in \\partial\\Omega\n",
    "\\end{align*}\n",
    "   \n",
    "This problem has an analytical solution for certain domains $\\Omega$ however this solution is not required here. The *flux*, $\\flux:\\Omega\\rightarrow\\Reals^2$, associated to the quantity $u$, is denoted $\\flux := -D\\,\\grad u$, and it is often of interest as a derived quantity.\n",
    "\n",
    "The value of the dependent variable is given on the boundary of the domain $\\partial\\Omega$. This is the extension of the *essential* boundary condition or  *Dirichlet boundary condition* to 2D."
   ]
  },
  {
   "cell_type": "markdown",
   "metadata": {},
   "source": [
    "### [Variational Form of Problem Statement](#toc)<a id=\"dbcweak\"></a>\n",
    "\n",
    "The Galerkin variational formulation is as follows. Find $u \\in H^1\\!\\bigl(\\Omega\\bigr)$ so that \n",
    "\n",
    "\\begin{align*}\n",
    " \\int\\limits_\\Omega -D\\, \\grad_\\xpoint u \\cdot \\grad_\\xpoint v\\,d\\xpoint + \\int\\limits_\\Omega S\\,v(\\xpoint)\\,d\\xpoint &= 0 \\quad \\forall \\quad v \\in H^1_0\\!\\bigl(\\Omega\\bigr), \n",
    "\\end{align*}\n",
    "\n",
    "where $H^1\\!\\bigl(\\Omega\\bigr) := \\bigl\\{ u:\\Omega\\subset\\Reals\\rightarrow \\Reals \\mid \\int_\\Omega \\grad_\\xpoint u\\cdot\\grad_\\xpoint u\\,d\\xpoint < \\infty \\bigr\\}$ and \n",
    "$H^1_0\\!\\bigl(\\Omega\\bigr) := \\bigl\\{ v \\mid v \\in H^1(\\Omega), v|_{\\partial\\Omega} = 0 \\bigr\\}$. Both function sets as just defined are Hilbert spaces. The function $v$ is called a test function. Because $v$ and $u$ are sought in very similar sets of functions, this variational form is called Galerkin's variational form.\n",
    "\n",
    "The two integrals in the variational formulation are the key terms to be computed. Since the MOOSE framework performs the integration, and provides the implementation of the test function, we need to provide the integrand of the integrals, that is, the kernels. Therefore the kernels needed are:\n",
    "\n",
    " 1. $-D\\, \\grad_\\xpoint u \\cdot \\grad_\\xpoint v$ ,\n",
    " 1. $S\\,v(\\xpoint)$.\n",
    " \n",
    "The kernels are to be evaluated at quadrature points provided by the MOOSE framework."
   ]
  },
  {
   "cell_type": "markdown",
   "metadata": {},
   "source": [
    "### [Poisson-Dirichlet Energy](#toc)<a id=\"energy\"></a>\n",
    "\n",
    "It is of theoretical and practical importance to compute the associated energy that the variational form minimizes, that is the **Poisson-Dirichlet total energy**:\n",
    "\n",
    "\\begin{align*}\n",
    " \\Phi[u] := \\int\\limits_\\Omega \\,\\frac{1}{2}\\flux(\\xpoint)\\cdot\\flux(\\xpoint) - D\\,S\\,u(\\xpoint) \\,d\\xpoint.\n",
    "\\end{align*}\n",
    "\n",
    "Since this is done after the solution is computed, it is characterized as a *postprocessing* operation. In `MOOSE` this is implemented in a *Postprocessors* class. First however, any derived quantity used in the integrand needs to be passed to the preprocessor for integration. Here we need to compute the local *flux*, $q$. In `MOOSE` this is done by creating an *auxiliary* variable and a corresponding *auxiliary kernel*. Therefore there are two additional components to [setup](#energypostpro):\n",
    "\n",
    "1. Create the auxiliary variable $\\flux=-D\\,\\grad u$,\n",
    "1. Create the posprocessor for computing $\\Phi$."
   ]
  },
  {
   "cell_type": "markdown",
   "metadata": {},
   "source": [
    "## [Problem Solution](#toc)<a id=\"solution\"></a>\n",
    "\n",
    "There is very little to do in order to extend the work done in 1D ([Notebook 06](https://nbviewer.jupyter.org/github/dpploy/engy-5310/blob/main/notebooks/06-poisson-1d-dirichlet.ipynb)) if the programming was done with an eye towards 2D and 3D. The major work to be done is in the `MOOSE` input file."
   ]
  },
  {
   "cell_type": "markdown",
   "metadata": {},
   "source": [
    "### [MOOSE Application Development](#toc)<a id=\"dbcapp\"></a>\n",
    "\n",
    "We will use the same application development as in [Notebook 06](https://nbviewer.jupyter.org/github/dpploy/engy-5310/blob/main/notebooks/06-poisson-1d-dirichlet.ipynb), namely `engy5310p1`."
   ]
  },
  {
   "cell_type": "markdown",
   "metadata": {},
   "source": [
    "### [Code a Diffusion Term Kernel](#toc)<a id=\"dbcdiff\"></a>\n",
    "\n",
    "No changes are necessary here since the  *residual* and *Jacobian* methods stand unmodified since the multiplication operator extends to 2D and performs an inner product of two vectors.\n",
    " + For the residual, a return value such as this is needed:\n",
    "  ```c++\n",
    "  Real\n",
    "  DiffusionTerm::computeQpResidual()\n",
    "  {\n",
    "   return - _diffCoeff * _grad_u[_qp] * _grad_test[_i][_qp];\n",
    "  }\n",
    "  ```\n",
    " + For the Jacobian matrix diagonal, a return value such as this is needed:\n",
    "  ```c++\n",
    "  Real\n",
    "  DiffusionTerm::computeQpJacobian()\n",
    "  {\n",
    "   return - _diffCoeff * _grad_phi[_j][_qp] * _grad_test[_i][_qp];\n",
    "  }\n",
    "  ```"
   ]
  },
  {
   "cell_type": "markdown",
   "metadata": {},
   "source": [
    "### [Code a Source Term Kernel](#toc)<a id=\"dbcsource\"></a>\n",
    "\n",
    "Likewise no changes are needed for the source term; the *residual* and *Jacobian* methods remain to be:\n",
    " \n",
    " + For the residual, a return value such as this is needed:\n",
    "  ```c++\n",
    "  Real\n",
    "  SourceTerm::computeQpResidual()\n",
    "  {\n",
    "   return _sourceS * _test[_i][_qp];\n",
    "  }\n",
    "  ```\n",
    " + For the Jacobian, a return value such as this is needed:\n",
    " ```c++\n",
    " Real\n",
    " SourceTerm::computeQpJacobian()\n",
    " {\n",
    "  return 0.0;\n",
    " }\n",
    " ```\n"
   ]
  },
  {
   "cell_type": "markdown",
   "metadata": {},
   "source": [
    "### [Compile and Link Application](#toc)<a id=\"compile1\"></a>\n",
    "\n",
    "Recompilation is not necessary but recall: \n",
    "1. Make sure you are in the problem project:\n",
    " +  `cd ../..`\n",
    " + `pwd`\n",
    "1. You should see: `..../engy5310p1`\n",
    "1. Compile and link the application\n",
    " + `make`\n",
    "1. If all is sucessfull you should see among other things in the screen output:\n",
    " + Linking Library `.../engy5310p1/lib/libengy5310p1-opt.la...`\n",
    " + Linking Executable `.../engy5310p1/engy5310p1-opt...`"
   ]
  },
  {
   "cell_type": "markdown",
   "metadata": {},
   "source": [
    "### [Input File](#toc)<a id=\"dbcinput\"></a>\n",
    "\n",
    "A full`input.hit`file is given in sections below when solving the problem. Here comments are made on the sections that need changes (refer to Notebook 06 for a review.). Some additional info on `MOOSE` **Hierarchical Input Text** (HIT) syntax can be found [here](https://mooseframework.inl.gov/application_usage/input_syntax.html).\n",
    "\n",
    "```\n",
    "# Parameters\n",
    "xmin = 0.00000e+00\n",
    "xmax = 2.50000e+01\n",
    "ymin = -6.25000e+00    # y coordinate min added\n",
    "ymax = 6.25000e+00     # y coordinate max added\n",
    "diff_coeff = 1.00000e-01\n",
    "source_s = 1.00000e-03\n",
    "\n",
    "[Mesh]\n",
    "  [2d]\n",
    "    type = GeneratedMeshGenerator\n",
    "    dim = 2                # 2D\n",
    "    xmin = ${replace xmin}\n",
    "    xmax = ${replace xmax}\n",
    "    ymin = ${replace ymin} # new\n",
    "    ymax = ${replace ymax} # new\n",
    "    nx = 10\n",
    "    ny = 2    # number of finite elements in y\n",
    "  []\n",
    "[]\n",
    "\n",
    "[BCs]\n",
    "  [south]                # y boundary condition at the bottom\n",
    "    type = NeumannBC\n",
    "    variable = u\n",
    "    boundary = bottom\n",
    "    value = 0.00000e+00\n",
    "  []\n",
    "  [north]                # y boundary condition at the top\n",
    "    type = NeumannBC\n",
    "    variable = u\n",
    "    boundary = top\n",
    "    value = 0.00000e+00\n",
    "  []\n",
    "[]\n",
    "\n",
    "[Outputs]\n",
    "  vtk = true         # enable VTK output for visualization in the Jupyter notebook\n",
    "[]\n",
    "```\n",
    "\n",
    "An important observation on the boundary conditions on the *South* and *North* boundaries is that for the time being we will use a *no flux* boundary condition which allows us to solve the problem so that the exact solution is identical to the solution of the 1D problem. We will use this special boundary condition choice to verify the solution implementation and compute errors."
   ]
  },
  {
   "cell_type": "markdown",
   "metadata": {},
   "source": [
    "<div class=\"alert alert-block alert-info\">\n",
    "The development so far will allow you to solve the Poisson 2D problem as stated without computing the total energy. You should run the application at this point for testing and experimenting with the parameters and your implementation.\n",
    "</div>"
   ]
  },
  {
   "cell_type": "markdown",
   "metadata": {},
   "source": [
    "### [Run Application](#toc)<a id=\"dbcrun\"></a>\n",
    "\n",
    "1. In the `engy5310p1/` directory run the application with the Linux shell command:\n",
    " + `./engy5310p1-opt -i input.hit`\n",
    "2. Compare your results with this notebook results below.\n",
    "3. Return here to follow instructions on how to implement the calculation of the total energy."
   ]
  },
  {
   "cell_type": "markdown",
   "metadata": {},
   "source": [
    "## [Linear Lagrange FEM](#toc)<a id=\"dbclinearfemresults\"></a>\n",
    "\n",
    "Solve problem with parameter values:\n",
    "\n",
    "> + See domain below\n",
    "> + u_left = 3 g/cc\n",
    "> + u_right = 0 g/cc\n",
    "> + D = 0.1 cm^2/s\n",
    "> + S = 1e-3 g/cc-s\n",
    "\n",
    "FEM parameters:\n",
    "\n",
    "> + Basis Functions: First Order Lagrangian\n",
    "> + num. of finite elements in the *x* direction: 3\n",
    "> + num. of finite element in the *y* direction: any number"
   ]
  },
  {
   "cell_type": "code",
   "execution_count": 4,
   "metadata": {
    "cell_style": "center"
   },
   "outputs": [],
   "source": [
    "'''Domain'''\n",
    "\n",
    "x_left = 0.0\n",
    "x_right = 25.0\n",
    "x_length = x_right - x_left\n",
    "\n",
    "y_length = x_length/2\n",
    "y_bottom = -y_length/2\n",
    "y_top = -y_bottom"
   ]
  },
  {
   "cell_type": "code",
   "execution_count": 5,
   "metadata": {
    "cell_style": "center"
   },
   "outputs": [
    {
     "name": "stderr",
     "output_type": "stream",
     "text": [
      "/home/dealmeida/.local/lib/python3.9/site-packages/pyvista/jupyter/notebook.py:56: UserWarning: Failed to use notebook backend: \n",
      "\n",
      "Please install `ipyvtklink` to use this feature: https://github.com/Kitware/ipyvtklink\n",
      "\n",
      "Falling back to a static output.\n",
      "  warnings.warn(f'Failed to use notebook backend: \\n\\n{e}\\n\\n'\n"
     ]
    },
    {
     "data": {
      "image/png": "[encoded data removed]",
      "text/plain": [
       "<PIL.Image.Image image mode=RGB size=800x600 at 0x7F7E467E4D90>"
      ]
     },
     "metadata": {},
     "output_type": "display_data"
    }
   ],
   "source": [
    "import pyvista as pv\n",
    "import numpy as np\n",
    "p1 = np.array([x_left, y_bottom, 0])\n",
    "p2 = np.array([x_right, y_bottom, 0])\n",
    "p3 = np.array([x_right, y_top, 0])\n",
    "p4 = np.array([x_left, y_top, 0])\n",
    "center = (p1+p2+p3+p4)/4\n",
    "plane = pv.Plane(center=center, i_size=x_length, j_size=y_length)\n",
    "\n",
    "plt = pv.Plotter()\n",
    "plt.add_mesh(plane, color='tan')\n",
    "plt.show_bounds()\n",
    "cpos = plt.show(cpos='xy', window_size=[800,600])"
   ]
  },
  {
   "cell_type": "code",
   "execution_count": 6,
   "metadata": {},
   "outputs": [],
   "source": [
    "'''Parameters and data'''\n",
    "\n",
    "diff_coeff = 0.1\n",
    "source_s = 1e-3\n",
    "\n",
    "u_left = 3.0\n",
    "u_right = 0.0\n",
    "\n",
    "u_bottom = None # (equivalent of qn_bottom = 0)\n",
    "u_top = None    # (equivalent of qn_top = 0 )"
   ]
  },
  {
   "cell_type": "code",
   "execution_count": 7,
   "metadata": {
    "code_folding": [
     13
    ]
   },
   "outputs": [],
   "source": [
    "'''FEM Solution'''\n",
    "\n",
    "n_felem_x = 3\n",
    "n_felem_y = 1\n",
    "\n",
    "order = 'first'\n",
    "\n",
    "n_plot_pts_x = n_felem_x + 1\n",
    "n_plot_pts_x = 20\n",
    "n_plot_pts_y = n_felem_y + 1\n",
    "\n",
    "from engy_5310.toolkit import write_engy5310_p1_2d_input_file\n",
    "\n",
    "write_engy5310_p1_2d_input_file(x_left=x_left, x_right=x_right, y_bottom=y_bottom, y_top=y_top, \n",
    "                                u_left=u_left, u_right=u_right, \n",
    "                                diff_coeff=diff_coeff, source_s=source_s, n_felem_x=n_felem_x, n_felem_y=n_felem_y, \n",
    "                                order=order, \n",
    "                                n_plot_pts_x=n_plot_pts_x, n_plot_pts_y=n_plot_pts_y)"
   ]
  },
  {
   "cell_type": "code",
   "execution_count": 8,
   "metadata": {
    "scrolled": true
   },
   "outputs": [
    {
     "name": "stdout",
     "output_type": "stream",
     "text": [
      "# Engy-5310 Problem: Poisson 2D FEM\r\n",
      "# UMass Lowell Nuclear Chemical Engineering\r\n",
      "# Prof. Valmor F. de Almeida\r\n",
      "# 08Oct21 18:02:32\r\n",
      "\r\n",
      "# Parameters\r\n",
      "xmin = 0.00000e+00\r\n",
      "xmax = 2.50000e+01\r\n",
      "ymin = -6.25000e+00\r\n",
      "ymax = 6.25000e+00\r\n",
      "diff_coeff = 1.00000e-01\r\n",
      "source_s = 1.00000e-03\r\n",
      "u_left = 3.00000e+00\r\n",
      "u_right = 0.00000e+00\r\n",
      "\r\n",
      "[Problem]\r\n",
      "  type = FEProblem\r\n",
      "  coord_type = XYZ\r\n",
      "[]\r\n",
      "\r\n",
      "[Mesh]\r\n",
      "  [2d]\r\n",
      "    type = GeneratedMeshGenerator\r\n",
      "    dim = 2\r\n",
      "    xmin = ${replace xmin}\r\n",
      "    xmax = ${replace xmax}\r\n",
      "    ymin = ${replace ymin}\r\n",
      "    ymax = ${replace ymax}\r\n",
      "    nx = 3\r\n",
      "    ny = 1\r\n",
      "  []\r\n",
      "[]\r\n",
      "\r\n",
      "[Variables]\r\n",
      "  [u]\r\n",
      "    order = first\r\n",
      "    family = lagrange\r\n",
      "    initial_condition = ${fparse (u_left+u_right)/2}\r\n",
      "  []\r\n",
      "[]\r\n",
      "\r\n",
      "[Kernels]\r\n",
      "  [diffusion-term]\r\n",
      "    type = DiffusionTerm\r\n",
      "    variable = u     # produced quantity\r\n",
      "    diffCoeff = ${replace diff_coeff}\r\n",
      "  []\r\n",
      "  [source-term]\r\n",
      "    type = SourceTerm\r\n",
      "    variable = u     # add to produced quantity\r\n",
      "    sourceS = ${replace source_s}\r\n",
      "    coupledVariable = u\r\n",
      "  []\r\n",
      "[]\r\n",
      "\r\n",
      "[BCs]\r\n",
      "  [east]\r\n",
      "    type = DirichletBC\r\n",
      "    variable = u\r\n",
      "    boundary = left\r\n",
      "    value = ${replace u_left}\r\n",
      "  []\r\n",
      "  [west]\r\n",
      "    type = DirichletBC\r\n",
      "    variable = u\r\n",
      "    boundary = right\r\n",
      "    value = ${replace u_right}\r\n",
      "  []\r\n",
      "  [south]\r\n",
      "    type = NormalFluxBC\r\n",
      "    variable = u\r\n",
      "    boundary = bottom\r\n",
      "  []\r\n",
      "  [north]\r\n",
      "    type = NormalFluxBC\r\n",
      "    variable = u\r\n",
      "    boundary = top\r\n",
      "  []\r\n",
      "[]\r\n",
      "\r\n",
      "[Executioner]\r\n",
      "  type = Steady\r\n",
      "  solve_type = 'PJFNK'\r\n",
      "  petsc_options_iname = '-pc_type -pc_hypre_type'\r\n",
      "  petsc_options_value = 'hypre boomeramg'\r\n",
      "[]\r\n",
      "\r\n",
      "[VectorPostprocessors]\r\n",
      "  [x-line]\r\n",
      "    type = LineValueSampler\r\n",
      "    execute_on = 'timestep_end final'\r\n",
      "    variable = 'u'    # output data\r\n",
      "    start_point = '${replace xmin} ${fparse (ymax+ymin)/2} 0'\r\n",
      "    end_point = '${replace xmax} ${fparse (ymax+ymin)/2} 0'\r\n",
      "    num_points = 20\r\n",
      "    sort_by = id\r\n",
      "  []\r\n",
      "  [y-line]\r\n",
      "    type = LineValueSampler\r\n",
      "    execute_on = 'timestep_end final'\r\n",
      "    variable = 'u'    # output data\r\n",
      "    start_point = '${fparse (xmax+xmin)/2} ${replace ymin} 0'\r\n",
      "    end_point = '${fparse (xmax+xmin)/2} ${replace ymax} 0'\r\n",
      "    num_points = 2\r\n",
      "    sort_by = id\r\n",
      "  []\r\n",
      "[]\r\n",
      "\r\n",
      "[Outputs]\r\n",
      "  console = true\r\n",
      "  [vtk]\r\n",
      "    type = VTK\r\n",
      "    execute_on = final\r\n",
      "    file_base = out\r\n",
      "  []\r\n",
      "  [x]\r\n",
      "    type = CSV\r\n",
      "    execute_on = 'final'\r\n",
      "    show = 'x-line'\r\n",
      "    file_base = out-x\r\n",
      "  []\r\n",
      "  [y]\r\n",
      "    type = CSV\r\n",
      "    execute_on = 'final'\r\n",
      "    show = 'y-line'\r\n",
      "    file_base = out-y\r\n",
      "  []\r\n",
      "[]\r\n"
     ]
    }
   ],
   "source": [
    "'''Display MOOSE input file created'''\n",
    "\n",
    "!cat engy5310p1/input.hit"
   ]
  },
  {
   "cell_type": "code",
   "execution_count": 9,
   "metadata": {
    "scrolled": true
   },
   "outputs": [
    {
     "name": "stdout",
     "output_type": "stream",
     "text": [
      "\n",
      "Framework Information:\n",
      "MOOSE Version:           git commit b98ea2c450 on 2021-09-23\n",
      "LibMesh Version:         aebb5a5c0e1f6d8cf523a720e19f70a6d17c0236\n",
      "PETSc Version:           3.15.0\n",
      "SLEPc Version:           3.15.0\n",
      "Current Time:            Fri Oct  8 18:02:43 2021\n",
      "Executable Timestamp:    Fri Sep 24 22:36:35 2021\n",
      "\n",
      "Parallelism:\n",
      "  Num Processors:          1\n",
      "  Num Threads:             1\n",
      "\n",
      "Mesh: \n",
      "  Parallel Type:           replicated\n",
      "  Mesh Dimension:          2\n",
      "  Spatial Dimension:       2\n",
      "  Nodes:                   8\n",
      "  Elems:                   3\n",
      "  Num Subdomains:          1\n",
      "\n",
      "Nonlinear System:\n",
      "  Num DOFs:                8\n",
      "  Num Local DOFs:          8\n",
      "  Variables:               \"u\" \n",
      "  Finite Element Types:    \"LAGRANGE\" \n",
      "  Approximation Orders:    \"FIRST\" \n",
      "\n",
      "Execution Information:\n",
      "  Executioner:             Steady\n",
      "  Solver Mode:             Preconditioned JFNK\n",
      "  PETSc Preconditioner:    hypre boomeramg \n",
      "\n",
      " 0 Nonlinear |R| = \u001b[32m2.479429e-01\u001b[39m\n",
      "      0 Linear |R| = \u001b[32m2.479429e-01\u001b[39m\n",
      "      1 Linear |R| = \u001b[32m4.057641e-08\u001b[39m\n",
      " 1 Nonlinear |R| = \u001b[32m4.045110e-08\u001b[39m\n",
      "      0 Linear |R| = \u001b[32m4.045110e-08\u001b[39m\n",
      "      1 Linear |R| = \u001b[32m1.688886e-14\u001b[39m\n",
      " 2 Nonlinear |R| = \u001b[32m1.655693e-14\u001b[39m\n",
      "\u001b[32m Solve Converged!\u001b[39m\n",
      "The .pvtu extension should be used when writing VTK files in libMesh."
     ]
    }
   ],
   "source": [
    "'''Run Engy5310P1 MOOSE App'''\n",
    "\n",
    "!engy5310p1/engy5310p1-opt -i engy5310p1/input.hit"
   ]
  },
  {
   "cell_type": "code",
   "execution_count": null,
   "metadata": {},
   "outputs": [],
   "source": [
    "'''Show 2D solution'''\n",
    "\n",
    "import pyvista as pv\n",
    "poisson = pv.read('out_000_0.vtu')\n",
    "cpos = poisson.plot(scalars='u', stitle='Concentration [g/cc]', cmap='plasma', window_size=[800,600], notebook=True)"
   ]
  },
  {
   "cell_type": "markdown",
   "metadata": {},
   "source": [
    "The solution evaluated on $y=0$ must match the 1D solution in Notebook 06. Recall that the vector postprocessor `[x]` extracts the needed data into the `cvs` output file."
   ]
  },
  {
   "cell_type": "code",
   "execution_count": null,
   "metadata": {
    "code_folding": [
     2
    ]
   },
   "outputs": [],
   "source": [
    "'''Show FEM Solution'''\n",
    "\n",
    "import pandas as pd\n",
    "df = pd.read_csv('out-x_x-line_0002.csv')\n",
    "    \n",
    "plot_solution(df, title='Dirichlet BC FEM Solution $u_h(x,y=0)$', basis_functions_type='Linear Lagrange', flux_basis_functions_type='Constant Monomial')"
   ]
  },
  {
   "cell_type": "markdown",
   "metadata": {},
   "source": [
    "**Comments:**\n",
    "\n",
    "1. The *concentration* drops from the entry value to the exit as prescribed by the boundary conditions.\n",
    "1. Because of the source term the profile of the exact solution is quadratic.\n",
    "1. Since the linear Lagrange basis functions are used with 3 finite elements, 3 linear sections approximate the solution.\n",
    "1. The normal diffusion flux is negative on the left boundary, $(\\flux\\cdot\\normal)|_{\\xpoint = (a,y)} < 0$, \n",
    "hence there is *feeding* on the left. On the right boundary $(\\flux\\cdot\\normal)|_{\\xpoint = (a,y)} > 0$ therefore there is *draining* at the right side."
   ]
  },
  {
   "cell_type": "markdown",
   "metadata": {},
   "source": [
    "### [FEM Error](#toc)<a id=\"linearerror\"></a>"
   ]
  },
  {
   "cell_type": "code",
   "execution_count": null,
   "metadata": {},
   "outputs": [],
   "source": [
    "'''Error Compared to Exact Dimensionless Solution'''\n",
    "\n",
    "plot_solution_error(df, title='Dimensionless FEM Solution and Error on $y=0$', fem_type='FEM Linear Lagrange')"
   ]
  },
  {
   "cell_type": "markdown",
   "metadata": {},
   "source": [
    "**Comments:**\n",
    "\n",
    "1. Error as compared to the exact dimensionless solution is zero at the boundary of the linear sections but not in between.\n",
    "1. Even with linear Lagrange basis functions the error is relatively small and a proof that the use of basis functions of compact support is attractive."
   ]
  },
  {
   "cell_type": "markdown",
   "metadata": {},
   "source": [
    "## [Quadratic Lagrange FEM](#toc)<a id=\"dbcquadfemresults\"></a>\n",
    "\n",
    "FEM parameters:\n",
    "\n",
    "> + Basis Functions: Second Order Lagrangian\n",
    "> + num. of finite elements in the *x* direction: 1\n",
    "> + num. of finite element in the *y* direction: any number"
   ]
  },
  {
   "cell_type": "markdown",
   "metadata": {},
   "source": [
    "The input file needs changes to select the higher order approximation:\n",
    "\n",
    "```\n",
    "[Mesh]\n",
    "  [2d]\n",
    "    type = GeneratedMeshGenerator\n",
    "    dim = 2                # 2D\n",
    "    xmin = ${replace xmin}\n",
    "    xmax = ${replace xmax}\n",
    "    ymin = ${replace ymin} # new\n",
    "    ymax = ${replace ymax} # new\n",
    "    nx = 10\n",
    "    ny = 2    # number of finite elements in y\n",
    "    elem_type = QUAD9  # name of the quadrilateral with 9 local basis functions\n",
    "  []\n",
    "[]\n",
    "\n",
    "[Variables]\n",
    " [u]                                 # our unknown variable to be related to below\n",
    "  order = second                     # MOOSE second order Lagrange basis functions\n",
    "  family = lagrange\n",
    " []\n",
    "[]\n",
    "```"
   ]
  },
  {
   "cell_type": "code",
   "execution_count": null,
   "metadata": {
    "code_folding": [
     13
    ]
   },
   "outputs": [],
   "source": [
    "'''FEM Solution'''\n",
    "\n",
    "n_felem_x = 1\n",
    "n_felem_y = 1\n",
    "\n",
    "order = 'second'\n",
    "\n",
    "n_plot_pts_x = 2*n_felem_x + 1\n",
    "n_plot_pts_x = 20\n",
    "n_plot_pts_y = 2*n_felem_y + 1\n",
    "\n",
    "from engy_5310.toolkit import write_engy5310_p1_2d_input_file\n",
    "\n",
    "write_engy5310_p1_2d_input_file(x_left=x_left, x_right=x_right, y_bottom=y_bottom, y_top=y_top, \n",
    "                                u_left=u_left, u_right=u_right, \n",
    "                                diff_coeff=diff_coeff, source_s=source_s, n_felem_x=n_felem_x, n_felem_y=n_felem_y, \n",
    "                                order=order, \n",
    "                                n_plot_pts_x=n_plot_pts_x, n_plot_pts_y=n_plot_pts_y)"
   ]
  },
  {
   "cell_type": "code",
   "execution_count": null,
   "metadata": {
    "scrolled": true
   },
   "outputs": [],
   "source": [
    "'''Display MOOSE input file created'''\n",
    "\n",
    "!cat engy5310p1/input.hit"
   ]
  },
  {
   "cell_type": "code",
   "execution_count": null,
   "metadata": {},
   "outputs": [],
   "source": [
    "'''Run Engy5310P1 MOOSE App'''\n",
    "\n",
    "!engy5310p1/engy5310p1-opt -i engy5310p1/input.hit"
   ]
  },
  {
   "cell_type": "code",
   "execution_count": 10,
   "metadata": {
    "cell_style": "center"
   },
   "outputs": [
    {
     "name": "stderr",
     "output_type": "stream",
     "text": [
      "/home/dealmeida/.local/lib/python3.9/site-packages/pyvista/plotting/plotting.py:1354: PyvistaDeprecationWarning: \n",
      "\"stitle\" is a depreciated keyword and will be removed in a future\n",
      "release.\n",
      "\n",
      "Use ``scalar_bar_args`` instead.  For example:\n",
      "\n",
      "scalar_bar_args={'title': 'Scalar Bar Title'}\n",
      "\n",
      "  warnings.warn(USE_SCALAR_BAR_ARGS, PyvistaDeprecationWarning)\n",
      "/home/dealmeida/.local/lib/python3.9/site-packages/pyvista/jupyter/notebook.py:56: UserWarning: Failed to use notebook backend: \n",
      "\n",
      "Please install `ipyvtklink` to use this feature: https://github.com/Kitware/ipyvtklink\n",
      "\n",
      "Falling back to a static output.\n",
      "  warnings.warn(f'Failed to use notebook backend: \\n\\n{e}\\n\\n'\n"
     ]
    },
    {
     "data": {
      "image/png": "[encoded data removed]",
      "text/plain": [
       "<PIL.Image.Image image mode=RGB size=800x600 at 0x7F7E5AFFD9A0>"
      ]
     },
     "metadata": {},
     "output_type": "display_data"
    }
   ],
   "source": [
    "'''Show 2D solution'''\n",
    "\n",
    "import pyvista as pv\n",
    "poisson = pv.read('out_000_0.vtu')\n",
    "cpos = poisson.plot(scalars='u', stitle='Concentration [g/cc]', cmap='plasma', window_size=[800,600], notebook=True)"
   ]
  },
  {
   "cell_type": "code",
   "execution_count": 11,
   "metadata": {},
   "outputs": [
    {
     "data": {
      "image/png": "[encoded data removed]",
      "text/plain": [
       "<Figure size 1008x360 with 1 Axes>"
      ]
     },
     "metadata": {},
     "output_type": "display_data"
    },
    {
     "name": "stdout",
     "output_type": "stream",
     "text": [
      "\n"
     ]
    }
   ],
   "source": [
    "'''Show FEM Solution'''\n",
    "\n",
    "import pandas as pd\n",
    "df = pd.read_csv('out-x_x-line_0002.csv')\n",
    "\n",
    "plot_solution(df, title='Dirichlet BC FEM Solution $u_h(x,y=0)$', basis_functions_type='Quadratic Lagrange', flux_basis_functions_type='Linear Monomial')"
   ]
  },
  {
   "cell_type": "markdown",
   "metadata": {},
   "source": [
    "### [FEM Error](#toc)<a id=\"quaderror\"></a>\n"
   ]
  },
  {
   "cell_type": "code",
   "execution_count": 12,
   "metadata": {},
   "outputs": [
    {
     "data": {
      "image/png": "[encoded data removed]",
      "text/plain": [
       "<Figure size 1008x360 with 1 Axes>"
      ]
     },
     "metadata": {},
     "output_type": "display_data"
    }
   ],
   "source": [
    "'''Error Compared to Exact Dimensionless Solution'''\n",
    "\n",
    "plot_solution_error(df, title='Dimensionless FEM Solution and Error on $y=0$', fem_type='FEM Quadratic Lagrange')"
   ]
  },
  {
   "cell_type": "markdown",
   "metadata": {},
   "source": [
    "**Comments:**\n",
    "\n",
    "1. Usage of one quadratic Lagrange finite element reproduces the exact solution; as it had to.\n",
    "1. Also the flux is exactly approximated as shown below."
   ]
  },
  {
   "cell_type": "markdown",
   "metadata": {},
   "source": [
    "## [Diffusion Flux Postprocessing](#toc)<a id=\"diffusionfluxpostpro\"></a>\n",
    "\n",
    "The diffusion flux is needed in the [Dirichlet energy](#energy) integral. This section describes the post-processing operation of calculating the flux $q$ from $u$. There are two ways to postprocess the diffusion flux as described below. In both of them, auxiliary variables need to be created."
   ]
  },
  {
   "cell_type": "markdown",
   "metadata": {},
   "source": [
    "### [Auxiliary Variable](#toc)<a id=\"auxvar\"></a>\n",
    "\n",
    "A derived variable for the diffusion flux vector calculated from the unknown $u$ needs to be specified in the `MOOSE` input file. The shape of the basis functions used for the diffusion flux should be consistent with the choice used for the $u$ variable. For example:\n",
    "\n",
    "```\n",
    "[AuxVariables]\n",
    "  [diffFluxU]               # a vector valued flux\n",
    "    order = FIRST\n",
    "    family = MONOMIAL_VEC   # vector valued\n",
    "  []\n",
    "  [diffFluxU_x]             # x component\n",
    "    order = FIRST\n",
    "    family = MONOMIAL\n",
    "  []\n",
    "  [diffFluxU_y]             # y component\n",
    "    order = FIRST\n",
    "    family = MONOMIAL\n",
    "  []\n",
    "[]\n",
    "```"
   ]
  },
  {
   "cell_type": "markdown",
   "metadata": {},
   "source": [
    "### [Use `MOOSE` Diffusion Flux Auxiliary Kernel](#toc)<a id=\"auxdiffflux\"></a>\n",
    "\n",
    "One way to compute the gradient of $u$ is to use the `MOOSE` framework `DiffusionFluxAux` kernel.\n",
    "It is available for computing the flux $\\flux$ but each component must be created separately using the `MOOSE` input file as follows:\n",
    "\n",
    "```\n",
    "[AuxKernels]\n",
    "  [diffusion-flux-x]\n",
    "    execute_on = timestep_end\n",
    "    type = DiffusionFluxAux\n",
    "    diffusivity = ${replace diff_coeff}\n",
    "    variable = diffFluxU_x\n",
    "    diffusion_variable = u\n",
    "    component = x\n",
    "  []\n",
    "  [diffusion-flux-y]\n",
    "    execute_on = timestep_end\n",
    "    type = DiffusionFluxAux\n",
    "    diffusivity = ${replace diff_coeff}\n",
    "    variable = diffFluxU_y\n",
    "    diffusion_variable = u\n",
    "    component = y\n",
    "  []\n",
    "[]\n",
    "```\n",
    "\n",
    "Also, you need to output the values of flux for plotting; just add the newly created auxiliary field to the list of variables (`# output data`) on the `VectorPostprocessors` block output file, that is:\n",
    "\n",
    "```\n",
    "[VectorPostprocessors]\n",
    "  [x]\n",
    "    type = LineValueSampler\n",
    "    execute_on = 'timestep_end final'\n",
    "    variable = 'u diffFluxU_x diffFluxU_y'      # output data\n",
    "    start_point = '${replace xmin} 0 0'\n",
    "    end_point = '${replace xmax} 0 0'\n",
    "    num_points = 20\n",
    "    sort_by = id\n",
    "  []\n",
    "[]\n",
    "```"
   ]
  },
  {
   "cell_type": "code",
   "execution_count": null,
   "metadata": {
    "code_folding": [
     13
    ]
   },
   "outputs": [],
   "source": [
    "'''FEM Solution'''\n",
    "\n",
    "n_felem_x = 1\n",
    "n_felem_y = 1\n",
    "\n",
    "order = 'second'\n",
    "\n",
    "n_plot_pts_x = 2*n_felem_x + 1\n",
    "n_plot_pts_x = 20\n",
    "n_plot_pts_y = 2*n_felem_y + 1\n",
    "\n",
    "from engy_5310.toolkit import write_engy5310_p1_2d_input_file\n",
    "\n",
    "write_engy5310_p1_2d_input_file(x_left=x_left, x_right=x_right, y_bottom=y_bottom, y_top=y_top, \n",
    "                                u_left=u_left, u_right=u_right, \n",
    "                                diff_coeff=diff_coeff, source_s=source_s, n_felem_x=n_felem_x, n_felem_y=n_felem_y, \n",
    "                                order=order, \n",
    "                                n_plot_pts_x=n_plot_pts_x, n_plot_pts_y=n_plot_pts_y, \n",
    "                                compute_diffusion_flux=True, use_moose_diffusion_flux=True)"
   ]
  },
  {
   "cell_type": "code",
   "execution_count": null,
   "metadata": {
    "scrolled": true
   },
   "outputs": [],
   "source": [
    "'''Display MOOSE input file created'''\n",
    "\n",
    "!cat engy5310p1/input.hit"
   ]
  },
  {
   "cell_type": "code",
   "execution_count": null,
   "metadata": {},
   "outputs": [],
   "source": [
    "'''Run Engy5310P1 MOOSE App'''\n",
    "\n",
    "!engy5310p1/engy5310p1-opt -i engy5310p1/input.hit"
   ]
  },
  {
   "cell_type": "code",
   "execution_count": null,
   "metadata": {
    "cell_style": "split"
   },
   "outputs": [],
   "source": [
    "'''Show 2D solution'''\n",
    "\n",
    "import pyvista as pv\n",
    "poisson = pv.read('out_000_0.vtu')\n",
    "cpos = poisson.plot(scalars='diffFluxU_x', stitle='Diffusion Flux X [g/(cm^2 s)]', cmap='plasma', notebook=True) "
   ]
  },
  {
   "cell_type": "code",
   "execution_count": null,
   "metadata": {
    "cell_style": "split"
   },
   "outputs": [],
   "source": [
    "'''Show 2D y flux solution'''\n",
    "\n",
    "import pyvista as pv\n",
    "poisson = pv.read('out_000_0.vtu')\n",
    "cpos = poisson.plot(scalars='diffFluxU_y', stitle='Diffusion Flux Y [g/(cm^2 s)]', cmap='plasma', notebook=True)"
   ]
  },
  {
   "cell_type": "code",
   "execution_count": null,
   "metadata": {},
   "outputs": [],
   "source": [
    "'''Show FEM Solution'''\n",
    "\n",
    "import pandas as pd\n",
    "df = pd.read_csv('out-x_x-line_0002.csv')\n",
    "\n",
    "plot_solution(df, title='Dirichlet BC FEM Solution $u_h(x,y=0)$, $q_{h,x}(x,y=0)$', basis_functions_type='Quadratic Lagrange', flux_basis_functions_type='Linear Monomial')"
   ]
  },
  {
   "cell_type": "markdown",
   "metadata": {},
   "source": [
    "#### [Compute Error](#toc)<a id=\"difffluxerror1\"></a>\n"
   ]
  },
  {
   "cell_type": "code",
   "execution_count": null,
   "metadata": {},
   "outputs": [],
   "source": [
    "'''Flux Error Compared to Exact Dimensionless Solution'''\n",
    "\n",
    "plot_flux_error(df, title='Dimensionless FEM Solution and Error on $y=0$', fem_type='FEM Quadratic Lagrange')"
   ]
  },
  {
   "cell_type": "markdown",
   "metadata": {},
   "source": [
    "### [Code a Diffusion Flux Auxiliary Kernel](#toc)<a id=\"auxdiffflux2\"></a>\n",
    "\n",
    "Only the flux vector auxiliary kernel will be described here (see Notebook 06 for other options).\n",
    "\n",
    "1. `cd include`\n",
    "1. `mkdir auxkernels`\n",
    "1. `cd auxkernels`\n",
    "1. Create a `DiffusionFlux.h` class interface as folows:\n",
    " + Use the `FluxVector.h` [course template](https://github.com/dpploy/engy-5310/blob/main/moose-app-templates/FluxVector.h) as follows:\n",
    " + `cp *path-to*/moose-app-templates/FluxVector.h .`\n",
    " + `mv VectorFlux.h DiffusionFlux.h`\n",
    " + Edit the file `DiffusionFlux.h` with a text editor by replacing all instances of `FluxVector` with `DiffusionFlux`.\n",
    " + Declare member variables in the header files for example:\n",
    " ```c++\n",
    "  /// The gradient of a coupled variable\n",
    "  const VariableGradient & _gradU;\n",
    "  /// Add here other parameters needed\n",
    "  Real _diffCoeff;\n",
    " ```\n",
    "1. `cd ../..`\n",
    "1. `cd src`\n",
    "1. `mkdir auxkernels`\n",
    "1. `cd auxkernels`\n",
    "1. Create a `DiffusionFlux.C` class implementation as follows:\n",
    " + Use the `FluxVector.C` [course template](https://github.com/dpploy/engy-5310/blob/main/moose-app-templates/FluxVector.C) as follows.\n",
    " + `cp *path-to*/moose-app-templates/FluxVector.C .`\n",
    " + `mv FluxVector.C DiffusionFlux.C`\n",
    " + Edit the file `DiffusionFlux.C` with a text editor by replacing all instances of `FluxVector` with `DiffusionFlux`.\n",
    " + You will need to program the *computeValue()* method. <span style=\"color:red\">This portion of the implementation is convered in class.</span> Here is an example of what the method would look like:\n",
    "```c++\n",
    "DiffusionFlux::DiffusionFlux(const InputParameters & parameters)\n",
    "  : VectorAuxKernel(parameters),\n",
    "    // Initialize variable gradient\n",
    "    _gradU(coupledGradient(\"field\")),\n",
    "    // Initialize parameters\n",
    "    _diffCoeff(getParam<Real>(\"diffCoeff\"))\n",
    "{\n",
    "}\n",
    "RealVectorValue\n",
    "DiffusionFlux::computeValue()\n",
    "{\n",
    "  return - _diffCoeff * _gradU[_qp];\n",
    "}\n",
    "```\n",
    "\n",
    "Depending on your implementation, the `MOOSE` input block may look like this:\n",
    "\n",
    "```\n",
    "[AuxKernels]\n",
    "  [diffusion-flux]\n",
    "    execute_on = timestep_end\n",
    "    type = DiffusionFlux      # user coded kernel\n",
    "    field = u\n",
    "    diffCoeff = ${replace diff_coeff}\n",
    "    variable = diffFluxU     # produced quantity\n",
    "  []\n",
    "  [diffusion-flux-x]\n",
    "    execute_on = timestep_end\n",
    "    type = VectorVariableComponentAux    #  MOOSE provided\n",
    "    variable = diffFluxU_x    # produced quantity\n",
    "    component = x\n",
    "    vector_variable = diffFluxU   \n",
    "  []\n",
    "  [diffusion-flux-y]\n",
    "    execute_on = timestep_end\n",
    "    type = VectorVariableComponentAux    #  MOOSE provided\n",
    "    variable = diffFluxU_y    # produced quantity\n",
    "    component = y\n",
    "    vector_variable = diffFluxU   \n",
    "  []\n",
    "[]\n",
    "```"
   ]
  },
  {
   "cell_type": "markdown",
   "metadata": {},
   "source": [
    "### [Compile and Link Application](#toc)<a id=\"compile2\"></a>\n",
    "\n",
    "1. Make sure you are in the problem project directory:\n",
    " + `pwd`\n",
    "1. You should see: `..../engy5310p1`\n",
    "1. Compile and link the application\n",
    " + `make`\n",
    "1. If all is sucessfull you should see among other things in the screen output:\n",
    " + Linking Library `.../engy5310p1/lib/libengy5310p1-opt.la...`\n",
    " + Linking Executable `.../engy5310p1/engy5310p1-opt...`"
   ]
  },
  {
   "cell_type": "code",
   "execution_count": null,
   "metadata": {
    "code_folding": [
     13
    ]
   },
   "outputs": [],
   "source": [
    "'''FEM Solution'''\n",
    "\n",
    "n_felem_x = 1\n",
    "n_felem_y = 1\n",
    "\n",
    "order = 'second'\n",
    "\n",
    "n_plot_pts_x = 2*n_felem_x + 1\n",
    "n_plot_pts_x = 20\n",
    "n_plot_pts_y = 2*n_felem_y + 1\n",
    "\n",
    "from engy_5310.toolkit import write_engy5310_p1_2d_input_file\n",
    "\n",
    "write_engy5310_p1_2d_input_file(x_left=x_left, x_right=x_right, y_bottom=y_bottom, y_top=y_top, \n",
    "                                u_left=u_left, u_right=u_right, \n",
    "                                diff_coeff=diff_coeff, source_s=source_s, n_felem_x=n_felem_x, n_felem_y=n_felem_y, \n",
    "                                order=order, \n",
    "                                n_plot_pts_x=n_plot_pts_x, n_plot_pts_y=n_plot_pts_y, \n",
    "                                compute_diffusion_flux=True)"
   ]
  },
  {
   "cell_type": "code",
   "execution_count": null,
   "metadata": {
    "scrolled": true
   },
   "outputs": [],
   "source": [
    "'''Display MOOSE input file created'''\n",
    "\n",
    "!cat engy5310p1/input.hit"
   ]
  },
  {
   "cell_type": "code",
   "execution_count": null,
   "metadata": {},
   "outputs": [],
   "source": [
    "'''Run Engy5310P1 MOOSE App'''\n",
    "\n",
    "!engy5310p1/engy5310p1-opt -i engy5310p1/input.hit"
   ]
  },
  {
   "cell_type": "code",
   "execution_count": null,
   "metadata": {
    "cell_style": "split"
   },
   "outputs": [],
   "source": [
    "'''Show 2D solution'''\n",
    "\n",
    "import pyvista as pv\n",
    "poisson = pv.read('out_000_0.vtu')\n",
    "cpos = poisson.plot(scalars='diffFluxU_x', stitle='Diffusion Flux X [g/(cm^2 s)]', cmap='plasma', notebook=True) "
   ]
  },
  {
   "cell_type": "code",
   "execution_count": null,
   "metadata": {
    "cell_style": "split"
   },
   "outputs": [],
   "source": [
    "'''Show 2D y flux solution'''\n",
    "\n",
    "import pyvista as pv\n",
    "poisson = pv.read('out_000_0.vtu')\n",
    "cpos = poisson.plot(scalars='diffFluxU_y', stitle='Diffusion Flux Y [g/(cm^2 s)]', cmap='plasma', notebook=True)"
   ]
  },
  {
   "cell_type": "code",
   "execution_count": null,
   "metadata": {
    "cell_style": "center"
   },
   "outputs": [],
   "source": [
    "'''Show FEM Solution'''\n",
    "\n",
    "import pandas as pd\n",
    "df = pd.read_csv('out-x_x-line_0002.csv')\n",
    "\n",
    "plot_solution(df, title='Dirichlet BC FEM Solution $u_h(x,y=0)$, $q_{h,x}(x,y=0)$', basis_functions_type='Quadratic Lagrange', flux_basis_functions_type='Linear Monomial')"
   ]
  },
  {
   "cell_type": "markdown",
   "metadata": {},
   "source": [
    "#### [Compute Error](#toc)<a id=\"difffluxerror2\"></a>"
   ]
  },
  {
   "cell_type": "code",
   "execution_count": null,
   "metadata": {},
   "outputs": [],
   "source": [
    "'''Error Compared to Exact Dimensionless Solution'''\n",
    "\n",
    "plot_flux_error(df, title='Dimensionless FEM Solution and Error on $y=0$', fem_type='FEM Quadratic Lagrange')"
   ]
  },
  {
   "cell_type": "markdown",
   "metadata": {},
   "source": [
    "## [Energy Postprocessing](#toc)<a id=\"energypostpro\"></a>\n",
    "\n",
    "To compute the [Poisson-Dirichlet energy](#energy) a *Postprocessor* needs to be built. The user-developed class should use the previously computed diffusion flux component. With an eye towards the future use of this application in 2D and 3D, call this new class, `BulkEnergy`."
   ]
  },
  {
   "cell_type": "markdown",
   "metadata": {},
   "source": [
    "### [Code the Energy Postprocessor](#toc)<a id=\"postpro\"></a>\n",
    "\n",
    "1. `cd include`\n",
    "1. `mkdir postprocessors`\n",
    "1. `cd postprocessors`\n",
    "1. Create a `BulkEnergy.h` class interface as folows:\n",
    " + Use the `ScalarVariableIntegralPostprocessor.h` [course template](https://github.com/dpploy/engy-5310/blob/main/moose-app-templates/ScalarVariableIntegralPostprocessor.h) as follows:\n",
    " + `cp *path-to*/moose-app-templates/ScalarVariableIntegralPostprocessor.h .`\n",
    " + `mv ScalarVariableIntegralPostprocessor.h BulkEnergy.h`\n",
    " + Edit the file `BulkEnergy.h` with a text editor by replacing all instances of `ScalarVariableIntegralPostprocessor` with `BulkEnergy`.\n",
    "1. `cd ../..`\n",
    "1. `cd src`\n",
    "1. `mkdir postprocessors`\n",
    "1. `cd postprocessors`\n",
    "1. Create a `BulkEnergy.C` class implementation as follows:\n",
    " + Use the `ScalarVariableIntegralPostprocessor.C` [course template](https://github.com/dpploy/engy-5310/blob/main/moose-app-templates/ScalarVariableIntegralPostprocessor.C) as follows.\n",
    " + `cp *path-to*/moose-app-templates/ScalarVariableIntegralPostprocessor.C .`\n",
    " + `mv ScalarVariableIntegralPostprocessor.C BulkEnergy.C`\n",
    " + Edit the file `BulkEnergy.C` with a text editor by replacing all instances of `ScalarVariableIntegralPostprocessor` with `BulkEnergy`.\n",
    " + You will need to program the *computeValue()* method. See the example below for the input file *Postprocessor* block and the parameters needed. <span style=\"color:red\">This portion of the implementation is convered in class.</span>"
   ]
  },
  {
   "cell_type": "markdown",
   "metadata": {},
   "source": [
    "### [Compile and Link Application](#toc)<a id=\"compilelink2\"></a>\n",
    "\n",
    "1. Make sure you are in the problem project directory:\n",
    " + `pwd`\n",
    "1. You should see: `..../engy5310p1`\n",
    "1. Compile and link the application\n",
    " + `make`\n",
    "1. If all is sucessfull you should see among other things in the screen output:\n",
    " + Linking Library `.../engy5310p1/lib/libengy5310p1-opt.la...`\n",
    " + Linking Executable `.../engy5310p1/engy5310p1-opt...`"
   ]
  },
  {
   "cell_type": "markdown",
   "metadata": {},
   "source": [
    "### [Input File](#toc)<a id=\"energyinput\"></a>\n",
    "\n",
    "A new *Postprocessors* block should be created; an example follows:\n",
    "\n",
    "```\n",
    "[Postprocessors]\n",
    "  [bulk-energy]\n",
    "    type = BulkEnergy                                    # user-defined\n",
    "    execute_on = 'timestep_end final'\n",
    "    variable = 'u'     # bulk energy unknown variable    # user-defined \n",
    "    diffCoeff = ${replace diff_coeff}                    # user-defined\n",
    "    sourceS = ${replace source_s}                        # user-defined\n",
    "  []\n",
    "[]\n",
    "```"
   ]
  },
  {
   "cell_type": "markdown",
   "metadata": {},
   "source": [
    "### [Run Application](#toc)<a id=\"runenergy\"></a>\n",
    "\n",
    "Using an updated input file (see below) run the application as follows:\n",
    "1. In the `engy5310p1/` directory run the application with the Linux shell command:\n",
    " + `./engy5310p1-opt -i input.hit`\n",
    "2. Compare your results with this notebook results below.\n",
    "3. Return here to follow instructions on how to implement the calculation of the total energy."
   ]
  },
  {
   "cell_type": "markdown",
   "metadata": {},
   "source": [
    "### [Energy Results](#toc)<a id=\"energyresults\"></a>"
   ]
  },
  {
   "cell_type": "code",
   "execution_count": null,
   "metadata": {
    "code_folding": [
     13
    ]
   },
   "outputs": [],
   "source": [
    "'''FEM Solution'''\n",
    "\n",
    "n_felem_x = 1\n",
    "n_felem_y = 1\n",
    "\n",
    "order = 'second'\n",
    "\n",
    "n_plot_pts_x = 2*n_felem_x + 1\n",
    "n_plot_pts_x = 20\n",
    "n_plot_pts_y = 2*n_felem_y + 1\n",
    "\n",
    "from engy_5310.toolkit import write_engy5310_p1_2d_input_file\n",
    "\n",
    "write_engy5310_p1_2d_input_file(x_left=x_left, x_right=x_right, y_bottom=y_bottom, y_top=y_top, \n",
    "                                u_left=u_left, u_right=u_right, \n",
    "                                diff_coeff=diff_coeff, source_s=source_s, n_felem_x=n_felem_x, n_felem_y=n_felem_y, \n",
    "                                order=order, \n",
    "                                n_plot_pts_x=n_plot_pts_x, n_plot_pts_y=n_plot_pts_y, \n",
    "                                compute_energy=True)"
   ]
  },
  {
   "cell_type": "code",
   "execution_count": null,
   "metadata": {
    "scrolled": true
   },
   "outputs": [],
   "source": [
    "'''Display MOOSE input file created'''\n",
    "\n",
    "!cat engy5310p1/input.hit"
   ]
  },
  {
   "cell_type": "code",
   "execution_count": null,
   "metadata": {
    "scrolled": true
   },
   "outputs": [],
   "source": [
    "'''Run Engy5310P1 MOOSE App'''\n",
    "\n",
    "!engy5310p1/engy5310p1-opt -i engy5310p1/input.hit"
   ]
  },
  {
   "cell_type": "markdown",
   "metadata": {},
   "source": [
    "#### [Compute Error](#toc)<a id=\"energyerror\"></a>"
   ]
  },
  {
   "cell_type": "code",
   "execution_count": null,
   "metadata": {},
   "outputs": [],
   "source": [
    "import pandas as pd\n",
    "df = pd.read_csv('out_energy.csv')\n",
    "\n",
    "fem_energy = df['bulk-energy'][0]\n",
    "\n",
    "L = x_right - x_left\n",
    "\n",
    "fem_energy_hat = fem_energy/(y_top-y_bottom)/source_s**2/L**3\n",
    "print('FEM energy   [] = %10.6e'%(fem_energy_hat))\n",
    "\n",
    "from engy_5310.toolkit import engy5310_p1_exact_solution\n",
    "\n",
    "(_, _, energy_hat) = engy5310_p1_exact_solution(x_left, x_right, u_left, u_right, diff_coeff, source_s)\n",
    "\n",
    "print('Exact energy [] = %10.6e'%(energy_hat))\n",
    "\n",
    "print('Energy rel. error [%%] = %10.3e'%((fem_energy_hat-energy_hat)/energy_hat*100))"
   ]
  },
  {
   "cell_type": "markdown",
   "metadata": {},
   "source": [
    "## [Application Tree](#toc)<a id=\"tree\"></a>\n",
    "\n",
    "This tree printout helps the understanding of various pieces of the `MOOSE` application repository created after all the above steps including future implementations in the notebooks following the present one that cover various boundary conditions."
   ]
  },
  {
   "cell_type": "code",
   "execution_count": null,
   "metadata": {},
   "outputs": [],
   "source": [
    "!tree engy5310p1"
   ]
  },
  {
   "cell_type": "code",
   "execution_count": null,
   "metadata": {},
   "outputs": [],
   "source": []
  }
 ],
 "metadata": {
  "kernelspec": {
   "display_name": "Python 3 (ipykernel)",
   "language": "python",
   "name": "python3"
  },
  "language_info": {
   "codemirror_mode": {
    "name": "ipython",
    "version": 3
   },
   "file_extension": ".py",
   "mimetype": "text/x-python",
   "name": "python",
   "nbconvert_exporter": "python",
   "pygments_lexer": "ipython3",
   "version": "3.9.9"
  },
  "latex_envs": {
   "LaTeX_envs_menu_present": true,
   "autoclose": false,
   "autocomplete": true,
   "bibliofile": "biblio.bib",
   "cite_by": "apalike",
   "current_citInitial": 1,
   "eqLabelWithNumbers": true,
   "eqNumInitial": 1,
   "hotkeys": {
    "equation": "Ctrl-E",
    "itemize": "Ctrl-I"
   },
   "labels_anchors": false,
   "latex_user_defs": false,
   "report_style_numbering": false,
   "user_envs_cfg": false
  },
  "toc": {
   "base_numbering": 1,
   "nav_menu": {},
   "number_sections": true,
   "sideBar": true,
   "skip_h1_title": false,
   "title_cell": "Table of Contents",
   "title_sidebar": "Contents",
   "toc_cell": false,
   "toc_position": {
    "height": "calc(100% - 180px)",
    "left": "10px",
    "top": "150px",
    "width": "220.75px"
   },
   "toc_section_display": true,
   "toc_window_display": false
  }
 },
 "nbformat": 4,
 "nbformat_minor": 2
}
