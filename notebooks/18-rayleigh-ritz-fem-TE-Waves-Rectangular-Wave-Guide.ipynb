{
 "cells": [
  {
   "cell_type": "markdown",
   "id": "5ef8c1c1",
   "metadata": {},
   "source": [
    "### TE Waves in a Rectangular Wave Guide \n",
    "\n",
    "What is the TE mode:\n",
    "In the Transverse Electric (TE) mode, the electric field is transverse to the direction of propagation while the magnetic field is normal to the direction of propagation. No electric field in the direction of propagation. These are sometimes called H modes because there is only a magnetic field along the direction of propagation (H is the conventional symbol for magnetic field).\n",
    "\n",
    "Suppose we have a wave guide of rectangular shape, with height a and width b, and we are interested in the propagation of TE waves. The problem is to solve this equation: "
   ]
  },
  {
   "cell_type": "code",
   "execution_count": null,
   "id": "96884ffe",
   "metadata": {},
   "outputs": [],
   "source": []
  }
 ],
 "metadata": {
  "kernelspec": {
   "display_name": "Python 3 (ipykernel)",
   "language": "python",
   "name": "python3"
  },
  "language_info": {
   "codemirror_mode": {
    "name": "ipython",
    "version": 3
   },
   "file_extension": ".py",
   "mimetype": "text/x-python",
   "name": "python",
   "nbconvert_exporter": "python",
   "pygments_lexer": "ipython3",
   "version": "3.9.7"
  },
  "latex_envs": {
   "LaTeX_envs_menu_present": true,
   "autoclose": false,
   "autocomplete": true,
   "bibliofile": "biblio.bib",
   "cite_by": "apalike",
   "current_citInitial": 1,
   "eqLabelWithNumbers": true,
   "eqNumInitial": 1,
   "hotkeys": {
    "equation": "Ctrl-E",
    "itemize": "Ctrl-I"
   },
   "labels_anchors": false,
   "latex_user_defs": false,
   "report_style_numbering": false,
   "user_envs_cfg": false
  }
 },
 "nbformat": 4,
 "nbformat_minor": 5
}
