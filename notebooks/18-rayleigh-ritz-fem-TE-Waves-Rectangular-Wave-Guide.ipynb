{
 "cells": [
  {
   "cell_type": "markdown",
   "id": "5ef8c1c1",
   "metadata": {},
   "source": [
    "### TE Waves in a Rectangular Wave Guide \n",
    "\n",
    "What is the TE mode:\n",
    "In the Transverse Electric (TE) mode, the electric field is transverse to the direction of propagation while the magnetic field is normal to the direction of propagation. No electric field in the direction of propagation. These are sometimes called H modes because there is only a magnetic field along the direction of propagation (H is the conventional symbol for magnetic field).\n",
    "\n",
    "Suppose we have a wave guide of rectangular shape, with height a and width b, and we are interested in the propagation of TE waves. The problem is to solve this equation: \n",
    "\n",
    "$ (\\frac{d^2}{dx^2} + \\frac{d^2}{dy^2})B_z + [(\\frac{w}{c})^2 - k^2]B_z = 0$,"
   ]
  },
  {
   "cell_type": "markdown",
   "id": "0055449c",
   "metadata": {},
   "source": [
    "We’ll do it by separation of variables. Let\n",
    "\n",
    "$ B_z(x, y) = X(x)*Y(y) $\n",
    "\n",
    "so that\n",
    "\n",
    "$ Y \\frac{d^2X}{dx^2} + X \\frac{d^2Y}{dy^2} + [(\\frac{w}{c})^2 - k^2] XY = 0  $\n",
    "\n",
    "Divide by XY , and note that the x- and y-dependent terms must be constants:\n",
    "\n",
    "$ \\quad\\quad\\quad \\frac{1}{X} \\frac{d^2X}{dx^2} = -k^2_x $\n",
    "\n",
    "$ \\quad\\quad\\quad \\frac{1}{Y} \\frac{d^2Y}{dy^2} = -k^2_y $\n",
    "\n",
    "with:\n",
    "\n",
    "$  -k^2_x -k^2_y + (\\frac{w}{c})^2 - k^2 = 0   $\n",
    "\n",
    "The general solution is:\n",
    "\n",
    "$ X(x) = A sin (k_x x) + B cos(k_x x) $\n",
    "\n",
    "But the boundary conditions is $B_⊥ = 0$ that require $B_x$ and hence $\\frac{dB}{dx}$ also $\\frac{dX}{dx}$ vanishes at $x = 0$ and $x = a$. So A = 0, and:\n",
    "\n",
    "$ \\quad\\quad   k_x = \\frac{mπ}{a},  \\quad\\quad (m = 0, 1, 2, . . . )$\n",
    "\n",
    "The same goes for Y , with:\n",
    " \n",
    "$ \\quad\\quad   k_y = \\frac{nπ}{b},  \\quad\\quad (n = 0, 1, 2, . . . )$\n",
    "\n",
    "and we conclude that;\n",
    "\n",
    "$ B_z = B_0 cos(\\frac{mπ}{a}) cos(\\frac{nπ}{b})  $\n",
    "\n"
   ]
  },
  {
   "cell_type": "markdown",
   "id": "47e2af30",
   "metadata": {},
   "source": [
    "This solution is called the $TE_{mn}$ mode. (The first index is conventionally associated with the larger dimension, so we assume a ≥ b. By the way, at least one of the indices must be nonzero. The wave number (k) is obtained:\n",
    "\n",
    "$ k = \\sqrt{(\\frac{w}{c})^2 − \\pi^2[(\\frac{m}{a})^2 + (\\frac{n}{b})^2]  } $\n",
    "\n",
    "we call cutoff frequency $ w_{mn} $ :\n",
    "\n",
    "$ w_{mn} = c\\pi\\sqrt{[(\\frac{m}{a})^2 + (\\frac{n}{b})^2]  } $\n"
   ]
  },
  {
   "cell_type": "markdown",
   "id": "466eef0a",
   "metadata": {},
   "source": [
    "The lowest cutoff frequency for a given wave guide occurs for the mode $TE_{10}$:\n",
    "\n",
    "$\\quad\\quad\\quad\\quad ω_{10} = \\frac{cπ}{a}$\n",
    "\n",
    "Frequencies less than this will not propagate at all.\n",
    "The wave number can be written more simply in terms of the cutoff frequency:\n",
    "\n",
    "$ \\quad\\quad  k = \\frac{1}{c} \\sqrt{ w^2 − w_{mn}^2 } $\n",
    "\n",
    "And the wave velocity is:\n",
    "\n",
    "$  \\quad\\quad      v= \\frac{w}{k} =  \\frac{c}{ \\sqrt{1 − (\\frac{w_{mn}} { w^2} )^2 }  }    $\n"
   ]
  },
  {
   "cell_type": "code",
   "execution_count": null,
   "id": "6ec890b9",
   "metadata": {},
   "outputs": [],
   "source": []
  }
 ],
 "metadata": {
  "kernelspec": {
   "display_name": "Python 3 (ipykernel)",
   "language": "python",
   "name": "python3"
  },
  "language_info": {
   "codemirror_mode": {
    "name": "ipython",
    "version": 3
   },
   "file_extension": ".py",
   "mimetype": "text/x-python",
   "name": "python",
   "nbconvert_exporter": "python",
   "pygments_lexer": "ipython3",
   "version": "3.9.7"
  },
  "latex_envs": {
   "LaTeX_envs_menu_present": true,
   "autoclose": false,
   "autocomplete": true,
   "bibliofile": "biblio.bib",
   "cite_by": "apalike",
   "current_citInitial": 1,
   "eqLabelWithNumbers": true,
   "eqNumInitial": 1,
   "hotkeys": {
    "equation": "Ctrl-E",
    "itemize": "Ctrl-I"
   },
   "labels_anchors": false,
   "latex_user_defs": false,
   "report_style_numbering": false,
   "user_envs_cfg": false
  }
 },
 "nbformat": 4,
 "nbformat_minor": 5
}
