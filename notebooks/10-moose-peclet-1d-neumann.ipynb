{
 "cells": [
  {
   "cell_type": "markdown",
   "metadata": {},
   "source": [
    "ChEn-5310: Computational Continuum Transport Phenomena Spring 2021 UMass Lowell; Prof. V. F. de Almeida **13May21**\n",
    "\n",
    "# 10. Peclet 1D with Neumann Boundary Conditions\n",
    "$  \n",
    "  \\newcommand{\\Amtrx}{\\boldsymbol{\\mathsf{A}}}\n",
    "  \\newcommand{\\Bmtrx}{\\boldsymbol{\\mathsf{B}}}\n",
    "  \\newcommand{\\Mmtrx}{\\boldsymbol{\\mathsf{M}}}\n",
    "  \\newcommand{\\Imtrx}{\\boldsymbol{\\mathsf{I}}}\n",
    "  \\newcommand{\\Pmtrx}{\\boldsymbol{\\mathsf{P}}}\n",
    "  \\newcommand{\\Lmtrx}{\\boldsymbol{\\mathsf{L}}}\n",
    "  \\newcommand{\\Umtrx}{\\boldsymbol{\\mathsf{U}}}\n",
    "  \\newcommand{\\Smtrx}{\\boldsymbol{\\mathsf{S}}}\n",
    "  \\newcommand{\\xvec}{\\boldsymbol{\\mathsf{x}}}\n",
    "  \\newcommand{\\avec}{\\boldsymbol{\\mathsf{a}}}\n",
    "  \\newcommand{\\bvec}{\\boldsymbol{\\mathsf{b}}}\n",
    "  \\newcommand{\\cvec}{\\boldsymbol{\\mathsf{c}}}\n",
    "  \\newcommand{\\rvec}{\\boldsymbol{\\mathsf{r}}}\n",
    "  \\newcommand{\\fvec}{\\boldsymbol{\\mathsf{f}}}\n",
    "  \\newcommand{\\mvec}{\\boldsymbol{\\mathsf{m}}}\n",
    "  \\newcommand{\\gvec}{\\boldsymbol{\\mathsf{g}}}\n",
    "  \\newcommand{\\zerovec}{\\boldsymbol{\\mathsf{0}}}\n",
    "  \\newcommand{\\norm}[1]{\\bigl\\lVert{#1}\\bigr\\rVert}\n",
    "  \\newcommand{\\transpose}[1]{{#1}^\\top}\n",
    "  \\DeclareMathOperator{\\rank}{rank}\n",
    "  \\newcommand{\\Reals}{\\mathbb{R}}\n",
    "  \\newcommand{\\thetavec}{\\boldsymbol{\\theta}}\n",
    "$"
   ]
  },
  {
   "cell_type": "markdown",
   "metadata": {},
   "source": [
    "---\n",
    "\n",
    "## Table of Contents<a id=\"toc\"></a>\n",
    "* [Objectives](#obj)\n",
    "1. [Plotting Functions](#plotting)\n",
    "<br><br>\n",
    "1. [Problem Statement](#problem)\n",
    " + [Strong Form](#dbcstrong)\n",
    " + [Variational Form](#dbcweak)\n",
    " + [Poisson-Dirichlet Energy](#energy)\n",
    "<br><br>\n",
    "1. [Problem Solution](#solution)\n",
    "<br><br>   \n",
    "1. [Linear Lagrange FEM Results](#dbclinearfemresults)\n",
    " + [Compute Error](#linearerror)\n",
    "<br><br>    \n",
    "1. [Quadratic Lagrange FEM Results](#dbcquadfemresults)\n",
    " + [Compute Error](#quaderror)\n",
    "<br><br>    \n",
    "1. [High Peclet Number](#highpe)\n",
    " + [Quadratic Lagrange FEM Results](#highperesults1)\n",
    "    - [Compute Error](#highperesults1error)\n",
    " + [Quadratic Lagrange FEM Results](#highperesults2)\n",
    "    - [Compute Error](#highperesults2error)\n",
    "<br><br>   \n",
    "1. [Application Tree](#tree)\n",
    "---"
   ]
  },
  {
   "cell_type": "markdown",
   "metadata": {},
   "source": [
    "## [Objectives](#toc)<a id=\"obj\"></a>\n",
    "\n",
    "+ Use a Neumann boundary condition in conjuction with the Peclet problem; all past notebooks must be thoroughly reviewed in particular the notebooks solving the Peclet-Dirichlet problem and the Poisson-Neumann problem.\n",
    "+ Introduce the Galerkin weak form of the Peclet 1D problem below.\n",
    "+ <span style=\"color:red\">Some initial code is provided in the course repository but no full source code is given out. A significant effort in programing is often necessary to learn the subject well. However the material in this course is helpful with this task. Hands-on work during lectures will try to fill in existing gap. The steps in this notebook are necessary for a basic understanding of the subject.</span> \n",
    "+ The reader is supposed to consult the [`MOOSE source documentation`](https://mooseframework.inl.gov/source/index.html) to fill in gaps in reproducing the steps below.</span>"
   ]
  },
  {
   "cell_type": "markdown",
   "metadata": {},
   "source": [
    "## [Plotting Functions](#toc)<a id=\"plotting\"></a>\n",
    "\n",
    "This is an auxiliary section for holding plotting functions used later."
   ]
  },
  {
   "cell_type": "code",
   "execution_count": 1,
   "metadata": {
    "code_folding": [
     2
    ]
   },
   "outputs": [],
   "source": [
    "'''Plot function for FEM Solution'''\n",
    "\n",
    "def plot_solution(df, \n",
    "                  title='No Title', \n",
    "                  basis_functions_type='No basis functions type',\n",
    "                  flux_basis_functions_type='No basis functions type'):\n",
    "    \n",
    "    import matplotlib.pyplot as plt\n",
    "    %matplotlib inline\n",
    "    plt.style.use('dark_background')\n",
    "\n",
    "    (fig, ax1) = plt.subplots(1, figsize=(14, 5))\n",
    "\n",
    "    ax1.plot(df['x'], df['u'],'r*-',label=basis_functions_type)\n",
    "\n",
    "    ax1.set_xlabel(r'$x$ [cm]', fontsize=18)\n",
    "    ax1.set_ylabel(r'$u_h(x)$ [g/cc]', fontsize=18, color='red')\n",
    "    ax1.tick_params(axis='y', labelcolor='red', labelsize=14)\n",
    "    ax1.tick_params(axis='x', labelsize=14)\n",
    "    ax1.legend(loc='center left', fontsize=12)\n",
    "    #ax1.set_ylim(0,1)\n",
    "    ax1.grid(True)\n",
    "\n",
    "    if 'diffFluxU_x' in df.columns:\n",
    "        # create a twin x axis to be shared\n",
    "        ax2 = ax1.twinx()\n",
    "\n",
    "        ax2.plot(df['x'], df['diffFluxU_x'],'*-', color='yellow', label=flux_basis_functions_type)\n",
    "\n",
    "        ax2.set_ylabel(r\"$q_h(x)$ [g/cm$^2$-s]\", fontsize=16, color='yellow')\n",
    "        ax2.tick_params(axis='y', labelcolor='yellow', labelsize=14)\n",
    "        ax2.legend(loc='center right', fontsize=12)\n",
    "        #ax2.set_ylim(0,2)\n",
    "        #ax2.grid(True)\n",
    "\n",
    "    plt.title(title, fontsize=20)\n",
    "    fig.tight_layout()  # otherwise the right y-label is slightly clipped\n",
    "    plt.show()\n",
    "    print('')"
   ]
  },
  {
   "cell_type": "markdown",
   "metadata": {},
   "source": [
    "## [Problem Statement](#toc)<a id=\"problem\"></a>\n",
    "\n",
    "The following sections describe what is referred in the literature as the one-dimensional Peclet problem with Dirichlet boundary conditions."
   ]
  },
  {
   "cell_type": "markdown",
   "metadata": {},
   "source": [
    "### [Strong Form of Problem Statement](#toc)<a id=\"dbcstrong\"></a>\n",
    "\n",
    "Solve the Poisson model problem. Find $u:[a,b]\\subset\\Reals\\rightarrow\\Reals$ for $D > 0$ such that:\n",
    "\n",
    "\\begin{align*}\n",
    "  v\\, u' &= -\\bigl(-D\\, u'\\bigr)'(x) + S \\quad \\forall \\quad x\\in [a,b], \\\\\n",
    " u(a) &= A, \\\\\n",
    " q_n(b) &= q_{nb}.\n",
    "\\end{align*}\n",
    "   \n",
    "This problem has an analytical solution and you should obtain it for the constants: diffusion coefficient, $D$, source, $S$, entry concentration, $A$, exit normal flux, $q_{nb}$, and speed $v$. The *diffusion flux* associated to the quantity $u$, is denoted $q := -D\\,u'$, and it is often of interest as a derived quantity. Here a point-wise *convective sink (or sweep)* is given by $v\\,u'$. This term introduces an important feature in the problem which is measured by the \n",
    "\n",
    "  + Peclet number: $\\frac{v\\,L}{D}$. \n",
    "\n",
    "If this value is much greater than unity, the convection term dominates diffusion and a strong sweep of the dependent variable in the direction of the velocity $v$ leads to a one-sided transmission of information (this is referred to as a hyperbolic character; or wave-like property). As it will be seen, this can lead to sharp gradients of $u$ near boundaries which challenges numerical methods.\n",
    "\n",
    "Likewise in the Poisson-Neumann 1-D problem (Notebook 07), a mix of Dirichlet boundary condition on the entry point, and a normal flux boundary condition on the exit point, are applied. "
   ]
  },
  {
   "cell_type": "markdown",
   "metadata": {},
   "source": [
    "### [Weak Form of Problem Statement](#toc)<a id=\"dbcweak\"></a>\n",
    "\n",
    "The Galerkin weak formulation is as follows. Find $u \\in H^1\\!\\bigl([a,b]\\bigr)$ so that \n",
    "\n",
    "\\begin{align*}\n",
    " \\int\\limits_a^b v\\, u'(x)\\, w(x)\\,dx + \\int\\limits_a^b D\\, u'(x)\\,w'(x)\\,dx + q_n(b)\\,v(b) - \\int\\limits_a^b S\\,w(x)\\,dx &= 0 \\quad \\forall \\quad v \\in H^1_0\\!\\bigl([a,b]\\bigr), \n",
    "\\end{align*}\n",
    "\n",
    "where $H^1\\!\\bigl([a,b]\\bigr) := \\bigl\\{ u:[a,b]\\subset\\Reals\\rightarrow \\Reals \\mid \\int_a^b u'^2\\,dx < \\infty\\bigr\\}$ and $H^1_0\\!\\bigl([a,b]\\bigr) := \\bigl\\{ w \\mid w \\in H^1(a,b), w(a) = 0, w(b) =0 \\bigr\\}$. Both function sets as just defined are Hilbert spaces. The function $w$ is called a test function. Because $w$ and $u$ are sought in very similar sets of functions, this variational form is called Galerkin's variational form.\n",
    "\n",
    "All terms have been previously implemented on the Poisson-Dirichlet and Peclet-Dirichlet problems. The `MOOSE` application is essentially ready to be used."
   ]
  },
  {
   "cell_type": "markdown",
   "metadata": {},
   "source": [
    "### [Poisson-Dirichlet Energy](#toc)<a id=\"energy\"></a>\n",
    "\n",
    "The **Poisson-Dirichlet total energy**:\n",
    "\n",
    "\\begin{align*}\n",
    " \\Phi[u] := \\int\\limits_a^b \\,\\frac{1}{2}\\bigl(q(x)\\bigr)^2 - D\\,S\\,u(x) \\,dx + D\\,q_n(b)\\,u(b).\n",
    "\\end{align*}\n",
    "\n",
    "is no longer of interest because the solution of the strong form is not a minimum of this functional and there is no extension of this energy to the Peclet problem. That is to say, the Peclet problem is not the Euler-Lagrange problem of any energy minimization. Although this functional can be computed as an exercise, it does not have a relationship with the weak form."
   ]
  },
  {
   "cell_type": "markdown",
   "metadata": {},
   "source": [
    "## [Problem Solution](#toc)<a id=\"solution\"></a>\n",
    "\n",
    "We will leverage the Peclet-Dirichlet 1D development (Notebook 09) and the Poisson-Neumann 1D development (notebook 07) to solve the problem at hand. Therefore there is no new implementation to be done."
   ]
  },
  {
   "cell_type": "markdown",
   "metadata": {},
   "source": [
    "## [Linear Lagrange FEM](#toc)<a id=\"dbclinearfemresults\"></a>\n",
    "\n",
    "Solve problem with parameter values:\n",
    "\n",
    "> + a = 0 cm\n",
    "> + b = 25 cm\n",
    "> + A = 3 g/cc\n",
    "> + qn_b = 0 g/cm^2-s  (the bias parameter)\n",
    "> + D = 0.1 cm^2/s\n",
    "> + S = 1e-3 g/cc-s\n",
    "> + Pe = 1\n",
    "\n",
    "FEM parameters:\n",
    "\n",
    "> + Basis Functions: First Order Lagrangian\n",
    "> + num. of finite elements: 10"
   ]
  },
  {
   "cell_type": "code",
   "execution_count": 2,
   "metadata": {},
   "outputs": [],
   "source": [
    "'''Domain'''\n",
    "\n",
    "x_a = 0\n",
    "x_b = 25\n",
    "\n",
    "x_length = x_b - x_a"
   ]
  },
  {
   "cell_type": "code",
   "execution_count": 3,
   "metadata": {},
   "outputs": [],
   "source": [
    "'''Parameters'''\n",
    "\n",
    "Pe = 1 # mildly convective dominated\n",
    "\n",
    "diff_coeff = 0.1\n",
    "source_s = 5e-2\n",
    "\n",
    "velocity = (Pe * diff_coeff/x_length, 0, 0)  # length scale is the x length"
   ]
  },
  {
   "cell_type": "code",
   "execution_count": 3,
   "metadata": {},
   "outputs": [],
   "source": [
    "'''Data (boundary conditions)'''\n",
    "\n",
    "u_a = 3 # Dirichlet\n",
    "qn_b = 0 # no flux on the exit point"
   ]
  },
  {
   "cell_type": "code",
   "execution_count": 4,
   "metadata": {},
   "outputs": [],
   "source": [
    "'''FEM Solution'''\n",
    "\n",
    "n_felem = 10\n",
    "\n",
    "order = 'first'\n",
    "\n",
    "n_plot_pts = n_felem + 1\n",
    "n_plot_pts *=2\n",
    "\n",
    "try:    \n",
    "    from engy_5310.toolkit import write_engy5310_p1_1d_input_file  \n",
    "except ModuleNotFoundError:\n",
    "    assert False, 'You need to provide your own code here. Bailing out.'\n",
    "\n",
    "write_engy5310_p1_1d_input_file(x_left=x_a, x_right=x_b, u_left=u_a, qn_bias_right=qn_b,\n",
    "                                diff_coeff=diff_coeff, source_s=source_s, velocity=velocity, \n",
    "                                n_felem=n_felem,\n",
    "                                order=order, \n",
    "                                n_plot_pts=n_plot_pts,\n",
    "                                compute_diffusion_flux=True)"
   ]
  },
  {
   "cell_type": "code",
   "execution_count": 5,
   "metadata": {
    "scrolled": true
   },
   "outputs": [
    {
     "name": "stdout",
     "output_type": "stream",
     "text": [
      "# Engy-5310 Problem 1: Poisson 1D FEM\r\n",
      "# UMass Lowell Nuclear Chemical Engineering\r\n",
      "# Prof. Valmor F. de Almeida\r\n",
      "# 18Apr21 18:44:32\r\n",
      "\r\n",
      "# Parameters\r\n",
      "xmin = 0.00000e+00\r\n",
      "xmax = 2.50000e+01\r\n",
      "diff_coeff = 1.00000e-01\r\n",
      "source_s = 5.00000e-02\r\n",
      "velocity = '4.00000e-03 0.00000e+00 0.00000e+00'\r\n",
      "qn_bias_right = 0.00000e+00\r\n",
      "\r\n",
      "[Problem]\r\n",
      "  type = FEProblem\r\n",
      "  coord_type = XYZ\r\n",
      "[]\r\n",
      "\r\n",
      "[Mesh]\r\n",
      "  [1d]\r\n",
      "    type = GeneratedMeshGenerator\r\n",
      "    dim = 1\r\n",
      "    xmin = ${replace xmin}\r\n",
      "    xmax = ${replace xmax}\r\n",
      "    nx = 10\r\n",
      "  []\r\n",
      "[]\r\n",
      "\r\n",
      "[Variables]\r\n",
      "  [u]\r\n",
      "    order = first\r\n",
      "    family = lagrange\r\n",
      "  []\r\n",
      "[]\r\n",
      "\r\n",
      "[AuxVariables]\r\n",
      "  [diffFluxU]\r\n",
      "    order = CONSTANT\r\n",
      "    family = MONOMIAL_VEC\r\n",
      "  []\r\n",
      "  [diffFluxU_x]\r\n",
      "    order = CONSTANT\r\n",
      "    family = MONOMIAL\r\n",
      "  []\r\n",
      "[]\r\n",
      "\r\n",
      "[Kernels]\r\n",
      "  [diffusion-term]\r\n",
      "    type = DiffusionTerm\r\n",
      "    variable = u     # produced quantity\r\n",
      "    diffCoeff = ${replace diff_coeff}\r\n",
      "  []\r\n",
      "  [source-term]\r\n",
      "    type = SourceTerm\r\n",
      "    variable = u     # add to produced quantity\r\n",
      "    sourceS = ${replace source_s}\r\n",
      "  []\r\n",
      "  [convection-term]\r\n",
      "    type = ConvectionTerm\r\n",
      "    variable = u     # produced quantity\r\n",
      "    velocity = ${replace velocity}\r\n",
      "  []\r\n",
      "[]\r\n",
      "\r\n",
      "[AuxKernels]\r\n",
      "  [diffusion-flux]\r\n",
      "    execute_on = timestep_end\r\n",
      "    type = DiffusionFlux\r\n",
      "    field = u\r\n",
      "    diffCoeff = ${replace diff_coeff}\r\n",
      "    variable = diffFluxU     # produced quantity\r\n",
      "  []\r\n",
      "  [diffusion-flux-x]\r\n",
      "    execute_on = timestep_end\r\n",
      "    type = VectorVariableComponentAux\r\n",
      "    variable = diffFluxU_x    # produced quantity\r\n",
      "    component = x\r\n",
      "    vector_variable = diffFluxU   \r\n",
      "  []\r\n",
      "[]\r\n",
      "\r\n",
      "[BCs]\r\n",
      "  [entry]\r\n",
      "    type = DirichletBC\r\n",
      "    variable = u\r\n",
      "    boundary = left\r\n",
      "    value = 3.00000e+00\r\n",
      "  []\r\n",
      "  [exit]\r\n",
      "    type = NormalFluxBC\r\n",
      "    variable = u\r\n",
      "    boundary = right\r\n",
      "    bias = ${replace qn_bias_right}\r\n",
      "  []\r\n",
      "[]\r\n",
      "\r\n",
      "[Executioner]\r\n",
      "  type = Steady\r\n",
      "  solve_type = 'PJFNK'\r\n",
      "  petsc_options_iname = '-pc_type -pc_hypre_type'\r\n",
      "  petsc_options_value = 'hypre boomeramg'\r\n",
      "[]\r\n",
      "\r\n",
      "[VectorPostprocessors]\r\n",
      "  [x-data]\r\n",
      "    type = LineValueSampler\r\n",
      "    execute_on = 'timestep_end final'\r\n",
      "    variable = 'u diffFluxU_x'    # output data\r\n",
      "    start_point = '${replace xmin} 0 0'\r\n",
      "    end_point = '${replace xmax} 0 0'\r\n",
      "    num_points = 22\r\n",
      "    sort_by = id\r\n",
      "  []\r\n",
      "[]\r\n",
      "\r\n",
      "[Outputs]\r\n",
      "  console = true\r\n",
      "  [file-x-data]\r\n",
      "    type = CSV\r\n",
      "    file_base = 'output'\r\n",
      "    execute_on = 'final'\r\n",
      "    show = 'x-data'\r\n",
      "  []\r\n",
      "[]\r\n"
     ]
    }
   ],
   "source": [
    "'''Display MOOSE input file created'''\n",
    "\n",
    "!cat engy5310p1/input.hit"
   ]
  },
  {
   "cell_type": "code",
   "execution_count": 6,
   "metadata": {
    "scrolled": true
   },
   "outputs": [
    {
     "name": "stdout",
     "output_type": "stream",
     "text": [
      "\n",
      "\n",
      "Framework Information:\n",
      "MOOSE Version:           git commit 52562be492 on 2021-04-09\n",
      "LibMesh Version:         27141d18f3137f77e33cdb3d565fd38ebfbfc46f\n",
      "PETSc Version:           3.15.0\n",
      "SLEPc Version:           3.14.2\n",
      "Current Time:            Sun Apr 18 18:44:32 2021\n",
      "Executable Timestamp:    Sat Apr 17 21:27:24 2021\n",
      "\n",
      "Parallelism:\n",
      "  Num Processors:          1\n",
      "  Num Threads:             1\n",
      "\n",
      "Mesh: \n",
      "  Parallel Type:           replicated\n",
      "  Mesh Dimension:          1\n",
      "  Spatial Dimension:       1\n",
      "  Nodes:                   \n",
      "    Total:                 11\n",
      "    Local:                 11\n",
      "  Elems:                   \n",
      "    Total:                 10\n",
      "    Local:                 10\n",
      "  Num Subdomains:          1\n",
      "  Num Partitions:          1\n",
      "\n",
      "Nonlinear System:\n",
      "  Num DOFs:                11\n",
      "  Num Local DOFs:          11\n",
      "  Variables:               \"u\" \n",
      "  Finite Element Types:    \"LAGRANGE\" \n",
      "  Approximation Orders:    \"FIRST\" \n",
      "\n",
      "Auxiliary System:\n",
      "  Num DOFs:                20\n",
      "  Num Local DOFs:          20\n",
      "  Variables:               \"diffFluxU\" \"diffFluxU_x\" \n",
      "  Finite Element Types:    \"MONOMIAL_VEC\" \"MONOMIAL\" \n",
      "  Approximation Orders:    \"CONSTANT\" \"CONSTANT\" \n",
      "\n",
      "Execution Information:\n",
      "  Executioner:             Steady\n",
      "  Solver Mode:             Preconditioned JFNK\n",
      "  PETSc Preconditioner:    hypre boomeramg \n",
      "\n",
      " 0 Nonlinear |R| = \u001b[32m4.380722e-01\u001b[39m\n",
      "      0 Linear |R| = \u001b[32m4.380722e-01\u001b[39m\n",
      "      1 Linear |R| = \u001b[32m5.690453e-07\u001b[39m\n",
      " 1 Nonlinear |R| = \u001b[32m8.949990e-08\u001b[39m\n",
      "      0 Linear |R| = \u001b[32m8.949990e-08\u001b[39m\n",
      "      1 Linear |R| = \u001b[32m5.627903e-13\u001b[39m\n",
      " 2 Nonlinear |R| = \u001b[32m3.627679e-14\u001b[39m\n",
      "\u001b[32m Solve Converged!\u001b[39m\n",
      "WARNING! There are options you set that were not used!\n",
      "WARNING! could be spelling mistake, etc!\n",
      "There is one unused database option. It is:\n",
      "Option left: name:-i value: engy5310p1/input.hit\n"
     ]
    }
   ],
   "source": [
    "'''Run Engy5310P1 MOOSE App'''\n",
    "\n",
    "!engy5310p1/engy5310p1-opt -i engy5310p1/input.hit"
   ]
  },
  {
   "cell_type": "code",
   "execution_count": 7,
   "metadata": {
    "code_folding": [
     2
    ]
   },
   "outputs": [
    {
     "data": {
      "image/png": "[encoded data removed]",
      "text/plain": [
       "<Figure size 1008x360 with 2 Axes>"
      ]
     },
     "metadata": {},
     "output_type": "display_data"
    },
    {
     "name": "stdout",
     "output_type": "stream",
     "text": [
      "\n"
     ]
    }
   ],
   "source": [
    "'''Show FEM Solution'''\n",
    "\n",
    "import pandas as pd\n",
    "df = pd.read_csv('output_x-data_0002.csv')\n",
    "    \n",
    "plot_solution(df, title='Dirichlet BC FEM Solution', basis_functions_type='Linear Lagrange', flux_basis_functions_type='Constant Monomial')"
   ]
  },
  {
   "cell_type": "markdown",
   "metadata": {},
   "source": [
    "**Comments:**\n",
    "\n",
    "1. Convection reduces the curvature of the solution as compared with the corresponding Poisson problem."
   ]
  },
  {
   "cell_type": "markdown",
   "metadata": {},
   "source": [
    "### [FEM Error](#toc)<a id=\"linearerror\"></a>"
   ]
  },
  {
   "cell_type": "code",
   "execution_count": 8,
   "metadata": {},
   "outputs": [
    {
     "data": {
      "text/plain": [
       "'coming...'"
      ]
     },
     "execution_count": 8,
     "metadata": {},
     "output_type": "execute_result"
    }
   ],
   "source": [
    "'''Error Compared to Exact Dimensionless Solution'''\n",
    "\n",
    "'''coming...'''"
   ]
  },
  {
   "cell_type": "markdown",
   "metadata": {},
   "source": [
    "**Comments:**\n",
    "\n",
    "1. TBA\n",
    "1. TBA"
   ]
  },
  {
   "cell_type": "markdown",
   "metadata": {},
   "source": [
    "## [Quadratic Lagrange FEM](#toc)<a id=\"dbcquadfemresults\"></a>\n",
    "\n",
    "Solve problem with parameter values:\n",
    "\n",
    "> + a = 0 cm\n",
    "> + b = 25 cm\n",
    "> + A = 3 g/cc\n",
    "> + qn_b = 0 g/cm^2-s  (the bias parameter)\n",
    "> + D = 0.1 cm^2/s\n",
    "> + S = 1e-3 g/cc-s\n",
    "> + Pe = 10\n",
    "\n",
    "FEM parameters:\n",
    "\n",
    "> + Basis Functions: Second Order Lagrangian\n",
    "> + num. of finite elements: 10"
   ]
  },
  {
   "cell_type": "code",
   "execution_count": 9,
   "metadata": {},
   "outputs": [],
   "source": [
    "'''Parameters'''\n",
    "\n",
    "Pe = 10 # mildly convective dominated\n",
    "\n",
    "velocity = (Pe * diff_coeff/x_length, 0, 0)  # length scale is the x length"
   ]
  },
  {
   "cell_type": "code",
   "execution_count": 10,
   "metadata": {},
   "outputs": [],
   "source": [
    "'''FEM Solution'''\n",
    "\n",
    "n_felem = 10\n",
    "\n",
    "order = 'second'\n",
    "\n",
    "n_plot_pts = 2*n_felem + 1\n",
    "n_plot_pts *=2 \n",
    "\n",
    "try:    \n",
    "    from engy_5310.toolkit import write_engy5310_p1_1d_input_file  \n",
    "except ModuleNotFoundError:\n",
    "    assert False, 'You need to provide your own code here. Bailing out.'\n",
    "\n",
    "write_engy5310_p1_1d_input_file(x_left=x_a, x_right=x_b, u_left=u_a, qn_bias_right=qn_b,\n",
    "                                diff_coeff=diff_coeff, source_s=source_s, velocity=velocity, \n",
    "                                n_felem=n_felem, order=order, \n",
    "                                n_plot_pts=n_plot_pts,\n",
    "                                compute_diffusion_flux=True, use_moose_neumann_bc=True)"
   ]
  },
  {
   "cell_type": "code",
   "execution_count": 11,
   "metadata": {
    "scrolled": true
   },
   "outputs": [
    {
     "name": "stdout",
     "output_type": "stream",
     "text": [
      "# Engy-5310 Problem 1: Poisson 1D FEM\r\n",
      "# UMass Lowell Nuclear Chemical Engineering\r\n",
      "# Prof. Valmor F. de Almeida\r\n",
      "# 18Apr21 18:44:33\r\n",
      "\r\n",
      "# Parameters\r\n",
      "xmin = 0.00000e+00\r\n",
      "xmax = 2.50000e+01\r\n",
      "diff_coeff = 1.00000e-01\r\n",
      "source_s = 5.00000e-02\r\n",
      "velocity = '4.00000e-02 0.00000e+00 0.00000e+00'\r\n",
      "\r\n",
      "[Problem]\r\n",
      "  type = FEProblem\r\n",
      "  coord_type = XYZ\r\n",
      "[]\r\n",
      "\r\n",
      "[Mesh]\r\n",
      "  [1d]\r\n",
      "    type = GeneratedMeshGenerator\r\n",
      "    dim = 1\r\n",
      "    xmin = ${replace xmin}\r\n",
      "    xmax = ${replace xmax}\r\n",
      "    nx = 10\r\n",
      "    elem_type = edge3\r\n",
      "  []\r\n",
      "[]\r\n",
      "\r\n",
      "[Variables]\r\n",
      "  [u]\r\n",
      "    order = second\r\n",
      "    family = lagrange\r\n",
      "  []\r\n",
      "[]\r\n",
      "\r\n",
      "[AuxVariables]\r\n",
      "  [diffFluxU]\r\n",
      "    order = FIRST\r\n",
      "    family = MONOMIAL_VEC\r\n",
      "  []\r\n",
      "  [diffFluxU_x]\r\n",
      "    order = FIRST\r\n",
      "    family = MONOMIAL\r\n",
      "  []\r\n",
      "[]\r\n",
      "\r\n",
      "[Kernels]\r\n",
      "  [diffusion-term]\r\n",
      "    type = DiffusionTerm\r\n",
      "    variable = u     # produced quantity\r\n",
      "    diffCoeff = ${replace diff_coeff}\r\n",
      "  []\r\n",
      "  [source-term]\r\n",
      "    type = SourceTerm\r\n",
      "    variable = u     # add to produced quantity\r\n",
      "    sourceS = ${replace source_s}\r\n",
      "  []\r\n",
      "  [convection-term]\r\n",
      "    type = ConvectionTerm\r\n",
      "    variable = u     # produced quantity\r\n",
      "    velocity = ${replace velocity}\r\n",
      "  []\r\n",
      "[]\r\n",
      "\r\n",
      "[AuxKernels]\r\n",
      "  [diffusion-flux]\r\n",
      "    execute_on = timestep_end\r\n",
      "    type = DiffusionFlux\r\n",
      "    field = u\r\n",
      "    diffCoeff = ${replace diff_coeff}\r\n",
      "    variable = diffFluxU     # produced quantity\r\n",
      "  []\r\n",
      "  [diffusion-flux-x]\r\n",
      "    execute_on = timestep_end\r\n",
      "    type = VectorVariableComponentAux\r\n",
      "    variable = diffFluxU_x    # produced quantity\r\n",
      "    component = x\r\n",
      "    vector_variable = diffFluxU   \r\n",
      "  []\r\n",
      "[]\r\n",
      "\r\n",
      "[BCs]\r\n",
      "  [entry]\r\n",
      "    type = DirichletBC\r\n",
      "    variable = u\r\n",
      "    boundary = left\r\n",
      "    value = 3.00000e+00\r\n",
      "  []\r\n",
      "  [exit]\r\n",
      "    type = NeumannBC\r\n",
      "    variable = u\r\n",
      "    boundary = right\r\n",
      "    value = 0.00000e+00\r\n",
      "  []\r\n",
      "[]\r\n",
      "\r\n",
      "[Executioner]\r\n",
      "  type = Steady\r\n",
      "  solve_type = 'PJFNK'\r\n",
      "  petsc_options_iname = '-pc_type -pc_hypre_type'\r\n",
      "  petsc_options_value = 'hypre boomeramg'\r\n",
      "[]\r\n",
      "\r\n",
      "[VectorPostprocessors]\r\n",
      "  [x-data]\r\n",
      "    type = LineValueSampler\r\n",
      "    execute_on = 'timestep_end final'\r\n",
      "    variable = 'u diffFluxU_x'    # output data\r\n",
      "    start_point = '${replace xmin} 0 0'\r\n",
      "    end_point = '${replace xmax} 0 0'\r\n",
      "    num_points = 42\r\n",
      "    sort_by = id\r\n",
      "  []\r\n",
      "[]\r\n",
      "\r\n",
      "[Outputs]\r\n",
      "  console = true\r\n",
      "  [file-x-data]\r\n",
      "    type = CSV\r\n",
      "    file_base = 'output'\r\n",
      "    execute_on = 'final'\r\n",
      "    show = 'x-data'\r\n",
      "  []\r\n",
      "[]\r\n"
     ]
    }
   ],
   "source": [
    "'''Display MOOSE input file created'''\n",
    "\n",
    "!cat engy5310p1/input.hit"
   ]
  },
  {
   "cell_type": "code",
   "execution_count": 12,
   "metadata": {},
   "outputs": [
    {
     "name": "stdout",
     "output_type": "stream",
     "text": [
      "\n",
      "\n",
      "Framework Information:\n",
      "MOOSE Version:           git commit 52562be492 on 2021-04-09\n",
      "LibMesh Version:         27141d18f3137f77e33cdb3d565fd38ebfbfc46f\n",
      "PETSc Version:           3.15.0\n",
      "SLEPc Version:           3.14.2\n",
      "Current Time:            Sun Apr 18 18:44:34 2021\n",
      "Executable Timestamp:    Sat Apr 17 21:27:24 2021\n",
      "\n",
      "Parallelism:\n",
      "  Num Processors:          1\n",
      "  Num Threads:             1\n",
      "\n",
      "Mesh: \n",
      "  Parallel Type:           replicated\n",
      "  Mesh Dimension:          1\n",
      "  Spatial Dimension:       1\n",
      "  Nodes:                   \n",
      "    Total:                 21\n",
      "    Local:                 21\n",
      "  Elems:                   \n",
      "    Total:                 10\n",
      "    Local:                 10\n",
      "  Num Subdomains:          1\n",
      "  Num Partitions:          1\n",
      "\n",
      "Nonlinear System:\n",
      "  Num DOFs:                21\n",
      "  Num Local DOFs:          21\n",
      "  Variables:               \"u\" \n",
      "  Finite Element Types:    \"LAGRANGE\" \n",
      "  Approximation Orders:    \"SECOND\" \n",
      "\n",
      "Auxiliary System:\n",
      "  Num DOFs:                40\n",
      "  Num Local DOFs:          40\n",
      "  Variables:               \"diffFluxU\" \"diffFluxU_x\" \n",
      "  Finite Element Types:    \"MONOMIAL_VEC\" \"MONOMIAL\" \n",
      "  Approximation Orders:    \"FIRST\" \"FIRST\" \n",
      "\n",
      "Execution Information:\n",
      "  Executioner:             Steady\n",
      "  Solver Mode:             Preconditioned JFNK\n",
      "  PETSc Preconditioner:    hypre boomeramg \n",
      "\n",
      " 0 Nonlinear |R| = \u001b[32m5.574676e-01\u001b[39m\n",
      "      0 Linear |R| = \u001b[32m5.574676e-01\u001b[39m\n",
      "      1 Linear |R| = \u001b[32m9.339475e-08\u001b[39m\n",
      " 1 Nonlinear |R| = \u001b[32m1.021284e-07\u001b[39m\n",
      "      0 Linear |R| = \u001b[32m1.021284e-07\u001b[39m\n",
      "      1 Linear |R| = \u001b[32m3.503373e-13\u001b[39m\n",
      " 2 Nonlinear |R| = \u001b[32m1.933748e-14\u001b[39m\n",
      "\u001b[32m Solve Converged!\u001b[39m\n",
      "WARNING! There are options you set that were not used!\n",
      "WARNING! could be spelling mistake, etc!\n",
      "There is one unused database option. It is:\n",
      "Option left: name:-i value: engy5310p1/input.hit\n"
     ]
    }
   ],
   "source": [
    "'''Run Engy5310P1 MOOSE App'''\n",
    "\n",
    "!engy5310p1/engy5310p1-opt -i engy5310p1/input.hit"
   ]
  },
  {
   "cell_type": "code",
   "execution_count": 13,
   "metadata": {},
   "outputs": [
    {
     "data": {
      "image/png": "[encoded data removed]",
      "text/plain": [
       "<Figure size 1008x360 with 2 Axes>"
      ]
     },
     "metadata": {},
     "output_type": "display_data"
    },
    {
     "name": "stdout",
     "output_type": "stream",
     "text": [
      "\n"
     ]
    }
   ],
   "source": [
    "'''Show FEM Solution'''\n",
    "\n",
    "import pandas as pd\n",
    "df = pd.read_csv('output_x-data_0002.csv')\n",
    "\n",
    "plot_solution(df, title='Dirichlet BC FEM Solution', basis_functions_type='Quadratic Lagrange', flux_basis_functions_type='Linear Monomial')"
   ]
  },
  {
   "cell_type": "markdown",
   "metadata": {},
   "source": [
    "**Comments:**\n",
    "\n",
    "A boundary layer on the flux variable begins to form on the right side of the domain."
   ]
  },
  {
   "cell_type": "markdown",
   "metadata": {},
   "source": [
    "### [FEM Error](#toc)<a id=\"quaderror\"></a>\n"
   ]
  },
  {
   "cell_type": "code",
   "execution_count": 14,
   "metadata": {},
   "outputs": [
    {
     "data": {
      "text/plain": [
       "'comming...'"
      ]
     },
     "execution_count": 14,
     "metadata": {},
     "output_type": "execute_result"
    }
   ],
   "source": [
    "'''Error Compared to Exact Dimensionless Solution'''\n",
    "\n",
    "'''comming...'''"
   ]
  },
  {
   "cell_type": "markdown",
   "metadata": {},
   "source": [
    "**Comments:**\n",
    "\n",
    "1. TBA"
   ]
  },
  {
   "cell_type": "markdown",
   "metadata": {},
   "source": [
    "## [High Peclet Number](#toc)<a id=\"highpe\"></a>\n",
    "\n",
    "Highly convective problems lead to numerical difficulties. Below, artificial (numerical) oscillations are present near a boundary. "
   ]
  },
  {
   "cell_type": "markdown",
   "metadata": {},
   "source": [
    "### [Quadratic Lagrange FEM](#toc)<a id=\"highperesults1\"></a>\n",
    "\n",
    "Solve problem with parameter values:\n",
    "\n",
    "> + a = 0 cm\n",
    "> + b = 25 cm\n",
    "> + A = 3 g/cc\n",
    "> + qn_b = 0 g/cm^2-s  (the bias parameter)\n",
    "> + D = 0.1 cm^2/s\n",
    "> + S = 1e-3 g/cc-s\n",
    "> + Pe = 50\n",
    "\n",
    "FEM parameters:\n",
    "\n",
    "> + Basis Functions: Second Order Lagrangian\n",
    "> + num. of finite elements: 10"
   ]
  },
  {
   "cell_type": "code",
   "execution_count": 15,
   "metadata": {},
   "outputs": [],
   "source": [
    "'''Parameters'''\n",
    "\n",
    "Pe = 50 # convective dominated\n",
    "\n",
    "velocity = (Pe * diff_coeff/x_length, 0, 0)"
   ]
  },
  {
   "cell_type": "code",
   "execution_count": 16,
   "metadata": {},
   "outputs": [],
   "source": [
    "'''FEM Solution'''\n",
    "\n",
    "n_felem = 10\n",
    "\n",
    "order = 'second'\n",
    "\n",
    "n_plot_pts = 2*n_felem + 1\n",
    "n_plot_pts *= 2\n",
    "\n",
    "try:    \n",
    "    from engy_5310.toolkit import write_engy5310_p1_1d_input_file  \n",
    "except ModuleNotFoundError:\n",
    "    assert False, 'You need to provide your own code here. Bailing out.'\n",
    "\n",
    "write_engy5310_p1_1d_input_file(x_a, x_b, u_left=u_a, qn_bias_right=qn_b,\n",
    "                                diff_coeff=diff_coeff, source_s=source_s, velocity=velocity,\n",
    "                                n_felem=n_felem, order=order, \n",
    "                                n_plot_pts=n_plot_pts, \n",
    "                                compute_diffusion_flux=True)"
   ]
  },
  {
   "cell_type": "code",
   "execution_count": 17,
   "metadata": {
    "scrolled": true
   },
   "outputs": [
    {
     "name": "stdout",
     "output_type": "stream",
     "text": [
      "# Engy-5310 Problem 1: Poisson 1D FEM\r\n",
      "# UMass Lowell Nuclear Chemical Engineering\r\n",
      "# Prof. Valmor F. de Almeida\r\n",
      "# 18Apr21 18:44:34\r\n",
      "\r\n",
      "# Parameters\r\n",
      "xmin = 0.00000e+00\r\n",
      "xmax = 2.50000e+01\r\n",
      "diff_coeff = 1.00000e-01\r\n",
      "source_s = 5.00000e-02\r\n",
      "velocity = '2.00000e-01 0.00000e+00 0.00000e+00'\r\n",
      "qn_bias_right = 0.00000e+00\r\n",
      "\r\n",
      "[Problem]\r\n",
      "  type = FEProblem\r\n",
      "  coord_type = XYZ\r\n",
      "[]\r\n",
      "\r\n",
      "[Mesh]\r\n",
      "  [1d]\r\n",
      "    type = GeneratedMeshGenerator\r\n",
      "    dim = 1\r\n",
      "    xmin = ${replace xmin}\r\n",
      "    xmax = ${replace xmax}\r\n",
      "    nx = 10\r\n",
      "    elem_type = edge3\r\n",
      "  []\r\n",
      "[]\r\n",
      "\r\n",
      "[Variables]\r\n",
      "  [u]\r\n",
      "    order = second\r\n",
      "    family = lagrange\r\n",
      "  []\r\n",
      "[]\r\n",
      "\r\n",
      "[AuxVariables]\r\n",
      "  [diffFluxU]\r\n",
      "    order = FIRST\r\n",
      "    family = MONOMIAL_VEC\r\n",
      "  []\r\n",
      "  [diffFluxU_x]\r\n",
      "    order = FIRST\r\n",
      "    family = MONOMIAL\r\n",
      "  []\r\n",
      "[]\r\n",
      "\r\n",
      "[Kernels]\r\n",
      "  [diffusion-term]\r\n",
      "    type = DiffusionTerm\r\n",
      "    variable = u     # produced quantity\r\n",
      "    diffCoeff = ${replace diff_coeff}\r\n",
      "  []\r\n",
      "  [source-term]\r\n",
      "    type = SourceTerm\r\n",
      "    variable = u     # add to produced quantity\r\n",
      "    sourceS = ${replace source_s}\r\n",
      "  []\r\n",
      "  [convection-term]\r\n",
      "    type = ConvectionTerm\r\n",
      "    variable = u     # produced quantity\r\n",
      "    velocity = ${replace velocity}\r\n",
      "  []\r\n",
      "[]\r\n",
      "\r\n",
      "[AuxKernels]\r\n",
      "  [diffusion-flux]\r\n",
      "    execute_on = timestep_end\r\n",
      "    type = DiffusionFlux\r\n",
      "    field = u\r\n",
      "    diffCoeff = ${replace diff_coeff}\r\n",
      "    variable = diffFluxU     # produced quantity\r\n",
      "  []\r\n",
      "  [diffusion-flux-x]\r\n",
      "    execute_on = timestep_end\r\n",
      "    type = VectorVariableComponentAux\r\n",
      "    variable = diffFluxU_x    # produced quantity\r\n",
      "    component = x\r\n",
      "    vector_variable = diffFluxU   \r\n",
      "  []\r\n",
      "[]\r\n",
      "\r\n",
      "[BCs]\r\n",
      "  [entry]\r\n",
      "    type = DirichletBC\r\n",
      "    variable = u\r\n",
      "    boundary = left\r\n",
      "    value = 3.00000e+00\r\n",
      "  []\r\n",
      "  [exit]\r\n",
      "    type = NormalFluxBC\r\n",
      "    variable = u\r\n",
      "    boundary = right\r\n",
      "    bias = ${replace qn_bias_right}\r\n",
      "  []\r\n",
      "[]\r\n",
      "\r\n",
      "[Executioner]\r\n",
      "  type = Steady\r\n",
      "  solve_type = 'PJFNK'\r\n",
      "  petsc_options_iname = '-pc_type -pc_hypre_type'\r\n",
      "  petsc_options_value = 'hypre boomeramg'\r\n",
      "[]\r\n",
      "\r\n",
      "[VectorPostprocessors]\r\n",
      "  [x-data]\r\n",
      "    type = LineValueSampler\r\n",
      "    execute_on = 'timestep_end final'\r\n",
      "    variable = 'u diffFluxU_x'    # output data\r\n",
      "    start_point = '${replace xmin} 0 0'\r\n",
      "    end_point = '${replace xmax} 0 0'\r\n",
      "    num_points = 42\r\n",
      "    sort_by = id\r\n",
      "  []\r\n",
      "[]\r\n",
      "\r\n",
      "[Outputs]\r\n",
      "  console = true\r\n",
      "  [file-x-data]\r\n",
      "    type = CSV\r\n",
      "    file_base = 'output'\r\n",
      "    execute_on = 'final'\r\n",
      "    show = 'x-data'\r\n",
      "  []\r\n",
      "[]\r\n"
     ]
    }
   ],
   "source": [
    "'''Display MOOSE input file created'''\n",
    "\n",
    "!cat engy5310p1/input.hit"
   ]
  },
  {
   "cell_type": "code",
   "execution_count": 18,
   "metadata": {},
   "outputs": [
    {
     "name": "stdout",
     "output_type": "stream",
     "text": [
      "\n",
      "\n",
      "Framework Information:\n",
      "MOOSE Version:           git commit 52562be492 on 2021-04-09\n",
      "LibMesh Version:         27141d18f3137f77e33cdb3d565fd38ebfbfc46f\n",
      "PETSc Version:           3.15.0\n",
      "SLEPc Version:           3.14.2\n",
      "Current Time:            Sun Apr 18 18:44:34 2021\n",
      "Executable Timestamp:    Sat Apr 17 21:27:24 2021\n",
      "\n",
      "Parallelism:\n",
      "  Num Processors:          1\n",
      "  Num Threads:             1\n",
      "\n",
      "Mesh: \n",
      "  Parallel Type:           replicated\n",
      "  Mesh Dimension:          1\n",
      "  Spatial Dimension:       1\n",
      "  Nodes:                   \n",
      "    Total:                 21\n",
      "    Local:                 21\n",
      "  Elems:                   \n",
      "    Total:                 10\n",
      "    Local:                 10\n",
      "  Num Subdomains:          1\n",
      "  Num Partitions:          1\n",
      "\n",
      "Nonlinear System:\n",
      "  Num DOFs:                21\n",
      "  Num Local DOFs:          21\n",
      "  Variables:               \"u\" \n",
      "  Finite Element Types:    \"LAGRANGE\" \n",
      "  Approximation Orders:    \"SECOND\" \n",
      "\n",
      "Auxiliary System:\n",
      "  Num DOFs:                40\n",
      "  Num Local DOFs:          40\n",
      "  Variables:               \"diffFluxU\" \"diffFluxU_x\" \n",
      "  Finite Element Types:    \"MONOMIAL_VEC\" \"MONOMIAL\" \n",
      "  Approximation Orders:    \"FIRST\" \"FIRST\" \n",
      "\n",
      "Execution Information:\n",
      "  Executioner:             Steady\n",
      "  Solver Mode:             Preconditioned JFNK\n",
      "  PETSc Preconditioner:    hypre boomeramg \n",
      "\n",
      " 0 Nonlinear |R| = \u001b[32m8.554746e-01\u001b[39m\n",
      "      0 Linear |R| = \u001b[32m8.554746e-01\u001b[39m\n",
      "      1 Linear |R| = \u001b[32m5.286765e-01\u001b[39m\n",
      "      2 Linear |R| = \u001b[33m5.286762e-01\u001b[39m\n",
      "      3 Linear |R| = \u001b[33m5.190964e-01\u001b[39m\n",
      "      4 Linear |R| = \u001b[33m5.161778e-01\u001b[39m\n",
      "      5 Linear |R| = \u001b[33m4.999172e-01\u001b[39m\n",
      "      6 Linear |R| = \u001b[32m4.022576e-01\u001b[39m\n",
      "      7 Linear |R| = \u001b[32m2.155302e-02\u001b[39m\n",
      "      8 Linear |R| = \u001b[32m3.408893e-04\u001b[39m\n",
      "      9 Linear |R| = \u001b[32m1.462813e-06\u001b[39m\n",
      " 1 Nonlinear |R| = \u001b[32m1.499256e-06\u001b[39m\n",
      "      0 Linear |R| = \u001b[32m1.499256e-06\u001b[39m\n",
      "      1 Linear |R| = \u001b[32m6.882262e-07\u001b[39m\n",
      "      2 Linear |R| = \u001b[33m6.873609e-07\u001b[39m\n",
      "      3 Linear |R| = \u001b[33m6.722061e-07\u001b[39m\n",
      "      4 Linear |R| = \u001b[33m6.696581e-07\u001b[39m\n",
      "      5 Linear |R| = \u001b[33m6.565948e-07\u001b[39m\n",
      "      6 Linear |R| = \u001b[32m5.122138e-07\u001b[39m\n",
      "      7 Linear |R| = \u001b[32m2.176962e-08\u001b[39m\n",
      "      8 Linear |R| = \u001b[32m1.898286e-10\u001b[39m\n",
      "      9 Linear |R| = \u001b[32m1.018790e-13\u001b[39m\n",
      " 2 Nonlinear |R| = \u001b[32m8.380876e-13\u001b[39m\n",
      "\u001b[32m Solve Converged!\u001b[39m\n",
      "WARNING! There are options you set that were not used!\n",
      "WARNING! could be spelling mistake, etc!\n",
      "There is one unused database option. It is:\n",
      "Option left: name:-i value: engy5310p1/input.hit\n"
     ]
    }
   ],
   "source": [
    "'''Run Engy5310P1 MOOSE App'''\n",
    "\n",
    "!engy5310p1/engy5310p1-opt -i engy5310p1/input.hit"
   ]
  },
  {
   "cell_type": "code",
   "execution_count": 19,
   "metadata": {},
   "outputs": [
    {
     "data": {
      "image/png": "[encoded data removed]",
      "text/plain": [
       "<Figure size 1008x360 with 2 Axes>"
      ]
     },
     "metadata": {},
     "output_type": "display_data"
    },
    {
     "name": "stdout",
     "output_type": "stream",
     "text": [
      "\n"
     ]
    }
   ],
   "source": [
    "'''Show FEM Solution'''\n",
    "\n",
    "import pandas as pd\n",
    "df = pd.read_csv('output_x-data_0002.csv')\n",
    "\n",
    "plot_solution(df, title='Dirichlet BC FEM Solution', basis_functions_type='Quadratic Lagrange', flux_basis_functions_type='Linear Monomial')"
   ]
  },
  {
   "cell_type": "markdown",
   "metadata": {},
   "source": [
    "**Comments:**\n",
    "\n",
    "As convection dominates, the flux boundary layer sharpens and *numerical wiggles* appear. In this case the flux suffers from oscillations. This effect is often interpreted as a *numerical instability*. It can be treated by:\n",
    "\n",
    " 1. Using additional finite element basis functions (not scalable) \n",
    " 2. Adapting the mesh (mesh adaptivity); involved but doable\n",
    " 3. \"Stabilizing the weak formulation\" or other methods called artificial viscosity or flux \"upwinding\""
   ]
  },
  {
   "cell_type": "markdown",
   "metadata": {},
   "source": [
    "#### [Compute Error](#toc)<a id=\"highperesults1error\"></a>\n"
   ]
  },
  {
   "cell_type": "code",
   "execution_count": 20,
   "metadata": {},
   "outputs": [
    {
     "data": {
      "text/plain": [
       "'coming...'"
      ]
     },
     "execution_count": 20,
     "metadata": {},
     "output_type": "execute_result"
    }
   ],
   "source": [
    "'''Flux Error Compared to Exact Dimensionless Solution'''\n",
    "\n",
    "'''coming...'''"
   ]
  },
  {
   "cell_type": "markdown",
   "metadata": {},
   "source": [
    "### [Quadratic Lagrange FEM](#toc)<a id=\"highperesults2\"></a>\n",
    "\n",
    "Solve problem with parameter values:\n",
    "\n",
    "> + a = 0 cm\n",
    "> + b = 25 cm\n",
    "> + A = 3 g/cc\n",
    "> + B = 0 g/cc\n",
    "> + D = 0.1 cm^2/s\n",
    "> + S = 1e-3 g/cc-s\n",
    "> + Pe = 50\n",
    "\n",
    "FEM parameters:\n",
    "\n",
    "> + Basis Functions: Second Order Lagrangian\n",
    "> + num. of finite elements: 20"
   ]
  },
  {
   "cell_type": "code",
   "execution_count": 21,
   "metadata": {},
   "outputs": [],
   "source": [
    "'''FEM Solution'''\n",
    "\n",
    "n_felem = 50\n",
    "\n",
    "x_bias = 0.8\n",
    "\n",
    "order = 'second'\n",
    "\n",
    "n_plot_pts = 2*n_felem + 1\n",
    "n_plot_pts *= 2\n",
    "\n",
    "try:    \n",
    "    from engy_5310.toolkit import write_engy5310_p1_1d_input_file  \n",
    "except ModuleNotFoundError:\n",
    "    assert False, 'You need to provide your own code here. Bailing out.'\n",
    "\n",
    "write_engy5310_p1_1d_input_file(x_left=x_a, x_right=x_b, u_left=u_a, qn_bias_right=qn_b,\n",
    "                                diff_coeff=diff_coeff, source_s=source_s, velocity=velocity,\n",
    "                                n_felem=n_felem, x_bias=x_bias,\n",
    "                                order=order, \n",
    "                                n_plot_pts=n_plot_pts, \n",
    "                                compute_diffusion_flux=True)"
   ]
  },
  {
   "cell_type": "code",
   "execution_count": 22,
   "metadata": {
    "scrolled": true
   },
   "outputs": [
    {
     "name": "stdout",
     "output_type": "stream",
     "text": [
      "# Engy-5310 Problem 1: Poisson 1D FEM\r\n",
      "# UMass Lowell Nuclear Chemical Engineering\r\n",
      "# Prof. Valmor F. de Almeida\r\n",
      "# 18Apr21 18:44:35\r\n",
      "\r\n",
      "# Parameters\r\n",
      "xmin = 0.00000e+00\r\n",
      "xmax = 2.50000e+01\r\n",
      "diff_coeff = 1.00000e-01\r\n",
      "source_s = 5.00000e-02\r\n",
      "velocity = '2.00000e-01 0.00000e+00 0.00000e+00'\r\n",
      "qn_bias_right = 0.00000e+00\r\n",
      "\r\n",
      "[Problem]\r\n",
      "  type = FEProblem\r\n",
      "  coord_type = XYZ\r\n",
      "[]\r\n",
      "\r\n",
      "[Mesh]\r\n",
      "  [1d]\r\n",
      "    type = GeneratedMeshGenerator\r\n",
      "    dim = 1\r\n",
      "    xmin = ${replace xmin}\r\n",
      "    xmax = ${replace xmax}\r\n",
      "    nx = 50\r\n",
      "    elem_type = edge3\r\n",
      "    bias_x = 8.000e-01\r\n",
      "  []\r\n",
      "[]\r\n",
      "\r\n",
      "[Variables]\r\n",
      "  [u]\r\n",
      "    order = second\r\n",
      "    family = lagrange\r\n",
      "  []\r\n",
      "[]\r\n",
      "\r\n",
      "[AuxVariables]\r\n",
      "  [diffFluxU]\r\n",
      "    order = FIRST\r\n",
      "    family = MONOMIAL_VEC\r\n",
      "  []\r\n",
      "  [diffFluxU_x]\r\n",
      "    order = FIRST\r\n",
      "    family = MONOMIAL\r\n",
      "  []\r\n",
      "[]\r\n",
      "\r\n",
      "[Kernels]\r\n",
      "  [diffusion-term]\r\n",
      "    type = DiffusionTerm\r\n",
      "    variable = u     # produced quantity\r\n",
      "    diffCoeff = ${replace diff_coeff}\r\n",
      "  []\r\n",
      "  [source-term]\r\n",
      "    type = SourceTerm\r\n",
      "    variable = u     # add to produced quantity\r\n",
      "    sourceS = ${replace source_s}\r\n",
      "  []\r\n",
      "  [convection-term]\r\n",
      "    type = ConvectionTerm\r\n",
      "    variable = u     # produced quantity\r\n",
      "    velocity = ${replace velocity}\r\n",
      "  []\r\n",
      "[]\r\n",
      "\r\n",
      "[AuxKernels]\r\n",
      "  [diffusion-flux]\r\n",
      "    execute_on = timestep_end\r\n",
      "    type = DiffusionFlux\r\n",
      "    field = u\r\n",
      "    diffCoeff = ${replace diff_coeff}\r\n",
      "    variable = diffFluxU     # produced quantity\r\n",
      "  []\r\n",
      "  [diffusion-flux-x]\r\n",
      "    execute_on = timestep_end\r\n",
      "    type = VectorVariableComponentAux\r\n",
      "    variable = diffFluxU_x    # produced quantity\r\n",
      "    component = x\r\n",
      "    vector_variable = diffFluxU   \r\n",
      "  []\r\n",
      "[]\r\n",
      "\r\n",
      "[BCs]\r\n",
      "  [entry]\r\n",
      "    type = DirichletBC\r\n",
      "    variable = u\r\n",
      "    boundary = left\r\n",
      "    value = 3.00000e+00\r\n",
      "  []\r\n",
      "  [exit]\r\n",
      "    type = NormalFluxBC\r\n",
      "    variable = u\r\n",
      "    boundary = right\r\n",
      "    bias = ${replace qn_bias_right}\r\n",
      "  []\r\n",
      "[]\r\n",
      "\r\n",
      "[Executioner]\r\n",
      "  type = Steady\r\n",
      "  solve_type = 'PJFNK'\r\n",
      "  petsc_options_iname = '-pc_type -pc_hypre_type'\r\n",
      "  petsc_options_value = 'hypre boomeramg'\r\n",
      "[]\r\n",
      "\r\n",
      "[VectorPostprocessors]\r\n",
      "  [x-data]\r\n",
      "    type = LineValueSampler\r\n",
      "    execute_on = 'timestep_end final'\r\n",
      "    variable = 'u diffFluxU_x'    # output data\r\n",
      "    start_point = '${replace xmin} 0 0'\r\n",
      "    end_point = '${replace xmax} 0 0'\r\n",
      "    num_points = 202\r\n",
      "    sort_by = id\r\n",
      "  []\r\n",
      "[]\r\n",
      "\r\n",
      "[Outputs]\r\n",
      "  console = true\r\n",
      "  [file-x-data]\r\n",
      "    type = CSV\r\n",
      "    file_base = 'output'\r\n",
      "    execute_on = 'final'\r\n",
      "    show = 'x-data'\r\n",
      "  []\r\n",
      "[]\r\n"
     ]
    }
   ],
   "source": [
    "'''Display MOOSE input file created'''\n",
    "\n",
    "!cat engy5310p1/input.hit"
   ]
  },
  {
   "cell_type": "code",
   "execution_count": 23,
   "metadata": {},
   "outputs": [
    {
     "name": "stdout",
     "output_type": "stream",
     "text": [
      "\n",
      "\n",
      "Framework Information:\n",
      "MOOSE Version:           git commit 52562be492 on 2021-04-09\n",
      "LibMesh Version:         27141d18f3137f77e33cdb3d565fd38ebfbfc46f\n",
      "PETSc Version:           3.15.0\n",
      "SLEPc Version:           3.14.2\n",
      "Current Time:            Sun Apr 18 18:44:35 2021\n",
      "Executable Timestamp:    Sat Apr 17 21:27:24 2021\n",
      "\n",
      "Parallelism:\n",
      "  Num Processors:          1\n",
      "  Num Threads:             1\n",
      "\n",
      "Mesh: \n",
      "  Parallel Type:           replicated\n",
      "  Mesh Dimension:          1\n",
      "  Spatial Dimension:       1\n",
      "  Nodes:                   \n",
      "    Total:                 101\n",
      "    Local:                 101\n",
      "  Elems:                   \n",
      "    Total:                 50\n",
      "    Local:                 50\n",
      "  Num Subdomains:          1\n",
      "  Num Partitions:          1\n",
      "\n",
      "Nonlinear System:\n",
      "  Num DOFs:                101\n",
      "  Num Local DOFs:          101\n",
      "  Variables:               \"u\" \n",
      "  Finite Element Types:    \"LAGRANGE\" \n",
      "  Approximation Orders:    \"SECOND\" \n",
      "\n",
      "Auxiliary System:\n",
      "  Num DOFs:                200\n",
      "  Num Local DOFs:          200\n",
      "  Variables:               \"diffFluxU\" \"diffFluxU_x\" \n",
      "  Finite Element Types:    \"MONOMIAL_VEC\" \"MONOMIAL\" \n",
      "  Approximation Orders:    \"FIRST\" \"FIRST\" \n",
      "\n",
      "Execution Information:\n",
      "  Executioner:             Steady\n",
      "  Solver Mode:             Preconditioned JFNK\n",
      "  PETSc Preconditioner:    hypre boomeramg \n",
      "\n",
      " 0 Nonlinear |R| = \u001b[32m7.677590e-01\u001b[39m\n",
      "      0 Linear |R| = \u001b[32m7.677590e-01\u001b[39m\n",
      "      1 Linear |R| = \u001b[33m7.677279e-01\u001b[39m\n",
      "      2 Linear |R| = \u001b[33m7.491228e-01\u001b[39m\n",
      "      3 Linear |R| = \u001b[32m3.217708e-01\u001b[39m\n",
      "      4 Linear |R| = \u001b[32m2.300785e-01\u001b[39m\n",
      "      5 Linear |R| = \u001b[32m9.674814e-02\u001b[39m\n",
      "      6 Linear |R| = \u001b[32m7.846651e-03\u001b[39m\n",
      "      7 Linear |R| = \u001b[32m2.842850e-04\u001b[39m\n",
      "      8 Linear |R| = \u001b[32m7.513812e-07\u001b[39m\n",
      " 1 Nonlinear |R| = \u001b[32m8.992563e-07\u001b[39m\n",
      "      0 Linear |R| = \u001b[32m8.992563e-07\u001b[39m\n",
      "      1 Linear |R| = \u001b[33m8.839220e-07\u001b[39m\n",
      "      2 Linear |R| = \u001b[33m8.571502e-07\u001b[39m\n",
      "      3 Linear |R| = \u001b[32m1.948984e-07\u001b[39m\n",
      "      4 Linear |R| = \u001b[32m1.310327e-07\u001b[39m\n",
      "      5 Linear |R| = \u001b[32m5.700497e-08\u001b[39m\n",
      "      6 Linear |R| = \u001b[32m5.165387e-09\u001b[39m\n",
      "      7 Linear |R| = \u001b[32m1.816182e-10\u001b[39m\n",
      "      8 Linear |R| = \u001b[32m1.642541e-12\u001b[39m\n",
      " 2 Nonlinear |R| = \u001b[32m3.190334e-09\u001b[39m\n",
      "\u001b[32m Solve Converged!\u001b[39m\n",
      "WARNING! There are options you set that were not used!\n",
      "WARNING! could be spelling mistake, etc!\n",
      "There is one unused database option. It is:\n",
      "Option left: name:-i value: engy5310p1/input.hit\n"
     ]
    }
   ],
   "source": [
    "'''Run Engy5310P1 MOOSE App'''\n",
    "\n",
    "!engy5310p1/engy5310p1-opt -i engy5310p1/input.hit"
   ]
  },
  {
   "cell_type": "code",
   "execution_count": 24,
   "metadata": {},
   "outputs": [
    {
     "data": {
      "image/png": "[encoded data removed]",
      "text/plain": [
       "<Figure size 1008x360 with 2 Axes>"
      ]
     },
     "metadata": {},
     "output_type": "display_data"
    },
    {
     "name": "stdout",
     "output_type": "stream",
     "text": [
      "\n"
     ]
    }
   ],
   "source": [
    "'''Show FEM Solution'''\n",
    "\n",
    "import pandas as pd\n",
    "df = pd.read_csv('output_x-data_0002.csv')\n",
    "\n",
    "plot_solution(df, title='Dirichlet BC FEM Solution', basis_functions_type='Quadratic Lagrange', flux_basis_functions_type='Linear Monomial')"
   ]
  },
  {
   "cell_type": "markdown",
   "metadata": {},
   "source": [
    "**Comments:**\n",
    "\n",
    "1. The mesh refinement on the right end of the domain captures the boundary layer on the flux."
   ]
  },
  {
   "cell_type": "markdown",
   "metadata": {},
   "source": [
    "#### [Compute Error](#toc)<a id=\"highperesults2error\"></a>"
   ]
  },
  {
   "cell_type": "code",
   "execution_count": 25,
   "metadata": {},
   "outputs": [
    {
     "data": {
      "text/plain": [
       "'coming'"
      ]
     },
     "execution_count": 25,
     "metadata": {},
     "output_type": "execute_result"
    }
   ],
   "source": [
    "'''Error Compared to Exact Dimensionless Solution'''\n",
    "\n",
    "'''coming'''"
   ]
  },
  {
   "cell_type": "markdown",
   "metadata": {},
   "source": [
    "## [Application Tree](#toc)<a id=\"tree\"></a>\n",
    "\n",
    "This tree printout helps the understanding of various pieces of the `MOOSE` application repository created after all the above steps including future implementations in the notebooks following the present one that cover various boundary conditions."
   ]
  },
  {
   "cell_type": "code",
   "execution_count": 26,
   "metadata": {},
   "outputs": [
    {
     "name": "stdout",
     "output_type": "stream",
     "text": [
      "\u001b[01;34mengy5310p1\u001b[00m\r\n",
      "├── LICENSE\r\n",
      "├── Makefile\r\n",
      "├── README.md\r\n",
      "├── \u001b[01;34m__pycache__\u001b[00m\r\n",
      "│   └── chigger.cpython-38.pyc\r\n",
      "├── \u001b[01;34mbuild\u001b[00m\r\n",
      "│   ├── \u001b[01;34mheader_symlinks\u001b[00m\r\n",
      "│   │   ├── \u001b[01;36mBoundaryEnergy.h\u001b[00m -> /home/dealmeida/OneDrive/uml-courses/engy-5310/2021-01-05-spring/jupynb-repo/notebooks/engy5310p1/include/postprocessors/BoundaryEnergy.h\r\n",
      "│   │   ├── \u001b[01;36mBulkEnergy.h\u001b[00m -> /home/dealmeida/OneDrive/uml-courses/engy-5310/2021-01-05-spring/jupynb-repo/notebooks/engy5310p1/include/postprocessors/BulkEnergy.h\r\n",
      "│   │   ├── \u001b[01;36mConvectionTerm.h\u001b[00m -> /home/dealmeida/OneDrive/uml-courses/engy-5310/2021-01-05-spring/jupynb-repo/notebooks/engy5310p1/include/kernels/ConvectionTerm.h\r\n",
      "│   │   ├── \u001b[01;36mDiffusionFlux.h\u001b[00m -> /home/dealmeida/OneDrive/uml-courses/engy-5310/2021-01-05-spring/jupynb-repo/notebooks/engy5310p1/include/auxkernels/DiffusionFlux.h\r\n",
      "│   │   ├── \u001b[01;36mDiffusionFluxComponent.h\u001b[00m -> /home/dealmeida/OneDrive/uml-courses/engy-5310/2021-01-05-spring/jupynb-repo/notebooks/engy5310p1/include/auxkernels/DiffusionFluxComponent.h\r\n",
      "│   │   ├── \u001b[01;36mDiffusionTerm.h\u001b[00m -> /home/dealmeida/OneDrive/uml-courses/engy-5310/2021-01-05-spring/jupynb-repo/notebooks/engy5310p1/include/kernels/DiffusionTerm.h\r\n",
      "│   │   ├── \u001b[01;36mEngy5310P1App.h\u001b[00m -> /home/dealmeida/OneDrive/uml-courses/engy-5310/2021-01-05-spring/jupynb-repo/notebooks/engy5310p1/include/base/Engy5310P1App.h\r\n",
      "│   │   ├── \u001b[01;36mNormalFluxBC.h\u001b[00m -> /home/dealmeida/OneDrive/uml-courses/engy-5310/2021-01-05-spring/jupynb-repo/notebooks/engy5310p1/include/bcs/NormalFluxBC.h\r\n",
      "│   │   └── \u001b[01;36mSourceTerm.h\u001b[00m -> /home/dealmeida/OneDrive/uml-courses/engy-5310/2021-01-05-spring/jupynb-repo/notebooks/engy5310p1/include/kernels/SourceTerm.h\r\n",
      "│   └── \u001b[01;34munity_src\u001b[00m\r\n",
      "│       ├── auxkernels_Unity.C\r\n",
      "│       ├── auxkernels_Unity.x86_64-pc-linux-gnu.opt.lo\r\n",
      "│       ├── auxkernels_Unity.x86_64-pc-linux-gnu.opt.lo.d\r\n",
      "│       ├── bcs_Unity.C\r\n",
      "│       ├── bcs_Unity.x86_64-pc-linux-gnu.opt.lo\r\n",
      "│       ├── bcs_Unity.x86_64-pc-linux-gnu.opt.lo.d\r\n",
      "│       ├── kernels_Unity.C\r\n",
      "│       ├── kernels_Unity.x86_64-pc-linux-gnu.opt.lo\r\n",
      "│       ├── kernels_Unity.x86_64-pc-linux-gnu.opt.lo.d\r\n",
      "│       ├── postprocessors_Unity.C\r\n",
      "│       ├── postprocessors_Unity.x86_64-pc-linux-gnu.opt.lo\r\n",
      "│       └── postprocessors_Unity.x86_64-pc-linux-gnu.opt.lo.d\r\n",
      "├── \u001b[01;32mengy5310p1-opt\u001b[00m\r\n",
      "├── \u001b[01;34minclude\u001b[00m\r\n",
      "│   ├── \u001b[01;34mauxkernels\u001b[00m\r\n",
      "│   │   ├── DiffusionFlux.h\r\n",
      "│   │   └── DiffusionFluxComponent.h\r\n",
      "│   ├── \u001b[01;34mbase\u001b[00m\r\n",
      "│   │   └── Engy5310P1App.h\r\n",
      "│   ├── \u001b[01;34mbcs\u001b[00m\r\n",
      "│   │   └── NormalFluxBC.h\r\n",
      "│   ├── \u001b[01;34mkernels\u001b[00m\r\n",
      "│   │   ├── ConvectionTerm.h\r\n",
      "│   │   ├── ConvectionTerm.h~\r\n",
      "│   │   ├── DiffusionTerm.h\r\n",
      "│   │   └── SourceTerm.h\r\n",
      "│   └── \u001b[01;34mpostprocessors\u001b[00m\r\n",
      "│       ├── BoundaryEnergy.h\r\n",
      "│       └── BulkEnergy.h\r\n",
      "├── input.hit\r\n",
      "├── \u001b[01;34mlib\u001b[00m\r\n",
      "│   ├── \u001b[01;32mlibengy5310p1-opt.la\u001b[00m\r\n",
      "│   ├── \u001b[01;36mlibengy5310p1-opt.so\u001b[00m -> \u001b[01;32mlibengy5310p1-opt.so.0.0.0\u001b[00m\r\n",
      "│   ├── \u001b[01;36mlibengy5310p1-opt.so.0\u001b[00m -> \u001b[01;32mlibengy5310p1-opt.so.0.0.0\u001b[00m\r\n",
      "│   └── \u001b[01;32mlibengy5310p1-opt.so.0.0.0\u001b[00m\r\n",
      "├── \u001b[01;34msrc\u001b[00m\r\n",
      "│   ├── \u001b[01;34mauxkernels\u001b[00m\r\n",
      "│   │   ├── DiffusionFlux.C\r\n",
      "│   │   └── DiffusionFluxComponent.C\r\n",
      "│   ├── \u001b[01;34mbase\u001b[00m\r\n",
      "│   │   ├── Engy5310P1App.C\r\n",
      "│   │   ├── Engy5310P1App.x86_64-pc-linux-gnu.opt.lo\r\n",
      "│   │   └── Engy5310P1App.x86_64-pc-linux-gnu.opt.lo.d\r\n",
      "│   ├── \u001b[01;34mbcs\u001b[00m\r\n",
      "│   │   ├── NormalFluxBC.C\r\n",
      "│   │   └── NormalFluxBC.C~\r\n",
      "│   ├── \u001b[01;34mkernels\u001b[00m\r\n",
      "│   │   ├── ConvectionTerm.C\r\n",
      "│   │   ├── ConvectionTerm.C~\r\n",
      "│   │   ├── DiffusionTerm.C\r\n",
      "│   │   └── SourceTerm.C\r\n",
      "│   ├── main.C\r\n",
      "│   ├── main.C~\r\n",
      "│   ├── main.x86_64-pc-linux-gnu.opt.lo\r\n",
      "│   ├── main.x86_64-pc-linux-gnu.opt.lo.d\r\n",
      "│   └── \u001b[01;34mpostprocessors\u001b[00m\r\n",
      "│       ├── BoundaryEnergy.C\r\n",
      "│       └── BulkEnergy.C\r\n",
      "├── \u001b[01;34mtest\u001b[00m\r\n",
      "│   └── \u001b[01;34mlib\u001b[00m\r\n",
      "│       ├── \u001b[01;32mlibengy5310p1_test-opt.la\u001b[00m\r\n",
      "│       ├── \u001b[01;36mlibengy5310p1_test-opt.so\u001b[00m -> \u001b[01;32mlibengy5310p1_test-opt.so.0.0.0\u001b[00m\r\n",
      "│       ├── \u001b[01;36mlibengy5310p1_test-opt.so.0\u001b[00m -> \u001b[01;32mlibengy5310p1_test-opt.so.0.0.0\u001b[00m\r\n",
      "│       └── \u001b[01;32mlibengy5310p1_test-opt.so.0.0.0\u001b[00m\r\n",
      "├── test.i\r\n",
      "└── vtkviz.py\r\n",
      "\r\n",
      "19 directories, 64 files\r\n"
     ]
    }
   ],
   "source": [
    "!tree engy5310p1"
   ]
  },
  {
   "cell_type": "code",
   "execution_count": null,
   "metadata": {},
   "outputs": [],
   "source": []
  }
 ],
 "metadata": {
  "kernelspec": {
   "display_name": "Python 3 (ipykernel)",
   "language": "python",
   "name": "python3"
  },
  "language_info": {
   "codemirror_mode": {
    "name": "ipython",
    "version": 3
   },
   "file_extension": ".py",
   "mimetype": "text/x-python",
   "name": "python",
   "nbconvert_exporter": "python",
   "pygments_lexer": "ipython3",
   "version": "3.9.9"
  },
  "latex_envs": {
   "LaTeX_envs_menu_present": true,
   "autoclose": false,
   "autocomplete": true,
   "bibliofile": "biblio.bib",
   "cite_by": "apalike",
   "current_citInitial": 1,
   "eqLabelWithNumbers": true,
   "eqNumInitial": 1,
   "hotkeys": {
    "equation": "Ctrl-E",
    "itemize": "Ctrl-I"
   },
   "labels_anchors": false,
   "latex_user_defs": false,
   "report_style_numbering": false,
   "user_envs_cfg": false
  },
  "toc": {
   "base_numbering": 1,
   "nav_menu": {},
   "number_sections": true,
   "sideBar": true,
   "skip_h1_title": false,
   "title_cell": "Table of Contents",
   "title_sidebar": "Contents",
   "toc_cell": false,
   "toc_position": {
    "height": "calc(100% - 180px)",
    "left": "10px",
    "top": "150px",
    "width": "220.75px"
   },
   "toc_section_display": true,
   "toc_window_display": false
  }
 },
 "nbformat": 4,
 "nbformat_minor": 2
}
