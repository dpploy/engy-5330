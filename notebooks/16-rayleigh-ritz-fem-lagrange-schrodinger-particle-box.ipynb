{
 "cells": [
  {
   "cell_type": "markdown",
   "metadata": {},
   "source": [
    "ChEn-5310: Computational Continuum Transport Phenomena Spring 2022 UMass Lowell; Prof. V. F. de Almeida **10Feb22**\n",
    "\n",
    "# 16. Rayleigh-Ritz Method w/ Finite Element Lagrange Basis Functions\n",
    "$  \n",
    "  \\newcommand{\\Amtrx}{\\boldsymbol{\\mathsf{A}}}\n",
    "  \\newcommand{\\Bmtrx}{\\boldsymbol{\\mathsf{B}}}\n",
    "  \\newcommand{\\Mmtrx}{\\boldsymbol{\\mathsf{M}}}\n",
    "  \\newcommand{\\Imtrx}{\\boldsymbol{\\mathsf{I}}}\n",
    "  \\newcommand{\\Pmtrx}{\\boldsymbol{\\mathsf{P}}}\n",
    "  \\newcommand{\\Lmtrx}{\\boldsymbol{\\mathsf{L}}}\n",
    "  \\newcommand{\\Umtrx}{\\boldsymbol{\\mathsf{U}}}\n",
    "  \\newcommand{\\Dmtrx}{\\boldsymbol{\\mathsf{D}}}\n",
    "  \\newcommand{\\Gmtrx}{\\boldsymbol{\\mathsf{G}}}\n",
    "  \\newcommand{\\Smtrx}{\\boldsymbol{\\mathsf{S}}}\n",
    "  \\newcommand{\\xvec}{\\boldsymbol{\\mathsf{x}}}\n",
    "  \\newcommand{\\avec}{\\boldsymbol{\\mathsf{a}}}\n",
    "  \\newcommand{\\bvec}{\\boldsymbol{\\mathsf{b}}}\n",
    "  \\newcommand{\\cvec}{\\boldsymbol{\\mathsf{c}}}\n",
    "  \\newcommand{\\rvec}{\\boldsymbol{\\mathsf{r}}}\n",
    "  \\newcommand{\\fvec}{\\boldsymbol{\\mathsf{f}}}\n",
    "  \\newcommand{\\mvec}{\\boldsymbol{\\mathsf{m}}}\n",
    "  \\newcommand{\\gvec}{\\boldsymbol{\\mathsf{g}}}\n",
    "  \\newcommand{\\zerovec}{\\boldsymbol{\\mathsf{0}}}\n",
    "  \\newcommand{\\norm}[1]{\\bigl\\lVert{#1}\\bigr\\rVert}\n",
    "  \\newcommand{\\transpose}[1]{{#1}^\\top}\n",
    "  \\DeclareMathOperator{\\rank}{rank}\n",
    "  \\newcommand{\\Reals}{\\mathbb{R}}\n",
    "  \\newcommand{\\thetavec}{\\boldsymbol{\\theta}}\n",
    "  \\newcommand{\\Ecal}{\\mathcal{E}}\n",
    "$"
   ]
  },
  {
   "cell_type": "markdown",
   "metadata": {},
   "source": [
    "---\n",
    "\n",
    "## Table of Contents<a id=\"toc\"></a>\n",
    "* [Objectives](#obj)\n",
    "1. [Poisson Eigenvalue Problem with Dirichlet Boundary Conditions](#problem)\n",
    "1. [Rayleigh-Ritz Method with Dirichlet Boundary Conditions](#rayleigh-ritz)\n",
    "   + [Data](#data)\n",
    "   + [Finite Element Lagrange Basis Functions](#fem-lagrange-basis)\n",
    "   + [Results](#results)\n",
    "---"
   ]
  },
  {
   "cell_type": "markdown",
   "metadata": {},
   "source": [
    "## [Objectives](#toc)<a id=\"obj\"></a>\n",
    "\n",
    " + Describe the Rayleigh-Ritz method for solving linear differential equations with symmetric positive definite operators (OneNote [Engy-5310-rayleigh-ritz-method](https://studentuml-my.sharepoint.com/:o:/g/personal/valmor_dealmeida_uml_edu/EsTzIb2Mcv5OkcSk0kSXXF8BXM4OnlzGfAd7sdcWLky-Gw?e=FQvvy1)).\n",
    " + Use the function approximation theory described in the course (see previous notebooks and notes).\n",
    " + Apply the finite element Lagrange basis functions."
   ]
  },
  {
   "cell_type": "markdown",
   "metadata": {},
   "source": [
    "## [Poisson Eigenvalue Problem with Dirichlet Boundary Conditions](#toc)<a id=\"problem\"></a>\n",
    "\n",
    "The following sections describe what is referred to in the literature as the one-dimensional Poisson problem with Dirichlet boundary conditions. This is a classical boundary-value problem of mathematics."
   ]
  },
  {
   "cell_type": "markdown",
   "metadata": {},
   "source": [
    "The motion of a quantum free particle of mass $\\mu$ and energy $E$ confined to a box of size $L$ is described by the Schrodinger equation and the following associated problem of finding the wave function $\\psi:[0,L]\\subset\\Reals\\rightarrow\\Reals$ such that:\n",
    "\n",
    "\\begin{align*}\n",
    " -\\frac{\\hbar^2}{\\\\2\\mu} \\frac{d^2\\psi}{\\\\dx^2} + V(x)\\,\\psi &= E\\,\\psi \\quad\\quad \\forall \\quad\\quad x\\in\\ ]0,L[, \\\\\n",
    "  \\psi(0) &= 0, \\\\\n",
    "  \\psi(L) &= 0,\n",
    "\\end{align*}\n",
    "\n",
    "with no potential energy $V(x)\\equiv 0$."
   ]
  },
  {
   "cell_type": "markdown",
   "metadata": {},
   "source": [
    "In this course's notation, it is equivalent to solving the Poisson model problem. Find $u:[a,b]\\subset\\Reals\\rightarrow\\Reals$ such that:\n",
    "\n",
    "\\begin{align*}\n",
    " -\\bigl(-D\\, u'\\bigr)'(x) + E\\,u(x) &= 0 \\quad\\quad \\forall \\quad\\quad x\\in\\ ]a,b[, \\\\\n",
    " u(a) &= 0, \\\\\n",
    " u(b) &= 0.\n",
    "\\end{align*}\n",
    "   \n",
    "This problem is linear and has an analytical solution for given data: diffusion coefficient, $D$, source, and $E$ slope. The *diffusion flux* associated to the quantity $u$, is denoted $q := -D\\,u'$, and it is often of interest as a derived quantity.\n",
    "\n",
    "The normal diffusive flux at $x=b$ is $q_n(b) = -D\\,u'(b) = q_{nb}$\n",
    "\n",
    "The values of the dependent variable are given on the two end points of the domain. This is called *essential* boundary conditions or  *Dirichlet boundary conditions*. If the values are equal to zero, the boundary condition is referred to as homogeneous."
   ]
  },
  {
   "cell_type": "markdown",
   "metadata": {},
   "source": [
    "## [Rayleigh-Ritz Method w/ Dirichlet Boundary Conditions](#toc)<a id=\"rayleigh-ritz\"></a>\n",
    "\n",
    "Find $u^*_N \\in V_N(a,b)\\subset V(a,b) = \\bigl\\{ u:[a,b]\\subset\\Reals\\rightarrow\\Reals  \\bigr\\}$ such that it minimizes the Poisson energy norm:\n",
    "\n",
    "\\begin{equation*}\n",
    "   \\norm{u_0-u^*_N}^2_{\\Ecal} = \\min\\limits_{u_0\\, \\in\\, V} \\norm{u_0-u_N}^2_{\\Ecal},\n",
    "\\end{equation*}\n",
    "\n",
    "where \n",
    "$V_N(a,b) := \\bigl\\{ u_N = \\sum\\limits_{i=1}^N\\,c_i\\,\\phi_i \\mid u_N(a) = u_N(b) = 0, (u'_N,u'_N) < \\infty \\bigr\\}$, $\\{\\phi_i\\mid i=1\\ldots,N\\}$ is a basis of $V_N(a,b)$.\n",
    "\n",
    "The optimum coefficients $\\cvec^* := \\{c_i\\mid i=1,\\ldots,N\\}$ solve\n",
    "\n",
    "\\begin{equation*}\n",
    "  \\overset{(N\\times N)}{\\Amtrx} \\,\\overset{(N\\times 1)}{\\cvec^*}  = \n",
    "  \\biggl(\\overset{(N\\times N)}{\\Dmtrx} - E\\,\\overset{(N\\times N)}{\\Gmtrx}\\biggr)\\,\\overset{(N\\times 1)}{\\cvec^*} = \\overset{(N\\times 1)}\\zerovec ,\n",
    "\\end{equation*}\n",
    "\n",
    "where:\n",
    "  + $A_{i,j} = \\bigl(D\\,\\phi'_i,\\phi'_j\\bigr) - E\\bigl(\\phi_i,\\phi_j\\bigr)$\n",
    "  \n",
    "This formulation uses basis functions that satisfy the left homogeneous boundary condition, however the linear algebraic problem for the optimum coefficients accounts for the inhomogeneous boundary condition data through the lift function $w$."
   ]
  },
  {
   "cell_type": "markdown",
   "metadata": {},
   "source": [
    "### [Data](#toc)<a id=\"data\"></a>\n",
    "\n",
    "Solve problem with parameter values:\n",
    "\n",
    "> + a = 0\n",
    "> + b = $2\\,r_\\text{vdw}$  (diameter of atom)\n",
    "> + D = $\\frac{\\hbar^2}{\\\\2\\mu} $"
   ]
  },
  {
   "cell_type": "code",
   "execution_count": 26,
   "metadata": {
    "ExecuteTime": {
     "end_time": "2022-04-14T19:43:04.697205Z",
     "start_time": "2022-04-14T19:43:04.693919Z"
    }
   },
   "outputs": [],
   "source": [
    "'''SI units'''\n",
    "from scipy import constants as unit\n",
    "from scipy import constants as const\n",
    "unit.meter = 1"
   ]
  },
  {
   "cell_type": "code",
   "execution_count": 27,
   "metadata": {
    "ExecuteTime": {
     "end_time": "2022-04-14T19:43:04.854862Z",
     "start_time": "2022-04-14T19:43:04.851122Z"
    }
   },
   "outputs": [],
   "source": [
    "'''Importing the mendeleev package'''\n",
    "\n",
    "try:\n",
    "    import mendeleev  # creates the `name` mendeleev\n",
    "except ImportError:\n",
    "    print('Installing the \"mendeleev\" package...')\n",
    "    print('')\n",
    "    !pip install mendeleev\n",
    "    import mendeleev\n",
    "    \n",
    "from mendeleev import element"
   ]
  },
  {
   "cell_type": "code",
   "execution_count": 28,
   "metadata": {
    "ExecuteTime": {
     "end_time": "2022-04-14T19:43:05.062344Z",
     "start_time": "2022-04-14T19:43:05.030119Z"
    }
   },
   "outputs": [],
   "source": [
    "'''Choose chemical element where the particle (electron) is localized'''\n",
    "\n",
    "element_name = 'Phosphorus' # capitalized name\n",
    "ele = element(element_name)\n",
    "vdw_radius = ele.vdw_radius * unit.pico*unit.meter"
   ]
  },
  {
   "cell_type": "code",
   "execution_count": 29,
   "metadata": {
    "ExecuteTime": {
     "end_time": "2022-04-14T19:43:05.185106Z",
     "start_time": "2022-04-14T19:43:05.182123Z"
    }
   },
   "outputs": [],
   "source": [
    "'''Domain'''\n",
    "x_a = 0*unit.angstrom\n",
    "x_b = 2*vdw_radius"
   ]
  },
  {
   "cell_type": "code",
   "execution_count": 30,
   "metadata": {
    "ExecuteTime": {
     "end_time": "2022-04-14T19:43:05.318592Z",
     "start_time": "2022-04-14T19:43:05.315809Z"
    }
   },
   "outputs": [],
   "source": [
    "'''Parameters and data'''\n",
    "hbar = const.hbar\n",
    "mu = const.m_e\n",
    "diffusion_coeff = hbar**2/2/mu"
   ]
  },
  {
   "cell_type": "code",
   "execution_count": 41,
   "metadata": {
    "ExecuteTime": {
     "end_time": "2022-04-14T19:43:06.150258Z",
     "start_time": "2022-04-14T19:43:05.483541Z"
    }
   },
   "outputs": [
    {
     "ename": "ModuleNotFoundError",
     "evalue": "No module named 'engy_5310'",
     "output_type": "error",
     "traceback": [
      "\u001b[1;31m---------------------------------------------------------------------------\u001b[0m",
      "\u001b[1;31mModuleNotFoundError\u001b[0m                       Traceback (most recent call last)",
      "\u001b[1;32m~\\AppData\\Local\\Temp/ipykernel_6916/334047453.py\u001b[0m in \u001b[0;36m<module>\u001b[1;34m\u001b[0m\n\u001b[0;32m      1\u001b[0m \u001b[1;34m'''Build the basis functions'''\u001b[0m\u001b[1;33m\u001b[0m\u001b[1;33m\u001b[0m\u001b[0m\n\u001b[0;32m      2\u001b[0m \u001b[1;33m\u001b[0m\u001b[0m\n\u001b[1;32m----> 3\u001b[1;33m \u001b[1;32mfrom\u001b[0m \u001b[0mengy_5310\u001b[0m\u001b[1;33m.\u001b[0m\u001b[0mtoolkit\u001b[0m \u001b[1;32mimport\u001b[0m \u001b[0mLagrangeFEMBasis\u001b[0m\u001b[1;33m\u001b[0m\u001b[1;33m\u001b[0m\u001b[0m\n\u001b[0m\u001b[0;32m      4\u001b[0m \u001b[1;33m\u001b[0m\u001b[0m\n\u001b[0;32m      5\u001b[0m \u001b[0mdegree\u001b[0m \u001b[1;33m=\u001b[0m \u001b[1;36m2\u001b[0m\u001b[1;33m\u001b[0m\u001b[1;33m\u001b[0m\u001b[0m\n",
      "\u001b[1;31mModuleNotFoundError\u001b[0m: No module named 'engy_5310'"
     ]
    }
   ],
   "source": [
    "'''Build the basis functions'''\n",
    "\n",
    "from engy_5310.toolkit import LagrangeFEMBasis \n",
    "\n",
    "degree = 2\n",
    "n_elem = [10] \n",
    "\n",
    "femlb = LagrangeFEMBasis(degree=degree, n_elem=n_elem, x_partition=[x_a, x_b], bc_x_min='dirichlet', bc_x_max='dirichlet')\n",
    "femlb.plot(n_plot_pts=400)"
   ]
  },
  {
   "cell_type": "markdown",
   "metadata": {},
   "source": [
    "  + $A_{i,j} = \\bigl(D\\,\\phi'_i,\\phi'_j\\bigr) - E\\bigl(\\phi_i,\\phi_j\\bigr)$"
   ]
  },
  {
   "cell_type": "code",
   "execution_count": 32,
   "metadata": {
    "ExecuteTime": {
     "end_time": "2022-04-14T19:43:06.163186Z",
     "start_time": "2022-04-14T19:43:06.153010Z"
    }
   },
   "outputs": [],
   "source": [
    "'''Build the matrix of coefficients of the linear system'''\n",
    "\n",
    "d_mtrx = femlb.inner_product_matrix(lambda x: diffusion_coeff, \"u'\", \"v'\")\n",
    "g_mtrx = femlb.inner_product_matrix(lambda x:1.0, 'u', 'v')"
   ]
  },
  {
   "cell_type": "code",
   "execution_count": 33,
   "metadata": {
    "ExecuteTime": {
     "end_time": "2022-04-14T19:43:06.217047Z",
     "start_time": "2022-04-14T19:43:06.212675Z"
    }
   },
   "outputs": [
    {
     "name": "stdout",
     "output_type": "stream",
     "text": [
      "D is full rank.\n",
      "G is full rank.\n"
     ]
    }
   ],
   "source": [
    "import numpy as np\n",
    "    \n",
    "if np.linalg.matrix_rank(d_mtrx) == min(d_mtrx.shape):\n",
    "    print('D is full rank.')\n",
    "else:\n",
    "    print('D is rank deficient.')\n",
    "\n",
    "if np.linalg.matrix_rank(g_mtrx) == min(g_mtrx.shape):\n",
    "    print('G is full rank.')\n",
    "else:\n",
    "    print('G is rank deficient.')"
   ]
  },
  {
   "cell_type": "code",
   "execution_count": 34,
   "metadata": {
    "ExecuteTime": {
     "end_time": "2022-04-14T19:43:06.372912Z",
     "start_time": "2022-04-14T19:43:06.369759Z"
    }
   },
   "outputs": [],
   "source": [
    "'''Compute optimal coefficient eigenvectors'''\n",
    "import scipy\n",
    "lambda_vec, eigen_vec = scipy.linalg.eigh(d_mtrx, g_mtrx)"
   ]
  },
  {
   "cell_type": "code",
   "execution_count": 40,
   "metadata": {
    "ExecuteTime": {
     "end_time": "2022-04-14T19:43:06.529943Z",
     "start_time": "2022-04-14T19:43:06.525111Z"
    }
   },
   "outputs": [
    {
     "ename": "NameError",
     "evalue": "name 'lambda_vec' is not defined",
     "output_type": "error",
     "traceback": [
      "\u001b[1;31m---------------------------------------------------------------------------\u001b[0m",
      "\u001b[1;31mNameError\u001b[0m                                 Traceback (most recent call last)",
      "\u001b[1;32m~\\AppData\\Local\\Temp/ipykernel_6916/329091155.py\u001b[0m in \u001b[0;36m<module>\u001b[1;34m\u001b[0m\n\u001b[0;32m      2\u001b[0m \u001b[1;32mimport\u001b[0m \u001b[0mmath\u001b[0m\u001b[1;33m\u001b[0m\u001b[1;33m\u001b[0m\u001b[0m\n\u001b[0;32m      3\u001b[0m \u001b[0mnp\u001b[0m\u001b[1;33m.\u001b[0m\u001b[0mset_printoptions\u001b[0m\u001b[1;33m(\u001b[0m\u001b[0mprecision\u001b[0m\u001b[1;33m=\u001b[0m\u001b[1;36m5\u001b[0m\u001b[1;33m)\u001b[0m\u001b[1;33m\u001b[0m\u001b[1;33m\u001b[0m\u001b[0m\n\u001b[1;32m----> 4\u001b[1;33m \u001b[0menergy_dimensionless\u001b[0m \u001b[1;33m=\u001b[0m \u001b[0mlambda_vec\u001b[0m\u001b[1;33m/\u001b[0m\u001b[1;33m(\u001b[0m\u001b[0mdiffusion_coeff\u001b[0m\u001b[1;33m*\u001b[0m\u001b[0mmath\u001b[0m\u001b[1;33m.\u001b[0m\u001b[0mpi\u001b[0m\u001b[1;33m**\u001b[0m\u001b[1;36m2\u001b[0m\u001b[1;33m/\u001b[0m\u001b[0mx_b\u001b[0m\u001b[1;33m**\u001b[0m\u001b[1;36m2\u001b[0m\u001b[1;33m)\u001b[0m\u001b[1;33m\u001b[0m\u001b[1;33m\u001b[0m\u001b[0m\n\u001b[0m\u001b[0;32m      5\u001b[0m \u001b[0mprint\u001b[0m\u001b[1;33m(\u001b[0m\u001b[1;34m'E [hbar^2/2/mu*pi^2/L^2] = '\u001b[0m\u001b[1;33m,\u001b[0m \u001b[0menergy_dimensionless\u001b[0m\u001b[1;33m[\u001b[0m\u001b[1;33m:\u001b[0m\u001b[1;36m5\u001b[0m\u001b[1;33m]\u001b[0m\u001b[1;33m)\u001b[0m\u001b[1;33m\u001b[0m\u001b[1;33m\u001b[0m\u001b[0m\n\u001b[0;32m      6\u001b[0m \u001b[0mquantum_numbers\u001b[0m \u001b[1;33m=\u001b[0m \u001b[0mnp\u001b[0m\u001b[1;33m.\u001b[0m\u001b[0mround\u001b[0m\u001b[1;33m(\u001b[0m\u001b[0mnp\u001b[0m\u001b[1;33m.\u001b[0m\u001b[0msqrt\u001b[0m\u001b[1;33m(\u001b[0m\u001b[0menergy_dimensionless\u001b[0m\u001b[1;33m)\u001b[0m\u001b[1;33m,\u001b[0m\u001b[1;36m1\u001b[0m\u001b[1;33m)\u001b[0m\u001b[1;33m\u001b[0m\u001b[1;33m\u001b[0m\u001b[0m\n",
      "\u001b[1;31mNameError\u001b[0m: name 'lambda_vec' is not defined"
     ]
    }
   ],
   "source": [
    "import numpy as np\n",
    "import math\n",
    "np.set_printoptions(precision=5)\n",
    "energy_dimensionless = lambda_vec/(diffusion_coeff*math.pi**2/x_b**2)\n",
    "print('E [hbar^2/2/mu*pi^2/L^2] = ', energy_dimensionless[:5])\n",
    "quantum_numbers = np.round(np.sqrt(energy_dimensionless),1)\n",
    "print('Quantum numbers = ', quantum_numbers[:5])"
   ]
  },
  {
   "cell_type": "code",
   "execution_count": 36,
   "metadata": {
    "ExecuteTime": {
     "end_time": "2022-04-14T19:43:06.904818Z",
     "start_time": "2022-04-14T19:43:06.900591Z"
    }
   },
   "outputs": [],
   "source": [
    "'''Build the best approximation function in V_N'''\n",
    "\n",
    "def u_star(x, c_star_vec):\n",
    "    u_0 = femlb.evaluation_matrix(x)@c_star_vec\n",
    "    return u_0"
   ]
  },
  {
   "cell_type": "code",
   "execution_count": 37,
   "metadata": {
    "ExecuteTime": {
     "end_time": "2022-04-14T19:43:07.150596Z",
     "start_time": "2022-04-14T19:43:07.146827Z"
    }
   },
   "outputs": [],
   "source": [
    "'''Build the derivative '''\n",
    "\n",
    "def u_prime_star(x, c_star_vec):\n",
    "    u_0 = femlb.evaluation_matrix(x, derivative=True)@c_star_vec\n",
    "    return u_0"
   ]
  },
  {
   "cell_type": "code",
   "execution_count": 38,
   "metadata": {
    "ExecuteTime": {
     "end_time": "2022-04-14T19:43:07.422227Z",
     "start_time": "2022-04-14T19:43:07.419456Z"
    }
   },
   "outputs": [],
   "source": [
    "'''Build the best approximation function in V_N'''\n",
    "\n",
    "def u_flux_x(x, c_star_vec):\n",
    "    return -diffusion_coeff*u_prime_star(x, c_star_vec)"
   ]
  },
  {
   "cell_type": "code",
   "execution_count": 39,
   "metadata": {
    "ExecuteTime": {
     "end_time": "2022-04-14T19:43:08.489442Z",
     "start_time": "2022-04-14T19:43:08.466690Z"
    }
   },
   "outputs": [
    {
     "name": "stdout",
     "output_type": "stream",
     "text": [
      "First Quantum Number\n",
      "\n",
      "   x [A]        u [a.u.]      -D u'_x [a.u.]\n",
      " 1)  0.00        0.00000       1.00000\n",
      " 2)  0.15        0.13063       0.97974\n",
      " 3)  0.30        0.25858       0.95948\n",
      " 4)  0.45        0.38290       0.91546\n",
      " 5)  0.60        0.49983       0.85666\n",
      " 6)  0.75        0.60888       0.79010\n",
      " 7)  0.90        0.70710       0.69851\n",
      " 8)  1.05        0.79324       0.60693\n",
      " 9)  1.20        0.86611       0.49464\n",
      "10)  1.35        0.92377       0.37923\n",
      "11)  1.50        0.96597       0.25688\n",
      "12)  1.65        0.99142       0.12895\n",
      "13)  1.80        1.00000       0.00102\n",
      "14)  1.95        0.99142       -0.12895\n",
      "15)  2.10        0.96597       -0.25688\n",
      "16)  2.25        0.92377       -0.37923\n",
      "17)  2.40        0.86611       -0.49464\n",
      "18)  2.55        0.79324       -0.60693\n",
      "19)  2.70        0.70710       -0.69851\n",
      "20)  2.85        0.60888       -0.79010\n",
      "21)  3.00        0.49983       -0.85666\n",
      "22)  3.15        0.38290       -0.91546\n",
      "23)  3.30        0.25858       -0.95948\n",
      "24)  3.45        0.13063       -0.97974\n",
      "25)  3.60        -0.00000       -1.00000\n"
     ]
    }
   ],
   "source": [
    "'''Table of results for the fundamental mode'''\n",
    "\n",
    "x_table = np.linspace(x_a, x_b, 25)\n",
    "\n",
    "c_star_vec = eigen_vec[:,0]/scipy.linalg.norm(eigen_vec[:,0])\n",
    "u_values = u_star(x_table, c_star_vec)\n",
    "(normalizing_val, ) = np.where(np.abs(u_values) == np.abs(u_values).max())\n",
    "u_values /= u_values[normalizing_val[0]]\n",
    "flux_values = u_flux_x(x_table, c_star_vec)\n",
    "(normalizing_val, ) = np.where(np.abs(flux_values) == np.abs(flux_values).max())\n",
    "flux_values /= flux_values[normalizing_val[0]]\n",
    "\n",
    "print('First Quantum Number')\n",
    "print('')\n",
    "\n",
    "print(\"   x [A]        u [a.u.]      -D u'_x [a.u.]\")\n",
    "for i,(x,t,q)in enumerate(zip(x_table, u_values, flux_values)):\n",
    "    print('%2i)'%(i+1), ' %2.2f'%(x/unit.angstrom), '       %3.5f'%t, '      %3.5f'%q)"
   ]
  },
  {
   "cell_type": "code",
   "execution_count": 37,
   "metadata": {
    "ExecuteTime": {
     "end_time": "2022-04-14T19:40:18.409047Z",
     "start_time": "2022-04-14T19:40:18.388656Z"
    },
    "code_folding": [
     3
    ]
   },
   "outputs": [
    {
     "ename": "ModuleNotFoundError",
     "evalue": "No module named 'engy_5310'",
     "output_type": "error",
     "traceback": [
      "\u001b[1;31m---------------------------------------------------------------------------\u001b[0m",
      "\u001b[1;31mModuleNotFoundError\u001b[0m                       Traceback (most recent call last)",
      "\u001b[1;32m~\\AppData\\Local\\Temp/ipykernel_6916/1025518547.py\u001b[0m in \u001b[0;36m<module>\u001b[1;34m\u001b[0m\n\u001b[0;32m      1\u001b[0m \u001b[1;34m'''Plot neutron flux modes'''\u001b[0m\u001b[1;33m\u001b[0m\u001b[1;33m\u001b[0m\u001b[0m\n\u001b[1;32m----> 2\u001b[1;33m \u001b[1;32mfrom\u001b[0m \u001b[0mengy_5310\u001b[0m\u001b[1;33m.\u001b[0m\u001b[0mtoolkit\u001b[0m \u001b[1;32mimport\u001b[0m \u001b[0mcolor_map\u001b[0m\u001b[1;33m\u001b[0m\u001b[1;33m\u001b[0m\u001b[0m\n\u001b[0m\u001b[0;32m      3\u001b[0m \u001b[1;33m\u001b[0m\u001b[0m\n\u001b[0;32m      4\u001b[0m \u001b[1;32mdef\u001b[0m \u001b[0mplot_modes\u001b[0m\u001b[1;33m(\u001b[0m\u001b[0mk_vec\u001b[0m\u001b[1;33m,\u001b[0m \u001b[0meigen_vec\u001b[0m\u001b[1;33m)\u001b[0m\u001b[1;33m:\u001b[0m\u001b[1;33m\u001b[0m\u001b[1;33m\u001b[0m\u001b[0m\n\u001b[0;32m      5\u001b[0m \u001b[1;33m\u001b[0m\u001b[0m\n",
      "\u001b[1;31mModuleNotFoundError\u001b[0m: No module named 'engy_5310'"
     ]
    }
   ],
   "source": [
    "'''Plot neutron flux modes'''\n",
    "from engy_5310.toolkit import color_map\n",
    "\n",
    "def plot_modes(k_vec, eigen_vec):\n",
    "\n",
    "    k_vec = k_vec.round(5)\n",
    "    n_pts = 300\n",
    "    x = np.linspace(x_a, x_b, n_pts)\n",
    "    \n",
    "    \n",
    "    import matplotlib.pyplot as plt\n",
    "    plt.style.use('classic')\n",
    "    (fig, ax1) = plt.subplots(1, figsize=(14, 5))\n",
    "    ax2 = ax1.twinx()\n",
    "    \n",
    "    colors = color_map(k_vec.shape[0])\n",
    "\n",
    "    for j,k in enumerate(k_vec):\n",
    "        c_star_vec = eigen_vec[:,j]/scipy.linalg.norm(eigen_vec[:,j])\n",
    "        \n",
    "        u_values = u_star(x, c_star_vec)\n",
    "        (normalizing_val, ) = np.where(np.abs(u_values) == np.abs(u_values).max())\n",
    "        u_values /= u_values[normalizing_val[0]]\n",
    "\n",
    "        u_flux_x_values = u_flux_x(x, c_star_vec)\n",
    "        (normalizing_val, ) = np.where(np.abs(u_flux_x_values) == np.abs(u_flux_x_values).max())\n",
    "        u_flux_x_values /= u_flux_x_values[normalizing_val[0]]\n",
    "\n",
    "        ax1.plot(x/unit.angstrom, u_values, '-', label=r'wave function $n$=%2.2f'%k, color=colors[j])\n",
    "        \n",
    "        ax1.set_xlabel(r'$x$ [A]', fontsize=18)\n",
    "        ax1.set_ylabel(r'$u_N$ [a.u.]', fontsize=18, color='black')\n",
    "        ax1.tick_params(axis='y', labelcolor='black', labelsize=16)\n",
    "        ax1.tick_params(axis='x', labelsize=16)\n",
    "        ax1.legend(loc='upper left', fontsize=12)\n",
    "        ax1.grid(True)\n",
    "        \n",
    "        ax2.plot(x/unit.angstrom, u_flux_x_values,'--', color=colors[j], label='flux $n$=%2.2f'%k)\n",
    "\n",
    "        ax2.set_ylabel(r\"$-D\\,u'_N$ [a.u.]\", fontsize=16, color='black')\n",
    "        ax2.tick_params(axis='y', labelcolor='black', labelsize=16)\n",
    "        ax2.legend(loc='upper right', fontsize=12)\n",
    "        \n",
    "    plt.title(r'Electron Energy Modes ($n$=%s # elem=%s, N=%i)'%(str(list(k_vec)),n_elem,len(femlb.basis_func_list)), fontsize=20)\n",
    "    plt.show()"
   ]
  },
  {
   "cell_type": "code",
   "execution_count": 38,
   "metadata": {
    "ExecuteTime": {
     "end_time": "2022-04-14T19:40:18.789188Z",
     "start_time": "2022-04-14T19:40:18.411109Z"
    },
    "scrolled": true
   },
   "outputs": [
    {
     "ename": "NameError",
     "evalue": "name 'plot_modes' is not defined",
     "output_type": "error",
     "traceback": [
      "\u001b[1;31m---------------------------------------------------------------------------\u001b[0m",
      "\u001b[1;31mNameError\u001b[0m                                 Traceback (most recent call last)",
      "\u001b[1;32m~\\AppData\\Local\\Temp/ipykernel_6916/3288756840.py\u001b[0m in \u001b[0;36m<module>\u001b[1;34m\u001b[0m\n\u001b[1;32m----> 1\u001b[1;33m \u001b[0mplot_modes\u001b[0m\u001b[1;33m(\u001b[0m\u001b[0mquantum_numbers\u001b[0m\u001b[1;33m[\u001b[0m\u001b[1;36m0\u001b[0m\u001b[1;33m:\u001b[0m\u001b[1;36m1\u001b[0m\u001b[1;33m]\u001b[0m\u001b[1;33m,\u001b[0m \u001b[0meigen_vec\u001b[0m\u001b[1;33m[\u001b[0m\u001b[1;33m:\u001b[0m\u001b[1;33m,\u001b[0m\u001b[1;36m0\u001b[0m\u001b[1;33m:\u001b[0m\u001b[1;36m1\u001b[0m\u001b[1;33m]\u001b[0m\u001b[1;33m)\u001b[0m\u001b[1;33m\u001b[0m\u001b[1;33m\u001b[0m\u001b[0m\n\u001b[0m",
      "\u001b[1;31mNameError\u001b[0m: name 'plot_modes' is not defined"
     ]
    }
   ],
   "source": [
    "plot_modes(quantum_numbers[0:1], eigen_vec[:,0:1])"
   ]
  },
  {
   "cell_type": "code",
   "execution_count": 39,
   "metadata": {
    "ExecuteTime": {
     "end_time": "2022-04-14T19:40:19.273909Z",
     "start_time": "2022-04-14T19:40:18.790746Z"
    }
   },
   "outputs": [
    {
     "ename": "NameError",
     "evalue": "name 'plot_modes' is not defined",
     "output_type": "error",
     "traceback": [
      "\u001b[1;31m---------------------------------------------------------------------------\u001b[0m",
      "\u001b[1;31mNameError\u001b[0m                                 Traceback (most recent call last)",
      "\u001b[1;32m~\\AppData\\Local\\Temp/ipykernel_6916/332857654.py\u001b[0m in \u001b[0;36m<module>\u001b[1;34m\u001b[0m\n\u001b[1;32m----> 1\u001b[1;33m \u001b[0mplot_modes\u001b[0m\u001b[1;33m(\u001b[0m\u001b[0mquantum_numbers\u001b[0m\u001b[1;33m[\u001b[0m\u001b[1;36m1\u001b[0m\u001b[1;33m:\u001b[0m\u001b[1;36m5\u001b[0m\u001b[1;33m]\u001b[0m\u001b[1;33m,\u001b[0m \u001b[0meigen_vec\u001b[0m\u001b[1;33m[\u001b[0m\u001b[1;33m:\u001b[0m\u001b[1;33m,\u001b[0m\u001b[1;36m1\u001b[0m\u001b[1;33m:\u001b[0m\u001b[1;36m5\u001b[0m\u001b[1;33m]\u001b[0m\u001b[1;33m)\u001b[0m\u001b[1;33m\u001b[0m\u001b[1;33m\u001b[0m\u001b[0m\n\u001b[0m",
      "\u001b[1;31mNameError\u001b[0m: name 'plot_modes' is not defined"
     ]
    }
   ],
   "source": [
    "plot_modes(quantum_numbers[1:5], eigen_vec[:,1:5])"
   ]
  },
  {
   "cell_type": "markdown",
   "metadata": {},
   "source": [
    "# Assignment 1 \n",
    "\n",
    "### Particle in Box: \n",
    "\n",
    "\n",
    " Imagine a classical free particle of mass μ and energy E is bouncing back and forth between walls separated by a distance L apart. This is sometimes called the particle in a box. One wall is at x = 0 and the other is at x = L, where L is the length of the box. Wave functions for the particle in a box must satisfy ψ(0) = ψ(L) = 0.\n",
    "You can use any arbitrary potential function, in this case potential is zero in the box (x from 0 to L).\n",
    "\n",
    "Consider the wave function; $ ψ(x) =  Asin(kx)   $ for $ 0 < x < L $ and $ ψ(x) = 0 $ for  elsewhere. \n",
    "To find \"A\", we use the normalization equation: \n",
    "\n",
    "$ \\int_{0}^{L} |ψ(x)|^2dx = 1 $      then : $ A = \\sqrt{\\frac{2}{\\\\L}} $\n",
    "\n",
    "\n",
    "This wave function must satisfies the Schrodinger eq:\n",
    "\n",
    "$    -\\frac{h^2}{\\\\2μ} \\frac{d^2ψ}{\\\\dx^2} + V(x)ψ = Eψ           $,   in which $ V(x)$ is zero and $kL = πn$ for n = 1, 2, ...\n",
    "\n",
    "\n",
    " With B.C: \n",
    " $ ψ(0) = ψ(L) = 0 $\n",
    " \n",
    "The energy eigenstates |n> have wave functions:\n",
    "\n",
    "$ ψ_n(x) =  \\sqrt{\\frac{2}{\\\\L}} sin(k_nx) $\n",
    "\n",
    "where $ k_n = πn/L $ and $ n = 1, 2, ...$ Again, we have a discrete quantum number n labeling the possible states. By substitution this wave function in Schrodinger equation, their energies can be obtained by:\n",
    "\n",
    "\n",
    "$    \\frac{h^2}{\\\\2μ} \\sqrt{\\frac{2}{\\\\L}}k_n^2 sin(k_nx)  + V(x)\\sqrt{\\frac{2}{\\\\L}} sin(k_nx) = E\\sqrt{\\frac{2}{\\\\L}} sin(k_nx)           $\n",
    "\n",
    "we had $ V(x) = 0 $\n",
    "\n",
    "$    \\frac{h^2}{\\\\2μ} k_n^2   = E           $\n",
    "\n",
    "\n",
    "\n",
    "$ E_n = \\frac{h^2 k_n^2}{\\\\2μ} =  \\Bigg(\\frac{π^2 h^2}{\\\\2μL^2}\\Bigg) n^2                                             $\n",
    "\n",
    "Energy levels and stationary state wave functions for the particle in a 1-D box. It is a common convention for the wave functions to be drawn on the corresponding energy level.\n",
    "\n"
   ]
  },
  {
   "cell_type": "code",
   "execution_count": 2,
   "metadata": {
    "ExecuteTime": {
     "end_time": "2022-04-14T19:40:19.429823Z",
     "start_time": "2022-04-14T19:40:19.275917Z"
    }
   },
   "outputs": [
    {
     "data": {
      "text/plain": [
       "Text(0.5, 1.0, 'Particle in Box')"
      ]
     },
     "execution_count": 2,
     "metadata": {},
     "output_type": "execute_result"
    },
    {
     "data": {
      "image/png": "[encoded data removed]",
      "text/plain": [
       "<Figure size 432x288 with 1 Axes>"
      ]
     },
     "metadata": {},
     "output_type": "display_data"
    }
   ],
   "source": [
    "import numpy as np\n",
    "import math\n",
    "import matplotlib.pyplot as plt\n",
    "plt.style.use('dark_background')\n",
    "\n",
    "L=3.9 # Angstrom\n",
    "\n",
    "def f(x,n):\n",
    "    return np.sin(n*x*np.pi/L)\n",
    "\n",
    "xlist=np.linspace(0 ,L)\n",
    "ylist=f(xlist, 1)\n",
    "zlist=f(xlist, 2)\n",
    "glist=f(xlist, 3)\n",
    "mlist=f(xlist, 4)\n",
    "alist=f(xlist, 5)\n",
    "plist=f(xlist, 6)\n",
    "hlist=f(xlist, 7)\n",
    "klist=f(xlist, 8)\n",
    "plt.plot(xlist,ylist, label=\"W1'[]\", color='red')\n",
    "plt.plot(xlist,zlist , label=\"W2\", color='orange')\n",
    "plt.plot(xlist,glist , label=\"W3\", color='cyan')\n",
    "plt.plot(xlist,mlist,label='W4', color='yellow')\n",
    "#plt.plot(xlist,alist ,label='W5', color='pink')\n",
    "#plt.plot(xlist,plist ,label='W6', color='purple')\n",
    "#plt.plot(xlist,hlist ,'--',label='W7', color='pink')\n",
    "#plt.plot(xlist,klist ,label='W8', color='orange')\n",
    "plt.xlabel('x [A]');plt.ylabel('ψ(x)')\n",
    "plt.title('Particle in Box' )\n",
    "    "
   ]
  },
  {
   "cell_type": "code",
   "execution_count": null,
   "metadata": {},
   "outputs": [],
   "source": []
  }
 ],
 "metadata": {
  "kernelspec": {
   "display_name": "Python 3 (ipykernel)",
   "language": "python",
   "name": "python3"
  },
  "language_info": {
   "codemirror_mode": {
    "name": "ipython",
    "version": 3
   },
   "file_extension": ".py",
   "mimetype": "text/x-python",
   "name": "python",
   "nbconvert_exporter": "python",
   "pygments_lexer": "ipython3",
   "version": "3.9.7"
  },
  "latex_envs": {
   "LaTeX_envs_menu_present": true,
   "autoclose": false,
   "autocomplete": true,
   "bibliofile": "biblio.bib",
   "cite_by": "apalike",
   "current_citInitial": 1,
   "eqLabelWithNumbers": true,
   "eqNumInitial": 1,
   "hotkeys": {
    "equation": "Ctrl-E",
    "itemize": "Ctrl-I"
   },
   "labels_anchors": false,
   "latex_user_defs": false,
   "report_style_numbering": false,
   "user_envs_cfg": false
  },
  "toc": {
   "base_numbering": 1,
   "nav_menu": {},
   "number_sections": true,
   "sideBar": true,
   "skip_h1_title": false,
   "title_cell": "Table of Contents",
   "title_sidebar": "Contents",
   "toc_cell": false,
   "toc_position": {
    "height": "calc(100% - 180px)",
    "left": "10px",
    "top": "150px",
    "width": "220.75px"
   },
   "toc_section_display": true,
   "toc_window_display": false
  }
 },
 "nbformat": 4,
 "nbformat_minor": 2
}
